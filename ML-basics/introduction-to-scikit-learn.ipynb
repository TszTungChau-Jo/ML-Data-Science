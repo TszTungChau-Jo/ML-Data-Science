{
 "cells": [
  {
   "cell_type": "markdown",
   "id": "b9fd9372",
   "metadata": {
    "papermill": {
     "duration": 0.039439,
     "end_time": "2023-06-20T16:46:20.078801",
     "exception": false,
     "start_time": "2023-06-20T16:46:20.039362",
     "status": "completed"
    },
    "tags": []
   },
   "source": [
    "# Introduction to Scikit-learn (sklearn) Last updated: 2023-06-20\n",
    "\n",
    "This notebook demonstrates some of the most useful functions of the beautiful  Sciki-Learn library.\n",
    "\n",
    "What we're going to cover:\n",
    "\n",
    "0. An end-to-end Scikit-Learn workflow\n",
    "1. Getting the data ready\n",
    "2. Choose the right estimator/algorithm for our problems\n",
    "3. Fit the model.algorithm and use it to make predictions on our data\n",
    "4. Evaluating a model\n",
    "5. Improve a model\n",
    "6. Save and laod a trained model \n",
    "7. Putting it all together!"
   ]
  },
  {
   "cell_type": "code",
   "execution_count": 1,
   "id": "750f927d",
   "metadata": {
    "execution": {
     "iopub.execute_input": "2023-06-20T16:46:20.156330Z",
     "iopub.status.busy": "2023-06-20T16:46:20.155275Z",
     "iopub.status.idle": "2023-06-20T16:46:20.166713Z",
     "shell.execute_reply": "2023-06-20T16:46:20.165898Z"
    },
    "papermill": {
     "duration": 0.052646,
     "end_time": "2023-06-20T16:46:20.168850",
     "exception": false,
     "start_time": "2023-06-20T16:46:20.116204",
     "status": "completed"
    },
    "tags": []
   },
   "outputs": [],
   "source": [
    "# Let's listify the contents\n",
    "whatWereCovering = [\n",
    "    \"0. An end-to-end Scikit-Learn workflow\",\n",
    "    \"1. Getting the data ready\",\n",
    "    \"2. Choose the right estimator/algorithm for our problems\",\n",
    "    \"3. Fit the model.algorithm and use it to make predictions on our data\",\n",
    "    \"4. Evaluating a model\",\n",
    "    \"5. Improve a model\",\n",
    "    \"6. Save and laod a trained model\",\n",
    "    \"7. Putting it all together!\"\n",
    "]"
   ]
  },
  {
   "cell_type": "code",
   "execution_count": 2,
   "id": "96f03043",
   "metadata": {
    "execution": {
     "iopub.execute_input": "2023-06-20T16:46:20.246140Z",
     "iopub.status.busy": "2023-06-20T16:46:20.245468Z",
     "iopub.status.idle": "2023-06-20T16:46:20.252703Z",
     "shell.execute_reply": "2023-06-20T16:46:20.251703Z"
    },
    "papermill": {
     "duration": 0.047548,
     "end_time": "2023-06-20T16:46:20.254777",
     "exception": false,
     "start_time": "2023-06-20T16:46:20.207229",
     "status": "completed"
    },
    "tags": []
   },
   "outputs": [
    {
     "data": {
      "text/plain": [
       "['0. An end-to-end Scikit-Learn workflow',\n",
       " '1. Getting the data ready',\n",
       " '2. Choose the right estimator/algorithm for our problems',\n",
       " '3. Fit the model.algorithm and use it to make predictions on our data',\n",
       " '4. Evaluating a model',\n",
       " '5. Improve a model',\n",
       " '6. Save and laod a trained model',\n",
       " '7. Putting it all together!']"
      ]
     },
     "execution_count": 2,
     "metadata": {},
     "output_type": "execute_result"
    }
   ],
   "source": [
    "whatWereCovering"
   ]
  },
  {
   "cell_type": "markdown",
   "id": "2fc0cc6d",
   "metadata": {
    "papermill": {
     "duration": 0.036932,
     "end_time": "2023-06-20T16:46:20.329259",
     "exception": false,
     "start_time": "2023-06-20T16:46:20.292327",
     "status": "completed"
    },
    "tags": []
   },
   "source": [
    "# 0. An end-to-end Scikit-Learn workflow"
   ]
  },
  {
   "cell_type": "code",
   "execution_count": 3,
   "id": "120285e2",
   "metadata": {
    "execution": {
     "iopub.execute_input": "2023-06-20T16:46:20.409856Z",
     "iopub.status.busy": "2023-06-20T16:46:20.409149Z",
     "iopub.status.idle": "2023-06-20T16:46:21.783411Z",
     "shell.execute_reply": "2023-06-20T16:46:21.782302Z"
    },
    "papermill": {
     "duration": 1.418196,
     "end_time": "2023-06-20T16:46:21.786223",
     "exception": false,
     "start_time": "2023-06-20T16:46:20.368027",
     "status": "completed"
    },
    "tags": []
   },
   "outputs": [
    {
     "name": "stdout",
     "output_type": "stream",
     "text": [
      "Setup Complete\n"
     ]
    }
   ],
   "source": [
    "# 1. Get the data ready\n",
    "# 0. Importing Modules\n",
    "import numpy as np\n",
    "import pandas as pd\n",
    "pd.plotting.register_matplotlib_converters()\n",
    "import matplotlib.pyplot as plt\n",
    "%matplotlib inline\n",
    "import seaborn as sns\n",
    "from datetime import datetime, timedelta\n",
    "from matplotlib.ticker import MaxNLocator\n",
    "print(\"Setup Complete\")"
   ]
  },
  {
   "cell_type": "code",
   "execution_count": 4,
   "id": "09be7160",
   "metadata": {
    "execution": {
     "iopub.execute_input": "2023-06-20T16:46:21.863631Z",
     "iopub.status.busy": "2023-06-20T16:46:21.862527Z",
     "iopub.status.idle": "2023-06-20T16:46:21.917032Z",
     "shell.execute_reply": "2023-06-20T16:46:21.915850Z"
    },
    "papermill": {
     "duration": 0.095308,
     "end_time": "2023-06-20T16:46:21.919585",
     "exception": false,
     "start_time": "2023-06-20T16:46:21.824277",
     "status": "completed"
    },
    "tags": []
   },
   "outputs": [
    {
     "data": {
      "text/html": [
       "<div>\n",
       "<style scoped>\n",
       "    .dataframe tbody tr th:only-of-type {\n",
       "        vertical-align: middle;\n",
       "    }\n",
       "\n",
       "    .dataframe tbody tr th {\n",
       "        vertical-align: top;\n",
       "    }\n",
       "\n",
       "    .dataframe thead th {\n",
       "        text-align: right;\n",
       "    }\n",
       "</style>\n",
       "<table border=\"1\" class=\"dataframe\">\n",
       "  <thead>\n",
       "    <tr style=\"text-align: right;\">\n",
       "      <th></th>\n",
       "      <th>age</th>\n",
       "      <th>sex</th>\n",
       "      <th>cp</th>\n",
       "      <th>trestbps</th>\n",
       "      <th>chol</th>\n",
       "      <th>fbs</th>\n",
       "      <th>restecg</th>\n",
       "      <th>thalach</th>\n",
       "      <th>exang</th>\n",
       "      <th>oldpeak</th>\n",
       "      <th>slope</th>\n",
       "      <th>ca</th>\n",
       "      <th>thal</th>\n",
       "      <th>target</th>\n",
       "    </tr>\n",
       "  </thead>\n",
       "  <tbody>\n",
       "    <tr>\n",
       "      <th>0</th>\n",
       "      <td>63</td>\n",
       "      <td>1</td>\n",
       "      <td>3</td>\n",
       "      <td>145</td>\n",
       "      <td>233</td>\n",
       "      <td>1</td>\n",
       "      <td>0</td>\n",
       "      <td>150</td>\n",
       "      <td>0</td>\n",
       "      <td>2.3</td>\n",
       "      <td>0</td>\n",
       "      <td>0</td>\n",
       "      <td>1</td>\n",
       "      <td>1</td>\n",
       "    </tr>\n",
       "    <tr>\n",
       "      <th>1</th>\n",
       "      <td>37</td>\n",
       "      <td>1</td>\n",
       "      <td>2</td>\n",
       "      <td>130</td>\n",
       "      <td>250</td>\n",
       "      <td>0</td>\n",
       "      <td>1</td>\n",
       "      <td>187</td>\n",
       "      <td>0</td>\n",
       "      <td>3.5</td>\n",
       "      <td>0</td>\n",
       "      <td>0</td>\n",
       "      <td>2</td>\n",
       "      <td>1</td>\n",
       "    </tr>\n",
       "    <tr>\n",
       "      <th>2</th>\n",
       "      <td>41</td>\n",
       "      <td>0</td>\n",
       "      <td>1</td>\n",
       "      <td>130</td>\n",
       "      <td>204</td>\n",
       "      <td>0</td>\n",
       "      <td>0</td>\n",
       "      <td>172</td>\n",
       "      <td>0</td>\n",
       "      <td>1.4</td>\n",
       "      <td>2</td>\n",
       "      <td>0</td>\n",
       "      <td>2</td>\n",
       "      <td>1</td>\n",
       "    </tr>\n",
       "    <tr>\n",
       "      <th>3</th>\n",
       "      <td>56</td>\n",
       "      <td>1</td>\n",
       "      <td>1</td>\n",
       "      <td>120</td>\n",
       "      <td>236</td>\n",
       "      <td>0</td>\n",
       "      <td>1</td>\n",
       "      <td>178</td>\n",
       "      <td>0</td>\n",
       "      <td>0.8</td>\n",
       "      <td>2</td>\n",
       "      <td>0</td>\n",
       "      <td>2</td>\n",
       "      <td>1</td>\n",
       "    </tr>\n",
       "    <tr>\n",
       "      <th>4</th>\n",
       "      <td>57</td>\n",
       "      <td>0</td>\n",
       "      <td>0</td>\n",
       "      <td>120</td>\n",
       "      <td>354</td>\n",
       "      <td>0</td>\n",
       "      <td>1</td>\n",
       "      <td>163</td>\n",
       "      <td>1</td>\n",
       "      <td>0.6</td>\n",
       "      <td>2</td>\n",
       "      <td>0</td>\n",
       "      <td>2</td>\n",
       "      <td>1</td>\n",
       "    </tr>\n",
       "    <tr>\n",
       "      <th>...</th>\n",
       "      <td>...</td>\n",
       "      <td>...</td>\n",
       "      <td>...</td>\n",
       "      <td>...</td>\n",
       "      <td>...</td>\n",
       "      <td>...</td>\n",
       "      <td>...</td>\n",
       "      <td>...</td>\n",
       "      <td>...</td>\n",
       "      <td>...</td>\n",
       "      <td>...</td>\n",
       "      <td>...</td>\n",
       "      <td>...</td>\n",
       "      <td>...</td>\n",
       "    </tr>\n",
       "    <tr>\n",
       "      <th>298</th>\n",
       "      <td>57</td>\n",
       "      <td>0</td>\n",
       "      <td>0</td>\n",
       "      <td>140</td>\n",
       "      <td>241</td>\n",
       "      <td>0</td>\n",
       "      <td>1</td>\n",
       "      <td>123</td>\n",
       "      <td>1</td>\n",
       "      <td>0.2</td>\n",
       "      <td>1</td>\n",
       "      <td>0</td>\n",
       "      <td>3</td>\n",
       "      <td>0</td>\n",
       "    </tr>\n",
       "    <tr>\n",
       "      <th>299</th>\n",
       "      <td>45</td>\n",
       "      <td>1</td>\n",
       "      <td>3</td>\n",
       "      <td>110</td>\n",
       "      <td>264</td>\n",
       "      <td>0</td>\n",
       "      <td>1</td>\n",
       "      <td>132</td>\n",
       "      <td>0</td>\n",
       "      <td>1.2</td>\n",
       "      <td>1</td>\n",
       "      <td>0</td>\n",
       "      <td>3</td>\n",
       "      <td>0</td>\n",
       "    </tr>\n",
       "    <tr>\n",
       "      <th>300</th>\n",
       "      <td>68</td>\n",
       "      <td>1</td>\n",
       "      <td>0</td>\n",
       "      <td>144</td>\n",
       "      <td>193</td>\n",
       "      <td>1</td>\n",
       "      <td>1</td>\n",
       "      <td>141</td>\n",
       "      <td>0</td>\n",
       "      <td>3.4</td>\n",
       "      <td>1</td>\n",
       "      <td>2</td>\n",
       "      <td>3</td>\n",
       "      <td>0</td>\n",
       "    </tr>\n",
       "    <tr>\n",
       "      <th>301</th>\n",
       "      <td>57</td>\n",
       "      <td>1</td>\n",
       "      <td>0</td>\n",
       "      <td>130</td>\n",
       "      <td>131</td>\n",
       "      <td>0</td>\n",
       "      <td>1</td>\n",
       "      <td>115</td>\n",
       "      <td>1</td>\n",
       "      <td>1.2</td>\n",
       "      <td>1</td>\n",
       "      <td>1</td>\n",
       "      <td>3</td>\n",
       "      <td>0</td>\n",
       "    </tr>\n",
       "    <tr>\n",
       "      <th>302</th>\n",
       "      <td>57</td>\n",
       "      <td>0</td>\n",
       "      <td>1</td>\n",
       "      <td>130</td>\n",
       "      <td>236</td>\n",
       "      <td>0</td>\n",
       "      <td>0</td>\n",
       "      <td>174</td>\n",
       "      <td>0</td>\n",
       "      <td>0.0</td>\n",
       "      <td>1</td>\n",
       "      <td>1</td>\n",
       "      <td>2</td>\n",
       "      <td>0</td>\n",
       "    </tr>\n",
       "  </tbody>\n",
       "</table>\n",
       "<p>303 rows × 14 columns</p>\n",
       "</div>"
      ],
      "text/plain": [
       "     age  sex  cp  trestbps  chol  fbs  restecg  thalach  exang  oldpeak  \\\n",
       "0     63    1   3       145   233    1        0      150      0      2.3   \n",
       "1     37    1   2       130   250    0        1      187      0      3.5   \n",
       "2     41    0   1       130   204    0        0      172      0      1.4   \n",
       "3     56    1   1       120   236    0        1      178      0      0.8   \n",
       "4     57    0   0       120   354    0        1      163      1      0.6   \n",
       "..   ...  ...  ..       ...   ...  ...      ...      ...    ...      ...   \n",
       "298   57    0   0       140   241    0        1      123      1      0.2   \n",
       "299   45    1   3       110   264    0        1      132      0      1.2   \n",
       "300   68    1   0       144   193    1        1      141      0      3.4   \n",
       "301   57    1   0       130   131    0        1      115      1      1.2   \n",
       "302   57    0   1       130   236    0        0      174      0      0.0   \n",
       "\n",
       "     slope  ca  thal  target  \n",
       "0        0   0     1       1  \n",
       "1        0   0     2       1  \n",
       "2        2   0     2       1  \n",
       "3        2   0     2       1  \n",
       "4        2   0     2       1  \n",
       "..     ...  ..   ...     ...  \n",
       "298      1   0     3       0  \n",
       "299      1   0     3       0  \n",
       "300      1   2     3       0  \n",
       "301      1   1     3       0  \n",
       "302      1   1     2       0  \n",
       "\n",
       "[303 rows x 14 columns]"
      ]
     },
     "execution_count": 4,
     "metadata": {},
     "output_type": "execute_result"
    }
   ],
   "source": [
    "heart_disease = pd.read_csv(\"/kaggle/input/ml-course-data/mlcoursedata/heart-disease.csv\")\n",
    "heart_disease"
   ]
  },
  {
   "cell_type": "code",
   "execution_count": 5,
   "id": "67ff93f3",
   "metadata": {
    "execution": {
     "iopub.execute_input": "2023-06-20T16:46:21.998826Z",
     "iopub.status.busy": "2023-06-20T16:46:21.998462Z",
     "iopub.status.idle": "2023-06-20T16:46:22.005910Z",
     "shell.execute_reply": "2023-06-20T16:46:22.005155Z"
    },
    "papermill": {
     "duration": 0.048638,
     "end_time": "2023-06-20T16:46:22.007969",
     "exception": false,
     "start_time": "2023-06-20T16:46:21.959331",
     "status": "completed"
    },
    "tags": []
   },
   "outputs": [],
   "source": [
    "# Create X (features matrix)\n",
    "X = heart_disease.drop(\"target\", axis=1)  # axis=1 means columns, axis=0 means rows\n",
    "\n",
    "# Create y (Labels)\n",
    "y = heart_disease[\"target\"]"
   ]
  },
  {
   "cell_type": "code",
   "execution_count": 6,
   "id": "98213c04",
   "metadata": {
    "execution": {
     "iopub.execute_input": "2023-06-20T16:46:22.085418Z",
     "iopub.status.busy": "2023-06-20T16:46:22.084798Z",
     "iopub.status.idle": "2023-06-20T16:46:22.088630Z",
     "shell.execute_reply": "2023-06-20T16:46:22.087798Z"
    },
    "papermill": {
     "duration": 0.045239,
     "end_time": "2023-06-20T16:46:22.090726",
     "exception": false,
     "start_time": "2023-06-20T16:46:22.045487",
     "status": "completed"
    },
    "tags": []
   },
   "outputs": [],
   "source": [
    "import warnings\n",
    "#warnings.filterwarnings(\"ignore\")  ## ignore all the warning\n",
    "#warnings.filterwarnings(\"default\") ## reset to default "
   ]
  },
  {
   "cell_type": "code",
   "execution_count": 7,
   "id": "8631c44e",
   "metadata": {
    "execution": {
     "iopub.execute_input": "2023-06-20T16:46:22.170039Z",
     "iopub.status.busy": "2023-06-20T16:46:22.168638Z",
     "iopub.status.idle": "2023-06-20T16:46:22.815318Z",
     "shell.execute_reply": "2023-06-20T16:46:22.814163Z"
    },
    "papermill": {
     "duration": 0.688912,
     "end_time": "2023-06-20T16:46:22.817694",
     "exception": false,
     "start_time": "2023-06-20T16:46:22.128782",
     "status": "completed"
    },
    "tags": []
   },
   "outputs": [
    {
     "data": {
      "text/plain": [
       "{'bootstrap': True,\n",
       " 'ccp_alpha': 0.0,\n",
       " 'class_weight': None,\n",
       " 'criterion': 'gini',\n",
       " 'max_depth': None,\n",
       " 'max_features': 'sqrt',\n",
       " 'max_leaf_nodes': None,\n",
       " 'max_samples': None,\n",
       " 'min_impurity_decrease': 0.0,\n",
       " 'min_samples_leaf': 1,\n",
       " 'min_samples_split': 2,\n",
       " 'min_weight_fraction_leaf': 0.0,\n",
       " 'n_estimators': 100,\n",
       " 'n_jobs': None,\n",
       " 'oob_score': False,\n",
       " 'random_state': None,\n",
       " 'verbose': 0,\n",
       " 'warm_start': False}"
      ]
     },
     "execution_count": 7,
     "metadata": {},
     "output_type": "execute_result"
    }
   ],
   "source": [
    "# 2. Choose the right model and hyperparameteres\n",
    "from sklearn.ensemble import RandomForestClassifier  # a classification machine learning model\n",
    "clf = RandomForestClassifier(n_estimators=100)\n",
    "\n",
    "# We'll keep the default hyperparameters\n",
    "clf.get_params()"
   ]
  },
  {
   "cell_type": "code",
   "execution_count": 8,
   "id": "35d79db0",
   "metadata": {
    "execution": {
     "iopub.execute_input": "2023-06-20T16:46:22.895830Z",
     "iopub.status.busy": "2023-06-20T16:46:22.895206Z",
     "iopub.status.idle": "2023-06-20T16:46:22.901740Z",
     "shell.execute_reply": "2023-06-20T16:46:22.900572Z"
    },
    "papermill": {
     "duration": 0.048269,
     "end_time": "2023-06-20T16:46:22.904005",
     "exception": false,
     "start_time": "2023-06-20T16:46:22.855736",
     "status": "completed"
    },
    "tags": []
   },
   "outputs": [],
   "source": [
    "# 3. Fit the model to the data\n",
    "from sklearn.model_selection import train_test_split\n",
    "\n",
    "X_train, X_test, y_train, y_test = train_test_split(X, y, test_size=0.2)"
   ]
  },
  {
   "cell_type": "markdown",
   "id": "e21a42df",
   "metadata": {
    "execution": {
     "iopub.execute_input": "2023-05-30T19:40:59.730519Z",
     "iopub.status.busy": "2023-05-30T19:40:59.730125Z",
     "iopub.status.idle": "2023-05-30T19:40:59.768459Z",
     "shell.execute_reply": "2023-05-30T19:40:59.767342Z",
     "shell.execute_reply.started": "2023-05-30T19:40:59.730488Z"
    },
    "papermill": {
     "duration": 0.037349,
     "end_time": "2023-06-20T16:46:22.980225",
     "exception": false,
     "start_time": "2023-06-20T16:46:22.942876",
     "status": "completed"
    },
    "tags": []
   },
   "source": [
    "import sklearn\n",
    "#sklearn.show_version()\n",
    "\n",
    "// to update conda package\n",
    "\n",
    "// code example\n",
    "1. activate conda env in the anaconda terminal \n",
    "2. conda search scikit-learn  // search for what version available from the conda\n",
    "3. conda search scikit-learn --info"
   ]
  },
  {
   "cell_type": "code",
   "execution_count": 9,
   "id": "76d63dca",
   "metadata": {
    "execution": {
     "iopub.execute_input": "2023-06-20T16:46:23.056943Z",
     "iopub.status.busy": "2023-06-20T16:46:23.056562Z",
     "iopub.status.idle": "2023-06-20T16:46:23.238568Z",
     "shell.execute_reply": "2023-06-20T16:46:23.237512Z"
    },
    "papermill": {
     "duration": 0.223338,
     "end_time": "2023-06-20T16:46:23.240978",
     "exception": false,
     "start_time": "2023-06-20T16:46:23.017640",
     "status": "completed"
    },
    "tags": []
   },
   "outputs": [],
   "source": [
    "clf.fit(X_train, y_train);"
   ]
  },
  {
   "cell_type": "code",
   "execution_count": 10,
   "id": "9638cb0c",
   "metadata": {
    "execution": {
     "iopub.execute_input": "2023-06-20T16:46:23.318587Z",
     "iopub.status.busy": "2023-06-20T16:46:23.318177Z",
     "iopub.status.idle": "2023-06-20T16:46:23.322610Z",
     "shell.execute_reply": "2023-06-20T16:46:23.321480Z"
    },
    "papermill": {
     "duration": 0.045938,
     "end_time": "2023-06-20T16:46:23.324771",
     "exception": false,
     "start_time": "2023-06-20T16:46:23.278833",
     "status": "completed"
    },
    "tags": []
   },
   "outputs": [],
   "source": [
    "# make a prediction\n",
    "#y_label = clf.predict(np.array([0, 2, 3, 4]))"
   ]
  },
  {
   "cell_type": "code",
   "execution_count": 11,
   "id": "1e051321",
   "metadata": {
    "execution": {
     "iopub.execute_input": "2023-06-20T16:46:23.405235Z",
     "iopub.status.busy": "2023-06-20T16:46:23.404822Z",
     "iopub.status.idle": "2023-06-20T16:46:23.424346Z",
     "shell.execute_reply": "2023-06-20T16:46:23.423156Z"
    },
    "papermill": {
     "duration": 0.063099,
     "end_time": "2023-06-20T16:46:23.426660",
     "exception": false,
     "start_time": "2023-06-20T16:46:23.363561",
     "status": "completed"
    },
    "tags": []
   },
   "outputs": [
    {
     "data": {
      "text/plain": [
       "array([1, 1, 0, 0, 1, 1, 0, 0, 1, 0, 1, 1, 1, 1, 1, 0, 0, 1, 1, 1, 0, 0,\n",
       "       1, 0, 1, 1, 1, 0, 0, 1, 1, 1, 0, 1, 0, 1, 1, 1, 0, 1, 0, 1, 0, 0,\n",
       "       1, 1, 0, 1, 1, 1, 1, 0, 0, 1, 1, 1, 1, 1, 0, 0, 1])"
      ]
     },
     "execution_count": 11,
     "metadata": {},
     "output_type": "execute_result"
    }
   ],
   "source": [
    "y_preds = clf.predict(X_test)\n",
    "y_preds"
   ]
  },
  {
   "cell_type": "code",
   "execution_count": 12,
   "id": "8bee95de",
   "metadata": {
    "execution": {
     "iopub.execute_input": "2023-06-20T16:46:23.503890Z",
     "iopub.status.busy": "2023-06-20T16:46:23.503529Z",
     "iopub.status.idle": "2023-06-20T16:46:23.510042Z",
     "shell.execute_reply": "2023-06-20T16:46:23.509363Z"
    },
    "papermill": {
     "duration": 0.047463,
     "end_time": "2023-06-20T16:46:23.511933",
     "exception": false,
     "start_time": "2023-06-20T16:46:23.464470",
     "status": "completed"
    },
    "tags": []
   },
   "outputs": [
    {
     "data": {
      "text/plain": [
       "157    1\n",
       "48     1\n",
       "237    0\n",
       "178    0\n",
       "102    1\n",
       "      ..\n",
       "24     1\n",
       "98     1\n",
       "226    0\n",
       "275    0\n",
       "160    1\n",
       "Name: target, Length: 61, dtype: int64"
      ]
     },
     "execution_count": 12,
     "metadata": {},
     "output_type": "execute_result"
    }
   ],
   "source": [
    "y_test"
   ]
  },
  {
   "cell_type": "code",
   "execution_count": 13,
   "id": "2b4fcb77",
   "metadata": {
    "execution": {
     "iopub.execute_input": "2023-06-20T16:46:23.590406Z",
     "iopub.status.busy": "2023-06-20T16:46:23.589987Z",
     "iopub.status.idle": "2023-06-20T16:46:23.612398Z",
     "shell.execute_reply": "2023-06-20T16:46:23.611647Z"
    },
    "papermill": {
     "duration": 0.064051,
     "end_time": "2023-06-20T16:46:23.614398",
     "exception": false,
     "start_time": "2023-06-20T16:46:23.550347",
     "status": "completed"
    },
    "tags": []
   },
   "outputs": [
    {
     "data": {
      "text/plain": [
       "1.0"
      ]
     },
     "execution_count": 13,
     "metadata": {},
     "output_type": "execute_result"
    }
   ],
   "source": [
    "# 4. Evalueate the model on the training data and test data\n",
    "clf.score(X_train, y_train)"
   ]
  },
  {
   "cell_type": "code",
   "execution_count": 14,
   "id": "9350046e",
   "metadata": {
    "execution": {
     "iopub.execute_input": "2023-06-20T16:46:23.693736Z",
     "iopub.status.busy": "2023-06-20T16:46:23.692876Z",
     "iopub.status.idle": "2023-06-20T16:46:23.714599Z",
     "shell.execute_reply": "2023-06-20T16:46:23.713607Z"
    },
    "papermill": {
     "duration": 0.063937,
     "end_time": "2023-06-20T16:46:23.716757",
     "exception": false,
     "start_time": "2023-06-20T16:46:23.652820",
     "status": "completed"
    },
    "tags": []
   },
   "outputs": [
    {
     "data": {
      "text/plain": [
       "0.9016393442622951"
      ]
     },
     "execution_count": 14,
     "metadata": {},
     "output_type": "execute_result"
    }
   ],
   "source": [
    "clf.score(X_test, y_test)"
   ]
  },
  {
   "cell_type": "code",
   "execution_count": 15,
   "id": "6d830556",
   "metadata": {
    "execution": {
     "iopub.execute_input": "2023-06-20T16:46:23.794889Z",
     "iopub.status.busy": "2023-06-20T16:46:23.794501Z",
     "iopub.status.idle": "2023-06-20T16:46:23.808283Z",
     "shell.execute_reply": "2023-06-20T16:46:23.807206Z"
    },
    "papermill": {
     "duration": 0.055429,
     "end_time": "2023-06-20T16:46:23.810373",
     "exception": false,
     "start_time": "2023-06-20T16:46:23.754944",
     "status": "completed"
    },
    "tags": []
   },
   "outputs": [
    {
     "name": "stdout",
     "output_type": "stream",
     "text": [
      "              precision    recall  f1-score   support\n",
      "\n",
      "           0       0.87      0.87      0.87        23\n",
      "           1       0.92      0.92      0.92        38\n",
      "\n",
      "    accuracy                           0.90        61\n",
      "   macro avg       0.90      0.90      0.90        61\n",
      "weighted avg       0.90      0.90      0.90        61\n",
      "\n"
     ]
    }
   ],
   "source": [
    "from sklearn.metrics import classification_report, confusion_matrix, accuracy_score\n",
    "\n",
    "print(classification_report(y_test, y_preds))"
   ]
  },
  {
   "cell_type": "code",
   "execution_count": 16,
   "id": "ac041c85",
   "metadata": {
    "execution": {
     "iopub.execute_input": "2023-06-20T16:46:23.889605Z",
     "iopub.status.busy": "2023-06-20T16:46:23.889226Z",
     "iopub.status.idle": "2023-06-20T16:46:23.898851Z",
     "shell.execute_reply": "2023-06-20T16:46:23.897754Z"
    },
    "papermill": {
     "duration": 0.051873,
     "end_time": "2023-06-20T16:46:23.901316",
     "exception": false,
     "start_time": "2023-06-20T16:46:23.849443",
     "status": "completed"
    },
    "tags": []
   },
   "outputs": [
    {
     "data": {
      "text/plain": [
       "array([[20,  3],\n",
       "       [ 3, 35]])"
      ]
     },
     "execution_count": 16,
     "metadata": {},
     "output_type": "execute_result"
    }
   ],
   "source": [
    "confusion_matrix(y_test, y_preds)"
   ]
  },
  {
   "cell_type": "code",
   "execution_count": 17,
   "id": "07d770f2",
   "metadata": {
    "execution": {
     "iopub.execute_input": "2023-06-20T16:46:23.982515Z",
     "iopub.status.busy": "2023-06-20T16:46:23.982141Z",
     "iopub.status.idle": "2023-06-20T16:46:23.989560Z",
     "shell.execute_reply": "2023-06-20T16:46:23.988429Z"
    },
    "papermill": {
     "duration": 0.049919,
     "end_time": "2023-06-20T16:46:23.991750",
     "exception": false,
     "start_time": "2023-06-20T16:46:23.941831",
     "status": "completed"
    },
    "tags": []
   },
   "outputs": [
    {
     "data": {
      "text/plain": [
       "0.9016393442622951"
      ]
     },
     "execution_count": 17,
     "metadata": {},
     "output_type": "execute_result"
    }
   ],
   "source": [
    "accuracy_score(y_test, y_preds)"
   ]
  },
  {
   "cell_type": "code",
   "execution_count": 18,
   "id": "455a3253",
   "metadata": {
    "execution": {
     "iopub.execute_input": "2023-06-20T16:46:24.072386Z",
     "iopub.status.busy": "2023-06-20T16:46:24.071992Z",
     "iopub.status.idle": "2023-06-20T16:46:24.962282Z",
     "shell.execute_reply": "2023-06-20T16:46:24.960903Z"
    },
    "papermill": {
     "duration": 0.934032,
     "end_time": "2023-06-20T16:46:24.964439",
     "exception": false,
     "start_time": "2023-06-20T16:46:24.030407",
     "status": "completed"
    },
    "tags": []
   },
   "outputs": [
    {
     "name": "stdout",
     "output_type": "stream",
     "text": [
      "Trying model with 10 estimators...\n",
      "Model accuracy on test set: 83.61%\n",
      "\n",
      "Trying model with 20 estimators...\n",
      "Model accuracy on test set: 83.61%\n",
      "\n",
      "Trying model with 30 estimators...\n",
      "Model accuracy on test set: 88.52%\n",
      "\n",
      "Trying model with 40 estimators...\n",
      "Model accuracy on test set: 86.89%\n",
      "\n",
      "Trying model with 50 estimators...\n",
      "Model accuracy on test set: 90.16%\n",
      "\n",
      "Trying model with 60 estimators...\n",
      "Model accuracy on test set: 88.52%\n",
      "\n",
      "Trying model with 70 estimators...\n",
      "Model accuracy on test set: 88.52%\n",
      "\n",
      "Trying model with 80 estimators...\n",
      "Model accuracy on test set: 93.44%\n",
      "\n",
      "Trying model with 90 estimators...\n",
      "Model accuracy on test set: 90.16%\n",
      "\n"
     ]
    }
   ],
   "source": [
    "# 5. Improve a model\n",
    "# Try different amount of n_estimators\n",
    "np.random.seed(42)\n",
    "for i in range(10, 100, 10):\n",
    "    print(f\"Trying model with {i} estimators...\")\n",
    "    clf = RandomForestClassifier(n_estimators=i).fit(X_train, y_train)\n",
    "    print(f\"Model accuracy on test set: {clf.score(X_test, y_test) * 100:.2f}%\")  ## round to 2 digits\n",
    "    print(\"\")"
   ]
  },
  {
   "cell_type": "code",
   "execution_count": 19,
   "id": "c51907b4",
   "metadata": {
    "execution": {
     "iopub.execute_input": "2023-06-20T16:46:25.045847Z",
     "iopub.status.busy": "2023-06-20T16:46:25.045375Z",
     "iopub.status.idle": "2023-06-20T16:46:25.056500Z",
     "shell.execute_reply": "2023-06-20T16:46:25.055526Z"
    },
    "papermill": {
     "duration": 0.054305,
     "end_time": "2023-06-20T16:46:25.058765",
     "exception": false,
     "start_time": "2023-06-20T16:46:25.004460",
     "status": "completed"
    },
    "tags": []
   },
   "outputs": [],
   "source": [
    "# 6. Save a model and load it\n",
    "import pickle\n",
    "\n",
    "pickle.dump(clf, open(\"random_forst_model_1.pkl\", \"wb\"))"
   ]
  },
  {
   "cell_type": "code",
   "execution_count": 20,
   "id": "217a5cf8",
   "metadata": {
    "execution": {
     "iopub.execute_input": "2023-06-20T16:46:25.140310Z",
     "iopub.status.busy": "2023-06-20T16:46:25.139913Z",
     "iopub.status.idle": "2023-06-20T16:46:25.163837Z",
     "shell.execute_reply": "2023-06-20T16:46:25.163127Z"
    },
    "papermill": {
     "duration": 0.067161,
     "end_time": "2023-06-20T16:46:25.165966",
     "exception": false,
     "start_time": "2023-06-20T16:46:25.098805",
     "status": "completed"
    },
    "tags": []
   },
   "outputs": [
    {
     "data": {
      "text/plain": [
       "0.9016393442622951"
      ]
     },
     "execution_count": 20,
     "metadata": {},
     "output_type": "execute_result"
    }
   ],
   "source": [
    "loaded_model = pickle.load(open(\"random_forst_model_1.pkl\", \"rb\"))\n",
    "loaded_model.score(X_test, y_test)"
   ]
  },
  {
   "cell_type": "markdown",
   "id": "c14258ce",
   "metadata": {
    "papermill": {
     "duration": 0.039351,
     "end_time": "2023-06-20T16:46:25.244052",
     "exception": false,
     "start_time": "2023-06-20T16:46:25.204701",
     "status": "completed"
    },
    "tags": []
   },
   "source": [
    "# 1. Getting our data reday to be used with machine learning\n",
    "\n",
    "Three main things we have to do:\n",
    "1. Split the data into features and labels (usually 'x' & 'y')\n",
    "2. Filling (also called imputing) or disregarding missing values\n",
    "3. Converting non-numerical values to numerical values (also called feature encoding)"
   ]
  },
  {
   "cell_type": "code",
   "execution_count": 21,
   "id": "23b05aef",
   "metadata": {
    "execution": {
     "iopub.execute_input": "2023-06-20T16:46:25.325088Z",
     "iopub.status.busy": "2023-06-20T16:46:25.324728Z",
     "iopub.status.idle": "2023-06-20T16:46:25.338623Z",
     "shell.execute_reply": "2023-06-20T16:46:25.337618Z"
    },
    "papermill": {
     "duration": 0.0562,
     "end_time": "2023-06-20T16:46:25.340626",
     "exception": false,
     "start_time": "2023-06-20T16:46:25.284426",
     "status": "completed"
    },
    "tags": []
   },
   "outputs": [
    {
     "data": {
      "text/html": [
       "<div>\n",
       "<style scoped>\n",
       "    .dataframe tbody tr th:only-of-type {\n",
       "        vertical-align: middle;\n",
       "    }\n",
       "\n",
       "    .dataframe tbody tr th {\n",
       "        vertical-align: top;\n",
       "    }\n",
       "\n",
       "    .dataframe thead th {\n",
       "        text-align: right;\n",
       "    }\n",
       "</style>\n",
       "<table border=\"1\" class=\"dataframe\">\n",
       "  <thead>\n",
       "    <tr style=\"text-align: right;\">\n",
       "      <th></th>\n",
       "      <th>age</th>\n",
       "      <th>sex</th>\n",
       "      <th>cp</th>\n",
       "      <th>trestbps</th>\n",
       "      <th>chol</th>\n",
       "      <th>fbs</th>\n",
       "      <th>restecg</th>\n",
       "      <th>thalach</th>\n",
       "      <th>exang</th>\n",
       "      <th>oldpeak</th>\n",
       "      <th>slope</th>\n",
       "      <th>ca</th>\n",
       "      <th>thal</th>\n",
       "      <th>target</th>\n",
       "    </tr>\n",
       "  </thead>\n",
       "  <tbody>\n",
       "    <tr>\n",
       "      <th>0</th>\n",
       "      <td>63</td>\n",
       "      <td>1</td>\n",
       "      <td>3</td>\n",
       "      <td>145</td>\n",
       "      <td>233</td>\n",
       "      <td>1</td>\n",
       "      <td>0</td>\n",
       "      <td>150</td>\n",
       "      <td>0</td>\n",
       "      <td>2.3</td>\n",
       "      <td>0</td>\n",
       "      <td>0</td>\n",
       "      <td>1</td>\n",
       "      <td>1</td>\n",
       "    </tr>\n",
       "    <tr>\n",
       "      <th>1</th>\n",
       "      <td>37</td>\n",
       "      <td>1</td>\n",
       "      <td>2</td>\n",
       "      <td>130</td>\n",
       "      <td>250</td>\n",
       "      <td>0</td>\n",
       "      <td>1</td>\n",
       "      <td>187</td>\n",
       "      <td>0</td>\n",
       "      <td>3.5</td>\n",
       "      <td>0</td>\n",
       "      <td>0</td>\n",
       "      <td>2</td>\n",
       "      <td>1</td>\n",
       "    </tr>\n",
       "    <tr>\n",
       "      <th>2</th>\n",
       "      <td>41</td>\n",
       "      <td>0</td>\n",
       "      <td>1</td>\n",
       "      <td>130</td>\n",
       "      <td>204</td>\n",
       "      <td>0</td>\n",
       "      <td>0</td>\n",
       "      <td>172</td>\n",
       "      <td>0</td>\n",
       "      <td>1.4</td>\n",
       "      <td>2</td>\n",
       "      <td>0</td>\n",
       "      <td>2</td>\n",
       "      <td>1</td>\n",
       "    </tr>\n",
       "    <tr>\n",
       "      <th>3</th>\n",
       "      <td>56</td>\n",
       "      <td>1</td>\n",
       "      <td>1</td>\n",
       "      <td>120</td>\n",
       "      <td>236</td>\n",
       "      <td>0</td>\n",
       "      <td>1</td>\n",
       "      <td>178</td>\n",
       "      <td>0</td>\n",
       "      <td>0.8</td>\n",
       "      <td>2</td>\n",
       "      <td>0</td>\n",
       "      <td>2</td>\n",
       "      <td>1</td>\n",
       "    </tr>\n",
       "    <tr>\n",
       "      <th>4</th>\n",
       "      <td>57</td>\n",
       "      <td>0</td>\n",
       "      <td>0</td>\n",
       "      <td>120</td>\n",
       "      <td>354</td>\n",
       "      <td>0</td>\n",
       "      <td>1</td>\n",
       "      <td>163</td>\n",
       "      <td>1</td>\n",
       "      <td>0.6</td>\n",
       "      <td>2</td>\n",
       "      <td>0</td>\n",
       "      <td>2</td>\n",
       "      <td>1</td>\n",
       "    </tr>\n",
       "  </tbody>\n",
       "</table>\n",
       "</div>"
      ],
      "text/plain": [
       "   age  sex  cp  trestbps  chol  fbs  restecg  thalach  exang  oldpeak  slope  \\\n",
       "0   63    1   3       145   233    1        0      150      0      2.3      0   \n",
       "1   37    1   2       130   250    0        1      187      0      3.5      0   \n",
       "2   41    0   1       130   204    0        0      172      0      1.4      2   \n",
       "3   56    1   1       120   236    0        1      178      0      0.8      2   \n",
       "4   57    0   0       120   354    0        1      163      1      0.6      2   \n",
       "\n",
       "   ca  thal  target  \n",
       "0   0     1       1  \n",
       "1   0     2       1  \n",
       "2   0     2       1  \n",
       "3   0     2       1  \n",
       "4   0     2       1  "
      ]
     },
     "execution_count": 21,
     "metadata": {},
     "output_type": "execute_result"
    }
   ],
   "source": [
    "heart_disease.head()"
   ]
  },
  {
   "cell_type": "code",
   "execution_count": 22,
   "id": "8d76b9c7",
   "metadata": {
    "execution": {
     "iopub.execute_input": "2023-06-20T16:46:25.422622Z",
     "iopub.status.busy": "2023-06-20T16:46:25.422235Z",
     "iopub.status.idle": "2023-06-20T16:46:25.439629Z",
     "shell.execute_reply": "2023-06-20T16:46:25.438771Z"
    },
    "papermill": {
     "duration": 0.061328,
     "end_time": "2023-06-20T16:46:25.441618",
     "exception": false,
     "start_time": "2023-06-20T16:46:25.380290",
     "status": "completed"
    },
    "tags": []
   },
   "outputs": [
    {
     "data": {
      "text/html": [
       "<div>\n",
       "<style scoped>\n",
       "    .dataframe tbody tr th:only-of-type {\n",
       "        vertical-align: middle;\n",
       "    }\n",
       "\n",
       "    .dataframe tbody tr th {\n",
       "        vertical-align: top;\n",
       "    }\n",
       "\n",
       "    .dataframe thead th {\n",
       "        text-align: right;\n",
       "    }\n",
       "</style>\n",
       "<table border=\"1\" class=\"dataframe\">\n",
       "  <thead>\n",
       "    <tr style=\"text-align: right;\">\n",
       "      <th></th>\n",
       "      <th>age</th>\n",
       "      <th>sex</th>\n",
       "      <th>cp</th>\n",
       "      <th>trestbps</th>\n",
       "      <th>chol</th>\n",
       "      <th>fbs</th>\n",
       "      <th>restecg</th>\n",
       "      <th>thalach</th>\n",
       "      <th>exang</th>\n",
       "      <th>oldpeak</th>\n",
       "      <th>slope</th>\n",
       "      <th>ca</th>\n",
       "      <th>thal</th>\n",
       "    </tr>\n",
       "  </thead>\n",
       "  <tbody>\n",
       "    <tr>\n",
       "      <th>0</th>\n",
       "      <td>63</td>\n",
       "      <td>1</td>\n",
       "      <td>3</td>\n",
       "      <td>145</td>\n",
       "      <td>233</td>\n",
       "      <td>1</td>\n",
       "      <td>0</td>\n",
       "      <td>150</td>\n",
       "      <td>0</td>\n",
       "      <td>2.3</td>\n",
       "      <td>0</td>\n",
       "      <td>0</td>\n",
       "      <td>1</td>\n",
       "    </tr>\n",
       "    <tr>\n",
       "      <th>1</th>\n",
       "      <td>37</td>\n",
       "      <td>1</td>\n",
       "      <td>2</td>\n",
       "      <td>130</td>\n",
       "      <td>250</td>\n",
       "      <td>0</td>\n",
       "      <td>1</td>\n",
       "      <td>187</td>\n",
       "      <td>0</td>\n",
       "      <td>3.5</td>\n",
       "      <td>0</td>\n",
       "      <td>0</td>\n",
       "      <td>2</td>\n",
       "    </tr>\n",
       "    <tr>\n",
       "      <th>2</th>\n",
       "      <td>41</td>\n",
       "      <td>0</td>\n",
       "      <td>1</td>\n",
       "      <td>130</td>\n",
       "      <td>204</td>\n",
       "      <td>0</td>\n",
       "      <td>0</td>\n",
       "      <td>172</td>\n",
       "      <td>0</td>\n",
       "      <td>1.4</td>\n",
       "      <td>2</td>\n",
       "      <td>0</td>\n",
       "      <td>2</td>\n",
       "    </tr>\n",
       "    <tr>\n",
       "      <th>3</th>\n",
       "      <td>56</td>\n",
       "      <td>1</td>\n",
       "      <td>1</td>\n",
       "      <td>120</td>\n",
       "      <td>236</td>\n",
       "      <td>0</td>\n",
       "      <td>1</td>\n",
       "      <td>178</td>\n",
       "      <td>0</td>\n",
       "      <td>0.8</td>\n",
       "      <td>2</td>\n",
       "      <td>0</td>\n",
       "      <td>2</td>\n",
       "    </tr>\n",
       "    <tr>\n",
       "      <th>4</th>\n",
       "      <td>57</td>\n",
       "      <td>0</td>\n",
       "      <td>0</td>\n",
       "      <td>120</td>\n",
       "      <td>354</td>\n",
       "      <td>0</td>\n",
       "      <td>1</td>\n",
       "      <td>163</td>\n",
       "      <td>1</td>\n",
       "      <td>0.6</td>\n",
       "      <td>2</td>\n",
       "      <td>0</td>\n",
       "      <td>2</td>\n",
       "    </tr>\n",
       "  </tbody>\n",
       "</table>\n",
       "</div>"
      ],
      "text/plain": [
       "   age  sex  cp  trestbps  chol  fbs  restecg  thalach  exang  oldpeak  slope  \\\n",
       "0   63    1   3       145   233    1        0      150      0      2.3      0   \n",
       "1   37    1   2       130   250    0        1      187      0      3.5      0   \n",
       "2   41    0   1       130   204    0        0      172      0      1.4      2   \n",
       "3   56    1   1       120   236    0        1      178      0      0.8      2   \n",
       "4   57    0   0       120   354    0        1      163      1      0.6      2   \n",
       "\n",
       "   ca  thal  \n",
       "0   0     1  \n",
       "1   0     2  \n",
       "2   0     2  \n",
       "3   0     2  \n",
       "4   0     2  "
      ]
     },
     "execution_count": 22,
     "metadata": {},
     "output_type": "execute_result"
    }
   ],
   "source": [
    "X =  heart_disease.drop(\"target\", axis=1)\n",
    "X.head()"
   ]
  },
  {
   "cell_type": "code",
   "execution_count": 23,
   "id": "b4c00010",
   "metadata": {
    "execution": {
     "iopub.execute_input": "2023-06-20T16:46:25.522786Z",
     "iopub.status.busy": "2023-06-20T16:46:25.522378Z",
     "iopub.status.idle": "2023-06-20T16:46:25.530158Z",
     "shell.execute_reply": "2023-06-20T16:46:25.529155Z"
    },
    "papermill": {
     "duration": 0.0506,
     "end_time": "2023-06-20T16:46:25.532164",
     "exception": false,
     "start_time": "2023-06-20T16:46:25.481564",
     "status": "completed"
    },
    "tags": []
   },
   "outputs": [
    {
     "data": {
      "text/plain": [
       "0    1\n",
       "1    1\n",
       "2    1\n",
       "3    1\n",
       "4    1\n",
       "Name: target, dtype: int64"
      ]
     },
     "execution_count": 23,
     "metadata": {},
     "output_type": "execute_result"
    }
   ],
   "source": [
    "y = heart_disease[\"target\"]\n",
    "y.head()"
   ]
  },
  {
   "cell_type": "code",
   "execution_count": 24,
   "id": "25e9261f",
   "metadata": {
    "execution": {
     "iopub.execute_input": "2023-06-20T16:46:25.669936Z",
     "iopub.status.busy": "2023-06-20T16:46:25.669539Z",
     "iopub.status.idle": "2023-06-20T16:46:25.676779Z",
     "shell.execute_reply": "2023-06-20T16:46:25.675904Z"
    },
    "papermill": {
     "duration": 0.107378,
     "end_time": "2023-06-20T16:46:25.678973",
     "exception": false,
     "start_time": "2023-06-20T16:46:25.571595",
     "status": "completed"
    },
    "tags": []
   },
   "outputs": [],
   "source": [
    "# Split the data into training and test sets\n",
    "from sklearn.model_selection import train_test_split\n",
    "\n",
    "X_train, X_test, y_train, y_test = train_test_split(X, \n",
    "                                                    y, \n",
    "                                                    test_size=0.2)"
   ]
  },
  {
   "cell_type": "code",
   "execution_count": 25,
   "id": "344b3257",
   "metadata": {
    "execution": {
     "iopub.execute_input": "2023-06-20T16:46:25.760911Z",
     "iopub.status.busy": "2023-06-20T16:46:25.760551Z",
     "iopub.status.idle": "2023-06-20T16:46:25.766951Z",
     "shell.execute_reply": "2023-06-20T16:46:25.765977Z"
    },
    "papermill": {
     "duration": 0.049869,
     "end_time": "2023-06-20T16:46:25.769186",
     "exception": false,
     "start_time": "2023-06-20T16:46:25.719317",
     "status": "completed"
    },
    "tags": []
   },
   "outputs": [
    {
     "data": {
      "text/plain": [
       "((242, 13), (61, 13), (242,), (61,))"
      ]
     },
     "execution_count": 25,
     "metadata": {},
     "output_type": "execute_result"
    }
   ],
   "source": [
    "X_train.shape, X_test.shape, y_train.shape, y_test.shape"
   ]
  },
  {
   "cell_type": "code",
   "execution_count": 26,
   "id": "0d265080",
   "metadata": {
    "execution": {
     "iopub.execute_input": "2023-06-20T16:46:25.850640Z",
     "iopub.status.busy": "2023-06-20T16:46:25.850282Z",
     "iopub.status.idle": "2023-06-20T16:46:25.856426Z",
     "shell.execute_reply": "2023-06-20T16:46:25.855336Z"
    },
    "papermill": {
     "duration": 0.049427,
     "end_time": "2023-06-20T16:46:25.858472",
     "exception": false,
     "start_time": "2023-06-20T16:46:25.809045",
     "status": "completed"
    },
    "tags": []
   },
   "outputs": [
    {
     "data": {
      "text/plain": [
       "242.4"
      ]
     },
     "execution_count": 26,
     "metadata": {},
     "output_type": "execute_result"
    }
   ],
   "source": [
    "X.shape[0] * 0.8"
   ]
  },
  {
   "cell_type": "markdown",
   "id": "fd0f61fe",
   "metadata": {
    "papermill": {
     "duration": 0.039843,
     "end_time": "2023-06-20T16:46:25.938624",
     "exception": false,
     "start_time": "2023-06-20T16:46:25.898781",
     "status": "completed"
    },
    "tags": []
   },
   "source": [
    "DATA SCIENCE QUICK TIP\n",
    "\n",
    "Clean Data -> Transform Data -> Reduce Data"
   ]
  },
  {
   "cell_type": "markdown",
   "id": "d331c7f4",
   "metadata": {
    "execution": {
     "iopub.execute_input": "2023-05-30T20:26:39.072225Z",
     "iopub.status.busy": "2023-05-30T20:26:39.071825Z",
     "iopub.status.idle": "2023-05-30T20:26:39.076771Z",
     "shell.execute_reply": "2023-05-30T20:26:39.075867Z",
     "shell.execute_reply.started": "2023-05-30T20:26:39.072181Z"
    },
    "papermill": {
     "duration": 0.039924,
     "end_time": "2023-06-20T16:46:26.019721",
     "exception": false,
     "start_time": "2023-06-20T16:46:25.979797",
     "status": "completed"
    },
    "tags": []
   },
   "source": [
    "## 1.1 Make sure it's all numerical"
   ]
  },
  {
   "cell_type": "code",
   "execution_count": 27,
   "id": "3a9f7048",
   "metadata": {
    "execution": {
     "iopub.execute_input": "2023-06-20T16:46:26.101671Z",
     "iopub.status.busy": "2023-06-20T16:46:26.101302Z",
     "iopub.status.idle": "2023-06-20T16:46:26.117800Z",
     "shell.execute_reply": "2023-06-20T16:46:26.116752Z"
    },
    "papermill": {
     "duration": 0.060373,
     "end_time": "2023-06-20T16:46:26.120148",
     "exception": false,
     "start_time": "2023-06-20T16:46:26.059775",
     "status": "completed"
    },
    "tags": []
   },
   "outputs": [
    {
     "data": {
      "text/html": [
       "<div>\n",
       "<style scoped>\n",
       "    .dataframe tbody tr th:only-of-type {\n",
       "        vertical-align: middle;\n",
       "    }\n",
       "\n",
       "    .dataframe tbody tr th {\n",
       "        vertical-align: top;\n",
       "    }\n",
       "\n",
       "    .dataframe thead th {\n",
       "        text-align: right;\n",
       "    }\n",
       "</style>\n",
       "<table border=\"1\" class=\"dataframe\">\n",
       "  <thead>\n",
       "    <tr style=\"text-align: right;\">\n",
       "      <th></th>\n",
       "      <th>Make</th>\n",
       "      <th>Colour</th>\n",
       "      <th>Odometer (KM)</th>\n",
       "      <th>Doors</th>\n",
       "      <th>Price</th>\n",
       "    </tr>\n",
       "  </thead>\n",
       "  <tbody>\n",
       "    <tr>\n",
       "      <th>0</th>\n",
       "      <td>Honda</td>\n",
       "      <td>White</td>\n",
       "      <td>35431</td>\n",
       "      <td>4</td>\n",
       "      <td>15323</td>\n",
       "    </tr>\n",
       "    <tr>\n",
       "      <th>1</th>\n",
       "      <td>BMW</td>\n",
       "      <td>Blue</td>\n",
       "      <td>192714</td>\n",
       "      <td>5</td>\n",
       "      <td>19943</td>\n",
       "    </tr>\n",
       "    <tr>\n",
       "      <th>2</th>\n",
       "      <td>Honda</td>\n",
       "      <td>White</td>\n",
       "      <td>84714</td>\n",
       "      <td>4</td>\n",
       "      <td>28343</td>\n",
       "    </tr>\n",
       "    <tr>\n",
       "      <th>3</th>\n",
       "      <td>Toyota</td>\n",
       "      <td>White</td>\n",
       "      <td>154365</td>\n",
       "      <td>4</td>\n",
       "      <td>13434</td>\n",
       "    </tr>\n",
       "    <tr>\n",
       "      <th>4</th>\n",
       "      <td>Nissan</td>\n",
       "      <td>Blue</td>\n",
       "      <td>181577</td>\n",
       "      <td>3</td>\n",
       "      <td>14043</td>\n",
       "    </tr>\n",
       "  </tbody>\n",
       "</table>\n",
       "</div>"
      ],
      "text/plain": [
       "     Make Colour  Odometer (KM)  Doors  Price\n",
       "0   Honda  White          35431      4  15323\n",
       "1     BMW   Blue         192714      5  19943\n",
       "2   Honda  White          84714      4  28343\n",
       "3  Toyota  White         154365      4  13434\n",
       "4  Nissan   Blue         181577      3  14043"
      ]
     },
     "execution_count": 27,
     "metadata": {},
     "output_type": "execute_result"
    }
   ],
   "source": [
    "car_sales = pd.read_csv(\"/kaggle/input/ml-course-data/mlcoursedata/car-sales-extended.csv\")\n",
    "car_sales.head()"
   ]
  },
  {
   "cell_type": "code",
   "execution_count": 28,
   "id": "9d6c11a7",
   "metadata": {
    "execution": {
     "iopub.execute_input": "2023-06-20T16:46:26.203260Z",
     "iopub.status.busy": "2023-06-20T16:46:26.202624Z",
     "iopub.status.idle": "2023-06-20T16:46:26.214652Z",
     "shell.execute_reply": "2023-06-20T16:46:26.213554Z"
    },
    "papermill": {
     "duration": 0.056454,
     "end_time": "2023-06-20T16:46:26.216797",
     "exception": false,
     "start_time": "2023-06-20T16:46:26.160343",
     "status": "completed"
    },
    "tags": []
   },
   "outputs": [
    {
     "data": {
      "text/plain": [
       "4    856\n",
       "5     79\n",
       "3     65\n",
       "Name: Doors, dtype: int64"
      ]
     },
     "execution_count": 28,
     "metadata": {},
     "output_type": "execute_result"
    }
   ],
   "source": [
    "car_sales[\"Doors\"].value_counts()"
   ]
  },
  {
   "cell_type": "code",
   "execution_count": 29,
   "id": "9bbcacba",
   "metadata": {
    "execution": {
     "iopub.execute_input": "2023-06-20T16:46:26.302349Z",
     "iopub.status.busy": "2023-06-20T16:46:26.301951Z",
     "iopub.status.idle": "2023-06-20T16:46:26.307698Z",
     "shell.execute_reply": "2023-06-20T16:46:26.306759Z"
    },
    "papermill": {
     "duration": 0.051082,
     "end_time": "2023-06-20T16:46:26.309893",
     "exception": false,
     "start_time": "2023-06-20T16:46:26.258811",
     "status": "completed"
    },
    "tags": []
   },
   "outputs": [
    {
     "data": {
      "text/plain": [
       "1000"
      ]
     },
     "execution_count": 29,
     "metadata": {},
     "output_type": "execute_result"
    }
   ],
   "source": [
    "len(car_sales)"
   ]
  },
  {
   "cell_type": "code",
   "execution_count": 30,
   "id": "6066eb33",
   "metadata": {
    "execution": {
     "iopub.execute_input": "2023-06-20T16:46:26.394350Z",
     "iopub.status.busy": "2023-06-20T16:46:26.393911Z",
     "iopub.status.idle": "2023-06-20T16:46:26.402486Z",
     "shell.execute_reply": "2023-06-20T16:46:26.401751Z"
    },
    "papermill": {
     "duration": 0.053547,
     "end_time": "2023-06-20T16:46:26.404400",
     "exception": false,
     "start_time": "2023-06-20T16:46:26.350853",
     "status": "completed"
    },
    "tags": []
   },
   "outputs": [
    {
     "data": {
      "text/plain": [
       "Make             object\n",
       "Colour           object\n",
       "Odometer (KM)     int64\n",
       "Doors             int64\n",
       "Price             int64\n",
       "dtype: object"
      ]
     },
     "execution_count": 30,
     "metadata": {},
     "output_type": "execute_result"
    }
   ],
   "source": [
    "car_sales.dtypes"
   ]
  },
  {
   "cell_type": "code",
   "execution_count": 31,
   "id": "42df4334",
   "metadata": {
    "execution": {
     "iopub.execute_input": "2023-06-20T16:46:26.493362Z",
     "iopub.status.busy": "2023-06-20T16:46:26.492966Z",
     "iopub.status.idle": "2023-06-20T16:46:26.500712Z",
     "shell.execute_reply": "2023-06-20T16:46:26.499447Z"
    },
    "papermill": {
     "duration": 0.054306,
     "end_time": "2023-06-20T16:46:26.503216",
     "exception": false,
     "start_time": "2023-06-20T16:46:26.448910",
     "status": "completed"
    },
    "tags": []
   },
   "outputs": [],
   "source": [
    "# Split into X/y\n",
    "X = car_sales.drop(\"Price\", axis=1)\n",
    "y = car_sales[\"Price\"]\n",
    "\n",
    "# Split into training and test\n",
    "X_train, X_test, y_train, y_test = train_test_split(X,\n",
    "                                                    y,\n",
    "                                                    test_size=0.2)"
   ]
  },
  {
   "cell_type": "code",
   "execution_count": 32,
   "id": "00c8631b",
   "metadata": {
    "execution": {
     "iopub.execute_input": "2023-06-20T16:46:26.588061Z",
     "iopub.status.busy": "2023-06-20T16:46:26.587635Z",
     "iopub.status.idle": "2023-06-20T16:46:26.593234Z",
     "shell.execute_reply": "2023-06-20T16:46:26.592160Z"
    },
    "papermill": {
     "duration": 0.051292,
     "end_time": "2023-06-20T16:46:26.595501",
     "exception": false,
     "start_time": "2023-06-20T16:46:26.544209",
     "status": "completed"
    },
    "tags": []
   },
   "outputs": [],
   "source": [
    "# Build machine learning model\n",
    "from sklearn.ensemble import RandomForestRegressor\n",
    "\n",
    "model = RandomForestRegressor()\n",
    "#model.fit(X_train, y_train)\n",
    "#model.score(X_test, y_test)\n",
    "\n",
    "# ValueError: could not convert string to float: 'Honda'"
   ]
  },
  {
   "cell_type": "code",
   "execution_count": 33,
   "id": "86df3b88",
   "metadata": {
    "execution": {
     "iopub.execute_input": "2023-06-20T16:46:26.679940Z",
     "iopub.status.busy": "2023-06-20T16:46:26.679531Z",
     "iopub.status.idle": "2023-06-20T16:46:26.690323Z",
     "shell.execute_reply": "2023-06-20T16:46:26.689164Z"
    },
    "papermill": {
     "duration": 0.055253,
     "end_time": "2023-06-20T16:46:26.692538",
     "exception": false,
     "start_time": "2023-06-20T16:46:26.637285",
     "status": "completed"
    },
    "tags": []
   },
   "outputs": [
    {
     "data": {
      "text/html": [
       "<div>\n",
       "<style scoped>\n",
       "    .dataframe tbody tr th:only-of-type {\n",
       "        vertical-align: middle;\n",
       "    }\n",
       "\n",
       "    .dataframe tbody tr th {\n",
       "        vertical-align: top;\n",
       "    }\n",
       "\n",
       "    .dataframe thead th {\n",
       "        text-align: right;\n",
       "    }\n",
       "</style>\n",
       "<table border=\"1\" class=\"dataframe\">\n",
       "  <thead>\n",
       "    <tr style=\"text-align: right;\">\n",
       "      <th></th>\n",
       "      <th>Make</th>\n",
       "      <th>Colour</th>\n",
       "      <th>Odometer (KM)</th>\n",
       "      <th>Doors</th>\n",
       "    </tr>\n",
       "  </thead>\n",
       "  <tbody>\n",
       "    <tr>\n",
       "      <th>0</th>\n",
       "      <td>Honda</td>\n",
       "      <td>White</td>\n",
       "      <td>35431</td>\n",
       "      <td>4</td>\n",
       "    </tr>\n",
       "    <tr>\n",
       "      <th>1</th>\n",
       "      <td>BMW</td>\n",
       "      <td>Blue</td>\n",
       "      <td>192714</td>\n",
       "      <td>5</td>\n",
       "    </tr>\n",
       "    <tr>\n",
       "      <th>2</th>\n",
       "      <td>Honda</td>\n",
       "      <td>White</td>\n",
       "      <td>84714</td>\n",
       "      <td>4</td>\n",
       "    </tr>\n",
       "    <tr>\n",
       "      <th>3</th>\n",
       "      <td>Toyota</td>\n",
       "      <td>White</td>\n",
       "      <td>154365</td>\n",
       "      <td>4</td>\n",
       "    </tr>\n",
       "    <tr>\n",
       "      <th>4</th>\n",
       "      <td>Nissan</td>\n",
       "      <td>Blue</td>\n",
       "      <td>181577</td>\n",
       "      <td>3</td>\n",
       "    </tr>\n",
       "  </tbody>\n",
       "</table>\n",
       "</div>"
      ],
      "text/plain": [
       "     Make Colour  Odometer (KM)  Doors\n",
       "0   Honda  White          35431      4\n",
       "1     BMW   Blue         192714      5\n",
       "2   Honda  White          84714      4\n",
       "3  Toyota  White         154365      4\n",
       "4  Nissan   Blue         181577      3"
      ]
     },
     "execution_count": 33,
     "metadata": {},
     "output_type": "execute_result"
    }
   ],
   "source": [
    "X.head()"
   ]
  },
  {
   "cell_type": "code",
   "execution_count": 34,
   "id": "597460f0",
   "metadata": {
    "execution": {
     "iopub.execute_input": "2023-06-20T16:46:26.777732Z",
     "iopub.status.busy": "2023-06-20T16:46:26.777345Z",
     "iopub.status.idle": "2023-06-20T16:46:26.815131Z",
     "shell.execute_reply": "2023-06-20T16:46:26.814049Z"
    },
    "papermill": {
     "duration": 0.083082,
     "end_time": "2023-06-20T16:46:26.817378",
     "exception": false,
     "start_time": "2023-06-20T16:46:26.734296",
     "status": "completed"
    },
    "tags": []
   },
   "outputs": [
    {
     "data": {
      "text/plain": [
       "array([[0.00000e+00, 1.00000e+00, 0.00000e+00, ..., 1.00000e+00,\n",
       "        0.00000e+00, 3.54310e+04],\n",
       "       [1.00000e+00, 0.00000e+00, 0.00000e+00, ..., 0.00000e+00,\n",
       "        1.00000e+00, 1.92714e+05],\n",
       "       [0.00000e+00, 1.00000e+00, 0.00000e+00, ..., 1.00000e+00,\n",
       "        0.00000e+00, 8.47140e+04],\n",
       "       ...,\n",
       "       [0.00000e+00, 0.00000e+00, 1.00000e+00, ..., 1.00000e+00,\n",
       "        0.00000e+00, 6.66040e+04],\n",
       "       [0.00000e+00, 1.00000e+00, 0.00000e+00, ..., 1.00000e+00,\n",
       "        0.00000e+00, 2.15883e+05],\n",
       "       [0.00000e+00, 0.00000e+00, 0.00000e+00, ..., 1.00000e+00,\n",
       "        0.00000e+00, 2.48360e+05]])"
      ]
     },
     "execution_count": 34,
     "metadata": {},
     "output_type": "execute_result"
    }
   ],
   "source": [
    "# Turn the categories into numbers\n",
    "from sklearn.preprocessing import OneHotEncoder\n",
    "from sklearn.compose import ColumnTransformer\n",
    "\n",
    "categorical_features = [\"Make\", \"Colour\", \"Doors\"]\n",
    "one_hot = OneHotEncoder()  # instantiate the one hot encoder\n",
    "transformer = ColumnTransformer([(\"one_hot\",\n",
    "                                  one_hot,\n",
    "                                  categorical_features)],\n",
    "                                  remainder=\"passthrough\")\n",
    "\n",
    "transformed_X = transformer.fit_transform(X)\n",
    "transformed_X"
   ]
  },
  {
   "cell_type": "code",
   "execution_count": 35,
   "id": "8607c89c",
   "metadata": {
    "execution": {
     "iopub.execute_input": "2023-06-20T16:46:26.900924Z",
     "iopub.status.busy": "2023-06-20T16:46:26.900540Z",
     "iopub.status.idle": "2023-06-20T16:46:26.929858Z",
     "shell.execute_reply": "2023-06-20T16:46:26.928662Z"
    },
    "papermill": {
     "duration": 0.073661,
     "end_time": "2023-06-20T16:46:26.932152",
     "exception": false,
     "start_time": "2023-06-20T16:46:26.858491",
     "status": "completed"
    },
    "tags": []
   },
   "outputs": [
    {
     "data": {
      "text/html": [
       "<div>\n",
       "<style scoped>\n",
       "    .dataframe tbody tr th:only-of-type {\n",
       "        vertical-align: middle;\n",
       "    }\n",
       "\n",
       "    .dataframe tbody tr th {\n",
       "        vertical-align: top;\n",
       "    }\n",
       "\n",
       "    .dataframe thead th {\n",
       "        text-align: right;\n",
       "    }\n",
       "</style>\n",
       "<table border=\"1\" class=\"dataframe\">\n",
       "  <thead>\n",
       "    <tr style=\"text-align: right;\">\n",
       "      <th></th>\n",
       "      <th>0</th>\n",
       "      <th>1</th>\n",
       "      <th>2</th>\n",
       "      <th>3</th>\n",
       "      <th>4</th>\n",
       "      <th>5</th>\n",
       "      <th>6</th>\n",
       "      <th>7</th>\n",
       "      <th>8</th>\n",
       "      <th>9</th>\n",
       "      <th>10</th>\n",
       "      <th>11</th>\n",
       "      <th>12</th>\n",
       "    </tr>\n",
       "  </thead>\n",
       "  <tbody>\n",
       "    <tr>\n",
       "      <th>0</th>\n",
       "      <td>0.0</td>\n",
       "      <td>1.0</td>\n",
       "      <td>0.0</td>\n",
       "      <td>0.0</td>\n",
       "      <td>0.0</td>\n",
       "      <td>0.0</td>\n",
       "      <td>0.0</td>\n",
       "      <td>0.0</td>\n",
       "      <td>1.0</td>\n",
       "      <td>0.0</td>\n",
       "      <td>1.0</td>\n",
       "      <td>0.0</td>\n",
       "      <td>35431.0</td>\n",
       "    </tr>\n",
       "    <tr>\n",
       "      <th>1</th>\n",
       "      <td>1.0</td>\n",
       "      <td>0.0</td>\n",
       "      <td>0.0</td>\n",
       "      <td>0.0</td>\n",
       "      <td>0.0</td>\n",
       "      <td>1.0</td>\n",
       "      <td>0.0</td>\n",
       "      <td>0.0</td>\n",
       "      <td>0.0</td>\n",
       "      <td>0.0</td>\n",
       "      <td>0.0</td>\n",
       "      <td>1.0</td>\n",
       "      <td>192714.0</td>\n",
       "    </tr>\n",
       "    <tr>\n",
       "      <th>2</th>\n",
       "      <td>0.0</td>\n",
       "      <td>1.0</td>\n",
       "      <td>0.0</td>\n",
       "      <td>0.0</td>\n",
       "      <td>0.0</td>\n",
       "      <td>0.0</td>\n",
       "      <td>0.0</td>\n",
       "      <td>0.0</td>\n",
       "      <td>1.0</td>\n",
       "      <td>0.0</td>\n",
       "      <td>1.0</td>\n",
       "      <td>0.0</td>\n",
       "      <td>84714.0</td>\n",
       "    </tr>\n",
       "    <tr>\n",
       "      <th>3</th>\n",
       "      <td>0.0</td>\n",
       "      <td>0.0</td>\n",
       "      <td>0.0</td>\n",
       "      <td>1.0</td>\n",
       "      <td>0.0</td>\n",
       "      <td>0.0</td>\n",
       "      <td>0.0</td>\n",
       "      <td>0.0</td>\n",
       "      <td>1.0</td>\n",
       "      <td>0.0</td>\n",
       "      <td>1.0</td>\n",
       "      <td>0.0</td>\n",
       "      <td>154365.0</td>\n",
       "    </tr>\n",
       "    <tr>\n",
       "      <th>4</th>\n",
       "      <td>0.0</td>\n",
       "      <td>0.0</td>\n",
       "      <td>1.0</td>\n",
       "      <td>0.0</td>\n",
       "      <td>0.0</td>\n",
       "      <td>1.0</td>\n",
       "      <td>0.0</td>\n",
       "      <td>0.0</td>\n",
       "      <td>0.0</td>\n",
       "      <td>1.0</td>\n",
       "      <td>0.0</td>\n",
       "      <td>0.0</td>\n",
       "      <td>181577.0</td>\n",
       "    </tr>\n",
       "    <tr>\n",
       "      <th>...</th>\n",
       "      <td>...</td>\n",
       "      <td>...</td>\n",
       "      <td>...</td>\n",
       "      <td>...</td>\n",
       "      <td>...</td>\n",
       "      <td>...</td>\n",
       "      <td>...</td>\n",
       "      <td>...</td>\n",
       "      <td>...</td>\n",
       "      <td>...</td>\n",
       "      <td>...</td>\n",
       "      <td>...</td>\n",
       "      <td>...</td>\n",
       "    </tr>\n",
       "    <tr>\n",
       "      <th>995</th>\n",
       "      <td>0.0</td>\n",
       "      <td>0.0</td>\n",
       "      <td>0.0</td>\n",
       "      <td>1.0</td>\n",
       "      <td>1.0</td>\n",
       "      <td>0.0</td>\n",
       "      <td>0.0</td>\n",
       "      <td>0.0</td>\n",
       "      <td>0.0</td>\n",
       "      <td>0.0</td>\n",
       "      <td>1.0</td>\n",
       "      <td>0.0</td>\n",
       "      <td>35820.0</td>\n",
       "    </tr>\n",
       "    <tr>\n",
       "      <th>996</th>\n",
       "      <td>0.0</td>\n",
       "      <td>0.0</td>\n",
       "      <td>1.0</td>\n",
       "      <td>0.0</td>\n",
       "      <td>0.0</td>\n",
       "      <td>0.0</td>\n",
       "      <td>0.0</td>\n",
       "      <td>0.0</td>\n",
       "      <td>1.0</td>\n",
       "      <td>1.0</td>\n",
       "      <td>0.0</td>\n",
       "      <td>0.0</td>\n",
       "      <td>155144.0</td>\n",
       "    </tr>\n",
       "    <tr>\n",
       "      <th>997</th>\n",
       "      <td>0.0</td>\n",
       "      <td>0.0</td>\n",
       "      <td>1.0</td>\n",
       "      <td>0.0</td>\n",
       "      <td>0.0</td>\n",
       "      <td>1.0</td>\n",
       "      <td>0.0</td>\n",
       "      <td>0.0</td>\n",
       "      <td>0.0</td>\n",
       "      <td>0.0</td>\n",
       "      <td>1.0</td>\n",
       "      <td>0.0</td>\n",
       "      <td>66604.0</td>\n",
       "    </tr>\n",
       "    <tr>\n",
       "      <th>998</th>\n",
       "      <td>0.0</td>\n",
       "      <td>1.0</td>\n",
       "      <td>0.0</td>\n",
       "      <td>0.0</td>\n",
       "      <td>0.0</td>\n",
       "      <td>0.0</td>\n",
       "      <td>0.0</td>\n",
       "      <td>0.0</td>\n",
       "      <td>1.0</td>\n",
       "      <td>0.0</td>\n",
       "      <td>1.0</td>\n",
       "      <td>0.0</td>\n",
       "      <td>215883.0</td>\n",
       "    </tr>\n",
       "    <tr>\n",
       "      <th>999</th>\n",
       "      <td>0.0</td>\n",
       "      <td>0.0</td>\n",
       "      <td>0.0</td>\n",
       "      <td>1.0</td>\n",
       "      <td>0.0</td>\n",
       "      <td>1.0</td>\n",
       "      <td>0.0</td>\n",
       "      <td>0.0</td>\n",
       "      <td>0.0</td>\n",
       "      <td>0.0</td>\n",
       "      <td>1.0</td>\n",
       "      <td>0.0</td>\n",
       "      <td>248360.0</td>\n",
       "    </tr>\n",
       "  </tbody>\n",
       "</table>\n",
       "<p>1000 rows × 13 columns</p>\n",
       "</div>"
      ],
      "text/plain": [
       "      0    1    2    3    4    5    6    7    8    9    10   11        12\n",
       "0    0.0  1.0  0.0  0.0  0.0  0.0  0.0  0.0  1.0  0.0  1.0  0.0   35431.0\n",
       "1    1.0  0.0  0.0  0.0  0.0  1.0  0.0  0.0  0.0  0.0  0.0  1.0  192714.0\n",
       "2    0.0  1.0  0.0  0.0  0.0  0.0  0.0  0.0  1.0  0.0  1.0  0.0   84714.0\n",
       "3    0.0  0.0  0.0  1.0  0.0  0.0  0.0  0.0  1.0  0.0  1.0  0.0  154365.0\n",
       "4    0.0  0.0  1.0  0.0  0.0  1.0  0.0  0.0  0.0  1.0  0.0  0.0  181577.0\n",
       "..   ...  ...  ...  ...  ...  ...  ...  ...  ...  ...  ...  ...       ...\n",
       "995  0.0  0.0  0.0  1.0  1.0  0.0  0.0  0.0  0.0  0.0  1.0  0.0   35820.0\n",
       "996  0.0  0.0  1.0  0.0  0.0  0.0  0.0  0.0  1.0  1.0  0.0  0.0  155144.0\n",
       "997  0.0  0.0  1.0  0.0  0.0  1.0  0.0  0.0  0.0  0.0  1.0  0.0   66604.0\n",
       "998  0.0  1.0  0.0  0.0  0.0  0.0  0.0  0.0  1.0  0.0  1.0  0.0  215883.0\n",
       "999  0.0  0.0  0.0  1.0  0.0  1.0  0.0  0.0  0.0  0.0  1.0  0.0  248360.0\n",
       "\n",
       "[1000 rows x 13 columns]"
      ]
     },
     "execution_count": 35,
     "metadata": {},
     "output_type": "execute_result"
    }
   ],
   "source": [
    "pd.DataFrame(transformed_X)"
   ]
  },
  {
   "cell_type": "code",
   "execution_count": 36,
   "id": "64322f6a",
   "metadata": {
    "execution": {
     "iopub.execute_input": "2023-06-20T16:46:27.018889Z",
     "iopub.status.busy": "2023-06-20T16:46:27.017959Z",
     "iopub.status.idle": "2023-06-20T16:46:27.039222Z",
     "shell.execute_reply": "2023-06-20T16:46:27.038047Z"
    },
    "papermill": {
     "duration": 0.066688,
     "end_time": "2023-06-20T16:46:27.041569",
     "exception": false,
     "start_time": "2023-06-20T16:46:26.974881",
     "status": "completed"
    },
    "tags": []
   },
   "outputs": [
    {
     "data": {
      "text/html": [
       "<div>\n",
       "<style scoped>\n",
       "    .dataframe tbody tr th:only-of-type {\n",
       "        vertical-align: middle;\n",
       "    }\n",
       "\n",
       "    .dataframe tbody tr th {\n",
       "        vertical-align: top;\n",
       "    }\n",
       "\n",
       "    .dataframe thead th {\n",
       "        text-align: right;\n",
       "    }\n",
       "</style>\n",
       "<table border=\"1\" class=\"dataframe\">\n",
       "  <thead>\n",
       "    <tr style=\"text-align: right;\">\n",
       "      <th></th>\n",
       "      <th>Doors</th>\n",
       "      <th>Make_BMW</th>\n",
       "      <th>Make_Honda</th>\n",
       "      <th>Make_Nissan</th>\n",
       "      <th>Make_Toyota</th>\n",
       "      <th>Colour_Black</th>\n",
       "      <th>Colour_Blue</th>\n",
       "      <th>Colour_Green</th>\n",
       "      <th>Colour_Red</th>\n",
       "      <th>Colour_White</th>\n",
       "    </tr>\n",
       "  </thead>\n",
       "  <tbody>\n",
       "    <tr>\n",
       "      <th>0</th>\n",
       "      <td>4</td>\n",
       "      <td>0</td>\n",
       "      <td>1</td>\n",
       "      <td>0</td>\n",
       "      <td>0</td>\n",
       "      <td>0</td>\n",
       "      <td>0</td>\n",
       "      <td>0</td>\n",
       "      <td>0</td>\n",
       "      <td>1</td>\n",
       "    </tr>\n",
       "    <tr>\n",
       "      <th>1</th>\n",
       "      <td>5</td>\n",
       "      <td>1</td>\n",
       "      <td>0</td>\n",
       "      <td>0</td>\n",
       "      <td>0</td>\n",
       "      <td>0</td>\n",
       "      <td>1</td>\n",
       "      <td>0</td>\n",
       "      <td>0</td>\n",
       "      <td>0</td>\n",
       "    </tr>\n",
       "    <tr>\n",
       "      <th>2</th>\n",
       "      <td>4</td>\n",
       "      <td>0</td>\n",
       "      <td>1</td>\n",
       "      <td>0</td>\n",
       "      <td>0</td>\n",
       "      <td>0</td>\n",
       "      <td>0</td>\n",
       "      <td>0</td>\n",
       "      <td>0</td>\n",
       "      <td>1</td>\n",
       "    </tr>\n",
       "    <tr>\n",
       "      <th>3</th>\n",
       "      <td>4</td>\n",
       "      <td>0</td>\n",
       "      <td>0</td>\n",
       "      <td>0</td>\n",
       "      <td>1</td>\n",
       "      <td>0</td>\n",
       "      <td>0</td>\n",
       "      <td>0</td>\n",
       "      <td>0</td>\n",
       "      <td>1</td>\n",
       "    </tr>\n",
       "    <tr>\n",
       "      <th>4</th>\n",
       "      <td>3</td>\n",
       "      <td>0</td>\n",
       "      <td>0</td>\n",
       "      <td>1</td>\n",
       "      <td>0</td>\n",
       "      <td>0</td>\n",
       "      <td>1</td>\n",
       "      <td>0</td>\n",
       "      <td>0</td>\n",
       "      <td>0</td>\n",
       "    </tr>\n",
       "    <tr>\n",
       "      <th>...</th>\n",
       "      <td>...</td>\n",
       "      <td>...</td>\n",
       "      <td>...</td>\n",
       "      <td>...</td>\n",
       "      <td>...</td>\n",
       "      <td>...</td>\n",
       "      <td>...</td>\n",
       "      <td>...</td>\n",
       "      <td>...</td>\n",
       "      <td>...</td>\n",
       "    </tr>\n",
       "    <tr>\n",
       "      <th>995</th>\n",
       "      <td>4</td>\n",
       "      <td>0</td>\n",
       "      <td>0</td>\n",
       "      <td>0</td>\n",
       "      <td>1</td>\n",
       "      <td>1</td>\n",
       "      <td>0</td>\n",
       "      <td>0</td>\n",
       "      <td>0</td>\n",
       "      <td>0</td>\n",
       "    </tr>\n",
       "    <tr>\n",
       "      <th>996</th>\n",
       "      <td>3</td>\n",
       "      <td>0</td>\n",
       "      <td>0</td>\n",
       "      <td>1</td>\n",
       "      <td>0</td>\n",
       "      <td>0</td>\n",
       "      <td>0</td>\n",
       "      <td>0</td>\n",
       "      <td>0</td>\n",
       "      <td>1</td>\n",
       "    </tr>\n",
       "    <tr>\n",
       "      <th>997</th>\n",
       "      <td>4</td>\n",
       "      <td>0</td>\n",
       "      <td>0</td>\n",
       "      <td>1</td>\n",
       "      <td>0</td>\n",
       "      <td>0</td>\n",
       "      <td>1</td>\n",
       "      <td>0</td>\n",
       "      <td>0</td>\n",
       "      <td>0</td>\n",
       "    </tr>\n",
       "    <tr>\n",
       "      <th>998</th>\n",
       "      <td>4</td>\n",
       "      <td>0</td>\n",
       "      <td>1</td>\n",
       "      <td>0</td>\n",
       "      <td>0</td>\n",
       "      <td>0</td>\n",
       "      <td>0</td>\n",
       "      <td>0</td>\n",
       "      <td>0</td>\n",
       "      <td>1</td>\n",
       "    </tr>\n",
       "    <tr>\n",
       "      <th>999</th>\n",
       "      <td>4</td>\n",
       "      <td>0</td>\n",
       "      <td>0</td>\n",
       "      <td>0</td>\n",
       "      <td>1</td>\n",
       "      <td>0</td>\n",
       "      <td>1</td>\n",
       "      <td>0</td>\n",
       "      <td>0</td>\n",
       "      <td>0</td>\n",
       "    </tr>\n",
       "  </tbody>\n",
       "</table>\n",
       "<p>1000 rows × 10 columns</p>\n",
       "</div>"
      ],
      "text/plain": [
       "     Doors  Make_BMW  Make_Honda  Make_Nissan  Make_Toyota  Colour_Black  \\\n",
       "0        4         0           1            0            0             0   \n",
       "1        5         1           0            0            0             0   \n",
       "2        4         0           1            0            0             0   \n",
       "3        4         0           0            0            1             0   \n",
       "4        3         0           0            1            0             0   \n",
       "..     ...       ...         ...          ...          ...           ...   \n",
       "995      4         0           0            0            1             1   \n",
       "996      3         0           0            1            0             0   \n",
       "997      4         0           0            1            0             0   \n",
       "998      4         0           1            0            0             0   \n",
       "999      4         0           0            0            1             0   \n",
       "\n",
       "     Colour_Blue  Colour_Green  Colour_Red  Colour_White  \n",
       "0              0             0           0             1  \n",
       "1              1             0           0             0  \n",
       "2              0             0           0             1  \n",
       "3              0             0           0             1  \n",
       "4              1             0           0             0  \n",
       "..           ...           ...         ...           ...  \n",
       "995            0             0           0             0  \n",
       "996            0             0           0             1  \n",
       "997            1             0           0             0  \n",
       "998            0             0           0             1  \n",
       "999            1             0           0             0  \n",
       "\n",
       "[1000 rows x 10 columns]"
      ]
     },
     "execution_count": 36,
     "metadata": {},
     "output_type": "execute_result"
    }
   ],
   "source": [
    "dummies = pd.get_dummies(car_sales[[\"Make\", \"Colour\", \"Doors\"]])\n",
    "dummies"
   ]
  },
  {
   "cell_type": "code",
   "execution_count": 37,
   "id": "c41adc6b",
   "metadata": {
    "execution": {
     "iopub.execute_input": "2023-06-20T16:46:27.129867Z",
     "iopub.status.busy": "2023-06-20T16:46:27.128837Z",
     "iopub.status.idle": "2023-06-20T16:46:27.448336Z",
     "shell.execute_reply": "2023-06-20T16:46:27.447294Z"
    },
    "papermill": {
     "duration": 0.365541,
     "end_time": "2023-06-20T16:46:27.450575",
     "exception": false,
     "start_time": "2023-06-20T16:46:27.085034",
     "status": "completed"
    },
    "tags": []
   },
   "outputs": [
    {
     "data": {
      "text/html": [
       "<style>#sk-container-id-1 {color: black;background-color: white;}#sk-container-id-1 pre{padding: 0;}#sk-container-id-1 div.sk-toggleable {background-color: white;}#sk-container-id-1 label.sk-toggleable__label {cursor: pointer;display: block;width: 100%;margin-bottom: 0;padding: 0.3em;box-sizing: border-box;text-align: center;}#sk-container-id-1 label.sk-toggleable__label-arrow:before {content: \"▸\";float: left;margin-right: 0.25em;color: #696969;}#sk-container-id-1 label.sk-toggleable__label-arrow:hover:before {color: black;}#sk-container-id-1 div.sk-estimator:hover label.sk-toggleable__label-arrow:before {color: black;}#sk-container-id-1 div.sk-toggleable__content {max-height: 0;max-width: 0;overflow: hidden;text-align: left;background-color: #f0f8ff;}#sk-container-id-1 div.sk-toggleable__content pre {margin: 0.2em;color: black;border-radius: 0.25em;background-color: #f0f8ff;}#sk-container-id-1 input.sk-toggleable__control:checked~div.sk-toggleable__content {max-height: 200px;max-width: 100%;overflow: auto;}#sk-container-id-1 input.sk-toggleable__control:checked~label.sk-toggleable__label-arrow:before {content: \"▾\";}#sk-container-id-1 div.sk-estimator input.sk-toggleable__control:checked~label.sk-toggleable__label {background-color: #d4ebff;}#sk-container-id-1 div.sk-label input.sk-toggleable__control:checked~label.sk-toggleable__label {background-color: #d4ebff;}#sk-container-id-1 input.sk-hidden--visually {border: 0;clip: rect(1px 1px 1px 1px);clip: rect(1px, 1px, 1px, 1px);height: 1px;margin: -1px;overflow: hidden;padding: 0;position: absolute;width: 1px;}#sk-container-id-1 div.sk-estimator {font-family: monospace;background-color: #f0f8ff;border: 1px dotted black;border-radius: 0.25em;box-sizing: border-box;margin-bottom: 0.5em;}#sk-container-id-1 div.sk-estimator:hover {background-color: #d4ebff;}#sk-container-id-1 div.sk-parallel-item::after {content: \"\";width: 100%;border-bottom: 1px solid gray;flex-grow: 1;}#sk-container-id-1 div.sk-label:hover label.sk-toggleable__label {background-color: #d4ebff;}#sk-container-id-1 div.sk-serial::before {content: \"\";position: absolute;border-left: 1px solid gray;box-sizing: border-box;top: 0;bottom: 0;left: 50%;z-index: 0;}#sk-container-id-1 div.sk-serial {display: flex;flex-direction: column;align-items: center;background-color: white;padding-right: 0.2em;padding-left: 0.2em;position: relative;}#sk-container-id-1 div.sk-item {position: relative;z-index: 1;}#sk-container-id-1 div.sk-parallel {display: flex;align-items: stretch;justify-content: center;background-color: white;position: relative;}#sk-container-id-1 div.sk-item::before, #sk-container-id-1 div.sk-parallel-item::before {content: \"\";position: absolute;border-left: 1px solid gray;box-sizing: border-box;top: 0;bottom: 0;left: 50%;z-index: -1;}#sk-container-id-1 div.sk-parallel-item {display: flex;flex-direction: column;z-index: 1;position: relative;background-color: white;}#sk-container-id-1 div.sk-parallel-item:first-child::after {align-self: flex-end;width: 50%;}#sk-container-id-1 div.sk-parallel-item:last-child::after {align-self: flex-start;width: 50%;}#sk-container-id-1 div.sk-parallel-item:only-child::after {width: 0;}#sk-container-id-1 div.sk-dashed-wrapped {border: 1px dashed gray;margin: 0 0.4em 0.5em 0.4em;box-sizing: border-box;padding-bottom: 0.4em;background-color: white;}#sk-container-id-1 div.sk-label label {font-family: monospace;font-weight: bold;display: inline-block;line-height: 1.2em;}#sk-container-id-1 div.sk-label-container {text-align: center;}#sk-container-id-1 div.sk-container {/* jupyter's `normalize.less` sets `[hidden] { display: none; }` but bootstrap.min.css set `[hidden] { display: none !important; }` so we also need the `!important` here to be able to override the default hidden behavior on the sphinx rendered scikit-learn.org. See: https://github.com/scikit-learn/scikit-learn/issues/21755 */display: inline-block !important;position: relative;}#sk-container-id-1 div.sk-text-repr-fallback {display: none;}</style><div id=\"sk-container-id-1\" class=\"sk-top-container\"><div class=\"sk-text-repr-fallback\"><pre>RandomForestRegressor()</pre><b>In a Jupyter environment, please rerun this cell to show the HTML representation or trust the notebook. <br />On GitHub, the HTML representation is unable to render, please try loading this page with nbviewer.org.</b></div><div class=\"sk-container\" hidden><div class=\"sk-item\"><div class=\"sk-estimator sk-toggleable\"><input class=\"sk-toggleable__control sk-hidden--visually\" id=\"sk-estimator-id-1\" type=\"checkbox\" checked><label for=\"sk-estimator-id-1\" class=\"sk-toggleable__label sk-toggleable__label-arrow\">RandomForestRegressor</label><div class=\"sk-toggleable__content\"><pre>RandomForestRegressor()</pre></div></div></div></div></div>"
      ],
      "text/plain": [
       "RandomForestRegressor()"
      ]
     },
     "execution_count": 37,
     "metadata": {},
     "output_type": "execute_result"
    }
   ],
   "source": [
    "# Let's refit the model\n",
    "np.random.seed(42)\n",
    "X_train, X_test, y_train, y_test = train_test_split(transformed_X,\n",
    "                                                    y,\n",
    "                                                    test_size=0.2)\n",
    "model.fit(X_train, y_train)"
   ]
  },
  {
   "cell_type": "code",
   "execution_count": 38,
   "id": "4206e6cd",
   "metadata": {
    "execution": {
     "iopub.execute_input": "2023-06-20T16:46:27.541284Z",
     "iopub.status.busy": "2023-06-20T16:46:27.540367Z",
     "iopub.status.idle": "2023-06-20T16:46:27.551344Z",
     "shell.execute_reply": "2023-06-20T16:46:27.550151Z"
    },
    "papermill": {
     "duration": 0.058868,
     "end_time": "2023-06-20T16:46:27.553450",
     "exception": false,
     "start_time": "2023-06-20T16:46:27.494582",
     "status": "completed"
    },
    "tags": []
   },
   "outputs": [
    {
     "data": {
      "text/html": [
       "<div>\n",
       "<style scoped>\n",
       "    .dataframe tbody tr th:only-of-type {\n",
       "        vertical-align: middle;\n",
       "    }\n",
       "\n",
       "    .dataframe tbody tr th {\n",
       "        vertical-align: top;\n",
       "    }\n",
       "\n",
       "    .dataframe thead th {\n",
       "        text-align: right;\n",
       "    }\n",
       "</style>\n",
       "<table border=\"1\" class=\"dataframe\">\n",
       "  <thead>\n",
       "    <tr style=\"text-align: right;\">\n",
       "      <th></th>\n",
       "      <th>Make</th>\n",
       "      <th>Colour</th>\n",
       "      <th>Odometer (KM)</th>\n",
       "      <th>Doors</th>\n",
       "    </tr>\n",
       "  </thead>\n",
       "  <tbody>\n",
       "    <tr>\n",
       "      <th>0</th>\n",
       "      <td>Honda</td>\n",
       "      <td>White</td>\n",
       "      <td>35431</td>\n",
       "      <td>4</td>\n",
       "    </tr>\n",
       "    <tr>\n",
       "      <th>1</th>\n",
       "      <td>BMW</td>\n",
       "      <td>Blue</td>\n",
       "      <td>192714</td>\n",
       "      <td>5</td>\n",
       "    </tr>\n",
       "    <tr>\n",
       "      <th>2</th>\n",
       "      <td>Honda</td>\n",
       "      <td>White</td>\n",
       "      <td>84714</td>\n",
       "      <td>4</td>\n",
       "    </tr>\n",
       "    <tr>\n",
       "      <th>3</th>\n",
       "      <td>Toyota</td>\n",
       "      <td>White</td>\n",
       "      <td>154365</td>\n",
       "      <td>4</td>\n",
       "    </tr>\n",
       "    <tr>\n",
       "      <th>4</th>\n",
       "      <td>Nissan</td>\n",
       "      <td>Blue</td>\n",
       "      <td>181577</td>\n",
       "      <td>3</td>\n",
       "    </tr>\n",
       "  </tbody>\n",
       "</table>\n",
       "</div>"
      ],
      "text/plain": [
       "     Make Colour  Odometer (KM)  Doors\n",
       "0   Honda  White          35431      4\n",
       "1     BMW   Blue         192714      5\n",
       "2   Honda  White          84714      4\n",
       "3  Toyota  White         154365      4\n",
       "4  Nissan   Blue         181577      3"
      ]
     },
     "execution_count": 38,
     "metadata": {},
     "output_type": "execute_result"
    }
   ],
   "source": [
    "X.head()"
   ]
  },
  {
   "cell_type": "code",
   "execution_count": 39,
   "id": "88836cff",
   "metadata": {
    "execution": {
     "iopub.execute_input": "2023-06-20T16:46:27.641705Z",
     "iopub.status.busy": "2023-06-20T16:46:27.641342Z",
     "iopub.status.idle": "2023-06-20T16:46:27.664366Z",
     "shell.execute_reply": "2023-06-20T16:46:27.663139Z"
    },
    "papermill": {
     "duration": 0.069794,
     "end_time": "2023-06-20T16:46:27.666737",
     "exception": false,
     "start_time": "2023-06-20T16:46:27.596943",
     "status": "completed"
    },
    "tags": []
   },
   "outputs": [
    {
     "data": {
      "text/plain": [
       "0.3235867221569877"
      ]
     },
     "execution_count": 39,
     "metadata": {},
     "output_type": "execute_result"
    }
   ],
   "source": [
    "model.score(X_test, y_test)"
   ]
  },
  {
   "cell_type": "markdown",
   "id": "8da45e71",
   "metadata": {
    "papermill": {
     "duration": 0.042112,
     "end_time": "2023-06-20T16:46:27.751492",
     "exception": false,
     "start_time": "2023-06-20T16:46:27.709380",
     "status": "completed"
    },
    "tags": []
   },
   "source": [
    "## 1.2 What if there were missing values?\n",
    "\n",
    "1. Fill them with some values (also known as imputation).\n",
    "2. Remove the samples with missing data altogether."
   ]
  },
  {
   "cell_type": "code",
   "execution_count": 40,
   "id": "a1fb5422",
   "metadata": {
    "execution": {
     "iopub.execute_input": "2023-06-20T16:46:27.838632Z",
     "iopub.status.busy": "2023-06-20T16:46:27.838028Z",
     "iopub.status.idle": "2023-06-20T16:46:27.858528Z",
     "shell.execute_reply": "2023-06-20T16:46:27.857674Z"
    },
    "papermill": {
     "duration": 0.066403,
     "end_time": "2023-06-20T16:46:27.860658",
     "exception": false,
     "start_time": "2023-06-20T16:46:27.794255",
     "status": "completed"
    },
    "tags": []
   },
   "outputs": [
    {
     "data": {
      "text/html": [
       "<div>\n",
       "<style scoped>\n",
       "    .dataframe tbody tr th:only-of-type {\n",
       "        vertical-align: middle;\n",
       "    }\n",
       "\n",
       "    .dataframe tbody tr th {\n",
       "        vertical-align: top;\n",
       "    }\n",
       "\n",
       "    .dataframe thead th {\n",
       "        text-align: right;\n",
       "    }\n",
       "</style>\n",
       "<table border=\"1\" class=\"dataframe\">\n",
       "  <thead>\n",
       "    <tr style=\"text-align: right;\">\n",
       "      <th></th>\n",
       "      <th>Make</th>\n",
       "      <th>Colour</th>\n",
       "      <th>Odometer (KM)</th>\n",
       "      <th>Doors</th>\n",
       "      <th>Price</th>\n",
       "    </tr>\n",
       "  </thead>\n",
       "  <tbody>\n",
       "    <tr>\n",
       "      <th>0</th>\n",
       "      <td>Honda</td>\n",
       "      <td>White</td>\n",
       "      <td>35431.0</td>\n",
       "      <td>4.0</td>\n",
       "      <td>15323.0</td>\n",
       "    </tr>\n",
       "    <tr>\n",
       "      <th>1</th>\n",
       "      <td>BMW</td>\n",
       "      <td>Blue</td>\n",
       "      <td>192714.0</td>\n",
       "      <td>5.0</td>\n",
       "      <td>19943.0</td>\n",
       "    </tr>\n",
       "    <tr>\n",
       "      <th>2</th>\n",
       "      <td>Honda</td>\n",
       "      <td>White</td>\n",
       "      <td>84714.0</td>\n",
       "      <td>4.0</td>\n",
       "      <td>28343.0</td>\n",
       "    </tr>\n",
       "    <tr>\n",
       "      <th>3</th>\n",
       "      <td>Toyota</td>\n",
       "      <td>White</td>\n",
       "      <td>154365.0</td>\n",
       "      <td>4.0</td>\n",
       "      <td>13434.0</td>\n",
       "    </tr>\n",
       "    <tr>\n",
       "      <th>4</th>\n",
       "      <td>Nissan</td>\n",
       "      <td>Blue</td>\n",
       "      <td>181577.0</td>\n",
       "      <td>3.0</td>\n",
       "      <td>14043.0</td>\n",
       "    </tr>\n",
       "  </tbody>\n",
       "</table>\n",
       "</div>"
      ],
      "text/plain": [
       "     Make Colour  Odometer (KM)  Doors    Price\n",
       "0   Honda  White        35431.0    4.0  15323.0\n",
       "1     BMW   Blue       192714.0    5.0  19943.0\n",
       "2   Honda  White        84714.0    4.0  28343.0\n",
       "3  Toyota  White       154365.0    4.0  13434.0\n",
       "4  Nissan   Blue       181577.0    3.0  14043.0"
      ]
     },
     "execution_count": 40,
     "metadata": {},
     "output_type": "execute_result"
    }
   ],
   "source": [
    "# Import car sales missing data\n",
    "car_sales_missing = pd.read_csv(\"/kaggle/input/ml-course-data/mlcoursedata/car-sales-extended-missing-data.csv\")\n",
    "car_sales_missing.head()"
   ]
  },
  {
   "cell_type": "code",
   "execution_count": 41,
   "id": "da1efdfb",
   "metadata": {
    "execution": {
     "iopub.execute_input": "2023-06-20T16:46:27.951273Z",
     "iopub.status.busy": "2023-06-20T16:46:27.950630Z",
     "iopub.status.idle": "2023-06-20T16:46:27.964424Z",
     "shell.execute_reply": "2023-06-20T16:46:27.962642Z"
    },
    "papermill": {
     "duration": 0.065646,
     "end_time": "2023-06-20T16:46:27.970584",
     "exception": false,
     "start_time": "2023-06-20T16:46:27.904938",
     "status": "completed"
    },
    "tags": []
   },
   "outputs": [
    {
     "data": {
      "text/plain": [
       "Make             49\n",
       "Colour           50\n",
       "Odometer (KM)    50\n",
       "Doors            50\n",
       "Price            50\n",
       "dtype: int64"
      ]
     },
     "execution_count": 41,
     "metadata": {},
     "output_type": "execute_result"
    }
   ],
   "source": [
    "car_sales_missing.isna().sum()"
   ]
  },
  {
   "cell_type": "code",
   "execution_count": 42,
   "id": "7e62cdc1",
   "metadata": {
    "execution": {
     "iopub.execute_input": "2023-06-20T16:46:28.060756Z",
     "iopub.status.busy": "2023-06-20T16:46:28.060278Z",
     "iopub.status.idle": "2023-06-20T16:46:28.066610Z",
     "shell.execute_reply": "2023-06-20T16:46:28.065564Z"
    },
    "papermill": {
     "duration": 0.054001,
     "end_time": "2023-06-20T16:46:28.068809",
     "exception": false,
     "start_time": "2023-06-20T16:46:28.014808",
     "status": "completed"
    },
    "tags": []
   },
   "outputs": [],
   "source": [
    "# Create X & y\n",
    "X = car_sales_missing.drop(\"Price\", axis=1)\n",
    "y = car_sales_missing[\"Price\"]"
   ]
  },
  {
   "cell_type": "markdown",
   "id": "c5e43cf7",
   "metadata": {
    "papermill": {
     "duration": 0.042389,
     "end_time": "2023-06-20T16:46:28.154511",
     "exception": false,
     "start_time": "2023-06-20T16:46:28.112122",
     "status": "completed"
    },
    "tags": []
   },
   "source": [
    "### Option 1: Fill missing data with Pandas"
   ]
  },
  {
   "cell_type": "code",
   "execution_count": 43,
   "id": "d70f3f8c",
   "metadata": {
    "execution": {
     "iopub.execute_input": "2023-06-20T16:46:28.241987Z",
     "iopub.status.busy": "2023-06-20T16:46:28.241328Z",
     "iopub.status.idle": "2023-06-20T16:46:28.248519Z",
     "shell.execute_reply": "2023-06-20T16:46:28.247680Z"
    },
    "papermill": {
     "duration": 0.053526,
     "end_time": "2023-06-20T16:46:28.250702",
     "exception": false,
     "start_time": "2023-06-20T16:46:28.197176",
     "status": "completed"
    },
    "tags": []
   },
   "outputs": [],
   "source": [
    "# Fill the \"Make\" column\n",
    "car_sales_missing[\"Make\"].fillna(\"missing\", inplace=True)\n",
    "\n",
    "# Fill the \"Colour\" column\n",
    "car_sales_missing[\"Colour\"].fillna(\"missing\", inplace=True)\n",
    "\n",
    "# Fill the \"Odometer (KM)\" column\n",
    "car_sales_missing[\"Odometer (KM)\"].fillna(car_sales_missing[\"Odometer (KM)\"].mean(), inplace=True)\n",
    "\n",
    "# Fill the \"Doors\" column\n",
    "car_sales_missing[\"Doors\"].fillna(4, inplace=True)"
   ]
  },
  {
   "cell_type": "code",
   "execution_count": 44,
   "id": "af7d4d54",
   "metadata": {
    "execution": {
     "iopub.execute_input": "2023-06-20T16:46:28.339815Z",
     "iopub.status.busy": "2023-06-20T16:46:28.339183Z",
     "iopub.status.idle": "2023-06-20T16:46:28.347323Z",
     "shell.execute_reply": "2023-06-20T16:46:28.346388Z"
    },
    "papermill": {
     "duration": 0.054321,
     "end_time": "2023-06-20T16:46:28.349440",
     "exception": false,
     "start_time": "2023-06-20T16:46:28.295119",
     "status": "completed"
    },
    "tags": []
   },
   "outputs": [
    {
     "data": {
      "text/plain": [
       "Make              0\n",
       "Colour            0\n",
       "Odometer (KM)     0\n",
       "Doors             0\n",
       "Price            50\n",
       "dtype: int64"
      ]
     },
     "execution_count": 44,
     "metadata": {},
     "output_type": "execute_result"
    }
   ],
   "source": [
    "# Check our dataframe again\n",
    "car_sales_missing.isna().sum()"
   ]
  },
  {
   "cell_type": "code",
   "execution_count": 45,
   "id": "3406dc46",
   "metadata": {
    "execution": {
     "iopub.execute_input": "2023-06-20T16:46:28.441236Z",
     "iopub.status.busy": "2023-06-20T16:46:28.440794Z",
     "iopub.status.idle": "2023-06-20T16:46:28.450334Z",
     "shell.execute_reply": "2023-06-20T16:46:28.448329Z"
    },
    "papermill": {
     "duration": 0.060183,
     "end_time": "2023-06-20T16:46:28.453369",
     "exception": false,
     "start_time": "2023-06-20T16:46:28.393186",
     "status": "completed"
    },
    "tags": []
   },
   "outputs": [],
   "source": [
    "# Remove rows with missing Price value\n",
    "car_sales_missing.dropna(inplace=True)"
   ]
  },
  {
   "cell_type": "code",
   "execution_count": 46,
   "id": "1d1cad87",
   "metadata": {
    "execution": {
     "iopub.execute_input": "2023-06-20T16:46:28.546363Z",
     "iopub.status.busy": "2023-06-20T16:46:28.545957Z",
     "iopub.status.idle": "2023-06-20T16:46:28.554519Z",
     "shell.execute_reply": "2023-06-20T16:46:28.553549Z"
    },
    "papermill": {
     "duration": 0.056698,
     "end_time": "2023-06-20T16:46:28.556675",
     "exception": false,
     "start_time": "2023-06-20T16:46:28.499977",
     "status": "completed"
    },
    "tags": []
   },
   "outputs": [
    {
     "data": {
      "text/plain": [
       "Make             0\n",
       "Colour           0\n",
       "Odometer (KM)    0\n",
       "Doors            0\n",
       "Price            0\n",
       "dtype: int64"
      ]
     },
     "execution_count": 46,
     "metadata": {},
     "output_type": "execute_result"
    }
   ],
   "source": [
    "car_sales_missing.isna().sum()"
   ]
  },
  {
   "cell_type": "code",
   "execution_count": 47,
   "id": "cd0dc339",
   "metadata": {
    "execution": {
     "iopub.execute_input": "2023-06-20T16:46:28.644508Z",
     "iopub.status.busy": "2023-06-20T16:46:28.644113Z",
     "iopub.status.idle": "2023-06-20T16:46:28.649824Z",
     "shell.execute_reply": "2023-06-20T16:46:28.649060Z"
    },
    "papermill": {
     "duration": 0.052161,
     "end_time": "2023-06-20T16:46:28.651719",
     "exception": false,
     "start_time": "2023-06-20T16:46:28.599558",
     "status": "completed"
    },
    "tags": []
   },
   "outputs": [
    {
     "data": {
      "text/plain": [
       "950"
      ]
     },
     "execution_count": 47,
     "metadata": {},
     "output_type": "execute_result"
    }
   ],
   "source": [
    "len(car_sales_missing)"
   ]
  },
  {
   "cell_type": "code",
   "execution_count": 48,
   "id": "c6cf988c",
   "metadata": {
    "execution": {
     "iopub.execute_input": "2023-06-20T16:46:28.739559Z",
     "iopub.status.busy": "2023-06-20T16:46:28.738474Z",
     "iopub.status.idle": "2023-06-20T16:46:28.743849Z",
     "shell.execute_reply": "2023-06-20T16:46:28.743137Z"
    },
    "papermill": {
     "duration": 0.051336,
     "end_time": "2023-06-20T16:46:28.745928",
     "exception": false,
     "start_time": "2023-06-20T16:46:28.694592",
     "status": "completed"
    },
    "tags": []
   },
   "outputs": [],
   "source": [
    "X = car_sales_missing.drop(\"Price\", axis=1)\n",
    "y = car_sales_missing[\"Price\"]"
   ]
  },
  {
   "cell_type": "code",
   "execution_count": 49,
   "id": "b75ef3a4",
   "metadata": {
    "execution": {
     "iopub.execute_input": "2023-06-20T16:46:28.834647Z",
     "iopub.status.busy": "2023-06-20T16:46:28.833920Z",
     "iopub.status.idle": "2023-06-20T16:46:28.848476Z",
     "shell.execute_reply": "2023-06-20T16:46:28.847408Z"
    },
    "papermill": {
     "duration": 0.061735,
     "end_time": "2023-06-20T16:46:28.850537",
     "exception": false,
     "start_time": "2023-06-20T16:46:28.788802",
     "status": "completed"
    },
    "tags": []
   },
   "outputs": [
    {
     "data": {
      "text/plain": [
       "array([[0.00000e+00, 1.00000e+00, 0.00000e+00, ..., 0.00000e+00,\n",
       "        3.54310e+04, 1.53230e+04],\n",
       "       [1.00000e+00, 0.00000e+00, 0.00000e+00, ..., 1.00000e+00,\n",
       "        1.92714e+05, 1.99430e+04],\n",
       "       [0.00000e+00, 1.00000e+00, 0.00000e+00, ..., 0.00000e+00,\n",
       "        8.47140e+04, 2.83430e+04],\n",
       "       ...,\n",
       "       [0.00000e+00, 0.00000e+00, 1.00000e+00, ..., 0.00000e+00,\n",
       "        6.66040e+04, 3.15700e+04],\n",
       "       [0.00000e+00, 1.00000e+00, 0.00000e+00, ..., 0.00000e+00,\n",
       "        2.15883e+05, 4.00100e+03],\n",
       "       [0.00000e+00, 0.00000e+00, 0.00000e+00, ..., 0.00000e+00,\n",
       "        2.48360e+05, 1.27320e+04]])"
      ]
     },
     "execution_count": 49,
     "metadata": {},
     "output_type": "execute_result"
    }
   ],
   "source": [
    "# Let's try and convert our data to numbers\n",
    "# Turn the categories into numbers\n",
    "from sklearn.preprocessing import OneHotEncoder\n",
    "from sklearn.compose import ColumnTransformer\n",
    "\n",
    "categorical_features = [\"Make\", \"Colour\", \"Doors\"]\n",
    "one_hot = OneHotEncoder()  # instantiate the one hot encoder\n",
    "transformer = ColumnTransformer([(\"one_hot\",\n",
    "                                  one_hot,\n",
    "                                  categorical_features)],\n",
    "                                  remainder=\"passthrough\")\n",
    "\n",
    "transformed_X = transformer.fit_transform(car_sales_missing)\n",
    "transformed_X"
   ]
  },
  {
   "cell_type": "markdown",
   "id": "e6ed1068",
   "metadata": {
    "papermill": {
     "duration": 0.043923,
     "end_time": "2023-06-20T16:46:28.938573",
     "exception": false,
     "start_time": "2023-06-20T16:46:28.894650",
     "status": "completed"
    },
    "tags": []
   },
   "source": [
    "Extension: Feature Scaling\n",
    "- https://www.udemy.com/course/complete-machine-learning-and-data-science-zero-to-mastery/learn/lecture/19395326#overview"
   ]
  },
  {
   "cell_type": "markdown",
   "id": "efa2904e",
   "metadata": {
    "papermill": {
     "duration": 0.051351,
     "end_time": "2023-06-20T16:46:29.040256",
     "exception": false,
     "start_time": "2023-06-20T16:46:28.988905",
     "status": "completed"
    },
    "tags": []
   },
   "source": [
    "### Option 2: Fill missing values with Scikit-Learn"
   ]
  },
  {
   "cell_type": "markdown",
   "id": "f1090f8b",
   "metadata": {
    "papermill": {
     "duration": 0.042747,
     "end_time": "2023-06-20T16:46:29.129422",
     "exception": false,
     "start_time": "2023-06-20T16:46:29.086675",
     "status": "completed"
    },
    "tags": []
   },
   "source": [
    "Main takeaways:\n",
    "- Split your data first (into train/test), always keep your training & test data separate\n",
    "- Fill/transform the training set and test sets separately (this goes for filling data with pandas as well)\n",
    "- Don't use data from the future (test set) to fill data from the past (training set)"
   ]
  },
  {
   "cell_type": "code",
   "execution_count": 50,
   "id": "e35dd49d",
   "metadata": {
    "execution": {
     "iopub.execute_input": "2023-06-20T16:46:29.217803Z",
     "iopub.status.busy": "2023-06-20T16:46:29.217201Z",
     "iopub.status.idle": "2023-06-20T16:46:29.233196Z",
     "shell.execute_reply": "2023-06-20T16:46:29.232168Z"
    },
    "papermill": {
     "duration": 0.062781,
     "end_time": "2023-06-20T16:46:29.235341",
     "exception": false,
     "start_time": "2023-06-20T16:46:29.172560",
     "status": "completed"
    },
    "tags": []
   },
   "outputs": [
    {
     "data": {
      "text/html": [
       "<div>\n",
       "<style scoped>\n",
       "    .dataframe tbody tr th:only-of-type {\n",
       "        vertical-align: middle;\n",
       "    }\n",
       "\n",
       "    .dataframe tbody tr th {\n",
       "        vertical-align: top;\n",
       "    }\n",
       "\n",
       "    .dataframe thead th {\n",
       "        text-align: right;\n",
       "    }\n",
       "</style>\n",
       "<table border=\"1\" class=\"dataframe\">\n",
       "  <thead>\n",
       "    <tr style=\"text-align: right;\">\n",
       "      <th></th>\n",
       "      <th>Make</th>\n",
       "      <th>Colour</th>\n",
       "      <th>Odometer (KM)</th>\n",
       "      <th>Doors</th>\n",
       "      <th>Price</th>\n",
       "    </tr>\n",
       "  </thead>\n",
       "  <tbody>\n",
       "    <tr>\n",
       "      <th>0</th>\n",
       "      <td>Honda</td>\n",
       "      <td>White</td>\n",
       "      <td>35431.0</td>\n",
       "      <td>4.0</td>\n",
       "      <td>15323.0</td>\n",
       "    </tr>\n",
       "    <tr>\n",
       "      <th>1</th>\n",
       "      <td>BMW</td>\n",
       "      <td>Blue</td>\n",
       "      <td>192714.0</td>\n",
       "      <td>5.0</td>\n",
       "      <td>19943.0</td>\n",
       "    </tr>\n",
       "    <tr>\n",
       "      <th>2</th>\n",
       "      <td>Honda</td>\n",
       "      <td>White</td>\n",
       "      <td>84714.0</td>\n",
       "      <td>4.0</td>\n",
       "      <td>28343.0</td>\n",
       "    </tr>\n",
       "    <tr>\n",
       "      <th>3</th>\n",
       "      <td>Toyota</td>\n",
       "      <td>White</td>\n",
       "      <td>154365.0</td>\n",
       "      <td>4.0</td>\n",
       "      <td>13434.0</td>\n",
       "    </tr>\n",
       "    <tr>\n",
       "      <th>4</th>\n",
       "      <td>Nissan</td>\n",
       "      <td>Blue</td>\n",
       "      <td>181577.0</td>\n",
       "      <td>3.0</td>\n",
       "      <td>14043.0</td>\n",
       "    </tr>\n",
       "  </tbody>\n",
       "</table>\n",
       "</div>"
      ],
      "text/plain": [
       "     Make Colour  Odometer (KM)  Doors    Price\n",
       "0   Honda  White        35431.0    4.0  15323.0\n",
       "1     BMW   Blue       192714.0    5.0  19943.0\n",
       "2   Honda  White        84714.0    4.0  28343.0\n",
       "3  Toyota  White       154365.0    4.0  13434.0\n",
       "4  Nissan   Blue       181577.0    3.0  14043.0"
      ]
     },
     "execution_count": 50,
     "metadata": {},
     "output_type": "execute_result"
    }
   ],
   "source": [
    "car_sales_missing = pd.read_csv(\"/kaggle/input/ml-course-data/mlcoursedata/car-sales-extended-missing-data.csv\")\n",
    "car_sales_missing.head()"
   ]
  },
  {
   "cell_type": "code",
   "execution_count": 51,
   "id": "ed41a896",
   "metadata": {
    "execution": {
     "iopub.execute_input": "2023-06-20T16:46:29.325010Z",
     "iopub.status.busy": "2023-06-20T16:46:29.324437Z",
     "iopub.status.idle": "2023-06-20T16:46:29.332749Z",
     "shell.execute_reply": "2023-06-20T16:46:29.331846Z"
    },
    "papermill": {
     "duration": 0.055894,
     "end_time": "2023-06-20T16:46:29.334752",
     "exception": false,
     "start_time": "2023-06-20T16:46:29.278858",
     "status": "completed"
    },
    "tags": []
   },
   "outputs": [
    {
     "data": {
      "text/plain": [
       "Make             49\n",
       "Colour           50\n",
       "Odometer (KM)    50\n",
       "Doors            50\n",
       "Price            50\n",
       "dtype: int64"
      ]
     },
     "execution_count": 51,
     "metadata": {},
     "output_type": "execute_result"
    }
   ],
   "source": [
    "car_sales_missing.isna().sum()"
   ]
  },
  {
   "cell_type": "code",
   "execution_count": 52,
   "id": "d273aa96",
   "metadata": {
    "execution": {
     "iopub.execute_input": "2023-06-20T16:46:29.424600Z",
     "iopub.status.busy": "2023-06-20T16:46:29.423964Z",
     "iopub.status.idle": "2023-06-20T16:46:29.434369Z",
     "shell.execute_reply": "2023-06-20T16:46:29.433390Z"
    },
    "papermill": {
     "duration": 0.058279,
     "end_time": "2023-06-20T16:46:29.436278",
     "exception": false,
     "start_time": "2023-06-20T16:46:29.377999",
     "status": "completed"
    },
    "tags": []
   },
   "outputs": [
    {
     "data": {
      "text/plain": [
       "Make             47\n",
       "Colour           46\n",
       "Odometer (KM)    48\n",
       "Doors            47\n",
       "Price             0\n",
       "dtype: int64"
      ]
     },
     "execution_count": 52,
     "metadata": {},
     "output_type": "execute_result"
    }
   ],
   "source": [
    "# Drop the rows with no labels\n",
    "car_sales_missing.dropna(subset=[\"Price\"], inplace=True)\n",
    "car_sales_missing.isna().sum()"
   ]
  },
  {
   "cell_type": "code",
   "execution_count": 53,
   "id": "887fec4e",
   "metadata": {
    "execution": {
     "iopub.execute_input": "2023-06-20T16:46:29.524807Z",
     "iopub.status.busy": "2023-06-20T16:46:29.523901Z",
     "iopub.status.idle": "2023-06-20T16:46:29.529868Z",
     "shell.execute_reply": "2023-06-20T16:46:29.529144Z"
    },
    "papermill": {
     "duration": 0.052402,
     "end_time": "2023-06-20T16:46:29.531882",
     "exception": false,
     "start_time": "2023-06-20T16:46:29.479480",
     "status": "completed"
    },
    "tags": []
   },
   "outputs": [],
   "source": [
    "# Split into X & y\n",
    "X = car_sales_missing.drop(\"Price\", axis=1)\n",
    "y = car_sales_missing[\"Price\"]"
   ]
  },
  {
   "cell_type": "code",
   "execution_count": 54,
   "id": "8b612fd9",
   "metadata": {
    "execution": {
     "iopub.execute_input": "2023-06-20T16:46:29.621716Z",
     "iopub.status.busy": "2023-06-20T16:46:29.621108Z",
     "iopub.status.idle": "2023-06-20T16:46:29.655283Z",
     "shell.execute_reply": "2023-06-20T16:46:29.654236Z"
    },
    "papermill": {
     "duration": 0.081179,
     "end_time": "2023-06-20T16:46:29.657340",
     "exception": false,
     "start_time": "2023-06-20T16:46:29.576161",
     "status": "completed"
    },
    "tags": []
   },
   "outputs": [
    {
     "data": {
      "text/plain": [
       "array([['Honda', 'White', 4.0, 35431.0],\n",
       "       ['BMW', 'Blue', 5.0, 192714.0],\n",
       "       ['Honda', 'White', 4.0, 84714.0],\n",
       "       ...,\n",
       "       ['Nissan', 'Blue', 4.0, 66604.0],\n",
       "       ['Honda', 'White', 4.0, 215883.0],\n",
       "       ['Toyota', 'Blue', 4.0, 248360.0]], dtype=object)"
      ]
     },
     "execution_count": 54,
     "metadata": {},
     "output_type": "execute_result"
    }
   ],
   "source": [
    "# Fill missing values with Sciki-Learn\n",
    "from sklearn.impute import SimpleImputer\n",
    "from sklearn.compose import ColumnTransformer\n",
    "\n",
    "# Fill categorical values with 'missing' & numerical values with mean\n",
    "cat_imputer = SimpleImputer(strategy=\"constant\", fill_value=\"missing\")\n",
    "door_imputer = SimpleImputer(strategy=\"constant\", fill_value=4)\n",
    "num_imputer = SimpleImputer(strategy=\"mean\")\n",
    "\n",
    "# Define columns\n",
    "cat_features = [\"Make\", \"Colour\"]\n",
    "door_feature = [\"Doors\"]\n",
    "num_features = [\"Odometer (KM)\"]\n",
    "\n",
    "# Create an imputer (sth that fills missing data)\n",
    "imputer = ColumnTransformer([\n",
    "    (\"cat_imputer\", cat_imputer, cat_features),\n",
    "    (\"door_imputer\", door_imputer, door_feature),\n",
    "    (\"num_imputer\", num_imputer, num_features)\n",
    "])\n",
    "\n",
    "# Transform the data\n",
    "filled_X = imputer.fit_transform(X)\n",
    "filled_X"
   ]
  },
  {
   "cell_type": "code",
   "execution_count": 55,
   "id": "829dbd19",
   "metadata": {
    "execution": {
     "iopub.execute_input": "2023-06-20T16:46:29.747493Z",
     "iopub.status.busy": "2023-06-20T16:46:29.746888Z",
     "iopub.status.idle": "2023-06-20T16:46:29.758565Z",
     "shell.execute_reply": "2023-06-20T16:46:29.757339Z"
    },
    "papermill": {
     "duration": 0.058998,
     "end_time": "2023-06-20T16:46:29.760794",
     "exception": false,
     "start_time": "2023-06-20T16:46:29.701796",
     "status": "completed"
    },
    "tags": []
   },
   "outputs": [
    {
     "data": {
      "text/html": [
       "<div>\n",
       "<style scoped>\n",
       "    .dataframe tbody tr th:only-of-type {\n",
       "        vertical-align: middle;\n",
       "    }\n",
       "\n",
       "    .dataframe tbody tr th {\n",
       "        vertical-align: top;\n",
       "    }\n",
       "\n",
       "    .dataframe thead th {\n",
       "        text-align: right;\n",
       "    }\n",
       "</style>\n",
       "<table border=\"1\" class=\"dataframe\">\n",
       "  <thead>\n",
       "    <tr style=\"text-align: right;\">\n",
       "      <th></th>\n",
       "      <th>Make</th>\n",
       "      <th>Colour</th>\n",
       "      <th>Doors</th>\n",
       "      <th>Odometer (KM)</th>\n",
       "    </tr>\n",
       "  </thead>\n",
       "  <tbody>\n",
       "    <tr>\n",
       "      <th>0</th>\n",
       "      <td>Honda</td>\n",
       "      <td>White</td>\n",
       "      <td>4.0</td>\n",
       "      <td>35431.0</td>\n",
       "    </tr>\n",
       "    <tr>\n",
       "      <th>1</th>\n",
       "      <td>BMW</td>\n",
       "      <td>Blue</td>\n",
       "      <td>5.0</td>\n",
       "      <td>192714.0</td>\n",
       "    </tr>\n",
       "    <tr>\n",
       "      <th>2</th>\n",
       "      <td>Honda</td>\n",
       "      <td>White</td>\n",
       "      <td>4.0</td>\n",
       "      <td>84714.0</td>\n",
       "    </tr>\n",
       "    <tr>\n",
       "      <th>3</th>\n",
       "      <td>Toyota</td>\n",
       "      <td>White</td>\n",
       "      <td>4.0</td>\n",
       "      <td>154365.0</td>\n",
       "    </tr>\n",
       "    <tr>\n",
       "      <th>4</th>\n",
       "      <td>Nissan</td>\n",
       "      <td>Blue</td>\n",
       "      <td>3.0</td>\n",
       "      <td>181577.0</td>\n",
       "    </tr>\n",
       "  </tbody>\n",
       "</table>\n",
       "</div>"
      ],
      "text/plain": [
       "     Make Colour Doors Odometer (KM)\n",
       "0   Honda  White   4.0       35431.0\n",
       "1     BMW   Blue   5.0      192714.0\n",
       "2   Honda  White   4.0       84714.0\n",
       "3  Toyota  White   4.0      154365.0\n",
       "4  Nissan   Blue   3.0      181577.0"
      ]
     },
     "execution_count": 55,
     "metadata": {},
     "output_type": "execute_result"
    }
   ],
   "source": [
    "car_sales_filled = pd.DataFrame(filled_X,\n",
    "                                columns=[\"Make\", \"Colour\", \"Doors\", \"Odometer (KM)\"])\n",
    "car_sales_filled.head()"
   ]
  },
  {
   "cell_type": "code",
   "execution_count": 56,
   "id": "f32e632b",
   "metadata": {
    "execution": {
     "iopub.execute_input": "2023-06-20T16:46:29.850413Z",
     "iopub.status.busy": "2023-06-20T16:46:29.849356Z",
     "iopub.status.idle": "2023-06-20T16:46:29.857433Z",
     "shell.execute_reply": "2023-06-20T16:46:29.856602Z"
    },
    "papermill": {
     "duration": 0.054944,
     "end_time": "2023-06-20T16:46:29.859295",
     "exception": false,
     "start_time": "2023-06-20T16:46:29.804351",
     "status": "completed"
    },
    "tags": []
   },
   "outputs": [
    {
     "data": {
      "text/plain": [
       "Make             0\n",
       "Colour           0\n",
       "Doors            0\n",
       "Odometer (KM)    0\n",
       "dtype: int64"
      ]
     },
     "execution_count": 56,
     "metadata": {},
     "output_type": "execute_result"
    }
   ],
   "source": [
    "car_sales_filled.isna().sum()"
   ]
  },
  {
   "cell_type": "code",
   "execution_count": 57,
   "id": "72cab262",
   "metadata": {
    "execution": {
     "iopub.execute_input": "2023-06-20T16:46:29.948936Z",
     "iopub.status.busy": "2023-06-20T16:46:29.948245Z",
     "iopub.status.idle": "2023-06-20T16:46:29.967803Z",
     "shell.execute_reply": "2023-06-20T16:46:29.966453Z"
    },
    "papermill": {
     "duration": 0.067114,
     "end_time": "2023-06-20T16:46:29.970451",
     "exception": false,
     "start_time": "2023-06-20T16:46:29.903337",
     "status": "completed"
    },
    "tags": []
   },
   "outputs": [
    {
     "data": {
      "text/plain": [
       "<950x15 sparse matrix of type '<class 'numpy.float64'>'\n",
       "\twith 3800 stored elements in Compressed Sparse Row format>"
      ]
     },
     "execution_count": 57,
     "metadata": {},
     "output_type": "execute_result"
    }
   ],
   "source": [
    "# Let's try and convert our data to numbers\n",
    "# Turn the categories into numbers\n",
    "from sklearn.preprocessing import OneHotEncoder\n",
    "from sklearn.compose import ColumnTransformer\n",
    "\n",
    "categorical_features = [\"Make\", \"Colour\", \"Doors\"]\n",
    "one_hot = OneHotEncoder()  # instantiate the one hot encoder\n",
    "transformer = ColumnTransformer([(\"one_hot\",\n",
    "                                  one_hot,\n",
    "                                  categorical_features)],\n",
    "                                  remainder=\"passthrough\")\n",
    "\n",
    "transformed_X = transformer.fit_transform(car_sales_filled)\n",
    "transformed_X"
   ]
  },
  {
   "cell_type": "code",
   "execution_count": 58,
   "id": "90b38dd3",
   "metadata": {
    "execution": {
     "iopub.execute_input": "2023-06-20T16:46:30.062753Z",
     "iopub.status.busy": "2023-06-20T16:46:30.062170Z",
     "iopub.status.idle": "2023-06-20T16:46:30.676426Z",
     "shell.execute_reply": "2023-06-20T16:46:30.675380Z"
    },
    "papermill": {
     "duration": 0.66298,
     "end_time": "2023-06-20T16:46:30.678653",
     "exception": false,
     "start_time": "2023-06-20T16:46:30.015673",
     "status": "completed"
    },
    "tags": []
   },
   "outputs": [
    {
     "data": {
      "text/plain": [
       "0.21990196728583944"
      ]
     },
     "execution_count": 58,
     "metadata": {},
     "output_type": "execute_result"
    }
   ],
   "source": [
    "# Now we've gotten our data as numbers and filled (no missing values)\n",
    "# Let's fit a model\n",
    "np.random.seed(42)\n",
    "from sklearn.ensemble import RandomForestRegressor\n",
    "from sklearn.model_selection import train_test_split\n",
    "\n",
    "X_train, X_test, y_train, y_test = train_test_split(transformed_X,\n",
    "                                                    y,\n",
    "                                                    test_size=0.2)\n",
    "\n",
    "model = RandomForestRegressor()\n",
    "model.fit(X_train, y_train)\n",
    "model.score(X_test, y_test)"
   ]
  },
  {
   "cell_type": "code",
   "execution_count": 59,
   "id": "6048666a",
   "metadata": {
    "execution": {
     "iopub.execute_input": "2023-06-20T16:46:30.768372Z",
     "iopub.status.busy": "2023-06-20T16:46:30.767977Z",
     "iopub.status.idle": "2023-06-20T16:46:30.774008Z",
     "shell.execute_reply": "2023-06-20T16:46:30.772925Z"
    },
    "papermill": {
     "duration": 0.053495,
     "end_time": "2023-06-20T16:46:30.776129",
     "exception": false,
     "start_time": "2023-06-20T16:46:30.722634",
     "status": "completed"
    },
    "tags": []
   },
   "outputs": [
    {
     "data": {
      "text/plain": [
       "(950, 1000)"
      ]
     },
     "execution_count": 59,
     "metadata": {},
     "output_type": "execute_result"
    }
   ],
   "source": [
    "len(car_sales_filled), len(car_sales)"
   ]
  },
  {
   "cell_type": "markdown",
   "id": "7389c3fa",
   "metadata": {
    "papermill": {
     "duration": 0.04363,
     "end_time": "2023-06-20T16:46:30.863480",
     "exception": false,
     "start_time": "2023-06-20T16:46:30.819850",
     "status": "completed"
    },
    "tags": []
   },
   "source": [
    "Two things:\n",
    "1. The process of filling missing values is called **imputation**\n",
    "2. The process of turning your non-numerical values into numerical values is referred to as **feature engineering or feautre encoding**."
   ]
  },
  {
   "cell_type": "markdown",
   "id": "1fd50519",
   "metadata": {
    "execution": {
     "iopub.execute_input": "2023-06-08T13:53:49.628212Z",
     "iopub.status.busy": "2023-06-08T13:53:49.627843Z",
     "iopub.status.idle": "2023-06-08T13:53:49.635851Z",
     "shell.execute_reply": "2023-06-08T13:53:49.634423Z",
     "shell.execute_reply.started": "2023-06-08T13:53:49.628186Z"
    },
    "papermill": {
     "duration": 0.043479,
     "end_time": "2023-06-20T16:46:30.950731",
     "exception": false,
     "start_time": "2023-06-20T16:46:30.907252",
     "status": "completed"
    },
    "tags": []
   },
   "source": [
    "## 2. Choosing the right estimator/algorithm for your problem\n",
    "\n",
    "Some things to note:\n",
    "    \n",
    "* Sklearn refers to machine learning  models, algorithms as estimators.\n",
    "* Classification problem - predicting a category (heart disease or not)\n",
    "    * Sometimes we'll see `clf` (short for classifier) used as a clssification estimator'\n",
    "* Regression problem - predicting a number (selling price of a car)\n",
    "\n",
    "Refer to the sklearn machine learning map: https://scikit-learn.org/stable/tutorial/machine_learning_map/index.html"
   ]
  },
  {
   "cell_type": "markdown",
   "id": "26c1a5ed",
   "metadata": {
    "execution": {
     "iopub.execute_input": "2023-06-08T13:57:30.442860Z",
     "iopub.status.busy": "2023-06-08T13:57:30.442465Z",
     "iopub.status.idle": "2023-06-08T13:57:30.448989Z",
     "shell.execute_reply": "2023-06-08T13:57:30.447665Z",
     "shell.execute_reply.started": "2023-06-08T13:57:30.442828Z"
    },
    "papermill": {
     "duration": 0.044305,
     "end_time": "2023-06-20T16:46:31.040610",
     "exception": false,
     "start_time": "2023-06-20T16:46:30.996305",
     "status": "completed"
    },
    "tags": []
   },
   "source": [
    "### 2.1 Picking a machinie learning model for a regressing problem\n",
    "\n",
    "Let's use the Carlifornia Housing dataset."
   ]
  },
  {
   "cell_type": "code",
   "execution_count": 60,
   "id": "1ae54dc3",
   "metadata": {
    "execution": {
     "iopub.execute_input": "2023-06-20T16:46:31.130065Z",
     "iopub.status.busy": "2023-06-20T16:46:31.129672Z",
     "iopub.status.idle": "2023-06-20T16:46:34.957675Z",
     "shell.execute_reply": "2023-06-20T16:46:34.956653Z"
    },
    "papermill": {
     "duration": 3.87565,
     "end_time": "2023-06-20T16:46:34.960253",
     "exception": false,
     "start_time": "2023-06-20T16:46:31.084603",
     "status": "completed"
    },
    "tags": []
   },
   "outputs": [
    {
     "data": {
      "text/plain": [
       "{'data': array([[   8.3252    ,   41.        ,    6.98412698, ...,    2.55555556,\n",
       "           37.88      , -122.23      ],\n",
       "        [   8.3014    ,   21.        ,    6.23813708, ...,    2.10984183,\n",
       "           37.86      , -122.22      ],\n",
       "        [   7.2574    ,   52.        ,    8.28813559, ...,    2.80225989,\n",
       "           37.85      , -122.24      ],\n",
       "        ...,\n",
       "        [   1.7       ,   17.        ,    5.20554273, ...,    2.3256351 ,\n",
       "           39.43      , -121.22      ],\n",
       "        [   1.8672    ,   18.        ,    5.32951289, ...,    2.12320917,\n",
       "           39.43      , -121.32      ],\n",
       "        [   2.3886    ,   16.        ,    5.25471698, ...,    2.61698113,\n",
       "           39.37      , -121.24      ]]),\n",
       " 'target': array([4.526, 3.585, 3.521, ..., 0.923, 0.847, 0.894]),\n",
       " 'frame': None,\n",
       " 'target_names': ['MedHouseVal'],\n",
       " 'feature_names': ['MedInc',\n",
       "  'HouseAge',\n",
       "  'AveRooms',\n",
       "  'AveBedrms',\n",
       "  'Population',\n",
       "  'AveOccup',\n",
       "  'Latitude',\n",
       "  'Longitude'],\n",
       " 'DESCR': '.. _california_housing_dataset:\\n\\nCalifornia Housing dataset\\n--------------------------\\n\\n**Data Set Characteristics:**\\n\\n    :Number of Instances: 20640\\n\\n    :Number of Attributes: 8 numeric, predictive attributes and the target\\n\\n    :Attribute Information:\\n        - MedInc        median income in block group\\n        - HouseAge      median house age in block group\\n        - AveRooms      average number of rooms per household\\n        - AveBedrms     average number of bedrooms per household\\n        - Population    block group population\\n        - AveOccup      average number of household members\\n        - Latitude      block group latitude\\n        - Longitude     block group longitude\\n\\n    :Missing Attribute Values: None\\n\\nThis dataset was obtained from the StatLib repository.\\nhttps://www.dcc.fc.up.pt/~ltorgo/Regression/cal_housing.html\\n\\nThe target variable is the median house value for California districts,\\nexpressed in hundreds of thousands of dollars ($100,000).\\n\\nThis dataset was derived from the 1990 U.S. census, using one row per census\\nblock group. A block group is the smallest geographical unit for which the U.S.\\nCensus Bureau publishes sample data (a block group typically has a population\\nof 600 to 3,000 people).\\n\\nA household is a group of people residing within a home. Since the average\\nnumber of rooms and bedrooms in this dataset are provided per household, these\\ncolumns may take surprisingly large values for block groups with few households\\nand many empty houses, such as vacation resorts.\\n\\nIt can be downloaded/loaded using the\\n:func:`sklearn.datasets.fetch_california_housing` function.\\n\\n.. topic:: References\\n\\n    - Pace, R. Kelley and Ronald Barry, Sparse Spatial Autoregressions,\\n      Statistics and Probability Letters, 33 (1997) 291-297\\n'}"
      ]
     },
     "execution_count": 60,
     "metadata": {},
     "output_type": "execute_result"
    }
   ],
   "source": [
    "# Get California Housing dataset\n",
    "\n",
    "from sklearn.datasets import fetch_california_housing\n",
    "housing = fetch_california_housing()\n",
    "\n",
    "housing"
   ]
  },
  {
   "cell_type": "code",
   "execution_count": 61,
   "id": "2a30aab1",
   "metadata": {
    "execution": {
     "iopub.execute_input": "2023-06-20T16:46:35.052298Z",
     "iopub.status.busy": "2023-06-20T16:46:35.051922Z",
     "iopub.status.idle": "2023-06-20T16:46:35.070154Z",
     "shell.execute_reply": "2023-06-20T16:46:35.069423Z"
    },
    "papermill": {
     "duration": 0.065817,
     "end_time": "2023-06-20T16:46:35.071937",
     "exception": false,
     "start_time": "2023-06-20T16:46:35.006120",
     "status": "completed"
    },
    "tags": []
   },
   "outputs": [
    {
     "data": {
      "text/html": [
       "<div>\n",
       "<style scoped>\n",
       "    .dataframe tbody tr th:only-of-type {\n",
       "        vertical-align: middle;\n",
       "    }\n",
       "\n",
       "    .dataframe tbody tr th {\n",
       "        vertical-align: top;\n",
       "    }\n",
       "\n",
       "    .dataframe thead th {\n",
       "        text-align: right;\n",
       "    }\n",
       "</style>\n",
       "<table border=\"1\" class=\"dataframe\">\n",
       "  <thead>\n",
       "    <tr style=\"text-align: right;\">\n",
       "      <th></th>\n",
       "      <th>MedInc</th>\n",
       "      <th>HouseAge</th>\n",
       "      <th>AveRooms</th>\n",
       "      <th>AveBedrms</th>\n",
       "      <th>Population</th>\n",
       "      <th>AveOccup</th>\n",
       "      <th>Latitude</th>\n",
       "      <th>Longitude</th>\n",
       "    </tr>\n",
       "  </thead>\n",
       "  <tbody>\n",
       "    <tr>\n",
       "      <th>0</th>\n",
       "      <td>8.3252</td>\n",
       "      <td>41.0</td>\n",
       "      <td>6.984127</td>\n",
       "      <td>1.023810</td>\n",
       "      <td>322.0</td>\n",
       "      <td>2.555556</td>\n",
       "      <td>37.88</td>\n",
       "      <td>-122.23</td>\n",
       "    </tr>\n",
       "    <tr>\n",
       "      <th>1</th>\n",
       "      <td>8.3014</td>\n",
       "      <td>21.0</td>\n",
       "      <td>6.238137</td>\n",
       "      <td>0.971880</td>\n",
       "      <td>2401.0</td>\n",
       "      <td>2.109842</td>\n",
       "      <td>37.86</td>\n",
       "      <td>-122.22</td>\n",
       "    </tr>\n",
       "    <tr>\n",
       "      <th>2</th>\n",
       "      <td>7.2574</td>\n",
       "      <td>52.0</td>\n",
       "      <td>8.288136</td>\n",
       "      <td>1.073446</td>\n",
       "      <td>496.0</td>\n",
       "      <td>2.802260</td>\n",
       "      <td>37.85</td>\n",
       "      <td>-122.24</td>\n",
       "    </tr>\n",
       "    <tr>\n",
       "      <th>3</th>\n",
       "      <td>5.6431</td>\n",
       "      <td>52.0</td>\n",
       "      <td>5.817352</td>\n",
       "      <td>1.073059</td>\n",
       "      <td>558.0</td>\n",
       "      <td>2.547945</td>\n",
       "      <td>37.85</td>\n",
       "      <td>-122.25</td>\n",
       "    </tr>\n",
       "    <tr>\n",
       "      <th>4</th>\n",
       "      <td>3.8462</td>\n",
       "      <td>52.0</td>\n",
       "      <td>6.281853</td>\n",
       "      <td>1.081081</td>\n",
       "      <td>565.0</td>\n",
       "      <td>2.181467</td>\n",
       "      <td>37.85</td>\n",
       "      <td>-122.25</td>\n",
       "    </tr>\n",
       "    <tr>\n",
       "      <th>...</th>\n",
       "      <td>...</td>\n",
       "      <td>...</td>\n",
       "      <td>...</td>\n",
       "      <td>...</td>\n",
       "      <td>...</td>\n",
       "      <td>...</td>\n",
       "      <td>...</td>\n",
       "      <td>...</td>\n",
       "    </tr>\n",
       "    <tr>\n",
       "      <th>20635</th>\n",
       "      <td>1.5603</td>\n",
       "      <td>25.0</td>\n",
       "      <td>5.045455</td>\n",
       "      <td>1.133333</td>\n",
       "      <td>845.0</td>\n",
       "      <td>2.560606</td>\n",
       "      <td>39.48</td>\n",
       "      <td>-121.09</td>\n",
       "    </tr>\n",
       "    <tr>\n",
       "      <th>20636</th>\n",
       "      <td>2.5568</td>\n",
       "      <td>18.0</td>\n",
       "      <td>6.114035</td>\n",
       "      <td>1.315789</td>\n",
       "      <td>356.0</td>\n",
       "      <td>3.122807</td>\n",
       "      <td>39.49</td>\n",
       "      <td>-121.21</td>\n",
       "    </tr>\n",
       "    <tr>\n",
       "      <th>20637</th>\n",
       "      <td>1.7000</td>\n",
       "      <td>17.0</td>\n",
       "      <td>5.205543</td>\n",
       "      <td>1.120092</td>\n",
       "      <td>1007.0</td>\n",
       "      <td>2.325635</td>\n",
       "      <td>39.43</td>\n",
       "      <td>-121.22</td>\n",
       "    </tr>\n",
       "    <tr>\n",
       "      <th>20638</th>\n",
       "      <td>1.8672</td>\n",
       "      <td>18.0</td>\n",
       "      <td>5.329513</td>\n",
       "      <td>1.171920</td>\n",
       "      <td>741.0</td>\n",
       "      <td>2.123209</td>\n",
       "      <td>39.43</td>\n",
       "      <td>-121.32</td>\n",
       "    </tr>\n",
       "    <tr>\n",
       "      <th>20639</th>\n",
       "      <td>2.3886</td>\n",
       "      <td>16.0</td>\n",
       "      <td>5.254717</td>\n",
       "      <td>1.162264</td>\n",
       "      <td>1387.0</td>\n",
       "      <td>2.616981</td>\n",
       "      <td>39.37</td>\n",
       "      <td>-121.24</td>\n",
       "    </tr>\n",
       "  </tbody>\n",
       "</table>\n",
       "<p>20640 rows × 8 columns</p>\n",
       "</div>"
      ],
      "text/plain": [
       "       MedInc  HouseAge  AveRooms  AveBedrms  Population  AveOccup  Latitude  \\\n",
       "0      8.3252      41.0  6.984127   1.023810       322.0  2.555556     37.88   \n",
       "1      8.3014      21.0  6.238137   0.971880      2401.0  2.109842     37.86   \n",
       "2      7.2574      52.0  8.288136   1.073446       496.0  2.802260     37.85   \n",
       "3      5.6431      52.0  5.817352   1.073059       558.0  2.547945     37.85   \n",
       "4      3.8462      52.0  6.281853   1.081081       565.0  2.181467     37.85   \n",
       "...       ...       ...       ...        ...         ...       ...       ...   \n",
       "20635  1.5603      25.0  5.045455   1.133333       845.0  2.560606     39.48   \n",
       "20636  2.5568      18.0  6.114035   1.315789       356.0  3.122807     39.49   \n",
       "20637  1.7000      17.0  5.205543   1.120092      1007.0  2.325635     39.43   \n",
       "20638  1.8672      18.0  5.329513   1.171920       741.0  2.123209     39.43   \n",
       "20639  2.3886      16.0  5.254717   1.162264      1387.0  2.616981     39.37   \n",
       "\n",
       "       Longitude  \n",
       "0        -122.23  \n",
       "1        -122.22  \n",
       "2        -122.24  \n",
       "3        -122.25  \n",
       "4        -122.25  \n",
       "...          ...  \n",
       "20635    -121.09  \n",
       "20636    -121.21  \n",
       "20637    -121.22  \n",
       "20638    -121.32  \n",
       "20639    -121.24  \n",
       "\n",
       "[20640 rows x 8 columns]"
      ]
     },
     "execution_count": 61,
     "metadata": {},
     "output_type": "execute_result"
    }
   ],
   "source": [
    "housing_df = pd.DataFrame(housing[\"data\"], columns=housing[\"feature_names\"])\n",
    "housing_df"
   ]
  },
  {
   "cell_type": "markdown",
   "id": "157044cb",
   "metadata": {
    "papermill": {
     "duration": 0.043953,
     "end_time": "2023-06-20T16:46:35.160389",
     "exception": false,
     "start_time": "2023-06-20T16:46:35.116436",
     "status": "completed"
    },
    "tags": []
   },
   "source": [
    "sklearn CA housing dataset: https://scikit-learn.org/stable/modules/generated/sklearn.datasets.fetch_california_housing.html"
   ]
  },
  {
   "cell_type": "code",
   "execution_count": 62,
   "id": "f8d9bbc3",
   "metadata": {
    "execution": {
     "iopub.execute_input": "2023-06-20T16:46:35.250793Z",
     "iopub.status.busy": "2023-06-20T16:46:35.250130Z",
     "iopub.status.idle": "2023-06-20T16:46:35.265023Z",
     "shell.execute_reply": "2023-06-20T16:46:35.264124Z"
    },
    "papermill": {
     "duration": 0.062285,
     "end_time": "2023-06-20T16:46:35.266875",
     "exception": false,
     "start_time": "2023-06-20T16:46:35.204590",
     "status": "completed"
    },
    "tags": []
   },
   "outputs": [
    {
     "data": {
      "text/html": [
       "<div>\n",
       "<style scoped>\n",
       "    .dataframe tbody tr th:only-of-type {\n",
       "        vertical-align: middle;\n",
       "    }\n",
       "\n",
       "    .dataframe tbody tr th {\n",
       "        vertical-align: top;\n",
       "    }\n",
       "\n",
       "    .dataframe thead th {\n",
       "        text-align: right;\n",
       "    }\n",
       "</style>\n",
       "<table border=\"1\" class=\"dataframe\">\n",
       "  <thead>\n",
       "    <tr style=\"text-align: right;\">\n",
       "      <th></th>\n",
       "      <th>MedInc</th>\n",
       "      <th>HouseAge</th>\n",
       "      <th>AveRooms</th>\n",
       "      <th>AveBedrms</th>\n",
       "      <th>Population</th>\n",
       "      <th>AveOccup</th>\n",
       "      <th>Latitude</th>\n",
       "      <th>Longitude</th>\n",
       "      <th>target</th>\n",
       "    </tr>\n",
       "  </thead>\n",
       "  <tbody>\n",
       "    <tr>\n",
       "      <th>0</th>\n",
       "      <td>8.3252</td>\n",
       "      <td>41.0</td>\n",
       "      <td>6.984127</td>\n",
       "      <td>1.023810</td>\n",
       "      <td>322.0</td>\n",
       "      <td>2.555556</td>\n",
       "      <td>37.88</td>\n",
       "      <td>-122.23</td>\n",
       "      <td>4.526</td>\n",
       "    </tr>\n",
       "    <tr>\n",
       "      <th>1</th>\n",
       "      <td>8.3014</td>\n",
       "      <td>21.0</td>\n",
       "      <td>6.238137</td>\n",
       "      <td>0.971880</td>\n",
       "      <td>2401.0</td>\n",
       "      <td>2.109842</td>\n",
       "      <td>37.86</td>\n",
       "      <td>-122.22</td>\n",
       "      <td>3.585</td>\n",
       "    </tr>\n",
       "    <tr>\n",
       "      <th>2</th>\n",
       "      <td>7.2574</td>\n",
       "      <td>52.0</td>\n",
       "      <td>8.288136</td>\n",
       "      <td>1.073446</td>\n",
       "      <td>496.0</td>\n",
       "      <td>2.802260</td>\n",
       "      <td>37.85</td>\n",
       "      <td>-122.24</td>\n",
       "      <td>3.521</td>\n",
       "    </tr>\n",
       "    <tr>\n",
       "      <th>3</th>\n",
       "      <td>5.6431</td>\n",
       "      <td>52.0</td>\n",
       "      <td>5.817352</td>\n",
       "      <td>1.073059</td>\n",
       "      <td>558.0</td>\n",
       "      <td>2.547945</td>\n",
       "      <td>37.85</td>\n",
       "      <td>-122.25</td>\n",
       "      <td>3.413</td>\n",
       "    </tr>\n",
       "    <tr>\n",
       "      <th>4</th>\n",
       "      <td>3.8462</td>\n",
       "      <td>52.0</td>\n",
       "      <td>6.281853</td>\n",
       "      <td>1.081081</td>\n",
       "      <td>565.0</td>\n",
       "      <td>2.181467</td>\n",
       "      <td>37.85</td>\n",
       "      <td>-122.25</td>\n",
       "      <td>3.422</td>\n",
       "    </tr>\n",
       "  </tbody>\n",
       "</table>\n",
       "</div>"
      ],
      "text/plain": [
       "   MedInc  HouseAge  AveRooms  AveBedrms  Population  AveOccup  Latitude  \\\n",
       "0  8.3252      41.0  6.984127   1.023810       322.0  2.555556     37.88   \n",
       "1  8.3014      21.0  6.238137   0.971880      2401.0  2.109842     37.86   \n",
       "2  7.2574      52.0  8.288136   1.073446       496.0  2.802260     37.85   \n",
       "3  5.6431      52.0  5.817352   1.073059       558.0  2.547945     37.85   \n",
       "4  3.8462      52.0  6.281853   1.081081       565.0  2.181467     37.85   \n",
       "\n",
       "   Longitude  target  \n",
       "0    -122.23   4.526  \n",
       "1    -122.22   3.585  \n",
       "2    -122.24   3.521  \n",
       "3    -122.25   3.413  \n",
       "4    -122.25   3.422  "
      ]
     },
     "execution_count": 62,
     "metadata": {},
     "output_type": "execute_result"
    }
   ],
   "source": [
    "housing_df[\"target\"] = housing[\"target\"]\n",
    "housing_df.head()"
   ]
  },
  {
   "cell_type": "code",
   "execution_count": 63,
   "id": "7880e924",
   "metadata": {
    "execution": {
     "iopub.execute_input": "2023-06-20T16:46:35.358887Z",
     "iopub.status.busy": "2023-06-20T16:46:35.358237Z",
     "iopub.status.idle": "2023-06-20T16:46:35.375918Z",
     "shell.execute_reply": "2023-06-20T16:46:35.375234Z"
    },
    "papermill": {
     "duration": 0.066448,
     "end_time": "2023-06-20T16:46:35.377826",
     "exception": false,
     "start_time": "2023-06-20T16:46:35.311378",
     "status": "completed"
    },
    "tags": []
   },
   "outputs": [
    {
     "data": {
      "text/html": [
       "<div>\n",
       "<style scoped>\n",
       "    .dataframe tbody tr th:only-of-type {\n",
       "        vertical-align: middle;\n",
       "    }\n",
       "\n",
       "    .dataframe tbody tr th {\n",
       "        vertical-align: top;\n",
       "    }\n",
       "\n",
       "    .dataframe thead th {\n",
       "        text-align: right;\n",
       "    }\n",
       "</style>\n",
       "<table border=\"1\" class=\"dataframe\">\n",
       "  <thead>\n",
       "    <tr style=\"text-align: right;\">\n",
       "      <th></th>\n",
       "      <th>MedInc</th>\n",
       "      <th>HouseAge</th>\n",
       "      <th>AveRooms</th>\n",
       "      <th>AveBedrms</th>\n",
       "      <th>Population</th>\n",
       "      <th>AveOccup</th>\n",
       "      <th>Latitude</th>\n",
       "      <th>Longitude</th>\n",
       "      <th>target</th>\n",
       "    </tr>\n",
       "  </thead>\n",
       "  <tbody>\n",
       "    <tr>\n",
       "      <th>0</th>\n",
       "      <td>8.3252</td>\n",
       "      <td>41.0</td>\n",
       "      <td>6.984127</td>\n",
       "      <td>1.023810</td>\n",
       "      <td>322.0</td>\n",
       "      <td>2.555556</td>\n",
       "      <td>37.88</td>\n",
       "      <td>-122.23</td>\n",
       "      <td>4.526</td>\n",
       "    </tr>\n",
       "    <tr>\n",
       "      <th>1</th>\n",
       "      <td>8.3014</td>\n",
       "      <td>21.0</td>\n",
       "      <td>6.238137</td>\n",
       "      <td>0.971880</td>\n",
       "      <td>2401.0</td>\n",
       "      <td>2.109842</td>\n",
       "      <td>37.86</td>\n",
       "      <td>-122.22</td>\n",
       "      <td>3.585</td>\n",
       "    </tr>\n",
       "    <tr>\n",
       "      <th>2</th>\n",
       "      <td>7.2574</td>\n",
       "      <td>52.0</td>\n",
       "      <td>8.288136</td>\n",
       "      <td>1.073446</td>\n",
       "      <td>496.0</td>\n",
       "      <td>2.802260</td>\n",
       "      <td>37.85</td>\n",
       "      <td>-122.24</td>\n",
       "      <td>3.521</td>\n",
       "    </tr>\n",
       "    <tr>\n",
       "      <th>3</th>\n",
       "      <td>5.6431</td>\n",
       "      <td>52.0</td>\n",
       "      <td>5.817352</td>\n",
       "      <td>1.073059</td>\n",
       "      <td>558.0</td>\n",
       "      <td>2.547945</td>\n",
       "      <td>37.85</td>\n",
       "      <td>-122.25</td>\n",
       "      <td>3.413</td>\n",
       "    </tr>\n",
       "    <tr>\n",
       "      <th>4</th>\n",
       "      <td>3.8462</td>\n",
       "      <td>52.0</td>\n",
       "      <td>6.281853</td>\n",
       "      <td>1.081081</td>\n",
       "      <td>565.0</td>\n",
       "      <td>2.181467</td>\n",
       "      <td>37.85</td>\n",
       "      <td>-122.25</td>\n",
       "      <td>3.422</td>\n",
       "    </tr>\n",
       "    <tr>\n",
       "      <th>...</th>\n",
       "      <td>...</td>\n",
       "      <td>...</td>\n",
       "      <td>...</td>\n",
       "      <td>...</td>\n",
       "      <td>...</td>\n",
       "      <td>...</td>\n",
       "      <td>...</td>\n",
       "      <td>...</td>\n",
       "      <td>...</td>\n",
       "    </tr>\n",
       "    <tr>\n",
       "      <th>20635</th>\n",
       "      <td>1.5603</td>\n",
       "      <td>25.0</td>\n",
       "      <td>5.045455</td>\n",
       "      <td>1.133333</td>\n",
       "      <td>845.0</td>\n",
       "      <td>2.560606</td>\n",
       "      <td>39.48</td>\n",
       "      <td>-121.09</td>\n",
       "      <td>0.781</td>\n",
       "    </tr>\n",
       "    <tr>\n",
       "      <th>20636</th>\n",
       "      <td>2.5568</td>\n",
       "      <td>18.0</td>\n",
       "      <td>6.114035</td>\n",
       "      <td>1.315789</td>\n",
       "      <td>356.0</td>\n",
       "      <td>3.122807</td>\n",
       "      <td>39.49</td>\n",
       "      <td>-121.21</td>\n",
       "      <td>0.771</td>\n",
       "    </tr>\n",
       "    <tr>\n",
       "      <th>20637</th>\n",
       "      <td>1.7000</td>\n",
       "      <td>17.0</td>\n",
       "      <td>5.205543</td>\n",
       "      <td>1.120092</td>\n",
       "      <td>1007.0</td>\n",
       "      <td>2.325635</td>\n",
       "      <td>39.43</td>\n",
       "      <td>-121.22</td>\n",
       "      <td>0.923</td>\n",
       "    </tr>\n",
       "    <tr>\n",
       "      <th>20638</th>\n",
       "      <td>1.8672</td>\n",
       "      <td>18.0</td>\n",
       "      <td>5.329513</td>\n",
       "      <td>1.171920</td>\n",
       "      <td>741.0</td>\n",
       "      <td>2.123209</td>\n",
       "      <td>39.43</td>\n",
       "      <td>-121.32</td>\n",
       "      <td>0.847</td>\n",
       "    </tr>\n",
       "    <tr>\n",
       "      <th>20639</th>\n",
       "      <td>2.3886</td>\n",
       "      <td>16.0</td>\n",
       "      <td>5.254717</td>\n",
       "      <td>1.162264</td>\n",
       "      <td>1387.0</td>\n",
       "      <td>2.616981</td>\n",
       "      <td>39.37</td>\n",
       "      <td>-121.24</td>\n",
       "      <td>0.894</td>\n",
       "    </tr>\n",
       "  </tbody>\n",
       "</table>\n",
       "<p>20640 rows × 9 columns</p>\n",
       "</div>"
      ],
      "text/plain": [
       "       MedInc  HouseAge  AveRooms  AveBedrms  Population  AveOccup  Latitude  \\\n",
       "0      8.3252      41.0  6.984127   1.023810       322.0  2.555556     37.88   \n",
       "1      8.3014      21.0  6.238137   0.971880      2401.0  2.109842     37.86   \n",
       "2      7.2574      52.0  8.288136   1.073446       496.0  2.802260     37.85   \n",
       "3      5.6431      52.0  5.817352   1.073059       558.0  2.547945     37.85   \n",
       "4      3.8462      52.0  6.281853   1.081081       565.0  2.181467     37.85   \n",
       "...       ...       ...       ...        ...         ...       ...       ...   \n",
       "20635  1.5603      25.0  5.045455   1.133333       845.0  2.560606     39.48   \n",
       "20636  2.5568      18.0  6.114035   1.315789       356.0  3.122807     39.49   \n",
       "20637  1.7000      17.0  5.205543   1.120092      1007.0  2.325635     39.43   \n",
       "20638  1.8672      18.0  5.329513   1.171920       741.0  2.123209     39.43   \n",
       "20639  2.3886      16.0  5.254717   1.162264      1387.0  2.616981     39.37   \n",
       "\n",
       "       Longitude  target  \n",
       "0        -122.23   4.526  \n",
       "1        -122.22   3.585  \n",
       "2        -122.24   3.521  \n",
       "3        -122.25   3.413  \n",
       "4        -122.25   3.422  \n",
       "...          ...     ...  \n",
       "20635    -121.09   0.781  \n",
       "20636    -121.21   0.771  \n",
       "20637    -121.22   0.923  \n",
       "20638    -121.32   0.847  \n",
       "20639    -121.24   0.894  \n",
       "\n",
       "[20640 rows x 9 columns]"
      ]
     },
     "execution_count": 63,
     "metadata": {},
     "output_type": "execute_result"
    }
   ],
   "source": [
    "#housing_df = housing_df.drop(\"MedHouseVal\", axis=1)\n",
    "housing_df"
   ]
  },
  {
   "cell_type": "code",
   "execution_count": 64,
   "id": "166fd66e",
   "metadata": {
    "execution": {
     "iopub.execute_input": "2023-06-20T16:46:35.470469Z",
     "iopub.status.busy": "2023-06-20T16:46:35.470106Z",
     "iopub.status.idle": "2023-06-20T16:46:35.483729Z",
     "shell.execute_reply": "2023-06-20T16:46:35.482594Z"
    },
    "papermill": {
     "duration": 0.061791,
     "end_time": "2023-06-20T16:46:35.485815",
     "exception": false,
     "start_time": "2023-06-20T16:46:35.424024",
     "status": "completed"
    },
    "tags": []
   },
   "outputs": [
    {
     "data": {
      "text/html": [
       "<div>\n",
       "<style scoped>\n",
       "    .dataframe tbody tr th:only-of-type {\n",
       "        vertical-align: middle;\n",
       "    }\n",
       "\n",
       "    .dataframe tbody tr th {\n",
       "        vertical-align: top;\n",
       "    }\n",
       "\n",
       "    .dataframe thead th {\n",
       "        text-align: right;\n",
       "    }\n",
       "</style>\n",
       "<table border=\"1\" class=\"dataframe\">\n",
       "  <thead>\n",
       "    <tr style=\"text-align: right;\">\n",
       "      <th></th>\n",
       "      <th>Make</th>\n",
       "      <th>Colour</th>\n",
       "      <th>Odometer (KM)</th>\n",
       "      <th>Doors</th>\n",
       "    </tr>\n",
       "  </thead>\n",
       "  <tbody>\n",
       "    <tr>\n",
       "      <th>0</th>\n",
       "      <td>Honda</td>\n",
       "      <td>White</td>\n",
       "      <td>35431.0</td>\n",
       "      <td>4.0</td>\n",
       "    </tr>\n",
       "    <tr>\n",
       "      <th>1</th>\n",
       "      <td>BMW</td>\n",
       "      <td>Blue</td>\n",
       "      <td>192714.0</td>\n",
       "      <td>5.0</td>\n",
       "    </tr>\n",
       "    <tr>\n",
       "      <th>2</th>\n",
       "      <td>Honda</td>\n",
       "      <td>White</td>\n",
       "      <td>84714.0</td>\n",
       "      <td>4.0</td>\n",
       "    </tr>\n",
       "    <tr>\n",
       "      <th>3</th>\n",
       "      <td>Toyota</td>\n",
       "      <td>White</td>\n",
       "      <td>154365.0</td>\n",
       "      <td>4.0</td>\n",
       "    </tr>\n",
       "    <tr>\n",
       "      <th>4</th>\n",
       "      <td>Nissan</td>\n",
       "      <td>Blue</td>\n",
       "      <td>181577.0</td>\n",
       "      <td>3.0</td>\n",
       "    </tr>\n",
       "    <tr>\n",
       "      <th>...</th>\n",
       "      <td>...</td>\n",
       "      <td>...</td>\n",
       "      <td>...</td>\n",
       "      <td>...</td>\n",
       "    </tr>\n",
       "    <tr>\n",
       "      <th>995</th>\n",
       "      <td>Toyota</td>\n",
       "      <td>Black</td>\n",
       "      <td>35820.0</td>\n",
       "      <td>4.0</td>\n",
       "    </tr>\n",
       "    <tr>\n",
       "      <th>996</th>\n",
       "      <td>NaN</td>\n",
       "      <td>White</td>\n",
       "      <td>155144.0</td>\n",
       "      <td>3.0</td>\n",
       "    </tr>\n",
       "    <tr>\n",
       "      <th>997</th>\n",
       "      <td>Nissan</td>\n",
       "      <td>Blue</td>\n",
       "      <td>66604.0</td>\n",
       "      <td>4.0</td>\n",
       "    </tr>\n",
       "    <tr>\n",
       "      <th>998</th>\n",
       "      <td>Honda</td>\n",
       "      <td>White</td>\n",
       "      <td>215883.0</td>\n",
       "      <td>4.0</td>\n",
       "    </tr>\n",
       "    <tr>\n",
       "      <th>999</th>\n",
       "      <td>Toyota</td>\n",
       "      <td>Blue</td>\n",
       "      <td>248360.0</td>\n",
       "      <td>4.0</td>\n",
       "    </tr>\n",
       "  </tbody>\n",
       "</table>\n",
       "<p>950 rows × 4 columns</p>\n",
       "</div>"
      ],
      "text/plain": [
       "       Make Colour  Odometer (KM)  Doors\n",
       "0     Honda  White        35431.0    4.0\n",
       "1       BMW   Blue       192714.0    5.0\n",
       "2     Honda  White        84714.0    4.0\n",
       "3    Toyota  White       154365.0    4.0\n",
       "4    Nissan   Blue       181577.0    3.0\n",
       "..      ...    ...            ...    ...\n",
       "995  Toyota  Black        35820.0    4.0\n",
       "996     NaN  White       155144.0    3.0\n",
       "997  Nissan   Blue        66604.0    4.0\n",
       "998   Honda  White       215883.0    4.0\n",
       "999  Toyota   Blue       248360.0    4.0\n",
       "\n",
       "[950 rows x 4 columns]"
      ]
     },
     "metadata": {},
     "output_type": "display_data"
    }
   ],
   "source": [
    "display(X)"
   ]
  },
  {
   "cell_type": "code",
   "execution_count": 65,
   "id": "0d3ebace",
   "metadata": {
    "execution": {
     "iopub.execute_input": "2023-06-20T16:46:35.579236Z",
     "iopub.status.busy": "2023-06-20T16:46:35.578525Z",
     "iopub.status.idle": "2023-06-20T16:46:35.615706Z",
     "shell.execute_reply": "2023-06-20T16:46:35.614166Z"
    },
    "papermill": {
     "duration": 0.087864,
     "end_time": "2023-06-20T16:46:35.619582",
     "exception": false,
     "start_time": "2023-06-20T16:46:35.531718",
     "status": "completed"
    },
    "tags": []
   },
   "outputs": [
    {
     "data": {
      "text/plain": [
       "0.5758549611440126"
      ]
     },
     "execution_count": 65,
     "metadata": {},
     "output_type": "execute_result"
    }
   ],
   "source": [
    "# Import algorithm/estimator\n",
    "from sklearn.linear_model import Ridge\n",
    "\n",
    "# Setup random seed\n",
    "np.random.seed(42)\n",
    "\n",
    "# Ceate the data\n",
    "X = housing_df.drop(\"target\", axis=1)\n",
    "y = housing_df[\"target\"] # median house price in $100,000s\n",
    "\n",
    "# Split into train and test sets\n",
    "X_train, X_test, y_train, y_test = train_test_split(X, y, test_size=0.2)\n",
    "\n",
    "# Instantiate and fit the model\n",
    "model = Ridge()\n",
    "model.fit(X_train, y_train)\n",
    "\n",
    "# Check the score of the model (on the test set)\n",
    "model.score(X_test, y_test)\n",
    "\n",
    "## two ways to try to imporve the accurancy score\n",
    "## 1. get more data\n",
    "## 2. experiment with a different model"
   ]
  },
  {
   "cell_type": "markdown",
   "id": "d156ea3d",
   "metadata": {
    "papermill": {
     "duration": 0.057842,
     "end_time": "2023-06-20T16:46:35.752024",
     "exception": false,
     "start_time": "2023-06-20T16:46:35.694182",
     "status": "completed"
    },
    "tags": []
   },
   "source": [
    "Let's try an ensemble model (an ensemble is combination of smaller models to predict \n",
    "than just a single model)?\n",
    "\n",
    "\n",
    "Sklearn references: \n",
    "- ensemble: https://scikit-learn.org/stable/modules/ensemble.html\n",
    "- toy datasets: https://scikit-learn.org/stable/datasets/toy_dataset.html"
   ]
  },
  {
   "cell_type": "code",
   "execution_count": 66,
   "id": "1728f778",
   "metadata": {
    "execution": {
     "iopub.execute_input": "2023-06-20T16:46:35.844471Z",
     "iopub.status.busy": "2023-06-20T16:46:35.844134Z",
     "iopub.status.idle": "2023-06-20T16:46:48.649622Z",
     "shell.execute_reply": "2023-06-20T16:46:48.648845Z"
    },
    "papermill": {
     "duration": 12.853539,
     "end_time": "2023-06-20T16:46:48.651767",
     "exception": false,
     "start_time": "2023-06-20T16:46:35.798228",
     "status": "completed"
    },
    "tags": []
   },
   "outputs": [
    {
     "data": {
      "text/plain": [
       "0.8066196804802649"
      ]
     },
     "execution_count": 66,
     "metadata": {},
     "output_type": "execute_result"
    }
   ],
   "source": [
    "# Import the RandomForestRegressor model class from the ensemble module\n",
    "from sklearn.ensemble import RandomForestRegressor\n",
    "\n",
    "# Setup the random seed\n",
    "np.random.seed(42)\n",
    "\n",
    "# Ceate the data\n",
    "X = housing_df.drop(\"target\", axis=1)\n",
    "y = housing_df[\"target\"] # median house price in $100,000s\n",
    "\n",
    "# Split into train and test sets\n",
    "X_train, X_test, y_train, y_test = train_test_split(X, y, test_size=0.2)\n",
    "\n",
    "# Create random forest model\n",
    "model = RandomForestRegressor()\n",
    "model.fit(X_train, y_train)\n",
    "\n",
    "# Check the score of the model (on the test set)\n",
    "model.score(X_test, y_test)"
   ]
  },
  {
   "cell_type": "markdown",
   "id": "bc7143ae",
   "metadata": {
    "papermill": {
     "duration": 0.045294,
     "end_time": "2023-06-20T16:46:48.742577",
     "exception": false,
     "start_time": "2023-06-20T16:46:48.697283",
     "status": "completed"
    },
    "tags": []
   },
   "source": [
    "## 2.2 Picking a machine learning model for a classification problem\n",
    "\n",
    "Sklearn decision map: https://scikit-learn.org/stable/tutorial/machine_learning_map/index.html"
   ]
  },
  {
   "cell_type": "code",
   "execution_count": 67,
   "id": "d274782f",
   "metadata": {
    "execution": {
     "iopub.execute_input": "2023-06-20T16:46:48.835563Z",
     "iopub.status.busy": "2023-06-20T16:46:48.834966Z",
     "iopub.status.idle": "2023-06-20T16:46:48.852153Z",
     "shell.execute_reply": "2023-06-20T16:46:48.851139Z"
    },
    "papermill": {
     "duration": 0.066011,
     "end_time": "2023-06-20T16:46:48.854186",
     "exception": false,
     "start_time": "2023-06-20T16:46:48.788175",
     "status": "completed"
    },
    "tags": []
   },
   "outputs": [
    {
     "data": {
      "text/html": [
       "<div>\n",
       "<style scoped>\n",
       "    .dataframe tbody tr th:only-of-type {\n",
       "        vertical-align: middle;\n",
       "    }\n",
       "\n",
       "    .dataframe tbody tr th {\n",
       "        vertical-align: top;\n",
       "    }\n",
       "\n",
       "    .dataframe thead th {\n",
       "        text-align: right;\n",
       "    }\n",
       "</style>\n",
       "<table border=\"1\" class=\"dataframe\">\n",
       "  <thead>\n",
       "    <tr style=\"text-align: right;\">\n",
       "      <th></th>\n",
       "      <th>age</th>\n",
       "      <th>sex</th>\n",
       "      <th>cp</th>\n",
       "      <th>trestbps</th>\n",
       "      <th>chol</th>\n",
       "      <th>fbs</th>\n",
       "      <th>restecg</th>\n",
       "      <th>thalach</th>\n",
       "      <th>exang</th>\n",
       "      <th>oldpeak</th>\n",
       "      <th>slope</th>\n",
       "      <th>ca</th>\n",
       "      <th>thal</th>\n",
       "      <th>target</th>\n",
       "    </tr>\n",
       "  </thead>\n",
       "  <tbody>\n",
       "    <tr>\n",
       "      <th>0</th>\n",
       "      <td>63</td>\n",
       "      <td>1</td>\n",
       "      <td>3</td>\n",
       "      <td>145</td>\n",
       "      <td>233</td>\n",
       "      <td>1</td>\n",
       "      <td>0</td>\n",
       "      <td>150</td>\n",
       "      <td>0</td>\n",
       "      <td>2.3</td>\n",
       "      <td>0</td>\n",
       "      <td>0</td>\n",
       "      <td>1</td>\n",
       "      <td>1</td>\n",
       "    </tr>\n",
       "    <tr>\n",
       "      <th>1</th>\n",
       "      <td>37</td>\n",
       "      <td>1</td>\n",
       "      <td>2</td>\n",
       "      <td>130</td>\n",
       "      <td>250</td>\n",
       "      <td>0</td>\n",
       "      <td>1</td>\n",
       "      <td>187</td>\n",
       "      <td>0</td>\n",
       "      <td>3.5</td>\n",
       "      <td>0</td>\n",
       "      <td>0</td>\n",
       "      <td>2</td>\n",
       "      <td>1</td>\n",
       "    </tr>\n",
       "    <tr>\n",
       "      <th>2</th>\n",
       "      <td>41</td>\n",
       "      <td>0</td>\n",
       "      <td>1</td>\n",
       "      <td>130</td>\n",
       "      <td>204</td>\n",
       "      <td>0</td>\n",
       "      <td>0</td>\n",
       "      <td>172</td>\n",
       "      <td>0</td>\n",
       "      <td>1.4</td>\n",
       "      <td>2</td>\n",
       "      <td>0</td>\n",
       "      <td>2</td>\n",
       "      <td>1</td>\n",
       "    </tr>\n",
       "    <tr>\n",
       "      <th>3</th>\n",
       "      <td>56</td>\n",
       "      <td>1</td>\n",
       "      <td>1</td>\n",
       "      <td>120</td>\n",
       "      <td>236</td>\n",
       "      <td>0</td>\n",
       "      <td>1</td>\n",
       "      <td>178</td>\n",
       "      <td>0</td>\n",
       "      <td>0.8</td>\n",
       "      <td>2</td>\n",
       "      <td>0</td>\n",
       "      <td>2</td>\n",
       "      <td>1</td>\n",
       "    </tr>\n",
       "    <tr>\n",
       "      <th>4</th>\n",
       "      <td>57</td>\n",
       "      <td>0</td>\n",
       "      <td>0</td>\n",
       "      <td>120</td>\n",
       "      <td>354</td>\n",
       "      <td>0</td>\n",
       "      <td>1</td>\n",
       "      <td>163</td>\n",
       "      <td>1</td>\n",
       "      <td>0.6</td>\n",
       "      <td>2</td>\n",
       "      <td>0</td>\n",
       "      <td>2</td>\n",
       "      <td>1</td>\n",
       "    </tr>\n",
       "  </tbody>\n",
       "</table>\n",
       "</div>"
      ],
      "text/plain": [
       "   age  sex  cp  trestbps  chol  fbs  restecg  thalach  exang  oldpeak  slope  \\\n",
       "0   63    1   3       145   233    1        0      150      0      2.3      0   \n",
       "1   37    1   2       130   250    0        1      187      0      3.5      0   \n",
       "2   41    0   1       130   204    0        0      172      0      1.4      2   \n",
       "3   56    1   1       120   236    0        1      178      0      0.8      2   \n",
       "4   57    0   0       120   354    0        1      163      1      0.6      2   \n",
       "\n",
       "   ca  thal  target  \n",
       "0   0     1       1  \n",
       "1   0     2       1  \n",
       "2   0     2       1  \n",
       "3   0     2       1  \n",
       "4   0     2       1  "
      ]
     },
     "execution_count": 67,
     "metadata": {},
     "output_type": "execute_result"
    }
   ],
   "source": [
    "heart_disease = pd.read_csv(\"/kaggle/input/ml-course-data/mlcoursedata/heart-disease.csv\")\n",
    "heart_disease.head()"
   ]
  },
  {
   "cell_type": "code",
   "execution_count": 68,
   "id": "62f3e4de",
   "metadata": {
    "execution": {
     "iopub.execute_input": "2023-06-20T16:46:48.951704Z",
     "iopub.status.busy": "2023-06-20T16:46:48.951111Z",
     "iopub.status.idle": "2023-06-20T16:46:48.957330Z",
     "shell.execute_reply": "2023-06-20T16:46:48.956377Z"
    },
    "papermill": {
     "duration": 0.055878,
     "end_time": "2023-06-20T16:46:48.959408",
     "exception": false,
     "start_time": "2023-06-20T16:46:48.903530",
     "status": "completed"
    },
    "tags": []
   },
   "outputs": [
    {
     "data": {
      "text/plain": [
       "303"
      ]
     },
     "execution_count": 68,
     "metadata": {},
     "output_type": "execute_result"
    }
   ],
   "source": [
    "len(heart_disease)"
   ]
  },
  {
   "cell_type": "markdown",
   "id": "f0056254",
   "metadata": {
    "papermill": {
     "duration": 0.053343,
     "end_time": "2023-06-20T16:46:49.068451",
     "exception": false,
     "start_time": "2023-06-20T16:46:49.015108",
     "status": "completed"
    },
    "tags": []
   },
   "source": [
    "Consulting the map and it says to try `LinearSVC`"
   ]
  },
  {
   "cell_type": "code",
   "execution_count": 69,
   "id": "fda0658f",
   "metadata": {
    "execution": {
     "iopub.execute_input": "2023-06-20T16:46:49.161890Z",
     "iopub.status.busy": "2023-06-20T16:46:49.161543Z",
     "iopub.status.idle": "2023-06-20T16:46:49.311317Z",
     "shell.execute_reply": "2023-06-20T16:46:49.310231Z"
    },
    "papermill": {
     "duration": 0.198905,
     "end_time": "2023-06-20T16:46:49.313488",
     "exception": false,
     "start_time": "2023-06-20T16:46:49.114583",
     "status": "completed"
    },
    "tags": []
   },
   "outputs": [
    {
     "name": "stderr",
     "output_type": "stream",
     "text": [
      "/opt/conda/lib/python3.10/site-packages/sklearn/svm/_base.py:1244: ConvergenceWarning: Liblinear failed to converge, increase the number of iterations.\n",
      "  warnings.warn(\n"
     ]
    },
    {
     "data": {
      "text/plain": [
       "0.8688524590163934"
      ]
     },
     "execution_count": 69,
     "metadata": {},
     "output_type": "execute_result"
    }
   ],
   "source": [
    "# Import the LienarSVC estimator class\n",
    "from sklearn.svm import LinearSVC\n",
    "\n",
    "# Setup random seed\n",
    "np.random.seed(42)\n",
    "\n",
    "# Make the data\n",
    "X = heart_disease.drop(\"target\", axis=1)\n",
    "y = heart_disease[\"target\"]\n",
    "\n",
    "# Split the data\n",
    "X_train, X_test, y_train, y_test = train_test_split(X, y, test_size=0.2)\n",
    "\n",
    "# Instantiate LinearSVC\n",
    "clf = LinearSVC(max_iter=10000)\n",
    "clf.fit(X_train, y_train)\n",
    "\n",
    "# Evaluate the LinearSVC\n",
    "clf.score(X_test, y_test)"
   ]
  },
  {
   "cell_type": "code",
   "execution_count": 70,
   "id": "ef6b1d7e",
   "metadata": {
    "execution": {
     "iopub.execute_input": "2023-06-20T16:46:49.407822Z",
     "iopub.status.busy": "2023-06-20T16:46:49.407431Z",
     "iopub.status.idle": "2023-06-20T16:46:49.611211Z",
     "shell.execute_reply": "2023-06-20T16:46:49.609964Z"
    },
    "papermill": {
     "duration": 0.253814,
     "end_time": "2023-06-20T16:46:49.613489",
     "exception": false,
     "start_time": "2023-06-20T16:46:49.359675",
     "status": "completed"
    },
    "tags": []
   },
   "outputs": [
    {
     "data": {
      "text/plain": [
       "0.8524590163934426"
      ]
     },
     "execution_count": 70,
     "metadata": {},
     "output_type": "execute_result"
    }
   ],
   "source": [
    "# Import the RandomForestClassifier estimator class\n",
    "from sklearn.ensemble import RandomForestClassifier\n",
    "\n",
    "# Setup random seed\n",
    "np.random.seed(42)\n",
    "\n",
    "# Make the data\n",
    "X = heart_disease.drop(\"target\", axis=1)\n",
    "y = heart_disease[\"target\"]\n",
    "\n",
    "# Split the data\n",
    "X_train, X_test, y_train, y_test = train_test_split(X, y, test_size=0.2)\n",
    "\n",
    "# Instantiate LinearSVC\n",
    "clf = RandomForestClassifier()\n",
    "clf.fit(X_train, y_train)\n",
    "\n",
    "# Evaluate the LinearSVC\n",
    "clf.score(X_test, y_test)"
   ]
  },
  {
   "cell_type": "markdown",
   "id": "1169eeac",
   "metadata": {
    "papermill": {
     "duration": 0.045765,
     "end_time": "2023-06-20T16:46:49.705642",
     "exception": false,
     "start_time": "2023-06-20T16:46:49.659877",
     "status": "completed"
    },
    "tags": []
   },
   "source": [
    "Tidbit:\n",
    "\n",
    "    1. If you have structured data, used ensemble methods\n",
    "    2. If you have unstrctured data, use deep learning or transfer learning"
   ]
  },
  {
   "cell_type": "markdown",
   "id": "6fa3ccaa",
   "metadata": {
    "papermill": {
     "duration": 0.04598,
     "end_time": "2023-06-20T16:46:49.797520",
     "exception": false,
     "start_time": "2023-06-20T16:46:49.751540",
     "status": "completed"
    },
    "tags": []
   },
   "source": [
    "## 3. Fit the model/algorithm on our data and use it to make predictions\n",
    "\n",
    "### 3.1 Fitting the model to the data\n",
    "\n",
    "Different names for:\n",
    "* `X` = features, features variables, data\n",
    "* `y` = labels, targets, target variables"
   ]
  },
  {
   "cell_type": "code",
   "execution_count": 71,
   "id": "28a17b4a",
   "metadata": {
    "execution": {
     "iopub.execute_input": "2023-06-20T16:46:49.891561Z",
     "iopub.status.busy": "2023-06-20T16:46:49.891175Z",
     "iopub.status.idle": "2023-06-20T16:46:50.092553Z",
     "shell.execute_reply": "2023-06-20T16:46:50.091466Z"
    },
    "papermill": {
     "duration": 0.251273,
     "end_time": "2023-06-20T16:46:50.094760",
     "exception": false,
     "start_time": "2023-06-20T16:46:49.843487",
     "status": "completed"
    },
    "tags": []
   },
   "outputs": [
    {
     "data": {
      "text/plain": [
       "0.8524590163934426"
      ]
     },
     "execution_count": 71,
     "metadata": {},
     "output_type": "execute_result"
    }
   ],
   "source": [
    "# Import the RandomForestClassifier estimator class\n",
    "from sklearn.ensemble import RandomForestClassifier\n",
    "\n",
    "# Setup random seed\n",
    "np.random.seed(42)\n",
    "\n",
    "# Make the data\n",
    "X = heart_disease.drop(\"target\", axis=1)\n",
    "y = heart_disease[\"target\"]\n",
    "\n",
    "# Split the data\n",
    "X_train, X_test, y_train, y_test = train_test_split(X, y, test_size=0.2)\n",
    "\n",
    "# Instantiate LinearSVC\n",
    "clf = RandomForestClassifier()\n",
    "\n",
    "# Fit the model to the data (training the machine learning model)\n",
    "clf.fit(X_train, y_train)\n",
    "\n",
    "# Evaluate the LinearSVC (use the patterns the model has learned)\n",
    "clf.score(X_test, y_test)"
   ]
  },
  {
   "cell_type": "code",
   "execution_count": 72,
   "id": "366fcda1",
   "metadata": {
    "execution": {
     "iopub.execute_input": "2023-06-20T16:46:50.189872Z",
     "iopub.status.busy": "2023-06-20T16:46:50.189137Z",
     "iopub.status.idle": "2023-06-20T16:46:50.203219Z",
     "shell.execute_reply": "2023-06-20T16:46:50.202025Z"
    },
    "papermill": {
     "duration": 0.064234,
     "end_time": "2023-06-20T16:46:50.205502",
     "exception": false,
     "start_time": "2023-06-20T16:46:50.141268",
     "status": "completed"
    },
    "tags": []
   },
   "outputs": [
    {
     "data": {
      "text/html": [
       "<div>\n",
       "<style scoped>\n",
       "    .dataframe tbody tr th:only-of-type {\n",
       "        vertical-align: middle;\n",
       "    }\n",
       "\n",
       "    .dataframe tbody tr th {\n",
       "        vertical-align: top;\n",
       "    }\n",
       "\n",
       "    .dataframe thead th {\n",
       "        text-align: right;\n",
       "    }\n",
       "</style>\n",
       "<table border=\"1\" class=\"dataframe\">\n",
       "  <thead>\n",
       "    <tr style=\"text-align: right;\">\n",
       "      <th></th>\n",
       "      <th>age</th>\n",
       "      <th>sex</th>\n",
       "      <th>cp</th>\n",
       "      <th>trestbps</th>\n",
       "      <th>chol</th>\n",
       "      <th>fbs</th>\n",
       "      <th>restecg</th>\n",
       "      <th>thalach</th>\n",
       "      <th>exang</th>\n",
       "      <th>oldpeak</th>\n",
       "      <th>slope</th>\n",
       "      <th>ca</th>\n",
       "      <th>thal</th>\n",
       "    </tr>\n",
       "  </thead>\n",
       "  <tbody>\n",
       "    <tr>\n",
       "      <th>0</th>\n",
       "      <td>63</td>\n",
       "      <td>1</td>\n",
       "      <td>3</td>\n",
       "      <td>145</td>\n",
       "      <td>233</td>\n",
       "      <td>1</td>\n",
       "      <td>0</td>\n",
       "      <td>150</td>\n",
       "      <td>0</td>\n",
       "      <td>2.3</td>\n",
       "      <td>0</td>\n",
       "      <td>0</td>\n",
       "      <td>1</td>\n",
       "    </tr>\n",
       "    <tr>\n",
       "      <th>1</th>\n",
       "      <td>37</td>\n",
       "      <td>1</td>\n",
       "      <td>2</td>\n",
       "      <td>130</td>\n",
       "      <td>250</td>\n",
       "      <td>0</td>\n",
       "      <td>1</td>\n",
       "      <td>187</td>\n",
       "      <td>0</td>\n",
       "      <td>3.5</td>\n",
       "      <td>0</td>\n",
       "      <td>0</td>\n",
       "      <td>2</td>\n",
       "    </tr>\n",
       "    <tr>\n",
       "      <th>2</th>\n",
       "      <td>41</td>\n",
       "      <td>0</td>\n",
       "      <td>1</td>\n",
       "      <td>130</td>\n",
       "      <td>204</td>\n",
       "      <td>0</td>\n",
       "      <td>0</td>\n",
       "      <td>172</td>\n",
       "      <td>0</td>\n",
       "      <td>1.4</td>\n",
       "      <td>2</td>\n",
       "      <td>0</td>\n",
       "      <td>2</td>\n",
       "    </tr>\n",
       "    <tr>\n",
       "      <th>3</th>\n",
       "      <td>56</td>\n",
       "      <td>1</td>\n",
       "      <td>1</td>\n",
       "      <td>120</td>\n",
       "      <td>236</td>\n",
       "      <td>0</td>\n",
       "      <td>1</td>\n",
       "      <td>178</td>\n",
       "      <td>0</td>\n",
       "      <td>0.8</td>\n",
       "      <td>2</td>\n",
       "      <td>0</td>\n",
       "      <td>2</td>\n",
       "    </tr>\n",
       "    <tr>\n",
       "      <th>4</th>\n",
       "      <td>57</td>\n",
       "      <td>0</td>\n",
       "      <td>0</td>\n",
       "      <td>120</td>\n",
       "      <td>354</td>\n",
       "      <td>0</td>\n",
       "      <td>1</td>\n",
       "      <td>163</td>\n",
       "      <td>1</td>\n",
       "      <td>0.6</td>\n",
       "      <td>2</td>\n",
       "      <td>0</td>\n",
       "      <td>2</td>\n",
       "    </tr>\n",
       "  </tbody>\n",
       "</table>\n",
       "</div>"
      ],
      "text/plain": [
       "   age  sex  cp  trestbps  chol  fbs  restecg  thalach  exang  oldpeak  slope  \\\n",
       "0   63    1   3       145   233    1        0      150      0      2.3      0   \n",
       "1   37    1   2       130   250    0        1      187      0      3.5      0   \n",
       "2   41    0   1       130   204    0        0      172      0      1.4      2   \n",
       "3   56    1   1       120   236    0        1      178      0      0.8      2   \n",
       "4   57    0   0       120   354    0        1      163      1      0.6      2   \n",
       "\n",
       "   ca  thal  \n",
       "0   0     1  \n",
       "1   0     2  \n",
       "2   0     2  \n",
       "3   0     2  \n",
       "4   0     2  "
      ]
     },
     "execution_count": 72,
     "metadata": {},
     "output_type": "execute_result"
    }
   ],
   "source": [
    "X.head()"
   ]
  },
  {
   "cell_type": "code",
   "execution_count": 73,
   "id": "6476157a",
   "metadata": {
    "execution": {
     "iopub.execute_input": "2023-06-20T16:46:50.300471Z",
     "iopub.status.busy": "2023-06-20T16:46:50.300062Z",
     "iopub.status.idle": "2023-06-20T16:46:50.306838Z",
     "shell.execute_reply": "2023-06-20T16:46:50.305820Z"
    },
    "papermill": {
     "duration": 0.057108,
     "end_time": "2023-06-20T16:46:50.309258",
     "exception": false,
     "start_time": "2023-06-20T16:46:50.252150",
     "status": "completed"
    },
    "tags": []
   },
   "outputs": [
    {
     "data": {
      "text/plain": [
       "298    0\n",
       "299    0\n",
       "300    0\n",
       "301    0\n",
       "302    0\n",
       "Name: target, dtype: int64"
      ]
     },
     "execution_count": 73,
     "metadata": {},
     "output_type": "execute_result"
    }
   ],
   "source": [
    "y.tail()"
   ]
  },
  {
   "cell_type": "markdown",
   "id": "65306fee",
   "metadata": {
    "papermill": {
     "duration": 0.046554,
     "end_time": "2023-06-20T16:46:50.403425",
     "exception": false,
     "start_time": "2023-06-20T16:46:50.356871",
     "status": "completed"
    },
    "tags": []
   },
   "source": [
    "### 3.2 Make predictions using a machine learning model\n",
    "\n",
    "2 ways to make predictions:\n",
    "1. `predict()`: will give you a single label for each sample\n",
    "2. `predict_proba()`: returns the probabilities of a classification label"
   ]
  },
  {
   "cell_type": "code",
   "execution_count": 74,
   "id": "3565b271",
   "metadata": {
    "execution": {
     "iopub.execute_input": "2023-06-20T16:46:50.501021Z",
     "iopub.status.busy": "2023-06-20T16:46:50.500639Z",
     "iopub.status.idle": "2023-06-20T16:46:50.504653Z",
     "shell.execute_reply": "2023-06-20T16:46:50.503769Z"
    },
    "papermill": {
     "duration": 0.055134,
     "end_time": "2023-06-20T16:46:50.506859",
     "exception": false,
     "start_time": "2023-06-20T16:46:50.451725",
     "status": "completed"
    },
    "tags": []
   },
   "outputs": [],
   "source": [
    "# Use a trained model to make predictions\n",
    "# clf.predict(np.array([1, 7, 5, 1, 6, 8]))  // this won't work"
   ]
  },
  {
   "cell_type": "code",
   "execution_count": 75,
   "id": "1660fdb8",
   "metadata": {
    "execution": {
     "iopub.execute_input": "2023-06-20T16:46:50.603340Z",
     "iopub.status.busy": "2023-06-20T16:46:50.602942Z",
     "iopub.status.idle": "2023-06-20T16:46:50.617662Z",
     "shell.execute_reply": "2023-06-20T16:46:50.616587Z"
    },
    "papermill": {
     "duration": 0.065918,
     "end_time": "2023-06-20T16:46:50.619899",
     "exception": false,
     "start_time": "2023-06-20T16:46:50.553981",
     "status": "completed"
    },
    "tags": []
   },
   "outputs": [
    {
     "data": {
      "text/html": [
       "<div>\n",
       "<style scoped>\n",
       "    .dataframe tbody tr th:only-of-type {\n",
       "        vertical-align: middle;\n",
       "    }\n",
       "\n",
       "    .dataframe tbody tr th {\n",
       "        vertical-align: top;\n",
       "    }\n",
       "\n",
       "    .dataframe thead th {\n",
       "        text-align: right;\n",
       "    }\n",
       "</style>\n",
       "<table border=\"1\" class=\"dataframe\">\n",
       "  <thead>\n",
       "    <tr style=\"text-align: right;\">\n",
       "      <th></th>\n",
       "      <th>age</th>\n",
       "      <th>sex</th>\n",
       "      <th>cp</th>\n",
       "      <th>trestbps</th>\n",
       "      <th>chol</th>\n",
       "      <th>fbs</th>\n",
       "      <th>restecg</th>\n",
       "      <th>thalach</th>\n",
       "      <th>exang</th>\n",
       "      <th>oldpeak</th>\n",
       "      <th>slope</th>\n",
       "      <th>ca</th>\n",
       "      <th>thal</th>\n",
       "    </tr>\n",
       "  </thead>\n",
       "  <tbody>\n",
       "    <tr>\n",
       "      <th>179</th>\n",
       "      <td>57</td>\n",
       "      <td>1</td>\n",
       "      <td>0</td>\n",
       "      <td>150</td>\n",
       "      <td>276</td>\n",
       "      <td>0</td>\n",
       "      <td>0</td>\n",
       "      <td>112</td>\n",
       "      <td>1</td>\n",
       "      <td>0.6</td>\n",
       "      <td>1</td>\n",
       "      <td>1</td>\n",
       "      <td>1</td>\n",
       "    </tr>\n",
       "    <tr>\n",
       "      <th>228</th>\n",
       "      <td>59</td>\n",
       "      <td>1</td>\n",
       "      <td>3</td>\n",
       "      <td>170</td>\n",
       "      <td>288</td>\n",
       "      <td>0</td>\n",
       "      <td>0</td>\n",
       "      <td>159</td>\n",
       "      <td>0</td>\n",
       "      <td>0.2</td>\n",
       "      <td>1</td>\n",
       "      <td>0</td>\n",
       "      <td>3</td>\n",
       "    </tr>\n",
       "    <tr>\n",
       "      <th>111</th>\n",
       "      <td>57</td>\n",
       "      <td>1</td>\n",
       "      <td>2</td>\n",
       "      <td>150</td>\n",
       "      <td>126</td>\n",
       "      <td>1</td>\n",
       "      <td>1</td>\n",
       "      <td>173</td>\n",
       "      <td>0</td>\n",
       "      <td>0.2</td>\n",
       "      <td>2</td>\n",
       "      <td>1</td>\n",
       "      <td>3</td>\n",
       "    </tr>\n",
       "    <tr>\n",
       "      <th>246</th>\n",
       "      <td>56</td>\n",
       "      <td>0</td>\n",
       "      <td>0</td>\n",
       "      <td>134</td>\n",
       "      <td>409</td>\n",
       "      <td>0</td>\n",
       "      <td>0</td>\n",
       "      <td>150</td>\n",
       "      <td>1</td>\n",
       "      <td>1.9</td>\n",
       "      <td>1</td>\n",
       "      <td>2</td>\n",
       "      <td>3</td>\n",
       "    </tr>\n",
       "    <tr>\n",
       "      <th>60</th>\n",
       "      <td>71</td>\n",
       "      <td>0</td>\n",
       "      <td>2</td>\n",
       "      <td>110</td>\n",
       "      <td>265</td>\n",
       "      <td>1</td>\n",
       "      <td>0</td>\n",
       "      <td>130</td>\n",
       "      <td>0</td>\n",
       "      <td>0.0</td>\n",
       "      <td>2</td>\n",
       "      <td>1</td>\n",
       "      <td>2</td>\n",
       "    </tr>\n",
       "  </tbody>\n",
       "</table>\n",
       "</div>"
      ],
      "text/plain": [
       "     age  sex  cp  trestbps  chol  fbs  restecg  thalach  exang  oldpeak  \\\n",
       "179   57    1   0       150   276    0        0      112      1      0.6   \n",
       "228   59    1   3       170   288    0        0      159      0      0.2   \n",
       "111   57    1   2       150   126    1        1      173      0      0.2   \n",
       "246   56    0   0       134   409    0        0      150      1      1.9   \n",
       "60    71    0   2       110   265    1        0      130      0      0.0   \n",
       "\n",
       "     slope  ca  thal  \n",
       "179      1   1     1  \n",
       "228      1   0     3  \n",
       "111      2   1     3  \n",
       "246      1   2     3  \n",
       "60       2   1     2  "
      ]
     },
     "execution_count": 75,
     "metadata": {},
     "output_type": "execute_result"
    }
   ],
   "source": [
    "X_test.head()"
   ]
  },
  {
   "cell_type": "code",
   "execution_count": 76,
   "id": "0a2b83d5",
   "metadata": {
    "execution": {
     "iopub.execute_input": "2023-06-20T16:46:50.716490Z",
     "iopub.status.busy": "2023-06-20T16:46:50.715439Z",
     "iopub.status.idle": "2023-06-20T16:46:50.736657Z",
     "shell.execute_reply": "2023-06-20T16:46:50.735937Z"
    },
    "papermill": {
     "duration": 0.071693,
     "end_time": "2023-06-20T16:46:50.738920",
     "exception": false,
     "start_time": "2023-06-20T16:46:50.667227",
     "status": "completed"
    },
    "tags": []
   },
   "outputs": [
    {
     "data": {
      "text/plain": [
       "array([0, 1, 1, 0, 1, 1, 1, 0, 0, 1, 1, 0, 1, 0, 1, 1, 1, 0, 0, 0, 0, 0,\n",
       "       1, 1, 1, 1, 1, 1, 0, 1, 0, 0, 0, 0, 1, 0, 1, 1, 1, 1, 1, 1, 1, 1,\n",
       "       1, 0, 1, 1, 0, 0, 0, 0, 1, 1, 0, 0, 0, 1, 0, 0, 0])"
      ]
     },
     "execution_count": 76,
     "metadata": {},
     "output_type": "execute_result"
    }
   ],
   "source": [
    "clf.predict(X_test)"
   ]
  },
  {
   "cell_type": "code",
   "execution_count": 77,
   "id": "97c2e286",
   "metadata": {
    "execution": {
     "iopub.execute_input": "2023-06-20T16:46:50.836753Z",
     "iopub.status.busy": "2023-06-20T16:46:50.835687Z",
     "iopub.status.idle": "2023-06-20T16:46:50.841932Z",
     "shell.execute_reply": "2023-06-20T16:46:50.841176Z"
    },
    "papermill": {
     "duration": 0.057578,
     "end_time": "2023-06-20T16:46:50.843922",
     "exception": false,
     "start_time": "2023-06-20T16:46:50.786344",
     "status": "completed"
    },
    "tags": []
   },
   "outputs": [
    {
     "data": {
      "text/plain": [
       "array([0, 0, 1, 0, 1, 1, 1, 0, 0, 1, 1, 1, 1, 0, 1, 1, 1, 0, 0, 0, 1, 0,\n",
       "       0, 1, 1, 0, 0, 1, 0, 1, 1, 0, 0, 1, 1, 0, 1, 1, 1, 1, 1, 1, 1, 1,\n",
       "       1, 0, 0, 1, 0, 0, 0, 0, 1, 1, 0, 0, 0, 1, 0, 0, 0])"
      ]
     },
     "execution_count": 77,
     "metadata": {},
     "output_type": "execute_result"
    }
   ],
   "source": [
    "np.array(y_test)"
   ]
  },
  {
   "cell_type": "code",
   "execution_count": 78,
   "id": "d0af23a6",
   "metadata": {
    "execution": {
     "iopub.execute_input": "2023-06-20T16:46:50.943325Z",
     "iopub.status.busy": "2023-06-20T16:46:50.942920Z",
     "iopub.status.idle": "2023-06-20T16:46:50.962667Z",
     "shell.execute_reply": "2023-06-20T16:46:50.961634Z"
    },
    "papermill": {
     "duration": 0.072861,
     "end_time": "2023-06-20T16:46:50.964837",
     "exception": false,
     "start_time": "2023-06-20T16:46:50.891976",
     "status": "completed"
    },
    "tags": []
   },
   "outputs": [
    {
     "data": {
      "text/plain": [
       "0.8524590163934426"
      ]
     },
     "execution_count": 78,
     "metadata": {},
     "output_type": "execute_result"
    }
   ],
   "source": [
    "# Compare prediction to truth labels to evaluate the model\n",
    "y_preds = clf.predict(X_test)\n",
    "np.mean(y_preds == y_test)"
   ]
  },
  {
   "cell_type": "code",
   "execution_count": 79,
   "id": "2f11cfd3",
   "metadata": {
    "execution": {
     "iopub.execute_input": "2023-06-20T16:46:51.122276Z",
     "iopub.status.busy": "2023-06-20T16:46:51.120976Z",
     "iopub.status.idle": "2023-06-20T16:46:51.142423Z",
     "shell.execute_reply": "2023-06-20T16:46:51.141165Z"
    },
    "papermill": {
     "duration": 0.072576,
     "end_time": "2023-06-20T16:46:51.144914",
     "exception": false,
     "start_time": "2023-06-20T16:46:51.072338",
     "status": "completed"
    },
    "tags": []
   },
   "outputs": [
    {
     "data": {
      "text/plain": [
       "0.8524590163934426"
      ]
     },
     "execution_count": 79,
     "metadata": {},
     "output_type": "execute_result"
    }
   ],
   "source": [
    "clf.score(X_test, y_test)"
   ]
  },
  {
   "cell_type": "code",
   "execution_count": 80,
   "id": "297eb2da",
   "metadata": {
    "execution": {
     "iopub.execute_input": "2023-06-20T16:46:51.242902Z",
     "iopub.status.busy": "2023-06-20T16:46:51.242535Z",
     "iopub.status.idle": "2023-06-20T16:46:51.249962Z",
     "shell.execute_reply": "2023-06-20T16:46:51.249028Z"
    },
    "papermill": {
     "duration": 0.059087,
     "end_time": "2023-06-20T16:46:51.252098",
     "exception": false,
     "start_time": "2023-06-20T16:46:51.193011",
     "status": "completed"
    },
    "tags": []
   },
   "outputs": [
    {
     "data": {
      "text/plain": [
       "0.8524590163934426"
      ]
     },
     "execution_count": 80,
     "metadata": {},
     "output_type": "execute_result"
    }
   ],
   "source": [
    "from sklearn.metrics import accuracy_score\n",
    "accuracy_score(y_test, y_preds)"
   ]
  },
  {
   "cell_type": "markdown",
   "id": "24151344",
   "metadata": {
    "papermill": {
     "duration": 0.048862,
     "end_time": "2023-06-20T16:46:51.348888",
     "exception": false,
     "start_time": "2023-06-20T16:46:51.300026",
     "status": "completed"
    },
    "tags": []
   },
   "source": [
    "Make prediction with `predict_proba()`"
   ]
  },
  {
   "cell_type": "code",
   "execution_count": 81,
   "id": "b778785a",
   "metadata": {
    "execution": {
     "iopub.execute_input": "2023-06-20T16:46:51.448818Z",
     "iopub.status.busy": "2023-06-20T16:46:51.447838Z",
     "iopub.status.idle": "2023-06-20T16:46:51.467221Z",
     "shell.execute_reply": "2023-06-20T16:46:51.466161Z"
    },
    "papermill": {
     "duration": 0.07278,
     "end_time": "2023-06-20T16:46:51.469351",
     "exception": false,
     "start_time": "2023-06-20T16:46:51.396571",
     "status": "completed"
    },
    "tags": []
   },
   "outputs": [
    {
     "data": {
      "text/plain": [
       "array([[0.89, 0.11],\n",
       "       [0.49, 0.51],\n",
       "       [0.43, 0.57],\n",
       "       [0.84, 0.16],\n",
       "       [0.18, 0.82]])"
      ]
     },
     "execution_count": 81,
     "metadata": {},
     "output_type": "execute_result"
    }
   ],
   "source": [
    "# predict_proba() returns probabilities of a classification label\n",
    "clf.predict_proba(X_test[:5])"
   ]
  },
  {
   "cell_type": "code",
   "execution_count": 82,
   "id": "9feb12c4",
   "metadata": {
    "execution": {
     "iopub.execute_input": "2023-06-20T16:46:51.568419Z",
     "iopub.status.busy": "2023-06-20T16:46:51.568007Z",
     "iopub.status.idle": "2023-06-20T16:46:51.588955Z",
     "shell.execute_reply": "2023-06-20T16:46:51.587905Z"
    },
    "papermill": {
     "duration": 0.07342,
     "end_time": "2023-06-20T16:46:51.591286",
     "exception": false,
     "start_time": "2023-06-20T16:46:51.517866",
     "status": "completed"
    },
    "tags": []
   },
   "outputs": [
    {
     "data": {
      "text/plain": [
       "array([0, 1, 1, 0, 1])"
      ]
     },
     "execution_count": 82,
     "metadata": {},
     "output_type": "execute_result"
    }
   ],
   "source": [
    "# Let's predict() on the same data...\n",
    "clf.predict(X_test[:5])"
   ]
  },
  {
   "cell_type": "code",
   "execution_count": 83,
   "id": "7a14f97c",
   "metadata": {
    "execution": {
     "iopub.execute_input": "2023-06-20T16:46:51.689330Z",
     "iopub.status.busy": "2023-06-20T16:46:51.688942Z",
     "iopub.status.idle": "2023-06-20T16:46:51.703296Z",
     "shell.execute_reply": "2023-06-20T16:46:51.702180Z"
    },
    "papermill": {
     "duration": 0.066108,
     "end_time": "2023-06-20T16:46:51.705797",
     "exception": false,
     "start_time": "2023-06-20T16:46:51.639689",
     "status": "completed"
    },
    "tags": []
   },
   "outputs": [
    {
     "data": {
      "text/html": [
       "<div>\n",
       "<style scoped>\n",
       "    .dataframe tbody tr th:only-of-type {\n",
       "        vertical-align: middle;\n",
       "    }\n",
       "\n",
       "    .dataframe tbody tr th {\n",
       "        vertical-align: top;\n",
       "    }\n",
       "\n",
       "    .dataframe thead th {\n",
       "        text-align: right;\n",
       "    }\n",
       "</style>\n",
       "<table border=\"1\" class=\"dataframe\">\n",
       "  <thead>\n",
       "    <tr style=\"text-align: right;\">\n",
       "      <th></th>\n",
       "      <th>age</th>\n",
       "      <th>sex</th>\n",
       "      <th>cp</th>\n",
       "      <th>trestbps</th>\n",
       "      <th>chol</th>\n",
       "      <th>fbs</th>\n",
       "      <th>restecg</th>\n",
       "      <th>thalach</th>\n",
       "      <th>exang</th>\n",
       "      <th>oldpeak</th>\n",
       "      <th>slope</th>\n",
       "      <th>ca</th>\n",
       "      <th>thal</th>\n",
       "    </tr>\n",
       "  </thead>\n",
       "  <tbody>\n",
       "    <tr>\n",
       "      <th>179</th>\n",
       "      <td>57</td>\n",
       "      <td>1</td>\n",
       "      <td>0</td>\n",
       "      <td>150</td>\n",
       "      <td>276</td>\n",
       "      <td>0</td>\n",
       "      <td>0</td>\n",
       "      <td>112</td>\n",
       "      <td>1</td>\n",
       "      <td>0.6</td>\n",
       "      <td>1</td>\n",
       "      <td>1</td>\n",
       "      <td>1</td>\n",
       "    </tr>\n",
       "    <tr>\n",
       "      <th>228</th>\n",
       "      <td>59</td>\n",
       "      <td>1</td>\n",
       "      <td>3</td>\n",
       "      <td>170</td>\n",
       "      <td>288</td>\n",
       "      <td>0</td>\n",
       "      <td>0</td>\n",
       "      <td>159</td>\n",
       "      <td>0</td>\n",
       "      <td>0.2</td>\n",
       "      <td>1</td>\n",
       "      <td>0</td>\n",
       "      <td>3</td>\n",
       "    </tr>\n",
       "    <tr>\n",
       "      <th>111</th>\n",
       "      <td>57</td>\n",
       "      <td>1</td>\n",
       "      <td>2</td>\n",
       "      <td>150</td>\n",
       "      <td>126</td>\n",
       "      <td>1</td>\n",
       "      <td>1</td>\n",
       "      <td>173</td>\n",
       "      <td>0</td>\n",
       "      <td>0.2</td>\n",
       "      <td>2</td>\n",
       "      <td>1</td>\n",
       "      <td>3</td>\n",
       "    </tr>\n",
       "    <tr>\n",
       "      <th>246</th>\n",
       "      <td>56</td>\n",
       "      <td>0</td>\n",
       "      <td>0</td>\n",
       "      <td>134</td>\n",
       "      <td>409</td>\n",
       "      <td>0</td>\n",
       "      <td>0</td>\n",
       "      <td>150</td>\n",
       "      <td>1</td>\n",
       "      <td>1.9</td>\n",
       "      <td>1</td>\n",
       "      <td>2</td>\n",
       "      <td>3</td>\n",
       "    </tr>\n",
       "    <tr>\n",
       "      <th>60</th>\n",
       "      <td>71</td>\n",
       "      <td>0</td>\n",
       "      <td>2</td>\n",
       "      <td>110</td>\n",
       "      <td>265</td>\n",
       "      <td>1</td>\n",
       "      <td>0</td>\n",
       "      <td>130</td>\n",
       "      <td>0</td>\n",
       "      <td>0.0</td>\n",
       "      <td>2</td>\n",
       "      <td>1</td>\n",
       "      <td>2</td>\n",
       "    </tr>\n",
       "  </tbody>\n",
       "</table>\n",
       "</div>"
      ],
      "text/plain": [
       "     age  sex  cp  trestbps  chol  fbs  restecg  thalach  exang  oldpeak  \\\n",
       "179   57    1   0       150   276    0        0      112      1      0.6   \n",
       "228   59    1   3       170   288    0        0      159      0      0.2   \n",
       "111   57    1   2       150   126    1        1      173      0      0.2   \n",
       "246   56    0   0       134   409    0        0      150      1      1.9   \n",
       "60    71    0   2       110   265    1        0      130      0      0.0   \n",
       "\n",
       "     slope  ca  thal  \n",
       "179      1   1     1  \n",
       "228      1   0     3  \n",
       "111      2   1     3  \n",
       "246      1   2     3  \n",
       "60       2   1     2  "
      ]
     },
     "execution_count": 83,
     "metadata": {},
     "output_type": "execute_result"
    }
   ],
   "source": [
    "X_test[:5]"
   ]
  },
  {
   "cell_type": "code",
   "execution_count": 84,
   "id": "487308e9",
   "metadata": {
    "execution": {
     "iopub.execute_input": "2023-06-20T16:46:51.805573Z",
     "iopub.status.busy": "2023-06-20T16:46:51.804847Z",
     "iopub.status.idle": "2023-06-20T16:46:51.812690Z",
     "shell.execute_reply": "2023-06-20T16:46:51.811607Z"
    },
    "papermill": {
     "duration": 0.059598,
     "end_time": "2023-06-20T16:46:51.814710",
     "exception": false,
     "start_time": "2023-06-20T16:46:51.755112",
     "status": "completed"
    },
    "tags": []
   },
   "outputs": [
    {
     "data": {
      "text/plain": [
       "1    165\n",
       "0    138\n",
       "Name: target, dtype: int64"
      ]
     },
     "execution_count": 84,
     "metadata": {},
     "output_type": "execute_result"
    }
   ],
   "source": [
    "heart_disease[\"target\"].value_counts()"
   ]
  },
  {
   "cell_type": "markdown",
   "id": "cef401fb",
   "metadata": {
    "execution": {
     "iopub.execute_input": "2023-06-08T15:54:11.821204Z",
     "iopub.status.busy": "2023-06-08T15:54:11.820808Z",
     "iopub.status.idle": "2023-06-08T15:54:11.827355Z",
     "shell.execute_reply": "2023-06-08T15:54:11.825777Z",
     "shell.execute_reply.started": "2023-06-08T15:54:11.821175Z"
    },
    "papermill": {
     "duration": 0.048041,
     "end_time": "2023-06-20T16:46:51.910965",
     "exception": false,
     "start_time": "2023-06-20T16:46:51.862924",
     "status": "completed"
    },
    "tags": []
   },
   "source": [
    "`predict` can also be used for regression models."
   ]
  },
  {
   "cell_type": "code",
   "execution_count": 85,
   "id": "2ad73731",
   "metadata": {
    "execution": {
     "iopub.execute_input": "2023-06-20T16:46:52.009488Z",
     "iopub.status.busy": "2023-06-20T16:46:52.008753Z",
     "iopub.status.idle": "2023-06-20T16:46:52.024766Z",
     "shell.execute_reply": "2023-06-20T16:46:52.023748Z"
    },
    "papermill": {
     "duration": 0.068595,
     "end_time": "2023-06-20T16:46:52.027634",
     "exception": false,
     "start_time": "2023-06-20T16:46:51.959039",
     "status": "completed"
    },
    "tags": []
   },
   "outputs": [
    {
     "data": {
      "text/html": [
       "<div>\n",
       "<style scoped>\n",
       "    .dataframe tbody tr th:only-of-type {\n",
       "        vertical-align: middle;\n",
       "    }\n",
       "\n",
       "    .dataframe tbody tr th {\n",
       "        vertical-align: top;\n",
       "    }\n",
       "\n",
       "    .dataframe thead th {\n",
       "        text-align: right;\n",
       "    }\n",
       "</style>\n",
       "<table border=\"1\" class=\"dataframe\">\n",
       "  <thead>\n",
       "    <tr style=\"text-align: right;\">\n",
       "      <th></th>\n",
       "      <th>MedInc</th>\n",
       "      <th>HouseAge</th>\n",
       "      <th>AveRooms</th>\n",
       "      <th>AveBedrms</th>\n",
       "      <th>Population</th>\n",
       "      <th>AveOccup</th>\n",
       "      <th>Latitude</th>\n",
       "      <th>Longitude</th>\n",
       "      <th>target</th>\n",
       "    </tr>\n",
       "  </thead>\n",
       "  <tbody>\n",
       "    <tr>\n",
       "      <th>0</th>\n",
       "      <td>8.3252</td>\n",
       "      <td>41.0</td>\n",
       "      <td>6.984127</td>\n",
       "      <td>1.023810</td>\n",
       "      <td>322.0</td>\n",
       "      <td>2.555556</td>\n",
       "      <td>37.88</td>\n",
       "      <td>-122.23</td>\n",
       "      <td>4.526</td>\n",
       "    </tr>\n",
       "    <tr>\n",
       "      <th>1</th>\n",
       "      <td>8.3014</td>\n",
       "      <td>21.0</td>\n",
       "      <td>6.238137</td>\n",
       "      <td>0.971880</td>\n",
       "      <td>2401.0</td>\n",
       "      <td>2.109842</td>\n",
       "      <td>37.86</td>\n",
       "      <td>-122.22</td>\n",
       "      <td>3.585</td>\n",
       "    </tr>\n",
       "    <tr>\n",
       "      <th>2</th>\n",
       "      <td>7.2574</td>\n",
       "      <td>52.0</td>\n",
       "      <td>8.288136</td>\n",
       "      <td>1.073446</td>\n",
       "      <td>496.0</td>\n",
       "      <td>2.802260</td>\n",
       "      <td>37.85</td>\n",
       "      <td>-122.24</td>\n",
       "      <td>3.521</td>\n",
       "    </tr>\n",
       "    <tr>\n",
       "      <th>3</th>\n",
       "      <td>5.6431</td>\n",
       "      <td>52.0</td>\n",
       "      <td>5.817352</td>\n",
       "      <td>1.073059</td>\n",
       "      <td>558.0</td>\n",
       "      <td>2.547945</td>\n",
       "      <td>37.85</td>\n",
       "      <td>-122.25</td>\n",
       "      <td>3.413</td>\n",
       "    </tr>\n",
       "    <tr>\n",
       "      <th>4</th>\n",
       "      <td>3.8462</td>\n",
       "      <td>52.0</td>\n",
       "      <td>6.281853</td>\n",
       "      <td>1.081081</td>\n",
       "      <td>565.0</td>\n",
       "      <td>2.181467</td>\n",
       "      <td>37.85</td>\n",
       "      <td>-122.25</td>\n",
       "      <td>3.422</td>\n",
       "    </tr>\n",
       "  </tbody>\n",
       "</table>\n",
       "</div>"
      ],
      "text/plain": [
       "   MedInc  HouseAge  AveRooms  AveBedrms  Population  AveOccup  Latitude  \\\n",
       "0  8.3252      41.0  6.984127   1.023810       322.0  2.555556     37.88   \n",
       "1  8.3014      21.0  6.238137   0.971880      2401.0  2.109842     37.86   \n",
       "2  7.2574      52.0  8.288136   1.073446       496.0  2.802260     37.85   \n",
       "3  5.6431      52.0  5.817352   1.073059       558.0  2.547945     37.85   \n",
       "4  3.8462      52.0  6.281853   1.081081       565.0  2.181467     37.85   \n",
       "\n",
       "   Longitude  target  \n",
       "0    -122.23   4.526  \n",
       "1    -122.22   3.585  \n",
       "2    -122.24   3.521  \n",
       "3    -122.25   3.413  \n",
       "4    -122.25   3.422  "
      ]
     },
     "execution_count": 85,
     "metadata": {},
     "output_type": "execute_result"
    }
   ],
   "source": [
    "housing_df.head()"
   ]
  },
  {
   "cell_type": "code",
   "execution_count": 86,
   "id": "b72360b0",
   "metadata": {
    "execution": {
     "iopub.execute_input": "2023-06-20T16:46:52.127869Z",
     "iopub.status.busy": "2023-06-20T16:46:52.127500Z",
     "iopub.status.idle": "2023-06-20T16:47:04.924638Z",
     "shell.execute_reply": "2023-06-20T16:47:04.923659Z"
    },
    "papermill": {
     "duration": 12.84956,
     "end_time": "2023-06-20T16:47:04.927181",
     "exception": false,
     "start_time": "2023-06-20T16:46:52.077621",
     "status": "completed"
    },
    "tags": []
   },
   "outputs": [],
   "source": [
    "from sklearn.ensemble import RandomForestRegressor\n",
    "\n",
    "np.random.seed(42)\n",
    "\n",
    "# Create the data\n",
    "X = housing_df.drop(\"target\", axis=1)\n",
    "y = housing_df[\"target\"]\n",
    "\n",
    "# Split into training and test sets\n",
    "X_train, X_test, y_train, y_test = train_test_split(X, y, test_size = 0.2)\n",
    "\n",
    "# Create model instance\n",
    "model = RandomForestRegressor()\n",
    "\n",
    "# Fit the model to the data\n",
    "model.fit(X_train, y_train)\n",
    "\n",
    "# Make predictions\n",
    "y_preds = model.predict(X_test)"
   ]
  },
  {
   "cell_type": "code",
   "execution_count": 87,
   "id": "55be22c0",
   "metadata": {
    "execution": {
     "iopub.execute_input": "2023-06-20T16:47:05.025523Z",
     "iopub.status.busy": "2023-06-20T16:47:05.024554Z",
     "iopub.status.idle": "2023-06-20T16:47:05.030875Z",
     "shell.execute_reply": "2023-06-20T16:47:05.030121Z"
    },
    "papermill": {
     "duration": 0.057707,
     "end_time": "2023-06-20T16:47:05.032831",
     "exception": false,
     "start_time": "2023-06-20T16:47:04.975124",
     "status": "completed"
    },
    "tags": []
   },
   "outputs": [
    {
     "data": {
      "text/plain": [
       "array([0.49384  , 0.75494  , 4.9285964, 2.54029  , 2.33176  , 1.6549701,\n",
       "       2.34323  , 1.66182  , 2.47489  , 4.8344779])"
      ]
     },
     "execution_count": 87,
     "metadata": {},
     "output_type": "execute_result"
    }
   ],
   "source": [
    "y_preds[:10]"
   ]
  },
  {
   "cell_type": "code",
   "execution_count": 88,
   "id": "0f61a06f",
   "metadata": {
    "execution": {
     "iopub.execute_input": "2023-06-20T16:47:05.133259Z",
     "iopub.status.busy": "2023-06-20T16:47:05.132581Z",
     "iopub.status.idle": "2023-06-20T16:47:05.138943Z",
     "shell.execute_reply": "2023-06-20T16:47:05.137858Z"
    },
    "papermill": {
     "duration": 0.059705,
     "end_time": "2023-06-20T16:47:05.141158",
     "exception": false,
     "start_time": "2023-06-20T16:47:05.081453",
     "status": "completed"
    },
    "tags": []
   },
   "outputs": [
    {
     "data": {
      "text/plain": [
       "array([0.477  , 0.458  , 5.00001, 2.186  , 2.78   , 1.587  , 1.982  ,\n",
       "       1.575  , 3.4    , 4.466  ])"
      ]
     },
     "execution_count": 88,
     "metadata": {},
     "output_type": "execute_result"
    }
   ],
   "source": [
    "np.array(y_test[:10])"
   ]
  },
  {
   "cell_type": "code",
   "execution_count": 89,
   "id": "7fd9a65c",
   "metadata": {
    "execution": {
     "iopub.execute_input": "2023-06-20T16:47:05.240888Z",
     "iopub.status.busy": "2023-06-20T16:47:05.240192Z",
     "iopub.status.idle": "2023-06-20T16:47:05.247328Z",
     "shell.execute_reply": "2023-06-20T16:47:05.246483Z"
    },
    "papermill": {
     "duration": 0.059392,
     "end_time": "2023-06-20T16:47:05.249349",
     "exception": false,
     "start_time": "2023-06-20T16:47:05.189957",
     "status": "completed"
    },
    "tags": []
   },
   "outputs": [
    {
     "data": {
      "text/plain": [
       "0.3265721842781009"
      ]
     },
     "execution_count": 89,
     "metadata": {},
     "output_type": "execute_result"
    }
   ],
   "source": [
    "# Compare the predictions to the truth\n",
    "from sklearn.metrics import mean_absolute_error\n",
    "mean_absolute_error(y_test, y_preds)"
   ]
  },
  {
   "cell_type": "code",
   "execution_count": 90,
   "id": "ed05e99c",
   "metadata": {
    "execution": {
     "iopub.execute_input": "2023-06-20T16:47:05.351274Z",
     "iopub.status.busy": "2023-06-20T16:47:05.350532Z",
     "iopub.status.idle": "2023-06-20T16:47:05.358439Z",
     "shell.execute_reply": "2023-06-20T16:47:05.357495Z"
    },
    "papermill": {
     "duration": 0.06093,
     "end_time": "2023-06-20T16:47:05.360609",
     "exception": false,
     "start_time": "2023-06-20T16:47:05.299679",
     "status": "completed"
    },
    "tags": []
   },
   "outputs": [
    {
     "data": {
      "text/plain": [
       "0        4.526\n",
       "1        3.585\n",
       "2        3.521\n",
       "3        3.413\n",
       "4        3.422\n",
       "         ...  \n",
       "20635    0.781\n",
       "20636    0.771\n",
       "20637    0.923\n",
       "20638    0.847\n",
       "20639    0.894\n",
       "Name: target, Length: 20640, dtype: float64"
      ]
     },
     "execution_count": 90,
     "metadata": {},
     "output_type": "execute_result"
    }
   ],
   "source": [
    "housing_df[\"target\"]"
   ]
  },
  {
   "cell_type": "markdown",
   "id": "1cebc544",
   "metadata": {
    "execution": {
     "iopub.execute_input": "2023-06-10T14:32:42.703418Z",
     "iopub.status.busy": "2023-06-10T14:32:42.702734Z",
     "iopub.status.idle": "2023-06-10T14:32:42.718261Z",
     "shell.execute_reply": "2023-06-10T14:32:42.716575Z",
     "shell.execute_reply.started": "2023-06-10T14:32:42.703386Z"
    },
    "papermill": {
     "duration": 0.049102,
     "end_time": "2023-06-20T16:47:05.458538",
     "exception": false,
     "start_time": "2023-06-20T16:47:05.409436",
     "status": "completed"
    },
    "tags": []
   },
   "source": [
    "https://scikit-learn.org/stable/modules/model_evaluation.html"
   ]
  },
  {
   "cell_type": "markdown",
   "id": "69348917",
   "metadata": {
    "papermill": {
     "duration": 0.04859,
     "end_time": "2023-06-20T16:47:05.556040",
     "exception": false,
     "start_time": "2023-06-20T16:47:05.507450",
     "status": "completed"
    },
    "tags": []
   },
   "source": [
    "# 4. Evaluating amachine learing model\n",
    "\n",
    "Three ways to evaluate Sciki-Learn models/estimators\n",
    "   1. Estimator's built-in `score` method\n",
    "   2. The `scoring` parameter\n",
    "   3. Problem-specific metric functions\n",
    "\n",
    "You can read more about this here: https://scikit-learn.org/stable/modules/model_evaluation.html"
   ]
  },
  {
   "cell_type": "code",
   "execution_count": 91,
   "id": "db12d0e6",
   "metadata": {
    "execution": {
     "iopub.execute_input": "2023-06-20T16:47:05.657251Z",
     "iopub.status.busy": "2023-06-20T16:47:05.656846Z",
     "iopub.status.idle": "2023-06-20T16:47:05.843559Z",
     "shell.execute_reply": "2023-06-20T16:47:05.842424Z"
    },
    "papermill": {
     "duration": 0.239982,
     "end_time": "2023-06-20T16:47:05.845856",
     "exception": false,
     "start_time": "2023-06-20T16:47:05.605874",
     "status": "completed"
    },
    "tags": []
   },
   "outputs": [
    {
     "data": {
      "text/html": [
       "<style>#sk-container-id-2 {color: black;background-color: white;}#sk-container-id-2 pre{padding: 0;}#sk-container-id-2 div.sk-toggleable {background-color: white;}#sk-container-id-2 label.sk-toggleable__label {cursor: pointer;display: block;width: 100%;margin-bottom: 0;padding: 0.3em;box-sizing: border-box;text-align: center;}#sk-container-id-2 label.sk-toggleable__label-arrow:before {content: \"▸\";float: left;margin-right: 0.25em;color: #696969;}#sk-container-id-2 label.sk-toggleable__label-arrow:hover:before {color: black;}#sk-container-id-2 div.sk-estimator:hover label.sk-toggleable__label-arrow:before {color: black;}#sk-container-id-2 div.sk-toggleable__content {max-height: 0;max-width: 0;overflow: hidden;text-align: left;background-color: #f0f8ff;}#sk-container-id-2 div.sk-toggleable__content pre {margin: 0.2em;color: black;border-radius: 0.25em;background-color: #f0f8ff;}#sk-container-id-2 input.sk-toggleable__control:checked~div.sk-toggleable__content {max-height: 200px;max-width: 100%;overflow: auto;}#sk-container-id-2 input.sk-toggleable__control:checked~label.sk-toggleable__label-arrow:before {content: \"▾\";}#sk-container-id-2 div.sk-estimator input.sk-toggleable__control:checked~label.sk-toggleable__label {background-color: #d4ebff;}#sk-container-id-2 div.sk-label input.sk-toggleable__control:checked~label.sk-toggleable__label {background-color: #d4ebff;}#sk-container-id-2 input.sk-hidden--visually {border: 0;clip: rect(1px 1px 1px 1px);clip: rect(1px, 1px, 1px, 1px);height: 1px;margin: -1px;overflow: hidden;padding: 0;position: absolute;width: 1px;}#sk-container-id-2 div.sk-estimator {font-family: monospace;background-color: #f0f8ff;border: 1px dotted black;border-radius: 0.25em;box-sizing: border-box;margin-bottom: 0.5em;}#sk-container-id-2 div.sk-estimator:hover {background-color: #d4ebff;}#sk-container-id-2 div.sk-parallel-item::after {content: \"\";width: 100%;border-bottom: 1px solid gray;flex-grow: 1;}#sk-container-id-2 div.sk-label:hover label.sk-toggleable__label {background-color: #d4ebff;}#sk-container-id-2 div.sk-serial::before {content: \"\";position: absolute;border-left: 1px solid gray;box-sizing: border-box;top: 0;bottom: 0;left: 50%;z-index: 0;}#sk-container-id-2 div.sk-serial {display: flex;flex-direction: column;align-items: center;background-color: white;padding-right: 0.2em;padding-left: 0.2em;position: relative;}#sk-container-id-2 div.sk-item {position: relative;z-index: 1;}#sk-container-id-2 div.sk-parallel {display: flex;align-items: stretch;justify-content: center;background-color: white;position: relative;}#sk-container-id-2 div.sk-item::before, #sk-container-id-2 div.sk-parallel-item::before {content: \"\";position: absolute;border-left: 1px solid gray;box-sizing: border-box;top: 0;bottom: 0;left: 50%;z-index: -1;}#sk-container-id-2 div.sk-parallel-item {display: flex;flex-direction: column;z-index: 1;position: relative;background-color: white;}#sk-container-id-2 div.sk-parallel-item:first-child::after {align-self: flex-end;width: 50%;}#sk-container-id-2 div.sk-parallel-item:last-child::after {align-self: flex-start;width: 50%;}#sk-container-id-2 div.sk-parallel-item:only-child::after {width: 0;}#sk-container-id-2 div.sk-dashed-wrapped {border: 1px dashed gray;margin: 0 0.4em 0.5em 0.4em;box-sizing: border-box;padding-bottom: 0.4em;background-color: white;}#sk-container-id-2 div.sk-label label {font-family: monospace;font-weight: bold;display: inline-block;line-height: 1.2em;}#sk-container-id-2 div.sk-label-container {text-align: center;}#sk-container-id-2 div.sk-container {/* jupyter's `normalize.less` sets `[hidden] { display: none; }` but bootstrap.min.css set `[hidden] { display: none !important; }` so we also need the `!important` here to be able to override the default hidden behavior on the sphinx rendered scikit-learn.org. See: https://github.com/scikit-learn/scikit-learn/issues/21755 */display: inline-block !important;position: relative;}#sk-container-id-2 div.sk-text-repr-fallback {display: none;}</style><div id=\"sk-container-id-2\" class=\"sk-top-container\"><div class=\"sk-text-repr-fallback\"><pre>RandomForestClassifier()</pre><b>In a Jupyter environment, please rerun this cell to show the HTML representation or trust the notebook. <br />On GitHub, the HTML representation is unable to render, please try loading this page with nbviewer.org.</b></div><div class=\"sk-container\" hidden><div class=\"sk-item\"><div class=\"sk-estimator sk-toggleable\"><input class=\"sk-toggleable__control sk-hidden--visually\" id=\"sk-estimator-id-2\" type=\"checkbox\" checked><label for=\"sk-estimator-id-2\" class=\"sk-toggleable__label sk-toggleable__label-arrow\">RandomForestClassifier</label><div class=\"sk-toggleable__content\"><pre>RandomForestClassifier()</pre></div></div></div></div></div>"
      ],
      "text/plain": [
       "RandomForestClassifier()"
      ]
     },
     "execution_count": 91,
     "metadata": {},
     "output_type": "execute_result"
    }
   ],
   "source": [
    "### 4.1 Evaluating a model with the `score` method\n",
    "\n",
    "np.random.seed(42)\n",
    "\n",
    "# Create X & y\n",
    "X = heart_disease.drop(\"target\", axis=1)\n",
    "y = heart_disease[\"target\"]\n",
    "\n",
    "# Create train/test\n",
    "X_train, X_test, y_train, y_test = train_test_split(X, y, test_size=0.2)\n",
    "\n",
    "# Create classifier model instance\n",
    "clf = RandomForestClassifier(n_estimators=100)\n",
    "\n",
    "# Fit the model to the data (training the machine learning model)\n",
    "clf.fit(X_train, y_train)"
   ]
  },
  {
   "cell_type": "code",
   "execution_count": 92,
   "id": "acd7914d",
   "metadata": {
    "execution": {
     "iopub.execute_input": "2023-06-20T16:47:05.945688Z",
     "iopub.status.busy": "2023-06-20T16:47:05.944955Z",
     "iopub.status.idle": "2023-06-20T16:47:05.966919Z",
     "shell.execute_reply": "2023-06-20T16:47:05.965960Z"
    },
    "papermill": {
     "duration": 0.074214,
     "end_time": "2023-06-20T16:47:05.969044",
     "exception": false,
     "start_time": "2023-06-20T16:47:05.894830",
     "status": "completed"
    },
    "tags": []
   },
   "outputs": [
    {
     "data": {
      "text/plain": [
       "1.0"
      ]
     },
     "execution_count": 92,
     "metadata": {},
     "output_type": "execute_result"
    }
   ],
   "source": [
    "# The highest value for the .score() method is 1.0, the lowest in 0.0\n",
    "clf.score(X_train, y_train)"
   ]
  },
  {
   "cell_type": "code",
   "execution_count": 93,
   "id": "68ae3130",
   "metadata": {
    "execution": {
     "iopub.execute_input": "2023-06-20T16:47:06.068825Z",
     "iopub.status.busy": "2023-06-20T16:47:06.068107Z",
     "iopub.status.idle": "2023-06-20T16:47:06.087834Z",
     "shell.execute_reply": "2023-06-20T16:47:06.086952Z"
    },
    "papermill": {
     "duration": 0.071889,
     "end_time": "2023-06-20T16:47:06.089932",
     "exception": false,
     "start_time": "2023-06-20T16:47:06.018043",
     "status": "completed"
    },
    "tags": []
   },
   "outputs": [
    {
     "data": {
      "text/plain": [
       "0.8524590163934426"
      ]
     },
     "execution_count": 93,
     "metadata": {},
     "output_type": "execute_result"
    }
   ],
   "source": [
    "clf.score(X_test, y_test)"
   ]
  },
  {
   "cell_type": "markdown",
   "id": "3654157a",
   "metadata": {
    "papermill": {
     "duration": 0.048786,
     "end_time": "2023-06-20T16:47:06.189440",
     "exception": false,
     "start_time": "2023-06-20T16:47:06.140654",
     "status": "completed"
    },
    "tags": []
   },
   "source": [
    "Let's use the `score` on our regression problem"
   ]
  },
  {
   "cell_type": "code",
   "execution_count": 94,
   "id": "ecde3556",
   "metadata": {
    "execution": {
     "iopub.execute_input": "2023-06-20T16:47:06.289254Z",
     "iopub.status.busy": "2023-06-20T16:47:06.288856Z",
     "iopub.status.idle": "2023-06-20T16:47:14.641119Z",
     "shell.execute_reply": "2023-06-20T16:47:14.640361Z"
    },
    "papermill": {
     "duration": 8.404542,
     "end_time": "2023-06-20T16:47:14.643244",
     "exception": false,
     "start_time": "2023-06-20T16:47:06.238702",
     "status": "completed"
    },
    "tags": []
   },
   "outputs": [
    {
     "data": {
      "text/html": [
       "<style>#sk-container-id-3 {color: black;background-color: white;}#sk-container-id-3 pre{padding: 0;}#sk-container-id-3 div.sk-toggleable {background-color: white;}#sk-container-id-3 label.sk-toggleable__label {cursor: pointer;display: block;width: 100%;margin-bottom: 0;padding: 0.3em;box-sizing: border-box;text-align: center;}#sk-container-id-3 label.sk-toggleable__label-arrow:before {content: \"▸\";float: left;margin-right: 0.25em;color: #696969;}#sk-container-id-3 label.sk-toggleable__label-arrow:hover:before {color: black;}#sk-container-id-3 div.sk-estimator:hover label.sk-toggleable__label-arrow:before {color: black;}#sk-container-id-3 div.sk-toggleable__content {max-height: 0;max-width: 0;overflow: hidden;text-align: left;background-color: #f0f8ff;}#sk-container-id-3 div.sk-toggleable__content pre {margin: 0.2em;color: black;border-radius: 0.25em;background-color: #f0f8ff;}#sk-container-id-3 input.sk-toggleable__control:checked~div.sk-toggleable__content {max-height: 200px;max-width: 100%;overflow: auto;}#sk-container-id-3 input.sk-toggleable__control:checked~label.sk-toggleable__label-arrow:before {content: \"▾\";}#sk-container-id-3 div.sk-estimator input.sk-toggleable__control:checked~label.sk-toggleable__label {background-color: #d4ebff;}#sk-container-id-3 div.sk-label input.sk-toggleable__control:checked~label.sk-toggleable__label {background-color: #d4ebff;}#sk-container-id-3 input.sk-hidden--visually {border: 0;clip: rect(1px 1px 1px 1px);clip: rect(1px, 1px, 1px, 1px);height: 1px;margin: -1px;overflow: hidden;padding: 0;position: absolute;width: 1px;}#sk-container-id-3 div.sk-estimator {font-family: monospace;background-color: #f0f8ff;border: 1px dotted black;border-radius: 0.25em;box-sizing: border-box;margin-bottom: 0.5em;}#sk-container-id-3 div.sk-estimator:hover {background-color: #d4ebff;}#sk-container-id-3 div.sk-parallel-item::after {content: \"\";width: 100%;border-bottom: 1px solid gray;flex-grow: 1;}#sk-container-id-3 div.sk-label:hover label.sk-toggleable__label {background-color: #d4ebff;}#sk-container-id-3 div.sk-serial::before {content: \"\";position: absolute;border-left: 1px solid gray;box-sizing: border-box;top: 0;bottom: 0;left: 50%;z-index: 0;}#sk-container-id-3 div.sk-serial {display: flex;flex-direction: column;align-items: center;background-color: white;padding-right: 0.2em;padding-left: 0.2em;position: relative;}#sk-container-id-3 div.sk-item {position: relative;z-index: 1;}#sk-container-id-3 div.sk-parallel {display: flex;align-items: stretch;justify-content: center;background-color: white;position: relative;}#sk-container-id-3 div.sk-item::before, #sk-container-id-3 div.sk-parallel-item::before {content: \"\";position: absolute;border-left: 1px solid gray;box-sizing: border-box;top: 0;bottom: 0;left: 50%;z-index: -1;}#sk-container-id-3 div.sk-parallel-item {display: flex;flex-direction: column;z-index: 1;position: relative;background-color: white;}#sk-container-id-3 div.sk-parallel-item:first-child::after {align-self: flex-end;width: 50%;}#sk-container-id-3 div.sk-parallel-item:last-child::after {align-self: flex-start;width: 50%;}#sk-container-id-3 div.sk-parallel-item:only-child::after {width: 0;}#sk-container-id-3 div.sk-dashed-wrapped {border: 1px dashed gray;margin: 0 0.4em 0.5em 0.4em;box-sizing: border-box;padding-bottom: 0.4em;background-color: white;}#sk-container-id-3 div.sk-label label {font-family: monospace;font-weight: bold;display: inline-block;line-height: 1.2em;}#sk-container-id-3 div.sk-label-container {text-align: center;}#sk-container-id-3 div.sk-container {/* jupyter's `normalize.less` sets `[hidden] { display: none; }` but bootstrap.min.css set `[hidden] { display: none !important; }` so we also need the `!important` here to be able to override the default hidden behavior on the sphinx rendered scikit-learn.org. See: https://github.com/scikit-learn/scikit-learn/issues/21755 */display: inline-block !important;position: relative;}#sk-container-id-3 div.sk-text-repr-fallback {display: none;}</style><div id=\"sk-container-id-3\" class=\"sk-top-container\"><div class=\"sk-text-repr-fallback\"><pre>RandomForestRegressor(n_estimators=66)</pre><b>In a Jupyter environment, please rerun this cell to show the HTML representation or trust the notebook. <br />On GitHub, the HTML representation is unable to render, please try loading this page with nbviewer.org.</b></div><div class=\"sk-container\" hidden><div class=\"sk-item\"><div class=\"sk-estimator sk-toggleable\"><input class=\"sk-toggleable__control sk-hidden--visually\" id=\"sk-estimator-id-3\" type=\"checkbox\" checked><label for=\"sk-estimator-id-3\" class=\"sk-toggleable__label sk-toggleable__label-arrow\">RandomForestRegressor</label><div class=\"sk-toggleable__content\"><pre>RandomForestRegressor(n_estimators=66)</pre></div></div></div></div></div>"
      ],
      "text/plain": [
       "RandomForestRegressor(n_estimators=66)"
      ]
     },
     "execution_count": 94,
     "metadata": {},
     "output_type": "execute_result"
    }
   ],
   "source": [
    "from sklearn.ensemble import RandomForestRegressor\n",
    "\n",
    "np.random.seed(42)\n",
    "\n",
    "# Create the data\n",
    "X = housing_df.drop(\"target\", axis=1)\n",
    "y = housing_df[\"target\"]\n",
    "\n",
    "# Split into training and test sets\n",
    "X_train, X_test, y_train, y_test = train_test_split(X, y, test_size = 0.2)\n",
    "\n",
    "# Create model instance\n",
    "model = RandomForestRegressor(n_estimators=66)\n",
    "\n",
    "# Fit the model to the data\n",
    "model.fit(X_train, y_train)"
   ]
  },
  {
   "cell_type": "code",
   "execution_count": 95,
   "id": "9926881e",
   "metadata": {
    "execution": {
     "iopub.execute_input": "2023-06-20T16:47:14.745173Z",
     "iopub.status.busy": "2023-06-20T16:47:14.744466Z",
     "iopub.status.idle": "2023-06-20T16:47:14.848893Z",
     "shell.execute_reply": "2023-06-20T16:47:14.847852Z"
    },
    "papermill": {
     "duration": 0.157918,
     "end_time": "2023-06-20T16:47:14.851351",
     "exception": false,
     "start_time": "2023-06-20T16:47:14.693433",
     "status": "completed"
    },
    "tags": []
   },
   "outputs": [
    {
     "data": {
      "text/plain": [
       "0.8056243195542487"
      ]
     },
     "execution_count": 95,
     "metadata": {},
     "output_type": "execute_result"
    }
   ],
   "source": [
    "# The default score() evaluation metric is r_squared for regression algorithms\n",
    "model.score(X_test, y_test) "
   ]
  },
  {
   "cell_type": "markdown",
   "id": "136b3f5a",
   "metadata": {
    "papermill": {
     "duration": 0.049033,
     "end_time": "2023-06-20T16:47:14.950372",
     "exception": false,
     "start_time": "2023-06-20T16:47:14.901339",
     "status": "completed"
    },
    "tags": []
   },
   "source": [
    "## 4.2 Evaluating a model using the `socring` parameter"
   ]
  },
  {
   "cell_type": "code",
   "execution_count": 96,
   "id": "a1fe6dff",
   "metadata": {
    "execution": {
     "iopub.execute_input": "2023-06-20T16:47:15.050971Z",
     "iopub.status.busy": "2023-06-20T16:47:15.050590Z",
     "iopub.status.idle": "2023-06-20T16:47:15.239585Z",
     "shell.execute_reply": "2023-06-20T16:47:15.238402Z"
    },
    "papermill": {
     "duration": 0.242534,
     "end_time": "2023-06-20T16:47:15.242192",
     "exception": false,
     "start_time": "2023-06-20T16:47:14.999658",
     "status": "completed"
    },
    "tags": []
   },
   "outputs": [],
   "source": [
    "from sklearn.model_selection import cross_val_score\n",
    "\n",
    "# Import the RandomForestClassifier estimator class\n",
    "from sklearn.ensemble import RandomForestClassifier\n",
    "\n",
    "# Setup random seed\n",
    "np.random.seed(42)\n",
    "\n",
    "# Make the data\n",
    "X = heart_disease.drop(\"target\", axis=1)\n",
    "y = heart_disease[\"target\"]\n",
    "\n",
    "# Split the data\n",
    "X_train, X_test, y_train, y_test = train_test_split(X, y, test_size=0.2)\n",
    "\n",
    "# Instantiate LinearSVC\n",
    "clf = RandomForestClassifier()\n",
    "\n",
    "# Fit the model to the data (training the machine learning model)\n",
    "clf.fit(X_train, y_train);"
   ]
  },
  {
   "cell_type": "code",
   "execution_count": 97,
   "id": "dda5037e",
   "metadata": {
    "execution": {
     "iopub.execute_input": "2023-06-20T16:47:15.344159Z",
     "iopub.status.busy": "2023-06-20T16:47:15.343760Z",
     "iopub.status.idle": "2023-06-20T16:47:15.369310Z",
     "shell.execute_reply": "2023-06-20T16:47:15.368262Z"
    },
    "papermill": {
     "duration": 0.078221,
     "end_time": "2023-06-20T16:47:15.371267",
     "exception": false,
     "start_time": "2023-06-20T16:47:15.293046",
     "status": "completed"
    },
    "tags": []
   },
   "outputs": [
    {
     "data": {
      "text/plain": [
       "0.8524590163934426"
      ]
     },
     "execution_count": 97,
     "metadata": {},
     "output_type": "execute_result"
    }
   ],
   "source": [
    "clf.score(X_test, y_test)"
   ]
  },
  {
   "cell_type": "code",
   "execution_count": 98,
   "id": "01cc92a2",
   "metadata": {
    "execution": {
     "iopub.execute_input": "2023-06-20T16:47:15.472532Z",
     "iopub.status.busy": "2023-06-20T16:47:15.472149Z",
     "iopub.status.idle": "2023-06-20T16:47:16.405038Z",
     "shell.execute_reply": "2023-06-20T16:47:16.404156Z"
    },
    "papermill": {
     "duration": 0.986351,
     "end_time": "2023-06-20T16:47:16.407340",
     "exception": false,
     "start_time": "2023-06-20T16:47:15.420989",
     "status": "completed"
    },
    "tags": []
   },
   "outputs": [
    {
     "data": {
      "text/plain": [
       "array([0.81967213, 0.86885246, 0.81967213, 0.78333333, 0.76666667])"
      ]
     },
     "execution_count": 98,
     "metadata": {},
     "output_type": "execute_result"
    }
   ],
   "source": [
    "# Model is trained on 5 different versions of training data, \n",
    "# and evaluated on 5 different versions of the test data.\n",
    "\n",
    "# It aims to provide a solution to not training on all the data \n",
    "# and avoiding getting those luck socres on just a single split of data\n",
    "\n",
    "cross_val_score(clf, X, y, cv=5)  # cv -> cross validation fold"
   ]
  },
  {
   "cell_type": "code",
   "execution_count": 99,
   "id": "2ce8a0e9",
   "metadata": {
    "execution": {
     "iopub.execute_input": "2023-06-20T16:47:16.510373Z",
     "iopub.status.busy": "2023-06-20T16:47:16.509487Z",
     "iopub.status.idle": "2023-06-20T16:47:18.413237Z",
     "shell.execute_reply": "2023-06-20T16:47:18.412146Z"
    },
    "papermill": {
     "duration": 1.957697,
     "end_time": "2023-06-20T16:47:18.416037",
     "exception": false,
     "start_time": "2023-06-20T16:47:16.458340",
     "status": "completed"
    },
    "tags": []
   },
   "outputs": [
    {
     "data": {
      "text/plain": [
       "array([0.90322581, 0.80645161, 0.87096774, 0.9       , 0.86666667,\n",
       "       0.8       , 0.73333333, 0.86666667, 0.73333333, 0.8       ])"
      ]
     },
     "execution_count": 99,
     "metadata": {},
     "output_type": "execute_result"
    }
   ],
   "source": [
    "cross_val_score(clf, X, y, cv=10)"
   ]
  },
  {
   "cell_type": "code",
   "execution_count": 100,
   "id": "ab5e7b0f",
   "metadata": {
    "execution": {
     "iopub.execute_input": "2023-06-20T16:47:18.544057Z",
     "iopub.status.busy": "2023-06-20T16:47:18.543616Z",
     "iopub.status.idle": "2023-06-20T16:47:19.545552Z",
     "shell.execute_reply": "2023-06-20T16:47:19.544748Z"
    },
    "papermill": {
     "duration": 1.066671,
     "end_time": "2023-06-20T16:47:19.547716",
     "exception": false,
     "start_time": "2023-06-20T16:47:18.481045",
     "status": "completed"
    },
    "tags": []
   },
   "outputs": [
    {
     "data": {
      "text/plain": [
       "(0.8524590163934426, 0.8248087431693989)"
      ]
     },
     "execution_count": 100,
     "metadata": {},
     "output_type": "execute_result"
    }
   ],
   "source": [
    "np.random.seed(42)\n",
    "\n",
    "# Single training and test split score\n",
    "clf_single_score = clf.score(X_test, y_test)\n",
    "\n",
    "# Take the mean of 5-fold corss-validation score\n",
    "clf_cross_val_score = np.mean(cross_val_score(clf, X, y, cv=5))\n",
    "\n",
    "# Compare the two\n",
    "clf_single_score, clf_cross_val_score"
   ]
  },
  {
   "cell_type": "code",
   "execution_count": 101,
   "id": "c3addbea",
   "metadata": {
    "execution": {
     "iopub.execute_input": "2023-06-20T16:47:19.650969Z",
     "iopub.status.busy": "2023-06-20T16:47:19.650351Z",
     "iopub.status.idle": "2023-06-20T16:47:19.656530Z",
     "shell.execute_reply": "2023-06-20T16:47:19.655338Z"
    },
    "papermill": {
     "duration": 0.059776,
     "end_time": "2023-06-20T16:47:19.658705",
     "exception": false,
     "start_time": "2023-06-20T16:47:19.598929",
     "status": "completed"
    },
    "tags": []
   },
   "outputs": [
    {
     "data": {
      "text/plain": [
       "<bound method ClassifierMixin.score of RandomForestClassifier()>"
      ]
     },
     "execution_count": 101,
     "metadata": {},
     "output_type": "execute_result"
    }
   ],
   "source": [
    "# Default scoring parameter of classifier = mean accuracy\n",
    "clf.score"
   ]
  },
  {
   "cell_type": "code",
   "execution_count": 102,
   "id": "013c035f",
   "metadata": {
    "execution": {
     "iopub.execute_input": "2023-06-20T16:47:19.762537Z",
     "iopub.status.busy": "2023-06-20T16:47:19.761813Z",
     "iopub.status.idle": "2023-06-20T16:47:20.694498Z",
     "shell.execute_reply": "2023-06-20T16:47:20.693410Z"
    },
    "papermill": {
     "duration": 0.986623,
     "end_time": "2023-06-20T16:47:20.696974",
     "exception": false,
     "start_time": "2023-06-20T16:47:19.710351",
     "status": "completed"
    },
    "tags": []
   },
   "outputs": [
    {
     "data": {
      "text/plain": [
       "array([0.78688525, 0.86885246, 0.80327869, 0.78333333, 0.76666667])"
      ]
     },
     "execution_count": 102,
     "metadata": {},
     "output_type": "execute_result"
    }
   ],
   "source": [
    "# Scoring parameter set to None by default\n",
    "cross_val_score(clf, X, y, cv=5, scoring=None)"
   ]
  },
  {
   "cell_type": "markdown",
   "id": "8d955122",
   "metadata": {
    "papermill": {
     "duration": 0.050203,
     "end_time": "2023-06-20T16:47:20.798092",
     "exception": false,
     "start_time": "2023-06-20T16:47:20.747889",
     "status": "completed"
    },
    "tags": []
   },
   "source": [
    "### 4.2.1 Classification model evaluation metrics\n",
    "\n",
    "1. Accuracy\n",
    "2. Area under ROC curve\n",
    "3. Confusion matrix\n",
    "4. Classification report"
   ]
  },
  {
   "cell_type": "markdown",
   "id": "133a05f6",
   "metadata": {
    "papermill": {
     "duration": 0.050121,
     "end_time": "2023-06-20T16:47:20.898542",
     "exception": false,
     "start_time": "2023-06-20T16:47:20.848421",
     "status": "completed"
    },
    "tags": []
   },
   "source": [
    "**Accuracy**"
   ]
  },
  {
   "cell_type": "code",
   "execution_count": 103,
   "id": "59f87be7",
   "metadata": {
    "execution": {
     "iopub.execute_input": "2023-06-20T16:47:21.001114Z",
     "iopub.status.busy": "2023-06-20T16:47:20.999929Z",
     "iopub.status.idle": "2023-06-20T16:47:21.015403Z",
     "shell.execute_reply": "2023-06-20T16:47:21.014338Z"
    },
    "papermill": {
     "duration": 0.068567,
     "end_time": "2023-06-20T16:47:21.017473",
     "exception": false,
     "start_time": "2023-06-20T16:47:20.948906",
     "status": "completed"
    },
    "tags": []
   },
   "outputs": [
    {
     "data": {
      "text/html": [
       "<div>\n",
       "<style scoped>\n",
       "    .dataframe tbody tr th:only-of-type {\n",
       "        vertical-align: middle;\n",
       "    }\n",
       "\n",
       "    .dataframe tbody tr th {\n",
       "        vertical-align: top;\n",
       "    }\n",
       "\n",
       "    .dataframe thead th {\n",
       "        text-align: right;\n",
       "    }\n",
       "</style>\n",
       "<table border=\"1\" class=\"dataframe\">\n",
       "  <thead>\n",
       "    <tr style=\"text-align: right;\">\n",
       "      <th></th>\n",
       "      <th>age</th>\n",
       "      <th>sex</th>\n",
       "      <th>cp</th>\n",
       "      <th>trestbps</th>\n",
       "      <th>chol</th>\n",
       "      <th>fbs</th>\n",
       "      <th>restecg</th>\n",
       "      <th>thalach</th>\n",
       "      <th>exang</th>\n",
       "      <th>oldpeak</th>\n",
       "      <th>slope</th>\n",
       "      <th>ca</th>\n",
       "      <th>thal</th>\n",
       "      <th>target</th>\n",
       "    </tr>\n",
       "  </thead>\n",
       "  <tbody>\n",
       "    <tr>\n",
       "      <th>0</th>\n",
       "      <td>63</td>\n",
       "      <td>1</td>\n",
       "      <td>3</td>\n",
       "      <td>145</td>\n",
       "      <td>233</td>\n",
       "      <td>1</td>\n",
       "      <td>0</td>\n",
       "      <td>150</td>\n",
       "      <td>0</td>\n",
       "      <td>2.3</td>\n",
       "      <td>0</td>\n",
       "      <td>0</td>\n",
       "      <td>1</td>\n",
       "      <td>1</td>\n",
       "    </tr>\n",
       "    <tr>\n",
       "      <th>1</th>\n",
       "      <td>37</td>\n",
       "      <td>1</td>\n",
       "      <td>2</td>\n",
       "      <td>130</td>\n",
       "      <td>250</td>\n",
       "      <td>0</td>\n",
       "      <td>1</td>\n",
       "      <td>187</td>\n",
       "      <td>0</td>\n",
       "      <td>3.5</td>\n",
       "      <td>0</td>\n",
       "      <td>0</td>\n",
       "      <td>2</td>\n",
       "      <td>1</td>\n",
       "    </tr>\n",
       "    <tr>\n",
       "      <th>2</th>\n",
       "      <td>41</td>\n",
       "      <td>0</td>\n",
       "      <td>1</td>\n",
       "      <td>130</td>\n",
       "      <td>204</td>\n",
       "      <td>0</td>\n",
       "      <td>0</td>\n",
       "      <td>172</td>\n",
       "      <td>0</td>\n",
       "      <td>1.4</td>\n",
       "      <td>2</td>\n",
       "      <td>0</td>\n",
       "      <td>2</td>\n",
       "      <td>1</td>\n",
       "    </tr>\n",
       "    <tr>\n",
       "      <th>3</th>\n",
       "      <td>56</td>\n",
       "      <td>1</td>\n",
       "      <td>1</td>\n",
       "      <td>120</td>\n",
       "      <td>236</td>\n",
       "      <td>0</td>\n",
       "      <td>1</td>\n",
       "      <td>178</td>\n",
       "      <td>0</td>\n",
       "      <td>0.8</td>\n",
       "      <td>2</td>\n",
       "      <td>0</td>\n",
       "      <td>2</td>\n",
       "      <td>1</td>\n",
       "    </tr>\n",
       "    <tr>\n",
       "      <th>4</th>\n",
       "      <td>57</td>\n",
       "      <td>0</td>\n",
       "      <td>0</td>\n",
       "      <td>120</td>\n",
       "      <td>354</td>\n",
       "      <td>0</td>\n",
       "      <td>1</td>\n",
       "      <td>163</td>\n",
       "      <td>1</td>\n",
       "      <td>0.6</td>\n",
       "      <td>2</td>\n",
       "      <td>0</td>\n",
       "      <td>2</td>\n",
       "      <td>1</td>\n",
       "    </tr>\n",
       "  </tbody>\n",
       "</table>\n",
       "</div>"
      ],
      "text/plain": [
       "   age  sex  cp  trestbps  chol  fbs  restecg  thalach  exang  oldpeak  slope  \\\n",
       "0   63    1   3       145   233    1        0      150      0      2.3      0   \n",
       "1   37    1   2       130   250    0        1      187      0      3.5      0   \n",
       "2   41    0   1       130   204    0        0      172      0      1.4      2   \n",
       "3   56    1   1       120   236    0        1      178      0      0.8      2   \n",
       "4   57    0   0       120   354    0        1      163      1      0.6      2   \n",
       "\n",
       "   ca  thal  target  \n",
       "0   0     1       1  \n",
       "1   0     2       1  \n",
       "2   0     2       1  \n",
       "3   0     2       1  \n",
       "4   0     2       1  "
      ]
     },
     "execution_count": 103,
     "metadata": {},
     "output_type": "execute_result"
    }
   ],
   "source": [
    "heart_disease.head()"
   ]
  },
  {
   "cell_type": "code",
   "execution_count": 104,
   "id": "5986a791",
   "metadata": {
    "execution": {
     "iopub.execute_input": "2023-06-20T16:47:21.120420Z",
     "iopub.status.busy": "2023-06-20T16:47:21.119964Z",
     "iopub.status.idle": "2023-06-20T16:47:21.753550Z",
     "shell.execute_reply": "2023-06-20T16:47:21.752752Z"
    },
    "papermill": {
     "duration": 0.687629,
     "end_time": "2023-06-20T16:47:21.755811",
     "exception": false,
     "start_time": "2023-06-20T16:47:21.068182",
     "status": "completed"
    },
    "tags": []
   },
   "outputs": [],
   "source": [
    "from sklearn.model_selection import cross_val_score\n",
    "from sklearn.ensemble import RandomForestClassifier\n",
    "\n",
    "np.random.seed(42)\n",
    "\n",
    "X = heart_disease.drop(\"target\", axis=1)\n",
    "y = heart_disease[\"target\"]\n",
    "\n",
    "clf = RandomForestClassifier(n_estimators=66)\n",
    "cross_val_score = cross_val_score(clf, X, y, cv=5)"
   ]
  },
  {
   "cell_type": "code",
   "execution_count": 105,
   "id": "e757dc53",
   "metadata": {
    "execution": {
     "iopub.execute_input": "2023-06-20T16:47:21.859859Z",
     "iopub.status.busy": "2023-06-20T16:47:21.858910Z",
     "iopub.status.idle": "2023-06-20T16:47:21.865063Z",
     "shell.execute_reply": "2023-06-20T16:47:21.864145Z"
    },
    "papermill": {
     "duration": 0.059873,
     "end_time": "2023-06-20T16:47:21.867209",
     "exception": false,
     "start_time": "2023-06-20T16:47:21.807336",
     "status": "completed"
    },
    "tags": []
   },
   "outputs": [
    {
     "data": {
      "text/plain": [
       "0.8347540983606556"
      ]
     },
     "execution_count": 105,
     "metadata": {},
     "output_type": "execute_result"
    }
   ],
   "source": [
    "np.mean(cross_val_score)"
   ]
  },
  {
   "cell_type": "code",
   "execution_count": 106,
   "id": "2ffa0dbe",
   "metadata": {
    "execution": {
     "iopub.execute_input": "2023-06-20T16:47:21.970752Z",
     "iopub.status.busy": "2023-06-20T16:47:21.970353Z",
     "iopub.status.idle": "2023-06-20T16:47:21.975667Z",
     "shell.execute_reply": "2023-06-20T16:47:21.974517Z"
    },
    "papermill": {
     "duration": 0.059724,
     "end_time": "2023-06-20T16:47:21.977826",
     "exception": false,
     "start_time": "2023-06-20T16:47:21.918102",
     "status": "completed"
    },
    "tags": []
   },
   "outputs": [
    {
     "name": "stdout",
     "output_type": "stream",
     "text": [
      "Heart Disease Classifier Cross-Validated Accuracy: 83.48%\n"
     ]
    }
   ],
   "source": [
    "print(f\"Heart Disease Classifier Cross-Validated Accuracy: {np.mean(cross_val_score) *100:.2f}%\")"
   ]
  },
  {
   "cell_type": "markdown",
   "id": "2b537df8",
   "metadata": {
    "papermill": {
     "duration": 0.050449,
     "end_time": "2023-06-20T16:47:22.078956",
     "exception": false,
     "start_time": "2023-06-20T16:47:22.028507",
     "status": "completed"
    },
    "tags": []
   },
   "source": [
    "**Area under ROC (Recevier operating characteristic) curve**\n",
    "\n",
    "* Area unhder curve (AUC)\n",
    "* ROC curve\n",
    "\n",
    "ROC curves are a comparison of a model's true positive rate (tpr) verusus a models false\n",
    "positive rate (fpr).\n",
    "\n",
    "* True positive = model predicts 1 when truth is 1\n",
    "* False positive = model predicts 1 when truth is 0\n",
    "* True negative = model predicts 0 when truth is 0\n",
    "* False negative = model predicts 0 when truth is 1"
   ]
  },
  {
   "cell_type": "code",
   "execution_count": 107,
   "id": "d5e1db3a",
   "metadata": {
    "execution": {
     "iopub.execute_input": "2023-06-20T16:47:22.183619Z",
     "iopub.status.busy": "2023-06-20T16:47:22.182681Z",
     "iopub.status.idle": "2023-06-20T16:47:22.189177Z",
     "shell.execute_reply": "2023-06-20T16:47:22.188348Z"
    },
    "papermill": {
     "duration": 0.061602,
     "end_time": "2023-06-20T16:47:22.191441",
     "exception": false,
     "start_time": "2023-06-20T16:47:22.129839",
     "status": "completed"
    },
    "tags": []
   },
   "outputs": [],
   "source": [
    "# Create X_test... etc\n",
    "X_train, X_test, y_train, y_test = train_test_split(X, y, test_size=0.2)"
   ]
  },
  {
   "cell_type": "code",
   "execution_count": 108,
   "id": "7148d23c",
   "metadata": {
    "execution": {
     "iopub.execute_input": "2023-06-20T16:47:22.295323Z",
     "iopub.status.busy": "2023-06-20T16:47:22.294932Z",
     "iopub.status.idle": "2023-06-20T16:47:22.429971Z",
     "shell.execute_reply": "2023-06-20T16:47:22.429168Z"
    },
    "papermill": {
     "duration": 0.189033,
     "end_time": "2023-06-20T16:47:22.432024",
     "exception": false,
     "start_time": "2023-06-20T16:47:22.242991",
     "status": "completed"
    },
    "tags": []
   },
   "outputs": [
    {
     "data": {
      "text/plain": [
       "(array([[0.46969697, 0.53030303],\n",
       "        [0.12121212, 0.87878788],\n",
       "        [0.07575758, 0.92424242],\n",
       "        [0.53030303, 0.46969697],\n",
       "        [0.56060606, 0.43939394],\n",
       "        [0.71212121, 0.28787879],\n",
       "        [0.24242424, 0.75757576],\n",
       "        [0.93939394, 0.06060606],\n",
       "        [0.21212121, 0.78787879],\n",
       "        [0.59090909, 0.40909091]]),\n",
       " 61)"
      ]
     },
     "execution_count": 108,
     "metadata": {},
     "output_type": "execute_result"
    }
   ],
   "source": [
    "from sklearn.metrics import roc_curve\n",
    "\n",
    "# Fit the classifier\n",
    "clf.fit(X_train, y_train)\n",
    "\n",
    "# Make predictions with probabilities\n",
    "y_probs = clf.predict_proba(X_test)\n",
    "\n",
    "y_probs[:10], len(y_probs)"
   ]
  },
  {
   "cell_type": "code",
   "execution_count": 109,
   "id": "2b042b3e",
   "metadata": {
    "execution": {
     "iopub.execute_input": "2023-06-20T16:47:22.538625Z",
     "iopub.status.busy": "2023-06-20T16:47:22.537964Z",
     "iopub.status.idle": "2023-06-20T16:47:22.544143Z",
     "shell.execute_reply": "2023-06-20T16:47:22.543263Z"
    },
    "papermill": {
     "duration": 0.062674,
     "end_time": "2023-06-20T16:47:22.546158",
     "exception": false,
     "start_time": "2023-06-20T16:47:22.483484",
     "status": "completed"
    },
    "tags": []
   },
   "outputs": [
    {
     "data": {
      "text/plain": [
       "array([0.53030303, 0.87878788, 0.92424242, 0.46969697, 0.43939394,\n",
       "       0.28787879, 0.75757576, 0.06060606, 0.78787879, 0.40909091])"
      ]
     },
     "execution_count": 109,
     "metadata": {},
     "output_type": "execute_result"
    }
   ],
   "source": [
    "y_probs_positive = y_probs[:, 1]\n",
    "y_probs_positive[:10]"
   ]
  },
  {
   "cell_type": "code",
   "execution_count": 110,
   "id": "fe1110da",
   "metadata": {
    "execution": {
     "iopub.execute_input": "2023-06-20T16:47:22.649829Z",
     "iopub.status.busy": "2023-06-20T16:47:22.649279Z",
     "iopub.status.idle": "2023-06-20T16:47:22.658103Z",
     "shell.execute_reply": "2023-06-20T16:47:22.657119Z"
    },
    "papermill": {
     "duration": 0.062809,
     "end_time": "2023-06-20T16:47:22.660065",
     "exception": false,
     "start_time": "2023-06-20T16:47:22.597256",
     "status": "completed"
    },
    "tags": []
   },
   "outputs": [
    {
     "data": {
      "text/plain": [
       "array([0.        , 0.        , 0.        , 0.        , 0.        ,\n",
       "       0.        , 0.        , 0.        , 0.03571429, 0.03571429,\n",
       "       0.03571429, 0.10714286, 0.10714286, 0.17857143, 0.17857143,\n",
       "       0.46428571, 0.57142857, 0.64285714, 0.71428571, 0.78571429,\n",
       "       0.89285714, 0.92857143, 1.        ])"
      ]
     },
     "execution_count": 110,
     "metadata": {},
     "output_type": "execute_result"
    }
   ],
   "source": [
    "# Calculate fpr, tpr and thresholds\n",
    "fpr, tpr, thresholds = roc_curve(y_test, y_probs_positive)\n",
    "\n",
    "# Check the false positive rates\n",
    "fpr"
   ]
  },
  {
   "cell_type": "code",
   "execution_count": 111,
   "id": "b9418d77",
   "metadata": {
    "execution": {
     "iopub.execute_input": "2023-06-20T16:47:22.764724Z",
     "iopub.status.busy": "2023-06-20T16:47:22.763998Z",
     "iopub.status.idle": "2023-06-20T16:47:23.068543Z",
     "shell.execute_reply": "2023-06-20T16:47:23.067500Z"
    },
    "papermill": {
     "duration": 0.359977,
     "end_time": "2023-06-20T16:47:23.070863",
     "exception": false,
     "start_time": "2023-06-20T16:47:22.710886",
     "status": "completed"
    },
    "tags": []
   },
   "outputs": [
    {
     "data": {
      "image/png": "[encoded data removed]",
      "text/plain": [
       "<Figure size 640x480 with 1 Axes>"
      ]
     },
     "metadata": {},
     "output_type": "display_data"
    }
   ],
   "source": [
    "# Create a function for ROC curves\n",
    "import matplotlib.pyplot as plt\n",
    "\n",
    "def plot_roc_curve(fpr, tpr):\n",
    "    \"\"\"\n",
    "    Plots a ROC curve given the false positive rate (fpr)\n",
    "    and true positive rate (tpr) of a model.\n",
    "    \"\"\"\n",
    "    # Plot roc curve\n",
    "    plt.plot(fpr, tpr, color=\"orange\", label=\"ROC\")\n",
    "    \n",
    "    # Plot line with no predictive power (baseline)\n",
    "    plt.plot([0,1], [0,1], color=\"darkblue\", linestyle=\"--\", label=\"Guessing\")\n",
    "    \n",
    "    # Customise the plot\n",
    "    plt.xlabel(\"Flase positive rate (fpr)\")\n",
    "    plt.ylabel(\"True positive rate (fpr)\")\n",
    "    plt.title(\"Receiver Operating Characteristic (ROC) Curve\")\n",
    "    plt.legend()\n",
    "    plt.show()\n",
    "\n",
    "    \n",
    "plot_roc_curve(fpr, tpr)"
   ]
  },
  {
   "cell_type": "code",
   "execution_count": 112,
   "id": "7a94e4c7",
   "metadata": {
    "execution": {
     "iopub.execute_input": "2023-06-20T16:47:23.175041Z",
     "iopub.status.busy": "2023-06-20T16:47:23.174669Z",
     "iopub.status.idle": "2023-06-20T16:47:23.183958Z",
     "shell.execute_reply": "2023-06-20T16:47:23.183159Z"
    },
    "papermill": {
     "duration": 0.063865,
     "end_time": "2023-06-20T16:47:23.186044",
     "exception": false,
     "start_time": "2023-06-20T16:47:23.122179",
     "status": "completed"
    },
    "tags": []
   },
   "outputs": [
    {
     "data": {
      "text/plain": [
       "0.9583333333333334"
      ]
     },
     "execution_count": 112,
     "metadata": {},
     "output_type": "execute_result"
    }
   ],
   "source": [
    "from sklearn.metrics import roc_auc_score\n",
    "\n",
    "roc_auc_score(y_test, y_probs_positive)"
   ]
  },
  {
   "cell_type": "code",
   "execution_count": 113,
   "id": "a86b0ca9",
   "metadata": {
    "execution": {
     "iopub.execute_input": "2023-06-20T16:47:23.293364Z",
     "iopub.status.busy": "2023-06-20T16:47:23.292975Z",
     "iopub.status.idle": "2023-06-20T16:47:23.579162Z",
     "shell.execute_reply": "2023-06-20T16:47:23.578053Z"
    },
    "papermill": {
     "duration": 0.341537,
     "end_time": "2023-06-20T16:47:23.581541",
     "exception": false,
     "start_time": "2023-06-20T16:47:23.240004",
     "status": "completed"
    },
    "tags": []
   },
   "outputs": [
    {
     "data": {
      "image/png": "[encoded data removed]",
      "text/plain": [
       "<Figure size 640x480 with 1 Axes>"
      ]
     },
     "metadata": {},
     "output_type": "display_data"
    }
   ],
   "source": [
    "# Plot perfect ROC score and AUC score\n",
    "fpr, tpr, thresholds = roc_curve(y_test, y_test)\n",
    "plot_roc_curve(fpr, tpr)"
   ]
  },
  {
   "cell_type": "code",
   "execution_count": 114,
   "id": "136113d1",
   "metadata": {
    "execution": {
     "iopub.execute_input": "2023-06-20T16:47:23.688019Z",
     "iopub.status.busy": "2023-06-20T16:47:23.687619Z",
     "iopub.status.idle": "2023-06-20T16:47:23.697159Z",
     "shell.execute_reply": "2023-06-20T16:47:23.696136Z"
    },
    "papermill": {
     "duration": 0.06534,
     "end_time": "2023-06-20T16:47:23.699399",
     "exception": false,
     "start_time": "2023-06-20T16:47:23.634059",
     "status": "completed"
    },
    "tags": []
   },
   "outputs": [
    {
     "data": {
      "text/plain": [
       "1.0"
      ]
     },
     "execution_count": 114,
     "metadata": {},
     "output_type": "execute_result"
    }
   ],
   "source": [
    "# Perfect AUC score\n",
    "roc_auc_score(y_test, y_test)"
   ]
  },
  {
   "cell_type": "markdown",
   "id": "46bfdc00",
   "metadata": {
    "papermill": {
     "duration": 0.05273,
     "end_time": "2023-06-20T16:47:23.805647",
     "exception": false,
     "start_time": "2023-06-20T16:47:23.752917",
     "status": "completed"
    },
    "tags": []
   },
   "source": [
    "In a nutshell:\n",
    "* ROC curves and AUC metrics are evaluation metrics for binary classification models\n",
    "  (a modelwhich predicts one thing or another, such as heart disease or not).\n",
    "\n",
    "* The ROC curve compares the true positive rate (tpr) versus the \n",
    "  false positive rate (fpr) at different classification thresholds,\n",
    "\n",
    "* The AUC metric tells you how well your model is at choosing\n",
    "  between classes (for example, how well it is at deciding whether\n",
    "  someone has hear disease or not). A perfect model will get an AUC score of 1.\n",
    "  \n",
    "For more info:\n",
    "- https://www.youtube.com/watch?v=4jRBRDbJemM\n",
    "- https://scikit-learn.org/stable/auto_examples/model_selection/plot_roc.html\n",
    "- https://developers.google.com/machine-learning/crash-course/classification/roc-and-auc"
   ]
  },
  {
   "cell_type": "markdown",
   "id": "6aeed076",
   "metadata": {
    "papermill": {
     "duration": 0.052986,
     "end_time": "2023-06-20T16:47:23.911959",
     "exception": false,
     "start_time": "2023-06-20T16:47:23.858973",
     "status": "completed"
    },
    "tags": []
   },
   "source": [
    "**Confusion Matrix**\n",
    "\n",
    "A confusion matrix is a quick way to compare the labels a model predicts and the actual\n",
    "labels it was supposed to predict.\n",
    "\n",
    "In essence, giving you an idea of where the model is getting confused.\n",
    "\n",
    "Reference: https://scikit-learn.org/stable/modules/generated/sklearn.metrics.confusion_matrix.html"
   ]
  },
  {
   "cell_type": "code",
   "execution_count": 115,
   "id": "bb9a379c",
   "metadata": {
    "execution": {
     "iopub.execute_input": "2023-06-20T16:47:24.019037Z",
     "iopub.status.busy": "2023-06-20T16:47:24.018634Z",
     "iopub.status.idle": "2023-06-20T16:47:24.038793Z",
     "shell.execute_reply": "2023-06-20T16:47:24.037778Z"
    },
    "papermill": {
     "duration": 0.076314,
     "end_time": "2023-06-20T16:47:24.041149",
     "exception": false,
     "start_time": "2023-06-20T16:47:23.964835",
     "status": "completed"
    },
    "tags": []
   },
   "outputs": [
    {
     "data": {
      "text/plain": [
       "array([[25,  3],\n",
       "       [ 4, 29]])"
      ]
     },
     "execution_count": 115,
     "metadata": {},
     "output_type": "execute_result"
    }
   ],
   "source": [
    "from sklearn.metrics import confusion_matrix\n",
    "\n",
    "y_preds = clf.predict(X_test)\n",
    "\n",
    "confusion_matrix(y_test, y_preds)"
   ]
  },
  {
   "cell_type": "code",
   "execution_count": 116,
   "id": "5d43ea0e",
   "metadata": {
    "execution": {
     "iopub.execute_input": "2023-06-20T16:47:24.151932Z",
     "iopub.status.busy": "2023-06-20T16:47:24.151526Z",
     "iopub.status.idle": "2023-06-20T16:47:24.180869Z",
     "shell.execute_reply": "2023-06-20T16:47:24.179766Z"
    },
    "papermill": {
     "duration": 0.088503,
     "end_time": "2023-06-20T16:47:24.183276",
     "exception": false,
     "start_time": "2023-06-20T16:47:24.094773",
     "status": "completed"
    },
    "tags": []
   },
   "outputs": [
    {
     "data": {
      "text/html": [
       "<div>\n",
       "<style scoped>\n",
       "    .dataframe tbody tr th:only-of-type {\n",
       "        vertical-align: middle;\n",
       "    }\n",
       "\n",
       "    .dataframe tbody tr th {\n",
       "        vertical-align: top;\n",
       "    }\n",
       "\n",
       "    .dataframe thead th {\n",
       "        text-align: right;\n",
       "    }\n",
       "</style>\n",
       "<table border=\"1\" class=\"dataframe\">\n",
       "  <thead>\n",
       "    <tr style=\"text-align: right;\">\n",
       "      <th>Predicted Labels</th>\n",
       "      <th>0</th>\n",
       "      <th>1</th>\n",
       "    </tr>\n",
       "    <tr>\n",
       "      <th>Actual Labels</th>\n",
       "      <th></th>\n",
       "      <th></th>\n",
       "    </tr>\n",
       "  </thead>\n",
       "  <tbody>\n",
       "    <tr>\n",
       "      <th>0</th>\n",
       "      <td>25</td>\n",
       "      <td>3</td>\n",
       "    </tr>\n",
       "    <tr>\n",
       "      <th>1</th>\n",
       "      <td>4</td>\n",
       "      <td>29</td>\n",
       "    </tr>\n",
       "  </tbody>\n",
       "</table>\n",
       "</div>"
      ],
      "text/plain": [
       "Predicted Labels   0   1\n",
       "Actual Labels           \n",
       "0                 25   3\n",
       "1                  4  29"
      ]
     },
     "execution_count": 116,
     "metadata": {},
     "output_type": "execute_result"
    }
   ],
   "source": [
    "# Visualise confusion matrix with pd.crosstab()\n",
    "pd.crosstab(y_test, y_preds,\n",
    "            rownames=[\"Actual Labels\"],\n",
    "            colnames=[\"Predicted Labels\"]\n",
    ")"
   ]
  },
  {
   "cell_type": "code",
   "execution_count": 117,
   "id": "3445190b",
   "metadata": {
    "execution": {
     "iopub.execute_input": "2023-06-20T16:47:24.293246Z",
     "iopub.status.busy": "2023-06-20T16:47:24.292699Z",
     "iopub.status.idle": "2023-06-20T16:47:24.598229Z",
     "shell.execute_reply": "2023-06-20T16:47:24.597066Z"
    },
    "papermill": {
     "duration": 0.362115,
     "end_time": "2023-06-20T16:47:24.600625",
     "exception": false,
     "start_time": "2023-06-20T16:47:24.238510",
     "status": "completed"
    },
    "tags": []
   },
   "outputs": [
    {
     "data": {
      "image/png": "[encoded data removed]",
      "text/plain": [
       "<Figure size 640x480 with 2 Axes>"
      ]
     },
     "metadata": {},
     "output_type": "display_data"
    }
   ],
   "source": [
    "# Make our confusion matrix more visual with Seaborn's hearmap()\n",
    "import seaborn as sns\n",
    "\n",
    "# Set the font scale\n",
    "sns.set(font_scale=1.5)\n",
    "\n",
    "# Create a confusion matrix\n",
    "conf_mat = confusion_matrix(y_test, y_preds)\n",
    "\n",
    "# Plot it using Seaborn\n",
    "sns.heatmap(conf_mat);"
   ]
  },
  {
   "cell_type": "code",
   "execution_count": 118,
   "id": "1127cea1",
   "metadata": {
    "execution": {
     "iopub.execute_input": "2023-06-20T16:47:24.709677Z",
     "iopub.status.busy": "2023-06-20T16:47:24.709173Z",
     "iopub.status.idle": "2023-06-20T16:47:24.713743Z",
     "shell.execute_reply": "2023-06-20T16:47:24.712538Z"
    },
    "papermill": {
     "duration": 0.061552,
     "end_time": "2023-06-20T16:47:24.715988",
     "exception": false,
     "start_time": "2023-06-20T16:47:24.654436",
     "status": "completed"
    },
    "tags": []
   },
   "outputs": [],
   "source": [
    "# way to download packages into the current env from a Jupyter notebook\n",
    "# import sys\n",
    "# !conda install --yes --prefix {sys.prefix} seaborn"
   ]
  },
  {
   "cell_type": "markdown",
   "id": "e87a569c",
   "metadata": {
    "papermill": {
     "duration": 0.056693,
     "end_time": "2023-06-20T16:47:24.826010",
     "exception": false,
     "start_time": "2023-06-20T16:47:24.769317",
     "status": "completed"
    },
    "tags": []
   },
   "source": [
    "### Creating a confusion matrix using Scikit-Learn"
   ]
  },
  {
   "cell_type": "code",
   "execution_count": 119,
   "id": "e00fdd22",
   "metadata": {
    "execution": {
     "iopub.execute_input": "2023-06-20T16:47:24.933615Z",
     "iopub.status.busy": "2023-06-20T16:47:24.932531Z",
     "iopub.status.idle": "2023-06-20T16:47:25.280871Z",
     "shell.execute_reply": "2023-06-20T16:47:25.280103Z"
    },
    "papermill": {
     "duration": 0.404128,
     "end_time": "2023-06-20T16:47:25.282809",
     "exception": false,
     "start_time": "2023-06-20T16:47:24.878681",
     "status": "completed"
    },
    "tags": []
   },
   "outputs": [
    {
     "data": {
      "text/plain": [
       "<sklearn.metrics._plot.confusion_matrix.ConfusionMatrixDisplay at 0x7c1ee3404eb0>"
      ]
     },
     "execution_count": 119,
     "metadata": {},
     "output_type": "execute_result"
    },
    {
     "data": {
      "image/png": "[encoded data removed]",
      "text/plain": [
       "<Figure size 640x480 with 2 Axes>"
      ]
     },
     "metadata": {},
     "output_type": "display_data"
    }
   ],
   "source": [
    "from sklearn.metrics import ConfusionMatrixDisplay\n",
    "\n",
    "ConfusionMatrixDisplay.from_estimator(estimator=clf, X=X, y=y)"
   ]
  },
  {
   "cell_type": "code",
   "execution_count": 120,
   "id": "be17d7d5",
   "metadata": {
    "execution": {
     "iopub.execute_input": "2023-06-20T16:47:25.392667Z",
     "iopub.status.busy": "2023-06-20T16:47:25.391685Z",
     "iopub.status.idle": "2023-06-20T16:47:25.703205Z",
     "shell.execute_reply": "2023-06-20T16:47:25.701957Z"
    },
    "papermill": {
     "duration": 0.368543,
     "end_time": "2023-06-20T16:47:25.705727",
     "exception": false,
     "start_time": "2023-06-20T16:47:25.337184",
     "status": "completed"
    },
    "tags": []
   },
   "outputs": [
    {
     "data": {
      "image/png": "[encoded data removed]",
      "text/plain": [
       "<Figure size 640x480 with 2 Axes>"
      ]
     },
     "metadata": {},
     "output_type": "display_data"
    }
   ],
   "source": [
    "ConfusionMatrixDisplay.from_predictions(y_true=y_test,\n",
    "                                        y_pred=y_preds);"
   ]
  },
  {
   "cell_type": "markdown",
   "id": "89c741ed",
   "metadata": {
    "papermill": {
     "duration": 0.054271,
     "end_time": "2023-06-20T16:47:25.815390",
     "exception": false,
     "start_time": "2023-06-20T16:47:25.761119",
     "status": "completed"
    },
    "tags": []
   },
   "source": [
    "**Classification Report**"
   ]
  },
  {
   "cell_type": "code",
   "execution_count": 121,
   "id": "0bc320ba",
   "metadata": {
    "execution": {
     "iopub.execute_input": "2023-06-20T16:47:25.986247Z",
     "iopub.status.busy": "2023-06-20T16:47:25.985335Z",
     "iopub.status.idle": "2023-06-20T16:47:25.997965Z",
     "shell.execute_reply": "2023-06-20T16:47:25.996838Z"
    },
    "papermill": {
     "duration": 0.130923,
     "end_time": "2023-06-20T16:47:25.999972",
     "exception": false,
     "start_time": "2023-06-20T16:47:25.869049",
     "status": "completed"
    },
    "tags": []
   },
   "outputs": [
    {
     "name": "stdout",
     "output_type": "stream",
     "text": [
      "              precision    recall  f1-score   support\n",
      "\n",
      "           0       0.86      0.89      0.88        28\n",
      "           1       0.91      0.88      0.89        33\n",
      "\n",
      "    accuracy                           0.89        61\n",
      "   macro avg       0.88      0.89      0.88        61\n",
      "weighted avg       0.89      0.89      0.89        61\n",
      "\n"
     ]
    }
   ],
   "source": [
    "from sklearn.metrics import classification_report\n",
    "\n",
    "print(classification_report(y_test, y_preds))"
   ]
  },
  {
   "cell_type": "markdown",
   "id": "a8c4555f",
   "metadata": {
    "papermill": {
     "duration": 0.053856,
     "end_time": "2023-06-20T16:47:26.108300",
     "exception": false,
     "start_time": "2023-06-20T16:47:26.054444",
     "status": "completed"
    },
    "tags": []
   },
   "source": [
    "Notes:\n",
    "* **Precision** - Indicates the proportion of positive identifications (model\n",
    "  predicted class 1) which were actually correct. A model which produces\n",
    "  no false positives has a precision of 1.0\n",
    "\n",
    "* **Recall** - Indicates the proportion of actual positives which were correctly classified.\n",
    "  A model which produces no false negatives has a recall of 1.0\n",
    "\n",
    "* **F1 Score** - A combination of precision and recall.\n",
    "  A perfect model achieves an F1 score of 1.0\n",
    "\n",
    "* **Support** - The number of samples each metric was calculated on.\n",
    "\n",
    "* **Accuracy** - The accuracy of the model in decimal form.\n",
    "  Perfect accuracy is equal to 1.0\n",
    "\n",
    "* **Macro avg** - Short for macro average, the average precision, recall and F1 score\n",
    "  between classes. Macro avg doesn't class imbalance into effort, so if you do \n",
    "  have class imbalances, pay attention to this metric.\n",
    "  \n",
    "\n",
    "* **Weighted avg** - Short for weighted average, the weighted average precision, \n",
    "  recall and F1 score between classes. Wighted means each metric is calculated\n",
    "  with respect to how many samples there are in each class. This metric will\n",
    "  favour the majority class (e.g. will give a high value when one class out\n",
    "  performs another due to having more samples)"
   ]
  },
  {
   "cell_type": "code",
   "execution_count": 122,
   "id": "2cd68e34",
   "metadata": {
    "execution": {
     "iopub.execute_input": "2023-06-20T16:47:26.218627Z",
     "iopub.status.busy": "2023-06-20T16:47:26.217609Z",
     "iopub.status.idle": "2023-06-20T16:47:26.259670Z",
     "shell.execute_reply": "2023-06-20T16:47:26.258608Z"
    },
    "papermill": {
     "duration": 0.099703,
     "end_time": "2023-06-20T16:47:26.261904",
     "exception": false,
     "start_time": "2023-06-20T16:47:26.162201",
     "status": "completed"
    },
    "tags": []
   },
   "outputs": [
    {
     "name": "stderr",
     "output_type": "stream",
     "text": [
      "/opt/conda/lib/python3.10/site-packages/sklearn/metrics/_classification.py:1344: UndefinedMetricWarning: Precision and F-score are ill-defined and being set to 0.0 in labels with no predicted samples. Use `zero_division` parameter to control this behavior.\n",
      "  _warn_prf(average, modifier, msg_start, len(result))\n",
      "/opt/conda/lib/python3.10/site-packages/sklearn/metrics/_classification.py:1344: UndefinedMetricWarning: Precision and F-score are ill-defined and being set to 0.0 in labels with no predicted samples. Use `zero_division` parameter to control this behavior.\n",
      "  _warn_prf(average, modifier, msg_start, len(result))\n",
      "/opt/conda/lib/python3.10/site-packages/sklearn/metrics/_classification.py:1344: UndefinedMetricWarning: Precision and F-score are ill-defined and being set to 0.0 in labels with no predicted samples. Use `zero_division` parameter to control this behavior.\n",
      "  _warn_prf(average, modifier, msg_start, len(result))\n"
     ]
    },
    {
     "data": {
      "text/html": [
       "<div>\n",
       "<style scoped>\n",
       "    .dataframe tbody tr th:only-of-type {\n",
       "        vertical-align: middle;\n",
       "    }\n",
       "\n",
       "    .dataframe tbody tr th {\n",
       "        vertical-align: top;\n",
       "    }\n",
       "\n",
       "    .dataframe thead th {\n",
       "        text-align: right;\n",
       "    }\n",
       "</style>\n",
       "<table border=\"1\" class=\"dataframe\">\n",
       "  <thead>\n",
       "    <tr style=\"text-align: right;\">\n",
       "      <th></th>\n",
       "      <th>0.0</th>\n",
       "      <th>1.0</th>\n",
       "      <th>accuracy</th>\n",
       "      <th>macro avg</th>\n",
       "      <th>weighted avg</th>\n",
       "    </tr>\n",
       "  </thead>\n",
       "  <tbody>\n",
       "    <tr>\n",
       "      <th>precision</th>\n",
       "      <td>0.99990</td>\n",
       "      <td>0.0</td>\n",
       "      <td>0.9999</td>\n",
       "      <td>0.499950</td>\n",
       "      <td>0.99980</td>\n",
       "    </tr>\n",
       "    <tr>\n",
       "      <th>recall</th>\n",
       "      <td>1.00000</td>\n",
       "      <td>0.0</td>\n",
       "      <td>0.9999</td>\n",
       "      <td>0.500000</td>\n",
       "      <td>0.99990</td>\n",
       "    </tr>\n",
       "    <tr>\n",
       "      <th>f1-score</th>\n",
       "      <td>0.99995</td>\n",
       "      <td>0.0</td>\n",
       "      <td>0.9999</td>\n",
       "      <td>0.499975</td>\n",
       "      <td>0.99985</td>\n",
       "    </tr>\n",
       "    <tr>\n",
       "      <th>support</th>\n",
       "      <td>9999.00000</td>\n",
       "      <td>1.0</td>\n",
       "      <td>0.9999</td>\n",
       "      <td>10000.000000</td>\n",
       "      <td>10000.00000</td>\n",
       "    </tr>\n",
       "  </tbody>\n",
       "</table>\n",
       "</div>"
      ],
      "text/plain": [
       "                  0.0  1.0  accuracy     macro avg  weighted avg\n",
       "precision     0.99990  0.0    0.9999      0.499950       0.99980\n",
       "recall        1.00000  0.0    0.9999      0.500000       0.99990\n",
       "f1-score      0.99995  0.0    0.9999      0.499975       0.99985\n",
       "support    9999.00000  1.0    0.9999  10000.000000   10000.00000"
      ]
     },
     "execution_count": 122,
     "metadata": {},
     "output_type": "execute_result"
    }
   ],
   "source": [
    "# Where precision and recall become valuable\n",
    "disease_true = np.zeros(10000)\n",
    "disease_true[0] = 1 ## only one positive case\n",
    "\n",
    "disease_preds = np.zeros(10000) ## model predicts every case as 0\n",
    "\n",
    "pd.DataFrame(classification_report(disease_true,\n",
    "                                   disease_preds,\n",
    "                                   output_dict=True))"
   ]
  },
  {
   "cell_type": "markdown",
   "id": "6bc61690",
   "metadata": {
    "papermill": {
     "duration": 0.054087,
     "end_time": "2023-06-20T16:47:26.370535",
     "exception": false,
     "start_time": "2023-06-20T16:47:26.316448",
     "status": "completed"
    },
    "tags": []
   },
   "source": [
    "To summarise classification metrics:\n",
    "  - **Accuracy** is a good measure to start with if all classes are balanced (e.g. same amount of samples).\n",
    "  - **Precision** and **recall** become more important when classes are imbalanced.\n",
    "  - If false positive predictions are worse than false negatives, aim for higher precision.\n",
    "  - If false negative predictions are worse than false positives, aim for higher recall.\n",
    "  - **F1-score** is a combination of precision and recall."
   ]
  },
  {
   "cell_type": "markdown",
   "id": "6c474b9a",
   "metadata": {
    "papermill": {
     "duration": 0.055528,
     "end_time": "2023-06-20T16:47:26.480521",
     "exception": false,
     "start_time": "2023-06-20T16:47:26.424993",
     "status": "completed"
    },
    "tags": []
   },
   "source": [
    "### 4.2.2 Regression model evaluation metrics\n",
    "\n",
    "Model evaluation metrics documentation - https://scikit-learn.org/stable/modules/model_evaluation.html#regression-metrics\n",
    "\n",
    "The ones we're covering:\n",
    "\n",
    "1. R^2 (R-SQUARED) or coefficient of determination\n",
    "2. Mean absolute error (MAE)\n",
    "3. Mean squared error (MSE)"
   ]
  },
  {
   "cell_type": "markdown",
   "id": "789c40c2",
   "metadata": {
    "papermill": {
     "duration": 0.054928,
     "end_time": "2023-06-20T16:47:26.590795",
     "exception": false,
     "start_time": "2023-06-20T16:47:26.535867",
     "status": "completed"
    },
    "tags": []
   },
   "source": [
    "**R^2**\n",
    "\n",
    "What R-squared does: Compares our models predictions to the mean of the targets. Values can range from negative infinity (a very poor model) to 1. For example, if all your model does is predict the mean of the targets, it's R^2 value would be 0. And if your model perfectly predicts a range of numbers, it's R^2 value would be 1."
   ]
  },
  {
   "cell_type": "code",
   "execution_count": 123,
   "id": "0ce1728d",
   "metadata": {
    "execution": {
     "iopub.execute_input": "2023-06-20T16:47:26.701861Z",
     "iopub.status.busy": "2023-06-20T16:47:26.701154Z",
     "iopub.status.idle": "2023-06-20T16:47:39.364914Z",
     "shell.execute_reply": "2023-06-20T16:47:39.363859Z"
    },
    "papermill": {
     "duration": 12.721605,
     "end_time": "2023-06-20T16:47:39.367024",
     "exception": false,
     "start_time": "2023-06-20T16:47:26.645419",
     "status": "completed"
    },
    "tags": []
   },
   "outputs": [
    {
     "data": {
      "text/html": [
       "<style>#sk-container-id-4 {color: black;background-color: white;}#sk-container-id-4 pre{padding: 0;}#sk-container-id-4 div.sk-toggleable {background-color: white;}#sk-container-id-4 label.sk-toggleable__label {cursor: pointer;display: block;width: 100%;margin-bottom: 0;padding: 0.3em;box-sizing: border-box;text-align: center;}#sk-container-id-4 label.sk-toggleable__label-arrow:before {content: \"▸\";float: left;margin-right: 0.25em;color: #696969;}#sk-container-id-4 label.sk-toggleable__label-arrow:hover:before {color: black;}#sk-container-id-4 div.sk-estimator:hover label.sk-toggleable__label-arrow:before {color: black;}#sk-container-id-4 div.sk-toggleable__content {max-height: 0;max-width: 0;overflow: hidden;text-align: left;background-color: #f0f8ff;}#sk-container-id-4 div.sk-toggleable__content pre {margin: 0.2em;color: black;border-radius: 0.25em;background-color: #f0f8ff;}#sk-container-id-4 input.sk-toggleable__control:checked~div.sk-toggleable__content {max-height: 200px;max-width: 100%;overflow: auto;}#sk-container-id-4 input.sk-toggleable__control:checked~label.sk-toggleable__label-arrow:before {content: \"▾\";}#sk-container-id-4 div.sk-estimator input.sk-toggleable__control:checked~label.sk-toggleable__label {background-color: #d4ebff;}#sk-container-id-4 div.sk-label input.sk-toggleable__control:checked~label.sk-toggleable__label {background-color: #d4ebff;}#sk-container-id-4 input.sk-hidden--visually {border: 0;clip: rect(1px 1px 1px 1px);clip: rect(1px, 1px, 1px, 1px);height: 1px;margin: -1px;overflow: hidden;padding: 0;position: absolute;width: 1px;}#sk-container-id-4 div.sk-estimator {font-family: monospace;background-color: #f0f8ff;border: 1px dotted black;border-radius: 0.25em;box-sizing: border-box;margin-bottom: 0.5em;}#sk-container-id-4 div.sk-estimator:hover {background-color: #d4ebff;}#sk-container-id-4 div.sk-parallel-item::after {content: \"\";width: 100%;border-bottom: 1px solid gray;flex-grow: 1;}#sk-container-id-4 div.sk-label:hover label.sk-toggleable__label {background-color: #d4ebff;}#sk-container-id-4 div.sk-serial::before {content: \"\";position: absolute;border-left: 1px solid gray;box-sizing: border-box;top: 0;bottom: 0;left: 50%;z-index: 0;}#sk-container-id-4 div.sk-serial {display: flex;flex-direction: column;align-items: center;background-color: white;padding-right: 0.2em;padding-left: 0.2em;position: relative;}#sk-container-id-4 div.sk-item {position: relative;z-index: 1;}#sk-container-id-4 div.sk-parallel {display: flex;align-items: stretch;justify-content: center;background-color: white;position: relative;}#sk-container-id-4 div.sk-item::before, #sk-container-id-4 div.sk-parallel-item::before {content: \"\";position: absolute;border-left: 1px solid gray;box-sizing: border-box;top: 0;bottom: 0;left: 50%;z-index: -1;}#sk-container-id-4 div.sk-parallel-item {display: flex;flex-direction: column;z-index: 1;position: relative;background-color: white;}#sk-container-id-4 div.sk-parallel-item:first-child::after {align-self: flex-end;width: 50%;}#sk-container-id-4 div.sk-parallel-item:last-child::after {align-self: flex-start;width: 50%;}#sk-container-id-4 div.sk-parallel-item:only-child::after {width: 0;}#sk-container-id-4 div.sk-dashed-wrapped {border: 1px dashed gray;margin: 0 0.4em 0.5em 0.4em;box-sizing: border-box;padding-bottom: 0.4em;background-color: white;}#sk-container-id-4 div.sk-label label {font-family: monospace;font-weight: bold;display: inline-block;line-height: 1.2em;}#sk-container-id-4 div.sk-label-container {text-align: center;}#sk-container-id-4 div.sk-container {/* jupyter's `normalize.less` sets `[hidden] { display: none; }` but bootstrap.min.css set `[hidden] { display: none !important; }` so we also need the `!important` here to be able to override the default hidden behavior on the sphinx rendered scikit-learn.org. See: https://github.com/scikit-learn/scikit-learn/issues/21755 */display: inline-block !important;position: relative;}#sk-container-id-4 div.sk-text-repr-fallback {display: none;}</style><div id=\"sk-container-id-4\" class=\"sk-top-container\"><div class=\"sk-text-repr-fallback\"><pre>RandomForestRegressor()</pre><b>In a Jupyter environment, please rerun this cell to show the HTML representation or trust the notebook. <br />On GitHub, the HTML representation is unable to render, please try loading this page with nbviewer.org.</b></div><div class=\"sk-container\" hidden><div class=\"sk-item\"><div class=\"sk-estimator sk-toggleable\"><input class=\"sk-toggleable__control sk-hidden--visually\" id=\"sk-estimator-id-4\" type=\"checkbox\" checked><label for=\"sk-estimator-id-4\" class=\"sk-toggleable__label sk-toggleable__label-arrow\">RandomForestRegressor</label><div class=\"sk-toggleable__content\"><pre>RandomForestRegressor()</pre></div></div></div></div></div>"
      ],
      "text/plain": [
       "RandomForestRegressor()"
      ]
     },
     "execution_count": 123,
     "metadata": {},
     "output_type": "execute_result"
    }
   ],
   "source": [
    "from sklearn.ensemble import RandomForestRegressor\n",
    "\n",
    "np.random.seed(42)\n",
    "\n",
    "X = housing_df.drop(\"target\", axis=1)\n",
    "y = housing_df[\"target\"]\n",
    "\n",
    "X_train, X_test, y_train, y_test = train_test_split(X, y, test_size=0.2)\n",
    "\n",
    "model = RandomForestRegressor()\n",
    "model.fit(X_train, y_train)"
   ]
  },
  {
   "cell_type": "code",
   "execution_count": 124,
   "id": "1fc5dc49",
   "metadata": {
    "execution": {
     "iopub.execute_input": "2023-06-20T16:47:39.477315Z",
     "iopub.status.busy": "2023-06-20T16:47:39.476939Z",
     "iopub.status.idle": "2023-06-20T16:47:39.628913Z",
     "shell.execute_reply": "2023-06-20T16:47:39.627852Z"
    },
    "papermill": {
     "duration": 0.209484,
     "end_time": "2023-06-20T16:47:39.631323",
     "exception": false,
     "start_time": "2023-06-20T16:47:39.421839",
     "status": "completed"
    },
    "tags": []
   },
   "outputs": [
    {
     "data": {
      "text/plain": [
       "0.8066196804802649"
      ]
     },
     "execution_count": 124,
     "metadata": {},
     "output_type": "execute_result"
    }
   ],
   "source": [
    "model.score(X_test, y_test)"
   ]
  },
  {
   "cell_type": "code",
   "execution_count": 125,
   "id": "a117a19a",
   "metadata": {
    "execution": {
     "iopub.execute_input": "2023-06-20T16:47:39.742698Z",
     "iopub.status.busy": "2023-06-20T16:47:39.742282Z",
     "iopub.status.idle": "2023-06-20T16:47:39.747544Z",
     "shell.execute_reply": "2023-06-20T16:47:39.746476Z"
    },
    "papermill": {
     "duration": 0.063115,
     "end_time": "2023-06-20T16:47:39.749757",
     "exception": false,
     "start_time": "2023-06-20T16:47:39.686642",
     "status": "completed"
    },
    "tags": []
   },
   "outputs": [],
   "source": [
    "from sklearn.metrics import r2_score\n",
    "\n",
    "# Fill an array with y_test mean\n",
    "y_test_mean = np.full(len(y_test), y_test.mean())"
   ]
  },
  {
   "cell_type": "code",
   "execution_count": 126,
   "id": "59651a4c",
   "metadata": {
    "execution": {
     "iopub.execute_input": "2023-06-20T16:47:39.860304Z",
     "iopub.status.busy": "2023-06-20T16:47:39.859663Z",
     "iopub.status.idle": "2023-06-20T16:47:39.865730Z",
     "shell.execute_reply": "2023-06-20T16:47:39.865018Z"
    },
    "papermill": {
     "duration": 0.063258,
     "end_time": "2023-06-20T16:47:39.867586",
     "exception": false,
     "start_time": "2023-06-20T16:47:39.804328",
     "status": "completed"
    },
    "tags": []
   },
   "outputs": [
    {
     "data": {
      "text/plain": [
       "array([2.0550031, 2.0550031, 2.0550031, 2.0550031, 2.0550031, 2.0550031,\n",
       "       2.0550031, 2.0550031, 2.0550031, 2.0550031])"
      ]
     },
     "execution_count": 126,
     "metadata": {},
     "output_type": "execute_result"
    }
   ],
   "source": [
    "y_test_mean[:10]"
   ]
  },
  {
   "cell_type": "code",
   "execution_count": 127,
   "id": "872c5105",
   "metadata": {
    "execution": {
     "iopub.execute_input": "2023-06-20T16:47:39.979618Z",
     "iopub.status.busy": "2023-06-20T16:47:39.979237Z",
     "iopub.status.idle": "2023-06-20T16:47:39.987396Z",
     "shell.execute_reply": "2023-06-20T16:47:39.986425Z"
    },
    "papermill": {
     "duration": 0.066386,
     "end_time": "2023-06-20T16:47:39.989579",
     "exception": false,
     "start_time": "2023-06-20T16:47:39.923193",
     "status": "completed"
    },
    "tags": []
   },
   "outputs": [
    {
     "data": {
      "text/plain": [
       "0.0"
      ]
     },
     "execution_count": 127,
     "metadata": {},
     "output_type": "execute_result"
    }
   ],
   "source": [
    "r2_score(y_true=y_test, \n",
    "         y_pred=y_test_mean)"
   ]
  },
  {
   "cell_type": "code",
   "execution_count": 128,
   "id": "a445f2a1",
   "metadata": {
    "execution": {
     "iopub.execute_input": "2023-06-20T16:47:40.102439Z",
     "iopub.status.busy": "2023-06-20T16:47:40.102047Z",
     "iopub.status.idle": "2023-06-20T16:47:40.109341Z",
     "shell.execute_reply": "2023-06-20T16:47:40.108268Z"
    },
    "papermill": {
     "duration": 0.066284,
     "end_time": "2023-06-20T16:47:40.111402",
     "exception": false,
     "start_time": "2023-06-20T16:47:40.045118",
     "status": "completed"
    },
    "tags": []
   },
   "outputs": [
    {
     "data": {
      "text/plain": [
       "1.0"
      ]
     },
     "execution_count": 128,
     "metadata": {},
     "output_type": "execute_result"
    }
   ],
   "source": [
    "r2_score(y_true=y_test,\n",
    "         y_pred=y_test)"
   ]
  },
  {
   "cell_type": "markdown",
   "id": "52d8c725",
   "metadata": {
    "papermill": {
     "duration": 0.05402,
     "end_time": "2023-06-20T16:47:40.219456",
     "exception": false,
     "start_time": "2023-06-20T16:47:40.165436",
     "status": "completed"
    },
    "tags": []
   },
   "source": [
    "**Mean absolute error (MAE)**\n",
    "\n",
    "MAE is the average of the absolute differences between predictions and actual values.\n",
    "\n",
    "It gives you an idea of how wrong your models predictions are."
   ]
  },
  {
   "cell_type": "code",
   "execution_count": 129,
   "id": "f32136bc",
   "metadata": {
    "execution": {
     "iopub.execute_input": "2023-06-20T16:47:40.331290Z",
     "iopub.status.busy": "2023-06-20T16:47:40.330910Z",
     "iopub.status.idle": "2023-06-20T16:47:40.482314Z",
     "shell.execute_reply": "2023-06-20T16:47:40.481414Z"
    },
    "papermill": {
     "duration": 0.210148,
     "end_time": "2023-06-20T16:47:40.484527",
     "exception": false,
     "start_time": "2023-06-20T16:47:40.274379",
     "status": "completed"
    },
    "tags": []
   },
   "outputs": [
    {
     "data": {
      "text/plain": [
       "0.3265721842781009"
      ]
     },
     "execution_count": 129,
     "metadata": {},
     "output_type": "execute_result"
    }
   ],
   "source": [
    "# MAE\n",
    "from sklearn.metrics import mean_absolute_error\n",
    "\n",
    "y_preds = model.predict(X_test)\n",
    "mae = mean_absolute_error(y_test, y_preds)\n",
    "mae"
   ]
  },
  {
   "cell_type": "code",
   "execution_count": 130,
   "id": "ebf6caa9",
   "metadata": {
    "execution": {
     "iopub.execute_input": "2023-06-20T16:47:40.597395Z",
     "iopub.status.busy": "2023-06-20T16:47:40.597007Z",
     "iopub.status.idle": "2023-06-20T16:47:40.602806Z",
     "shell.execute_reply": "2023-06-20T16:47:40.602179Z"
    },
    "papermill": {
     "duration": 0.063781,
     "end_time": "2023-06-20T16:47:40.604717",
     "exception": false,
     "start_time": "2023-06-20T16:47:40.540936",
     "status": "completed"
    },
    "tags": []
   },
   "outputs": [
    {
     "data": {
      "text/plain": [
       "array([0.49384  , 0.75494  , 4.9285964, ..., 4.8363785, 0.71782  ,\n",
       "       1.67901  ])"
      ]
     },
     "execution_count": 130,
     "metadata": {},
     "output_type": "execute_result"
    }
   ],
   "source": [
    "y_preds"
   ]
  },
  {
   "cell_type": "code",
   "execution_count": 131,
   "id": "7a6dca6a",
   "metadata": {
    "execution": {
     "iopub.execute_input": "2023-06-20T16:47:40.717662Z",
     "iopub.status.busy": "2023-06-20T16:47:40.717260Z",
     "iopub.status.idle": "2023-06-20T16:47:40.725485Z",
     "shell.execute_reply": "2023-06-20T16:47:40.724652Z"
    },
    "papermill": {
     "duration": 0.066904,
     "end_time": "2023-06-20T16:47:40.727434",
     "exception": false,
     "start_time": "2023-06-20T16:47:40.660530",
     "status": "completed"
    },
    "tags": []
   },
   "outputs": [
    {
     "data": {
      "text/plain": [
       "20046    0.47700\n",
       "3024     0.45800\n",
       "15663    5.00001\n",
       "20484    2.18600\n",
       "9814     2.78000\n",
       "          ...   \n",
       "15362    2.63300\n",
       "16623    2.66800\n",
       "18086    5.00001\n",
       "2144     0.72300\n",
       "3665     1.51500\n",
       "Name: target, Length: 4128, dtype: float64"
      ]
     },
     "execution_count": 131,
     "metadata": {},
     "output_type": "execute_result"
    }
   ],
   "source": [
    "y_test"
   ]
  },
  {
   "cell_type": "code",
   "execution_count": 132,
   "id": "9689b785",
   "metadata": {
    "execution": {
     "iopub.execute_input": "2023-06-20T16:47:40.839676Z",
     "iopub.status.busy": "2023-06-20T16:47:40.839324Z",
     "iopub.status.idle": "2023-06-20T16:47:40.851830Z",
     "shell.execute_reply": "2023-06-20T16:47:40.850908Z"
    },
    "papermill": {
     "duration": 0.071038,
     "end_time": "2023-06-20T16:47:40.853631",
     "exception": false,
     "start_time": "2023-06-20T16:47:40.782593",
     "status": "completed"
    },
    "tags": []
   },
   "outputs": [
    {
     "data": {
      "text/html": [
       "<div>\n",
       "<style scoped>\n",
       "    .dataframe tbody tr th:only-of-type {\n",
       "        vertical-align: middle;\n",
       "    }\n",
       "\n",
       "    .dataframe tbody tr th {\n",
       "        vertical-align: top;\n",
       "    }\n",
       "\n",
       "    .dataframe thead th {\n",
       "        text-align: right;\n",
       "    }\n",
       "</style>\n",
       "<table border=\"1\" class=\"dataframe\">\n",
       "  <thead>\n",
       "    <tr style=\"text-align: right;\">\n",
       "      <th></th>\n",
       "      <th>actual values</th>\n",
       "      <th>predicted values</th>\n",
       "      <th>differences</th>\n",
       "    </tr>\n",
       "  </thead>\n",
       "  <tbody>\n",
       "    <tr>\n",
       "      <th>20046</th>\n",
       "      <td>0.47700</td>\n",
       "      <td>0.493840</td>\n",
       "      <td>0.016840</td>\n",
       "    </tr>\n",
       "    <tr>\n",
       "      <th>3024</th>\n",
       "      <td>0.45800</td>\n",
       "      <td>0.754940</td>\n",
       "      <td>0.296940</td>\n",
       "    </tr>\n",
       "    <tr>\n",
       "      <th>15663</th>\n",
       "      <td>5.00001</td>\n",
       "      <td>4.928596</td>\n",
       "      <td>-0.071414</td>\n",
       "    </tr>\n",
       "    <tr>\n",
       "      <th>20484</th>\n",
       "      <td>2.18600</td>\n",
       "      <td>2.540290</td>\n",
       "      <td>0.354290</td>\n",
       "    </tr>\n",
       "    <tr>\n",
       "      <th>9814</th>\n",
       "      <td>2.78000</td>\n",
       "      <td>2.331760</td>\n",
       "      <td>-0.448240</td>\n",
       "    </tr>\n",
       "    <tr>\n",
       "      <th>13311</th>\n",
       "      <td>1.58700</td>\n",
       "      <td>1.654970</td>\n",
       "      <td>0.067970</td>\n",
       "    </tr>\n",
       "    <tr>\n",
       "      <th>7113</th>\n",
       "      <td>1.98200</td>\n",
       "      <td>2.343230</td>\n",
       "      <td>0.361230</td>\n",
       "    </tr>\n",
       "    <tr>\n",
       "      <th>7668</th>\n",
       "      <td>1.57500</td>\n",
       "      <td>1.661820</td>\n",
       "      <td>0.086820</td>\n",
       "    </tr>\n",
       "    <tr>\n",
       "      <th>18246</th>\n",
       "      <td>3.40000</td>\n",
       "      <td>2.474890</td>\n",
       "      <td>-0.925110</td>\n",
       "    </tr>\n",
       "    <tr>\n",
       "      <th>5723</th>\n",
       "      <td>4.46600</td>\n",
       "      <td>4.834478</td>\n",
       "      <td>0.368478</td>\n",
       "    </tr>\n",
       "  </tbody>\n",
       "</table>\n",
       "</div>"
      ],
      "text/plain": [
       "       actual values  predicted values  differences\n",
       "20046        0.47700          0.493840     0.016840\n",
       "3024         0.45800          0.754940     0.296940\n",
       "15663        5.00001          4.928596    -0.071414\n",
       "20484        2.18600          2.540290     0.354290\n",
       "9814         2.78000          2.331760    -0.448240\n",
       "13311        1.58700          1.654970     0.067970\n",
       "7113         1.98200          2.343230     0.361230\n",
       "7668         1.57500          1.661820     0.086820\n",
       "18246        3.40000          2.474890    -0.925110\n",
       "5723         4.46600          4.834478     0.368478"
      ]
     },
     "execution_count": 132,
     "metadata": {},
     "output_type": "execute_result"
    }
   ],
   "source": [
    "df = pd.DataFrame(data={\"actual values\": y_test,\n",
    "                        \"predicted values\": y_preds})\n",
    "df[\"differences\"] = df[\"predicted values\"] - df[\"actual values\"]\n",
    "df.head(10)"
   ]
  },
  {
   "cell_type": "code",
   "execution_count": 133,
   "id": "7dd010dd",
   "metadata": {
    "execution": {
     "iopub.execute_input": "2023-06-20T16:47:40.965444Z",
     "iopub.status.busy": "2023-06-20T16:47:40.965104Z",
     "iopub.status.idle": "2023-06-20T16:47:40.971456Z",
     "shell.execute_reply": "2023-06-20T16:47:40.970537Z"
    },
    "papermill": {
     "duration": 0.06478,
     "end_time": "2023-06-20T16:47:40.973383",
     "exception": false,
     "start_time": "2023-06-20T16:47:40.908603",
     "status": "completed"
    },
    "tags": []
   },
   "outputs": [
    {
     "data": {
      "text/plain": [
       "0.0121069218749996"
      ]
     },
     "execution_count": 133,
     "metadata": {},
     "output_type": "execute_result"
    }
   ],
   "source": [
    "df[\"differences\"].mean()"
   ]
  },
  {
   "cell_type": "code",
   "execution_count": 134,
   "id": "dd479a64",
   "metadata": {
    "execution": {
     "iopub.execute_input": "2023-06-20T16:47:41.085048Z",
     "iopub.status.busy": "2023-06-20T16:47:41.084690Z",
     "iopub.status.idle": "2023-06-20T16:47:41.091386Z",
     "shell.execute_reply": "2023-06-20T16:47:41.090473Z"
    },
    "papermill": {
     "duration": 0.065013,
     "end_time": "2023-06-20T16:47:41.093281",
     "exception": false,
     "start_time": "2023-06-20T16:47:41.028268",
     "status": "completed"
    },
    "tags": []
   },
   "outputs": [
    {
     "data": {
      "text/plain": [
       "0.3265721842781009"
      ]
     },
     "execution_count": 134,
     "metadata": {},
     "output_type": "execute_result"
    }
   ],
   "source": [
    "# MAE using formulas and differences\n",
    "np.abs(df[\"differences\"]).mean()"
   ]
  },
  {
   "cell_type": "markdown",
   "id": "86dbcd5f",
   "metadata": {
    "papermill": {
     "duration": 0.054905,
     "end_time": "2023-06-20T16:47:41.203432",
     "exception": false,
     "start_time": "2023-06-20T16:47:41.148527",
     "status": "completed"
    },
    "tags": []
   },
   "source": [
    "**Mean squared error (MSE)**\n",
    "\n",
    "MSE is the mean of the square of the errors between actual and predicted values."
   ]
  },
  {
   "cell_type": "code",
   "execution_count": 135,
   "id": "87b3fed2",
   "metadata": {
    "execution": {
     "iopub.execute_input": "2023-06-20T16:47:41.315903Z",
     "iopub.status.busy": "2023-06-20T16:47:41.315550Z",
     "iopub.status.idle": "2023-06-20T16:47:41.467450Z",
     "shell.execute_reply": "2023-06-20T16:47:41.466670Z"
    },
    "papermill": {
     "duration": 0.211204,
     "end_time": "2023-06-20T16:47:41.469352",
     "exception": false,
     "start_time": "2023-06-20T16:47:41.258148",
     "status": "completed"
    },
    "tags": []
   },
   "outputs": [
    {
     "data": {
      "text/plain": [
       "0.2534073069137548"
      ]
     },
     "execution_count": 135,
     "metadata": {},
     "output_type": "execute_result"
    }
   ],
   "source": [
    "# Mean squared error\n",
    "from sklearn.metrics import mean_squared_error\n",
    "\n",
    "y_preds = model.predict(X_test)\n",
    "mse = mean_squared_error(y_test, y_preds)\n",
    "mse"
   ]
  },
  {
   "cell_type": "code",
   "execution_count": 136,
   "id": "86e47bbb",
   "metadata": {
    "execution": {
     "iopub.execute_input": "2023-06-20T16:47:41.584406Z",
     "iopub.status.busy": "2023-06-20T16:47:41.584001Z",
     "iopub.status.idle": "2023-06-20T16:47:41.597017Z",
     "shell.execute_reply": "2023-06-20T16:47:41.595955Z"
    },
    "papermill": {
     "duration": 0.074132,
     "end_time": "2023-06-20T16:47:41.599267",
     "exception": false,
     "start_time": "2023-06-20T16:47:41.525135",
     "status": "completed"
    },
    "tags": []
   },
   "outputs": [
    {
     "data": {
      "text/html": [
       "<div>\n",
       "<style scoped>\n",
       "    .dataframe tbody tr th:only-of-type {\n",
       "        vertical-align: middle;\n",
       "    }\n",
       "\n",
       "    .dataframe tbody tr th {\n",
       "        vertical-align: top;\n",
       "    }\n",
       "\n",
       "    .dataframe thead th {\n",
       "        text-align: right;\n",
       "    }\n",
       "</style>\n",
       "<table border=\"1\" class=\"dataframe\">\n",
       "  <thead>\n",
       "    <tr style=\"text-align: right;\">\n",
       "      <th></th>\n",
       "      <th>actual values</th>\n",
       "      <th>predicted values</th>\n",
       "      <th>differences</th>\n",
       "      <th>squared_differences</th>\n",
       "    </tr>\n",
       "  </thead>\n",
       "  <tbody>\n",
       "    <tr>\n",
       "      <th>20046</th>\n",
       "      <td>0.47700</td>\n",
       "      <td>0.493840</td>\n",
       "      <td>0.016840</td>\n",
       "      <td>0.000284</td>\n",
       "    </tr>\n",
       "    <tr>\n",
       "      <th>3024</th>\n",
       "      <td>0.45800</td>\n",
       "      <td>0.754940</td>\n",
       "      <td>0.296940</td>\n",
       "      <td>0.088173</td>\n",
       "    </tr>\n",
       "    <tr>\n",
       "      <th>15663</th>\n",
       "      <td>5.00001</td>\n",
       "      <td>4.928596</td>\n",
       "      <td>-0.071414</td>\n",
       "      <td>0.005100</td>\n",
       "    </tr>\n",
       "    <tr>\n",
       "      <th>20484</th>\n",
       "      <td>2.18600</td>\n",
       "      <td>2.540290</td>\n",
       "      <td>0.354290</td>\n",
       "      <td>0.125521</td>\n",
       "    </tr>\n",
       "    <tr>\n",
       "      <th>9814</th>\n",
       "      <td>2.78000</td>\n",
       "      <td>2.331760</td>\n",
       "      <td>-0.448240</td>\n",
       "      <td>0.200919</td>\n",
       "    </tr>\n",
       "  </tbody>\n",
       "</table>\n",
       "</div>"
      ],
      "text/plain": [
       "       actual values  predicted values  differences  squared_differences\n",
       "20046        0.47700          0.493840     0.016840             0.000284\n",
       "3024         0.45800          0.754940     0.296940             0.088173\n",
       "15663        5.00001          4.928596    -0.071414             0.005100\n",
       "20484        2.18600          2.540290     0.354290             0.125521\n",
       "9814         2.78000          2.331760    -0.448240             0.200919"
      ]
     },
     "execution_count": 136,
     "metadata": {},
     "output_type": "execute_result"
    }
   ],
   "source": [
    "df[\"squared_differences\"] = np.square(df[\"differences\"])\n",
    "df.head()"
   ]
  },
  {
   "cell_type": "code",
   "execution_count": 137,
   "id": "0f46eb8e",
   "metadata": {
    "execution": {
     "iopub.execute_input": "2023-06-20T16:47:41.714766Z",
     "iopub.status.busy": "2023-06-20T16:47:41.714390Z",
     "iopub.status.idle": "2023-06-20T16:47:41.721112Z",
     "shell.execute_reply": "2023-06-20T16:47:41.720136Z"
    },
    "papermill": {
     "duration": 0.066808,
     "end_time": "2023-06-20T16:47:41.723288",
     "exception": false,
     "start_time": "2023-06-20T16:47:41.656480",
     "status": "completed"
    },
    "tags": []
   },
   "outputs": [
    {
     "data": {
      "text/plain": [
       "0.2534073069137548"
      ]
     },
     "execution_count": 137,
     "metadata": {},
     "output_type": "execute_result"
    }
   ],
   "source": [
    "# Calculat MSE by hand\n",
    "squared = np.square(df[\"differences\"])\n",
    "squared.mean()"
   ]
  },
  {
   "cell_type": "code",
   "execution_count": 138,
   "id": "d72b7254",
   "metadata": {
    "execution": {
     "iopub.execute_input": "2023-06-20T16:47:41.837106Z",
     "iopub.status.busy": "2023-06-20T16:47:41.836386Z",
     "iopub.status.idle": "2023-06-20T16:47:41.841848Z",
     "shell.execute_reply": "2023-06-20T16:47:41.841108Z"
    },
    "papermill": {
     "duration": 0.064939,
     "end_time": "2023-06-20T16:47:41.843928",
     "exception": false,
     "start_time": "2023-06-20T16:47:41.778989",
     "status": "completed"
    },
    "tags": []
   },
   "outputs": [],
   "source": [
    "df_large_error = df.copy()\n",
    "df_large_error.iloc[0][\"squared_differences\"] = 16"
   ]
  },
  {
   "cell_type": "code",
   "execution_count": 139,
   "id": "36563503",
   "metadata": {
    "execution": {
     "iopub.execute_input": "2023-06-20T16:47:41.957934Z",
     "iopub.status.busy": "2023-06-20T16:47:41.957225Z",
     "iopub.status.idle": "2023-06-20T16:47:41.968998Z",
     "shell.execute_reply": "2023-06-20T16:47:41.967923Z"
    },
    "papermill": {
     "duration": 0.071452,
     "end_time": "2023-06-20T16:47:41.971028",
     "exception": false,
     "start_time": "2023-06-20T16:47:41.899576",
     "status": "completed"
    },
    "tags": []
   },
   "outputs": [
    {
     "data": {
      "text/html": [
       "<div>\n",
       "<style scoped>\n",
       "    .dataframe tbody tr th:only-of-type {\n",
       "        vertical-align: middle;\n",
       "    }\n",
       "\n",
       "    .dataframe tbody tr th {\n",
       "        vertical-align: top;\n",
       "    }\n",
       "\n",
       "    .dataframe thead th {\n",
       "        text-align: right;\n",
       "    }\n",
       "</style>\n",
       "<table border=\"1\" class=\"dataframe\">\n",
       "  <thead>\n",
       "    <tr style=\"text-align: right;\">\n",
       "      <th></th>\n",
       "      <th>actual values</th>\n",
       "      <th>predicted values</th>\n",
       "      <th>differences</th>\n",
       "      <th>squared_differences</th>\n",
       "    </tr>\n",
       "  </thead>\n",
       "  <tbody>\n",
       "    <tr>\n",
       "      <th>20046</th>\n",
       "      <td>0.47700</td>\n",
       "      <td>0.493840</td>\n",
       "      <td>0.016840</td>\n",
       "      <td>16.000000</td>\n",
       "    </tr>\n",
       "    <tr>\n",
       "      <th>3024</th>\n",
       "      <td>0.45800</td>\n",
       "      <td>0.754940</td>\n",
       "      <td>0.296940</td>\n",
       "      <td>0.088173</td>\n",
       "    </tr>\n",
       "    <tr>\n",
       "      <th>15663</th>\n",
       "      <td>5.00001</td>\n",
       "      <td>4.928596</td>\n",
       "      <td>-0.071414</td>\n",
       "      <td>0.005100</td>\n",
       "    </tr>\n",
       "    <tr>\n",
       "      <th>20484</th>\n",
       "      <td>2.18600</td>\n",
       "      <td>2.540290</td>\n",
       "      <td>0.354290</td>\n",
       "      <td>0.125521</td>\n",
       "    </tr>\n",
       "    <tr>\n",
       "      <th>9814</th>\n",
       "      <td>2.78000</td>\n",
       "      <td>2.331760</td>\n",
       "      <td>-0.448240</td>\n",
       "      <td>0.200919</td>\n",
       "    </tr>\n",
       "  </tbody>\n",
       "</table>\n",
       "</div>"
      ],
      "text/plain": [
       "       actual values  predicted values  differences  squared_differences\n",
       "20046        0.47700          0.493840     0.016840            16.000000\n",
       "3024         0.45800          0.754940     0.296940             0.088173\n",
       "15663        5.00001          4.928596    -0.071414             0.005100\n",
       "20484        2.18600          2.540290     0.354290             0.125521\n",
       "9814         2.78000          2.331760    -0.448240             0.200919"
      ]
     },
     "execution_count": 139,
     "metadata": {},
     "output_type": "execute_result"
    }
   ],
   "source": [
    "df_large_error.head()"
   ]
  },
  {
   "cell_type": "code",
   "execution_count": 140,
   "id": "abd067f7",
   "metadata": {
    "execution": {
     "iopub.execute_input": "2023-06-20T16:47:42.085232Z",
     "iopub.status.busy": "2023-06-20T16:47:42.084842Z",
     "iopub.status.idle": "2023-06-20T16:47:42.091551Z",
     "shell.execute_reply": "2023-06-20T16:47:42.090371Z"
    },
    "papermill": {
     "duration": 0.066599,
     "end_time": "2023-06-20T16:47:42.093592",
     "exception": false,
     "start_time": "2023-06-20T16:47:42.026993",
     "status": "completed"
    },
    "tags": []
   },
   "outputs": [
    {
     "data": {
      "text/plain": [
       "0.25728320720794084"
      ]
     },
     "execution_count": 140,
     "metadata": {},
     "output_type": "execute_result"
    }
   ],
   "source": [
    "# Calculate MSE with large error\n",
    "df_large_error[\"squared_differences\"].mean()"
   ]
  },
  {
   "cell_type": "code",
   "execution_count": 141,
   "id": "ae9b587f",
   "metadata": {
    "execution": {
     "iopub.execute_input": "2023-06-20T16:47:42.208171Z",
     "iopub.status.busy": "2023-06-20T16:47:42.207290Z",
     "iopub.status.idle": "2023-06-20T16:47:42.220253Z",
     "shell.execute_reply": "2023-06-20T16:47:42.219466Z"
    },
    "papermill": {
     "duration": 0.073125,
     "end_time": "2023-06-20T16:47:42.222556",
     "exception": false,
     "start_time": "2023-06-20T16:47:42.149431",
     "status": "completed"
    },
    "tags": []
   },
   "outputs": [
    {
     "data": {
      "text/html": [
       "<div>\n",
       "<style scoped>\n",
       "    .dataframe tbody tr th:only-of-type {\n",
       "        vertical-align: middle;\n",
       "    }\n",
       "\n",
       "    .dataframe tbody tr th {\n",
       "        vertical-align: top;\n",
       "    }\n",
       "\n",
       "    .dataframe thead th {\n",
       "        text-align: right;\n",
       "    }\n",
       "</style>\n",
       "<table border=\"1\" class=\"dataframe\">\n",
       "  <thead>\n",
       "    <tr style=\"text-align: right;\">\n",
       "      <th></th>\n",
       "      <th>actual values</th>\n",
       "      <th>predicted values</th>\n",
       "      <th>differences</th>\n",
       "      <th>squared_differences</th>\n",
       "    </tr>\n",
       "  </thead>\n",
       "  <tbody>\n",
       "    <tr>\n",
       "      <th>20046</th>\n",
       "      <td>0.47700</td>\n",
       "      <td>0.493840</td>\n",
       "      <td>0.016840</td>\n",
       "      <td>16.000000</td>\n",
       "    </tr>\n",
       "    <tr>\n",
       "      <th>3024</th>\n",
       "      <td>20.00000</td>\n",
       "      <td>20.000000</td>\n",
       "      <td>20.000000</td>\n",
       "      <td>20.000000</td>\n",
       "    </tr>\n",
       "    <tr>\n",
       "      <th>15663</th>\n",
       "      <td>20.00000</td>\n",
       "      <td>20.000000</td>\n",
       "      <td>20.000000</td>\n",
       "      <td>20.000000</td>\n",
       "    </tr>\n",
       "    <tr>\n",
       "      <th>20484</th>\n",
       "      <td>20.00000</td>\n",
       "      <td>20.000000</td>\n",
       "      <td>20.000000</td>\n",
       "      <td>20.000000</td>\n",
       "    </tr>\n",
       "    <tr>\n",
       "      <th>9814</th>\n",
       "      <td>20.00000</td>\n",
       "      <td>20.000000</td>\n",
       "      <td>20.000000</td>\n",
       "      <td>20.000000</td>\n",
       "    </tr>\n",
       "    <tr>\n",
       "      <th>...</th>\n",
       "      <td>...</td>\n",
       "      <td>...</td>\n",
       "      <td>...</td>\n",
       "      <td>...</td>\n",
       "    </tr>\n",
       "    <tr>\n",
       "      <th>15362</th>\n",
       "      <td>2.63300</td>\n",
       "      <td>2.220380</td>\n",
       "      <td>-0.412620</td>\n",
       "      <td>0.170255</td>\n",
       "    </tr>\n",
       "    <tr>\n",
       "      <th>16623</th>\n",
       "      <td>2.66800</td>\n",
       "      <td>1.947760</td>\n",
       "      <td>-0.720240</td>\n",
       "      <td>0.518746</td>\n",
       "    </tr>\n",
       "    <tr>\n",
       "      <th>18086</th>\n",
       "      <td>5.00001</td>\n",
       "      <td>4.836378</td>\n",
       "      <td>-0.163632</td>\n",
       "      <td>0.026775</td>\n",
       "    </tr>\n",
       "    <tr>\n",
       "      <th>2144</th>\n",
       "      <td>0.72300</td>\n",
       "      <td>0.717820</td>\n",
       "      <td>-0.005180</td>\n",
       "      <td>0.000027</td>\n",
       "    </tr>\n",
       "    <tr>\n",
       "      <th>3665</th>\n",
       "      <td>1.51500</td>\n",
       "      <td>1.679010</td>\n",
       "      <td>0.164010</td>\n",
       "      <td>0.026899</td>\n",
       "    </tr>\n",
       "  </tbody>\n",
       "</table>\n",
       "<p>4128 rows × 4 columns</p>\n",
       "</div>"
      ],
      "text/plain": [
       "       actual values  predicted values  differences  squared_differences\n",
       "20046        0.47700          0.493840     0.016840            16.000000\n",
       "3024        20.00000         20.000000    20.000000            20.000000\n",
       "15663       20.00000         20.000000    20.000000            20.000000\n",
       "20484       20.00000         20.000000    20.000000            20.000000\n",
       "9814        20.00000         20.000000    20.000000            20.000000\n",
       "...              ...               ...          ...                  ...\n",
       "15362        2.63300          2.220380    -0.412620             0.170255\n",
       "16623        2.66800          1.947760    -0.720240             0.518746\n",
       "18086        5.00001          4.836378    -0.163632             0.026775\n",
       "2144         0.72300          0.717820    -0.005180             0.000027\n",
       "3665         1.51500          1.679010     0.164010             0.026899\n",
       "\n",
       "[4128 rows x 4 columns]"
      ]
     },
     "execution_count": 141,
     "metadata": {},
     "output_type": "execute_result"
    }
   ],
   "source": [
    "df_large_error.iloc[1:100] = 20\n",
    "df_large_error"
   ]
  },
  {
   "cell_type": "code",
   "execution_count": 142,
   "id": "0f6f6acb",
   "metadata": {
    "execution": {
     "iopub.execute_input": "2023-06-20T16:47:42.338409Z",
     "iopub.status.busy": "2023-06-20T16:47:42.338019Z",
     "iopub.status.idle": "2023-06-20T16:47:42.344807Z",
     "shell.execute_reply": "2023-06-20T16:47:42.343867Z"
    },
    "papermill": {
     "duration": 0.06812,
     "end_time": "2023-06-20T16:47:42.347023",
     "exception": false,
     "start_time": "2023-06-20T16:47:42.278903",
     "status": "completed"
    },
    "tags": []
   },
   "outputs": [
    {
     "data": {
      "text/plain": [
       "0.7333540351264799"
      ]
     },
     "execution_count": 142,
     "metadata": {},
     "output_type": "execute_result"
    }
   ],
   "source": [
    "# Calculate MSE with large error\n",
    "df_large_error[\"squared_differences\"].mean()"
   ]
  },
  {
   "cell_type": "markdown",
   "id": "032ed570",
   "metadata": {
    "papermill": {
     "duration": 0.05629,
     "end_time": "2023-06-20T16:47:42.460148",
     "exception": false,
     "start_time": "2023-06-20T16:47:42.403858",
     "status": "completed"
    },
    "tags": []
   },
   "source": [
    "Model Evaluation Overview: https://www.udemy.com/course/complete-machine-learning-and-data-science-zero-to-mastery/learn/lecture/17690056#overview"
   ]
  },
  {
   "cell_type": "markdown",
   "id": "5a9d3e3b",
   "metadata": {
    "papermill": {
     "duration": 0.058639,
     "end_time": "2023-06-20T16:47:42.574691",
     "exception": false,
     "start_time": "2023-06-20T16:47:42.516052",
     "status": "completed"
    },
    "tags": []
   },
   "source": [
    "### 4.2.3 Finally Using `Scoring` Parameter"
   ]
  },
  {
   "cell_type": "code",
   "execution_count": 143,
   "id": "0e0a7ece",
   "metadata": {
    "execution": {
     "iopub.execute_input": "2023-06-20T16:47:42.690811Z",
     "iopub.status.busy": "2023-06-20T16:47:42.690223Z",
     "iopub.status.idle": "2023-06-20T16:47:42.696829Z",
     "shell.execute_reply": "2023-06-20T16:47:42.696051Z"
    },
    "papermill": {
     "duration": 0.06667,
     "end_time": "2023-06-20T16:47:42.698881",
     "exception": false,
     "start_time": "2023-06-20T16:47:42.632211",
     "status": "completed"
    },
    "tags": []
   },
   "outputs": [],
   "source": [
    "from sklearn.model_selection import cross_val_score\n",
    "from sklearn.ensemble import RandomForestClassifier\n",
    "\n",
    "np.random.seed(42)\n",
    "\n",
    "X = heart_disease.drop(\"target\", axis=1)\n",
    "y = heart_disease[\"target\"]\n",
    "\n",
    "clf = RandomForestClassifier()"
   ]
  },
  {
   "cell_type": "code",
   "execution_count": 144,
   "id": "29138070",
   "metadata": {
    "execution": {
     "iopub.execute_input": "2023-06-20T16:47:42.813484Z",
     "iopub.status.busy": "2023-06-20T16:47:42.812625Z",
     "iopub.status.idle": "2023-06-20T16:47:43.742641Z",
     "shell.execute_reply": "2023-06-20T16:47:43.741508Z"
    },
    "papermill": {
     "duration": 0.990125,
     "end_time": "2023-06-20T16:47:43.745055",
     "exception": false,
     "start_time": "2023-06-20T16:47:42.754930",
     "status": "completed"
    },
    "tags": []
   },
   "outputs": [
    {
     "data": {
      "text/plain": [
       "array([0.81967213, 0.90163934, 0.83606557, 0.78333333, 0.78333333])"
      ]
     },
     "execution_count": 144,
     "metadata": {},
     "output_type": "execute_result"
    }
   ],
   "source": [
    "# Cross-validation accuracy\n",
    "cv_acc = cross_val_score(clf, X, y, cv=5, scoring=None)  # if scoring equals None, estimator's default \n",
    "                                                         # scoring evaluation metric is used (accuracy for classification models)\n",
    "cv_acc"
   ]
  },
  {
   "cell_type": "code",
   "execution_count": 145,
   "id": "b7c0ff30",
   "metadata": {
    "execution": {
     "iopub.execute_input": "2023-06-20T16:47:43.862674Z",
     "iopub.status.busy": "2023-06-20T16:47:43.862051Z",
     "iopub.status.idle": "2023-06-20T16:47:43.867456Z",
     "shell.execute_reply": "2023-06-20T16:47:43.866538Z"
    },
    "papermill": {
     "duration": 0.066736,
     "end_time": "2023-06-20T16:47:43.869345",
     "exception": false,
     "start_time": "2023-06-20T16:47:43.802609",
     "status": "completed"
    },
    "tags": []
   },
   "outputs": [
    {
     "name": "stdout",
     "output_type": "stream",
     "text": [
      "The cross-validated accuracy is: 82.48%\n"
     ]
    }
   ],
   "source": [
    "# Cross-validated accuracy\n",
    "print(f\"The cross-validated accuracy is: {np.mean(cv_acc)*100:.2f}%\")"
   ]
  },
  {
   "cell_type": "code",
   "execution_count": 146,
   "id": "cd9a1781",
   "metadata": {
    "execution": {
     "iopub.execute_input": "2023-06-20T16:47:43.985288Z",
     "iopub.status.busy": "2023-06-20T16:47:43.984892Z",
     "iopub.status.idle": "2023-06-20T16:47:44.907523Z",
     "shell.execute_reply": "2023-06-20T16:47:44.906454Z"
    },
    "papermill": {
     "duration": 0.983175,
     "end_time": "2023-06-20T16:47:44.909694",
     "exception": false,
     "start_time": "2023-06-20T16:47:43.926519",
     "status": "completed"
    },
    "tags": []
   },
   "outputs": [
    {
     "data": {
      "text/plain": [
       "array([0.81967213, 0.8852459 , 0.78688525, 0.81666667, 0.78333333])"
      ]
     },
     "execution_count": 146,
     "metadata": {},
     "output_type": "execute_result"
    }
   ],
   "source": [
    "np.random.seed(99)\n",
    "\n",
    "cv_acc = cross_val_score(clf, X, y, cv=5, scoring=\"accuracy\")\n",
    "cv_acc"
   ]
  },
  {
   "cell_type": "code",
   "execution_count": 147,
   "id": "5b96b5e5",
   "metadata": {
    "execution": {
     "iopub.execute_input": "2023-06-20T16:47:45.025465Z",
     "iopub.status.busy": "2023-06-20T16:47:45.024476Z",
     "iopub.status.idle": "2023-06-20T16:47:45.029654Z",
     "shell.execute_reply": "2023-06-20T16:47:45.028746Z"
    },
    "papermill": {
     "duration": 0.065098,
     "end_time": "2023-06-20T16:47:45.031531",
     "exception": false,
     "start_time": "2023-06-20T16:47:44.966433",
     "status": "completed"
    },
    "tags": []
   },
   "outputs": [
    {
     "name": "stdout",
     "output_type": "stream",
     "text": [
      "The cross-validated accuracy is: 81.84%\n"
     ]
    }
   ],
   "source": [
    "# Cross-validated accuracy\n",
    "print(f\"The cross-validated accuracy is: {np.mean(cv_acc)*100:.2f}%\")"
   ]
  },
  {
   "cell_type": "code",
   "execution_count": 148,
   "id": "825071b8",
   "metadata": {
    "execution": {
     "iopub.execute_input": "2023-06-20T16:47:45.149590Z",
     "iopub.status.busy": "2023-06-20T16:47:45.148908Z",
     "iopub.status.idle": "2023-06-20T16:47:46.072372Z",
     "shell.execute_reply": "2023-06-20T16:47:46.071619Z"
    },
    "papermill": {
     "duration": 0.985555,
     "end_time": "2023-06-20T16:47:46.074370",
     "exception": false,
     "start_time": "2023-06-20T16:47:45.088815",
     "status": "completed"
    },
    "tags": []
   },
   "outputs": [
    {
     "data": {
      "text/plain": [
       "array([0.80555556, 0.93333333, 0.8125    , 0.80555556, 0.77777778])"
      ]
     },
     "execution_count": 148,
     "metadata": {},
     "output_type": "execute_result"
    }
   ],
   "source": [
    "# Precision\n",
    "np.random.seed(99)\n",
    "cv_precision = cross_val_score(clf, X, y, cv=5, scoring=\"precision\")\n",
    "cv_precision"
   ]
  },
  {
   "cell_type": "code",
   "execution_count": 149,
   "id": "e006e6d9",
   "metadata": {
    "execution": {
     "iopub.execute_input": "2023-06-20T16:47:46.190520Z",
     "iopub.status.busy": "2023-06-20T16:47:46.189434Z",
     "iopub.status.idle": "2023-06-20T16:47:46.195041Z",
     "shell.execute_reply": "2023-06-20T16:47:46.194031Z"
    },
    "papermill": {
     "duration": 0.065643,
     "end_time": "2023-06-20T16:47:46.196993",
     "exception": false,
     "start_time": "2023-06-20T16:47:46.131350",
     "status": "completed"
    },
    "tags": []
   },
   "outputs": [
    {
     "name": "stdout",
     "output_type": "stream",
     "text": [
      "The cross-validated precision is: 0.8269444444444444%\n"
     ]
    }
   ],
   "source": [
    "# Cross-validated precision\n",
    "print(f\"The cross-validated precision is: {np.mean(cv_precision)}%\")"
   ]
  },
  {
   "cell_type": "code",
   "execution_count": 150,
   "id": "78efdb10",
   "metadata": {
    "execution": {
     "iopub.execute_input": "2023-06-20T16:47:46.314490Z",
     "iopub.status.busy": "2023-06-20T16:47:46.314137Z",
     "iopub.status.idle": "2023-06-20T16:47:47.237272Z",
     "shell.execute_reply": "2023-06-20T16:47:47.236559Z"
    },
    "papermill": {
     "duration": 0.985395,
     "end_time": "2023-06-20T16:47:47.239151",
     "exception": false,
     "start_time": "2023-06-20T16:47:46.253756",
     "status": "completed"
    },
    "tags": []
   },
   "outputs": [
    {
     "data": {
      "text/plain": [
       "array([0.90909091, 0.87878788, 0.84848485, 0.84848485, 0.87878788])"
      ]
     },
     "execution_count": 150,
     "metadata": {},
     "output_type": "execute_result"
    }
   ],
   "source": [
    "# Recall\n",
    "cv_recall = cross_val_score(clf, X, y, cv=5, scoring=\"recall\")\n",
    "cv_recall"
   ]
  },
  {
   "cell_type": "code",
   "execution_count": 151,
   "id": "b0703d2d",
   "metadata": {
    "execution": {
     "iopub.execute_input": "2023-06-20T16:47:47.356970Z",
     "iopub.status.busy": "2023-06-20T16:47:47.356214Z",
     "iopub.status.idle": "2023-06-20T16:47:47.361441Z",
     "shell.execute_reply": "2023-06-20T16:47:47.360461Z"
    },
    "papermill": {
     "duration": 0.066864,
     "end_time": "2023-06-20T16:47:47.363521",
     "exception": false,
     "start_time": "2023-06-20T16:47:47.296657",
     "status": "completed"
    },
    "tags": []
   },
   "outputs": [
    {
     "name": "stdout",
     "output_type": "stream",
     "text": [
      "The cross-validated recall is: 0.8727272727272727\n"
     ]
    }
   ],
   "source": [
    "# Cross-validated recall\n",
    "print(f\"The cross-validated recall is: {np.mean(cv_recall)}\")"
   ]
  },
  {
   "cell_type": "markdown",
   "id": "957b3ca2",
   "metadata": {
    "papermill": {
     "duration": 0.056301,
     "end_time": "2023-06-20T16:47:47.476563",
     "exception": false,
     "start_time": "2023-06-20T16:47:47.420262",
     "status": "completed"
    },
    "tags": []
   },
   "source": [
    "Let's see the `scoring` parameter being using for a regression problem..."
   ]
  },
  {
   "cell_type": "code",
   "execution_count": 152,
   "id": "645b66e0",
   "metadata": {
    "execution": {
     "iopub.execute_input": "2023-06-20T16:47:47.594926Z",
     "iopub.status.busy": "2023-06-20T16:47:47.593785Z",
     "iopub.status.idle": "2023-06-20T16:47:47.600850Z",
     "shell.execute_reply": "2023-06-20T16:47:47.599835Z"
    },
    "papermill": {
     "duration": 0.069176,
     "end_time": "2023-06-20T16:47:47.602957",
     "exception": false,
     "start_time": "2023-06-20T16:47:47.533781",
     "status": "completed"
    },
    "tags": []
   },
   "outputs": [],
   "source": [
    "from sklearn.model_selection import cross_val_score\n",
    "from sklearn.ensemble import RandomForestRegressor\n",
    "\n",
    "np.random.seed(99)\n",
    "\n",
    "X = housing_df.drop(\"target\", axis=1)\n",
    "y = housing_df[\"target\"]\n",
    "\n",
    "model = RandomForestRegressor()"
   ]
  },
  {
   "cell_type": "code",
   "execution_count": 153,
   "id": "3b8abf44",
   "metadata": {
    "execution": {
     "iopub.execute_input": "2023-06-20T16:47:47.718939Z",
     "iopub.status.busy": "2023-06-20T16:47:47.718548Z",
     "iopub.status.idle": "2023-06-20T16:48:19.058619Z",
     "shell.execute_reply": "2023-06-20T16:48:19.057453Z"
    },
    "papermill": {
     "duration": 31.457246,
     "end_time": "2023-06-20T16:48:19.117551",
     "exception": false,
     "start_time": "2023-06-20T16:47:47.660305",
     "status": "completed"
    },
    "tags": []
   },
   "outputs": [
    {
     "data": {
      "text/plain": [
       "0.6539374163276428"
      ]
     },
     "execution_count": 153,
     "metadata": {},
     "output_type": "execute_result"
    }
   ],
   "source": [
    "np.random.seed(99)\n",
    "cv_r2 = cross_val_score(model, X, y, cv=3, scoring=None)\n",
    "np.mean(cv_r2)"
   ]
  },
  {
   "cell_type": "code",
   "execution_count": 154,
   "id": "b9d03454",
   "metadata": {
    "execution": {
     "iopub.execute_input": "2023-06-20T16:48:19.235144Z",
     "iopub.status.busy": "2023-06-20T16:48:19.234245Z",
     "iopub.status.idle": "2023-06-20T16:48:19.240580Z",
     "shell.execute_reply": "2023-06-20T16:48:19.239815Z"
    },
    "papermill": {
     "duration": 0.067923,
     "end_time": "2023-06-20T16:48:19.242405",
     "exception": false,
     "start_time": "2023-06-20T16:48:19.174482",
     "status": "completed"
    },
    "tags": []
   },
   "outputs": [
    {
     "data": {
      "text/plain": [
       "array([0.62289133, 0.72576677, 0.61315414])"
      ]
     },
     "execution_count": 154,
     "metadata": {},
     "output_type": "execute_result"
    }
   ],
   "source": [
    "cv_r2"
   ]
  },
  {
   "cell_type": "code",
   "execution_count": 155,
   "id": "35e46238",
   "metadata": {
    "execution": {
     "iopub.execute_input": "2023-06-20T16:48:19.358765Z",
     "iopub.status.busy": "2023-06-20T16:48:19.357986Z",
     "iopub.status.idle": "2023-06-20T16:48:50.480413Z",
     "shell.execute_reply": "2023-06-20T16:48:50.479124Z"
    },
    "papermill": {
     "duration": 31.240732,
     "end_time": "2023-06-20T16:48:50.540138",
     "exception": false,
     "start_time": "2023-06-20T16:48:19.299406",
     "status": "completed"
    },
    "tags": []
   },
   "outputs": [
    {
     "data": {
      "text/plain": [
       "-0.4588708630938296"
      ]
     },
     "execution_count": 155,
     "metadata": {},
     "output_type": "execute_result"
    }
   ],
   "source": [
    "# Mean squared error\n",
    "cv_mse = cross_val_score(model, X, y, cv=3, scoring=\"neg_mean_squared_error\")\n",
    "np.mean(cv_mse)"
   ]
  },
  {
   "cell_type": "code",
   "execution_count": 156,
   "id": "f7e9dffc",
   "metadata": {
    "execution": {
     "iopub.execute_input": "2023-06-20T16:48:50.659970Z",
     "iopub.status.busy": "2023-06-20T16:48:50.659590Z",
     "iopub.status.idle": "2023-06-20T16:48:50.666165Z",
     "shell.execute_reply": "2023-06-20T16:48:50.665133Z"
    },
    "papermill": {
     "duration": 0.068395,
     "end_time": "2023-06-20T16:48:50.668262",
     "exception": false,
     "start_time": "2023-06-20T16:48:50.599867",
     "status": "completed"
    },
    "tags": []
   },
   "outputs": [
    {
     "data": {
      "text/plain": [
       "array([-0.51343014, -0.33010507, -0.53307738])"
      ]
     },
     "execution_count": 156,
     "metadata": {},
     "output_type": "execute_result"
    }
   ],
   "source": [
    "cv_mse"
   ]
  },
  {
   "cell_type": "code",
   "execution_count": 157,
   "id": "b0e59981",
   "metadata": {
    "execution": {
     "iopub.execute_input": "2023-06-20T16:48:50.785688Z",
     "iopub.status.busy": "2023-06-20T16:48:50.784818Z",
     "iopub.status.idle": "2023-06-20T16:49:21.926357Z",
     "shell.execute_reply": "2023-06-20T16:49:21.925299Z"
    },
    "papermill": {
     "duration": 31.25963,
     "end_time": "2023-06-20T16:49:21.985260",
     "exception": false,
     "start_time": "2023-06-20T16:48:50.725630",
     "status": "completed"
    },
    "tags": []
   },
   "outputs": [
    {
     "data": {
      "text/plain": [
       "-0.481487061521318"
      ]
     },
     "execution_count": 157,
     "metadata": {},
     "output_type": "execute_result"
    }
   ],
   "source": [
    "# Mean absolute error\n",
    "cv_mae = cross_val_score(model, X, y, cv=3, scoring=\"neg_mean_absolute_error\")\n",
    "np.mean(cv_mae)"
   ]
  },
  {
   "cell_type": "code",
   "execution_count": 158,
   "id": "d7a40bcf",
   "metadata": {
    "execution": {
     "iopub.execute_input": "2023-06-20T16:49:22.102108Z",
     "iopub.status.busy": "2023-06-20T16:49:22.101510Z",
     "iopub.status.idle": "2023-06-20T16:49:22.107574Z",
     "shell.execute_reply": "2023-06-20T16:49:22.106774Z"
    },
    "papermill": {
     "duration": 0.067057,
     "end_time": "2023-06-20T16:49:22.109455",
     "exception": false,
     "start_time": "2023-06-20T16:49:22.042398",
     "status": "completed"
    },
    "tags": []
   },
   "outputs": [
    {
     "data": {
      "text/plain": [
       "array([-0.51760229, -0.42336777, -0.50349112])"
      ]
     },
     "execution_count": 158,
     "metadata": {},
     "output_type": "execute_result"
    }
   ],
   "source": [
    "cv_mae"
   ]
  },
  {
   "cell_type": "markdown",
   "id": "dd39e3c6",
   "metadata": {
    "papermill": {
     "duration": 0.057426,
     "end_time": "2023-06-20T16:49:22.224384",
     "exception": false,
     "start_time": "2023-06-20T16:49:22.166958",
     "status": "completed"
    },
    "tags": []
   },
   "source": [
    "## 4.3 Using different evaluation metrics as Scikit-Learn Functions\n",
    "\n",
    "The 3rd way to evaluate sciki-learn machine learning models/esimators is to use the `sklearn.metrics` module\n",
    "- https://scikit-learn.org/stable/modules/classes.html#module-sklearn.metrics\n"
   ]
  },
  {
   "cell_type": "code",
   "execution_count": 159,
   "id": "f790e7c6",
   "metadata": {
    "execution": {
     "iopub.execute_input": "2023-06-20T16:49:22.341114Z",
     "iopub.status.busy": "2023-06-20T16:49:22.340513Z",
     "iopub.status.idle": "2023-06-20T16:49:22.540365Z",
     "shell.execute_reply": "2023-06-20T16:49:22.539166Z"
    },
    "papermill": {
     "duration": 0.261214,
     "end_time": "2023-06-20T16:49:22.542681",
     "exception": false,
     "start_time": "2023-06-20T16:49:22.281467",
     "status": "completed"
    },
    "tags": []
   },
   "outputs": [
    {
     "name": "stdout",
     "output_type": "stream",
     "text": [
      "Classifier metrics on the test set\n",
      "Accurracy: 85.25%\n",
      "Precision: 0.9142857142857143\n",
      "Recall: 0.8421052631578947\n",
      "F1: 0.8767123287671234\n"
     ]
    }
   ],
   "source": [
    "from sklearn.metrics import accuracy_score, precision_score, recall_score, f1_score\n",
    "from sklearn.ensemble import RandomForestClassifier\n",
    "from sklearn.model_selection import train_test_split\n",
    "\n",
    "np.random.seed(99)\n",
    "\n",
    "# Create X & y\n",
    "X = heart_disease.drop(\"target\", axis=1)\n",
    "y = heart_disease[\"target\"]\n",
    "\n",
    "# Split data\n",
    "X_train, X_test, y_train, y_test = train_test_split(X, y, test_size=0.2)\n",
    "\n",
    "# Create model\n",
    "clf = RandomForestClassifier()\n",
    "\n",
    "# Fit model\n",
    "clf.fit(X_train, y_train)\n",
    "\n",
    "# Make predictions\n",
    "y_preds = clf.predict(X_test)\n",
    "\n",
    "# Evaluate model using evaluation functions\n",
    "print(\"Classifier metrics on the test set\")\n",
    "#print(f\"Accurracy: {accuracy_score(y_test, clf.predict(X_test))*100:.2f}%\")  # same as below\n",
    "print(f\"Accurracy: {accuracy_score(y_test, y_preds)*100:.2f}%\")\n",
    "\n",
    "print(f\"Precision: {precision_score(y_test, y_preds)}\")\n",
    "print(f\"Recall: {recall_score(y_test, y_preds)}\")\n",
    "print(f\"F1: {f1_score(y_test, y_preds)}\")"
   ]
  },
  {
   "cell_type": "code",
   "execution_count": 160,
   "id": "ccd0c6b9",
   "metadata": {
    "execution": {
     "iopub.execute_input": "2023-06-20T16:49:22.661985Z",
     "iopub.status.busy": "2023-06-20T16:49:22.661604Z",
     "iopub.status.idle": "2023-06-20T16:49:22.858474Z",
     "shell.execute_reply": "2023-06-20T16:49:22.857234Z"
    },
    "papermill": {
     "duration": 0.259772,
     "end_time": "2023-06-20T16:49:22.861217",
     "exception": false,
     "start_time": "2023-06-20T16:49:22.601445",
     "status": "completed"
    },
    "tags": []
   },
   "outputs": [
    {
     "name": "stdout",
     "output_type": "stream",
     "text": [
      "Regression metrics on the test set\n",
      "R2 score: 0.3868901960784312\n",
      "Recall: 0.2832786885245902\n",
      "F1: 0.15125901639344266\n"
     ]
    }
   ],
   "source": [
    "from sklearn.metrics import r2_score, mean_absolute_error, mean_squared_error\n",
    "from sklearn.ensemble import RandomForestRegressor\n",
    "from sklearn.model_selection import train_test_split\n",
    "\n",
    "# Create X & y\n",
    "X = heart_disease.drop(\"target\", axis=1)\n",
    "y = heart_disease[\"target\"]\n",
    "\n",
    "# Split data\n",
    "X_train, X_test, y_train, y_test = train_test_split(X, y, test_size=0.2)\n",
    "\n",
    "# Create model\n",
    "clf = RandomForestRegressor()\n",
    "\n",
    "# Fit model\n",
    "clf.fit(X_train, y_train)\n",
    "\n",
    "# Make predictions\n",
    "y_preds = clf.predict(X_test)\n",
    "\n",
    "\n",
    "# Evaluate model using evaluation functions\n",
    "print(\"Regression metrics on the test set\")\n",
    "print(f\"R2 score: {r2_score(y_test, y_preds)}\")\n",
    "print(f\"Recall: {mean_absolute_error(y_test, y_preds)}\")\n",
    "print(f\"F1: {mean_squared_error(y_test, y_preds)}\")"
   ]
  },
  {
   "cell_type": "code",
   "execution_count": null,
   "id": "609aed9f",
   "metadata": {
    "papermill": {
     "duration": 0.057999,
     "end_time": "2023-06-20T16:49:22.977360",
     "exception": false,
     "start_time": "2023-06-20T16:49:22.919361",
     "status": "completed"
    },
    "tags": []
   },
   "outputs": [],
   "source": []
  }
 ],
 "metadata": {
  "kernelspec": {
   "display_name": "Python 3",
   "language": "python",
   "name": "python3"
  },
  "language_info": {
   "codemirror_mode": {
    "name": "ipython",
    "version": 3
   },
   "file_extension": ".py",
   "mimetype": "text/x-python",
   "name": "python",
   "nbconvert_exporter": "python",
   "pygments_lexer": "ipython3",
   "version": "3.10.10"
  },
  "papermill": {
   "default_parameters": {},
   "duration": 194.194912,
   "end_time": "2023-06-20T16:49:24.058008",
   "environment_variables": {},
   "exception": null,
   "input_path": "__notebook__.ipynb",
   "output_path": "__notebook__.ipynb",
   "parameters": {},
   "start_time": "2023-06-20T16:46:09.863096",
   "version": "2.4.0"
  }
 },
 "nbformat": 4,
 "nbformat_minor": 5
}
