{
 "cells": [
  {
   "cell_type": "markdown",
   "id": "9111bc2d",
   "metadata": {
    "papermill": {
     "duration": 0.012037,
     "end_time": "2023-05-10T15:41:52.008989",
     "exception": false,
     "start_time": "2023-05-10T15:41:51.996952",
     "status": "completed"
    },
    "tags": []
   },
   "source": [
    "**This notebook is an exercise in the [Data Visualization](https://www.kaggle.com/learn/data-visualization) course.  You can reference the tutorial at [this link](https://www.kaggle.com/alexisbcook/scatter-plots).**\n",
    "\n",
    "---\n"
   ]
  },
  {
   "cell_type": "markdown",
   "id": "5f25be6a",
   "metadata": {
    "papermill": {
     "duration": 0.011141,
     "end_time": "2023-05-10T15:41:52.032018",
     "exception": false,
     "start_time": "2023-05-10T15:41:52.020877",
     "status": "completed"
    },
    "tags": []
   },
   "source": [
    "In this exercise, you will use your new knowledge to propose a solution to a real-world scenario.  To succeed, you will need to import data into Python, answer questions using the data, and generate **scatter plots** to understand patterns in the data.\n",
    "\n",
    "## Scenario\n",
    "\n",
    "You work for a major candy producer, and your goal is to write a report that your company can use to guide the design of its next product.  Soon after starting your research, you stumble across this [very interesting dataset](https://fivethirtyeight.com/features/the-ultimate-halloween-candy-power-ranking/) containing results from a fun survey to crowdsource favorite candies.\n",
    "\n",
    "## Setup\n",
    "\n",
    "Run the next cell to import and configure the Python libraries that you need to complete the exercise."
   ]
  },
  {
   "cell_type": "code",
   "execution_count": 1,
   "id": "04d194fa",
   "metadata": {
    "execution": {
     "iopub.execute_input": "2023-05-10T15:41:52.057957Z",
     "iopub.status.busy": "2023-05-10T15:41:52.056978Z",
     "iopub.status.idle": "2023-05-10T15:41:53.562912Z",
     "shell.execute_reply": "2023-05-10T15:41:53.561600Z"
    },
    "papermill": {
     "duration": 1.521807,
     "end_time": "2023-05-10T15:41:53.565436",
     "exception": false,
     "start_time": "2023-05-10T15:41:52.043629",
     "status": "completed"
    },
    "tags": []
   },
   "outputs": [
    {
     "name": "stderr",
     "output_type": "stream",
     "text": [
      "/opt/conda/lib/python3.10/site-packages/scipy/__init__.py:146: UserWarning: A NumPy version >=1.16.5 and <1.23.0 is required for this version of SciPy (detected version 1.23.5\n",
      "  warnings.warn(f\"A NumPy version >={np_minversion} and <{np_maxversion}\"\n"
     ]
    },
    {
     "name": "stdout",
     "output_type": "stream",
     "text": [
      "Setup Complete\n"
     ]
    }
   ],
   "source": [
    "import pandas as pd\n",
    "pd.plotting.register_matplotlib_converters()\n",
    "import matplotlib.pyplot as plt\n",
    "%matplotlib inline\n",
    "import seaborn as sns\n",
    "print(\"Setup Complete\")"
   ]
  },
  {
   "cell_type": "markdown",
   "id": "c2e21e5b",
   "metadata": {
    "papermill": {
     "duration": 0.012111,
     "end_time": "2023-05-10T15:41:53.589973",
     "exception": false,
     "start_time": "2023-05-10T15:41:53.577862",
     "status": "completed"
    },
    "tags": []
   },
   "source": [
    "The questions below will give you feedback on your work. Run the following cell to set up our feedback system."
   ]
  },
  {
   "cell_type": "code",
   "execution_count": 2,
   "id": "a64807fc",
   "metadata": {
    "execution": {
     "iopub.execute_input": "2023-05-10T15:41:53.616474Z",
     "iopub.status.busy": "2023-05-10T15:41:53.616008Z",
     "iopub.status.idle": "2023-05-10T15:41:53.703841Z",
     "shell.execute_reply": "2023-05-10T15:41:53.702858Z"
    },
    "papermill": {
     "duration": 0.104488,
     "end_time": "2023-05-10T15:41:53.706757",
     "exception": false,
     "start_time": "2023-05-10T15:41:53.602269",
     "status": "completed"
    },
    "tags": []
   },
   "outputs": [
    {
     "name": "stdout",
     "output_type": "stream",
     "text": [
      "Setup Complete\n"
     ]
    }
   ],
   "source": [
    "# Set up code checking\n",
    "import os\n",
    "if not os.path.exists(\"../input/candy.csv\"):\n",
    "    os.symlink(\"../input/data-for-datavis/candy.csv\", \"../input/candy.csv\") \n",
    "from learntools.core import binder\n",
    "binder.bind(globals())\n",
    "from learntools.data_viz_to_coder.ex4 import *\n",
    "print(\"Setup Complete\")"
   ]
  },
  {
   "cell_type": "markdown",
   "id": "60db0329",
   "metadata": {
    "papermill": {
     "duration": 0.011846,
     "end_time": "2023-05-10T15:41:53.730499",
     "exception": false,
     "start_time": "2023-05-10T15:41:53.718653",
     "status": "completed"
    },
    "tags": []
   },
   "source": [
    "## Step 1: Load the Data\n",
    "\n",
    "Read the candy data file into `candy_data`.  Use the `\"id\"` column to label the rows."
   ]
  },
  {
   "cell_type": "code",
   "execution_count": 3,
   "id": "b82088bb",
   "metadata": {
    "execution": {
     "iopub.execute_input": "2023-05-10T15:41:53.757650Z",
     "iopub.status.busy": "2023-05-10T15:41:53.757204Z",
     "iopub.status.idle": "2023-05-10T15:41:53.775872Z",
     "shell.execute_reply": "2023-05-10T15:41:53.774738Z"
    },
    "papermill": {
     "duration": 0.034521,
     "end_time": "2023-05-10T15:41:53.778270",
     "exception": false,
     "start_time": "2023-05-10T15:41:53.743749",
     "status": "completed"
    },
    "tags": []
   },
   "outputs": [
    {
     "data": {
      "application/javascript": [
       "parent.postMessage({\"jupyterEvent\": \"custom.exercise_interaction\", \"data\": {\"outcomeType\": 1, \"valueTowardsCompletion\": 0.3333333333333333, \"interactionType\": 1, \"questionType\": 1, \"questionId\": \"1_LoadData\", \"learnToolsVersion\": \"0.3.4\", \"failureMessage\": \"\", \"exceptionClass\": \"\", \"trace\": \"\"}}, \"*\")"
      ],
      "text/plain": [
       "<IPython.core.display.Javascript object>"
      ]
     },
     "metadata": {},
     "output_type": "display_data"
    },
    {
     "data": {
      "text/markdown": [
       "<span style=\"color:#33cc33\">Correct</span>"
      ],
      "text/plain": [
       "Correct"
      ]
     },
     "metadata": {},
     "output_type": "display_data"
    }
   ],
   "source": [
    "# Path of the file to read\n",
    "candy_filepath = \"../input/candy.csv\"\n",
    "\n",
    "# Fill in the line below to read the file into a variable candy_data\n",
    "candy_data = pd.read_csv(candy_filepath, index_col=\"id\")\n",
    "\n",
    "candy_data.dtypes\n",
    "\n",
    "# Run the line below with no changes to check that you've loaded the data correctly\n",
    "step_1.check()"
   ]
  },
  {
   "cell_type": "code",
   "execution_count": 4,
   "id": "db1614d2",
   "metadata": {
    "execution": {
     "iopub.execute_input": "2023-05-10T15:41:53.804258Z",
     "iopub.status.busy": "2023-05-10T15:41:53.803831Z",
     "iopub.status.idle": "2023-05-10T15:41:53.812936Z",
     "shell.execute_reply": "2023-05-10T15:41:53.811809Z"
    },
    "papermill": {
     "duration": 0.024639,
     "end_time": "2023-05-10T15:41:53.815097",
     "exception": false,
     "start_time": "2023-05-10T15:41:53.790458",
     "status": "completed"
    },
    "tags": []
   },
   "outputs": [
    {
     "data": {
      "application/javascript": [
       "parent.postMessage({\"jupyterEvent\": \"custom.exercise_interaction\", \"data\": {\"interactionType\": 2, \"questionType\": 1, \"questionId\": \"1_LoadData\", \"learnToolsVersion\": \"0.3.4\", \"valueTowardsCompletion\": 0.0, \"failureMessage\": \"\", \"exceptionClass\": \"\", \"trace\": \"\", \"outcomeType\": 4}}, \"*\")"
      ],
      "text/plain": [
       "<IPython.core.display.Javascript object>"
      ]
     },
     "metadata": {},
     "output_type": "display_data"
    },
    {
     "data": {
      "text/markdown": [
       "<span style=\"color:#3366cc\">Hint:</span> Use `pd.read_csv`, and follow it with **two** pieces of text that are enclosed in parentheses and separated by commas.  (1) The filepath for the dataset is provided in `candy_filepath`.  (2) Use the `\"id\"` column to label the rows."
      ],
      "text/plain": [
       "Hint: Use `pd.read_csv`, and follow it with **two** pieces of text that are enclosed in parentheses and separated by commas.  (1) The filepath for the dataset is provided in `candy_filepath`.  (2) Use the `\"id\"` column to label the rows."
      ]
     },
     "metadata": {},
     "output_type": "display_data"
    }
   ],
   "source": [
    "# Lines below will give you a hint or solution code\n",
    "step_1.hint()\n",
    "#step_1.solution()"
   ]
  },
  {
   "cell_type": "markdown",
   "id": "7752a4da",
   "metadata": {
    "papermill": {
     "duration": 0.012068,
     "end_time": "2023-05-10T15:41:53.839669",
     "exception": false,
     "start_time": "2023-05-10T15:41:53.827601",
     "status": "completed"
    },
    "tags": []
   },
   "source": [
    "## Step 2: Review the data\n",
    "\n",
    "Use a Python command to print the first five rows of the data."
   ]
  },
  {
   "cell_type": "code",
   "execution_count": 5,
   "id": "ef8e0550",
   "metadata": {
    "execution": {
     "iopub.execute_input": "2023-05-10T15:41:53.866302Z",
     "iopub.status.busy": "2023-05-10T15:41:53.865871Z",
     "iopub.status.idle": "2023-05-10T15:41:53.883379Z",
     "shell.execute_reply": "2023-05-10T15:41:53.881813Z"
    },
    "papermill": {
     "duration": 0.033791,
     "end_time": "2023-05-10T15:41:53.885996",
     "exception": false,
     "start_time": "2023-05-10T15:41:53.852205",
     "status": "completed"
    },
    "tags": []
   },
   "outputs": [
    {
     "name": "stdout",
     "output_type": "stream",
     "text": [
      "   competitorname chocolate fruity caramel peanutyalmondy nougat  \\\n",
      "id                                                                 \n",
      "0       100 Grand       Yes     No     Yes             No     No   \n",
      "1    3 Musketeers       Yes     No      No             No    Yes   \n",
      "2       Air Heads        No    Yes      No             No     No   \n",
      "3      Almond Joy       Yes     No      No            Yes     No   \n",
      "4       Baby Ruth       Yes     No     Yes            Yes    Yes   \n",
      "\n",
      "   crispedricewafer hard  bar pluribus  sugarpercent  pricepercent  winpercent  \n",
      "id                                                                              \n",
      "0               Yes   No  Yes       No         0.732         0.860   66.971725  \n",
      "1                No   No  Yes       No         0.604         0.511   67.602936  \n",
      "2                No   No   No       No         0.906         0.511   52.341465  \n",
      "3                No   No  Yes       No         0.465         0.767   50.347546  \n",
      "4                No   No  Yes       No         0.604         0.767   56.914547  \n"
     ]
    }
   ],
   "source": [
    "# Print the first five rows of the data\n",
    "print(candy_data.head())"
   ]
  },
  {
   "cell_type": "markdown",
   "id": "0fe60d4c",
   "metadata": {
    "papermill": {
     "duration": 0.012358,
     "end_time": "2023-05-10T15:41:53.911393",
     "exception": false,
     "start_time": "2023-05-10T15:41:53.899035",
     "status": "completed"
    },
    "tags": []
   },
   "source": [
    "The dataset contains 83 rows, where each corresponds to a different candy bar.  There are 13 columns:\n",
    "- `'competitorname'` contains the name of the candy bar. \n",
    "- the next **9** columns (from `'chocolate'` to `'pluribus'`) describe the candy.  For instance, rows with chocolate candies have `\"Yes\"` in the `'chocolate'` column (and candies without chocolate have `\"No\"` in the same column).\n",
    "- `'sugarpercent'` provides some indication of the amount of sugar, where higher values signify higher sugar content.\n",
    "- `'pricepercent'` shows the price per unit, relative to the other candies in the dataset.\n",
    "- `'winpercent'` is calculated from the survey results; higher values indicate that the candy was more popular with survey respondents.\n",
    "\n",
    "Use the first five rows of the data to answer the questions below."
   ]
  },
  {
   "cell_type": "code",
   "execution_count": 6,
   "id": "652d028b",
   "metadata": {
    "execution": {
     "iopub.execute_input": "2023-05-10T15:41:53.938720Z",
     "iopub.status.busy": "2023-05-10T15:41:53.938274Z",
     "iopub.status.idle": "2023-05-10T15:41:53.948195Z",
     "shell.execute_reply": "2023-05-10T15:41:53.947031Z"
    },
    "papermill": {
     "duration": 0.026669,
     "end_time": "2023-05-10T15:41:53.950549",
     "exception": false,
     "start_time": "2023-05-10T15:41:53.923880",
     "status": "completed"
    },
    "tags": []
   },
   "outputs": [
    {
     "data": {
      "application/javascript": [
       "parent.postMessage({\"jupyterEvent\": \"custom.exercise_interaction\", \"data\": {\"outcomeType\": 1, \"valueTowardsCompletion\": 0.3333333333333333, \"interactionType\": 1, \"questionType\": 1, \"questionId\": \"2_ReviewData\", \"learnToolsVersion\": \"0.3.4\", \"failureMessage\": \"\", \"exceptionClass\": \"\", \"trace\": \"\"}}, \"*\")"
      ],
      "text/plain": [
       "<IPython.core.display.Javascript object>"
      ]
     },
     "metadata": {},
     "output_type": "display_data"
    },
    {
     "data": {
      "text/markdown": [
       "<span style=\"color:#33cc33\">Correct</span>"
      ],
      "text/plain": [
       "Correct"
      ]
     },
     "metadata": {},
     "output_type": "display_data"
    }
   ],
   "source": [
    "# Fill in the line below: Which candy was more popular with survey respondents:\n",
    "# '3 Musketeers' or 'Almond Joy'?  (Please enclose your answer in single quotes.)\n",
    "more_popular = '3 Musketeers'\n",
    "\n",
    "# Fill in the line below: Which candy has higher sugar content: 'Air Heads'\n",
    "# or 'Baby Ruth'? (Please enclose your answer in single quotes.)\n",
    "more_sugar = 'Air Heads'\n",
    "\n",
    "# Check your answers\n",
    "step_2.check()"
   ]
  },
  {
   "cell_type": "code",
   "execution_count": 7,
   "id": "d1202057",
   "metadata": {
    "execution": {
     "iopub.execute_input": "2023-05-10T15:41:53.979230Z",
     "iopub.status.busy": "2023-05-10T15:41:53.978794Z",
     "iopub.status.idle": "2023-05-10T15:41:53.983747Z",
     "shell.execute_reply": "2023-05-10T15:41:53.982634Z"
    },
    "papermill": {
     "duration": 0.022162,
     "end_time": "2023-05-10T15:41:53.986083",
     "exception": false,
     "start_time": "2023-05-10T15:41:53.963921",
     "status": "completed"
    },
    "tags": []
   },
   "outputs": [],
   "source": [
    "# Lines below will give you a hint or solution code\n",
    "#step_2.hint()\n",
    "#step_2.solution()"
   ]
  },
  {
   "cell_type": "markdown",
   "id": "66833cf9",
   "metadata": {
    "papermill": {
     "duration": 0.012462,
     "end_time": "2023-05-10T15:41:54.011494",
     "exception": false,
     "start_time": "2023-05-10T15:41:53.999032",
     "status": "completed"
    },
    "tags": []
   },
   "source": [
    "## Step 3: The role of sugar\n",
    "\n",
    "Do people tend to prefer candies with higher sugar content?  \n",
    "\n",
    "#### Part A\n",
    "\n",
    "Create a scatter plot that shows the relationship between `'sugarpercent'` (on the horizontal x-axis) and `'winpercent'` (on the vertical y-axis).  _Don't add a regression line just yet -- you'll do that in the next step!_"
   ]
  },
  {
   "cell_type": "code",
   "execution_count": 8,
   "id": "7e656f2c",
   "metadata": {
    "execution": {
     "iopub.execute_input": "2023-05-10T15:41:54.038856Z",
     "iopub.status.busy": "2023-05-10T15:41:54.038417Z",
     "iopub.status.idle": "2023-05-10T15:41:54.348863Z",
     "shell.execute_reply": "2023-05-10T15:41:54.347679Z"
    },
    "papermill": {
     "duration": 0.327362,
     "end_time": "2023-05-10T15:41:54.351707",
     "exception": false,
     "start_time": "2023-05-10T15:41:54.024345",
     "status": "completed"
    },
    "tags": []
   },
   "outputs": [
    {
     "data": {
      "application/javascript": [
       "parent.postMessage({\"jupyterEvent\": \"custom.exercise_interaction\", \"data\": {\"outcomeType\": 1, \"valueTowardsCompletion\": 0.3333333333333333, \"interactionType\": 1, \"questionType\": 2, \"questionId\": \"3.1_PlotBlueScatter\", \"learnToolsVersion\": \"0.3.4\", \"failureMessage\": \"\", \"exceptionClass\": \"\", \"trace\": \"\"}}, \"*\")"
      ],
      "text/plain": [
       "<IPython.core.display.Javascript object>"
      ]
     },
     "metadata": {},
     "output_type": "display_data"
    },
    {
     "data": {
      "text/markdown": [
       "<span style=\"color:#33cc33\">Correct</span>"
      ],
      "text/plain": [
       "Correct"
      ]
     },
     "metadata": {},
     "output_type": "display_data"
    },
    {
     "data": {
      "image/png": "[encoded data removed]",
      "text/plain": [
       "<Figure size 640x480 with 1 Axes>"
      ]
     },
     "metadata": {},
     "output_type": "display_data"
    }
   ],
   "source": [
    "# Scatter plot showing the relationship between 'sugarpercent' and 'winpercent'\n",
    "sns.scatterplot(x=candy_data[\"sugarpercent\"], y=candy_data[\"winpercent\"])\n",
    "\n",
    "# Check your answer\n",
    "step_3.a.check()"
   ]
  },
  {
   "cell_type": "code",
   "execution_count": 9,
   "id": "0812c371",
   "metadata": {
    "execution": {
     "iopub.execute_input": "2023-05-10T15:41:54.381770Z",
     "iopub.status.busy": "2023-05-10T15:41:54.380415Z",
     "iopub.status.idle": "2023-05-10T15:41:54.388796Z",
     "shell.execute_reply": "2023-05-10T15:41:54.387932Z"
    },
    "papermill": {
     "duration": 0.025471,
     "end_time": "2023-05-10T15:41:54.390913",
     "exception": false,
     "start_time": "2023-05-10T15:41:54.365442",
     "status": "completed"
    },
    "tags": []
   },
   "outputs": [
    {
     "data": {
      "application/javascript": [
       "parent.postMessage({\"jupyterEvent\": \"custom.exercise_interaction\", \"data\": {\"interactionType\": 2, \"questionType\": 2, \"questionId\": \"3.1_PlotBlueScatter\", \"learnToolsVersion\": \"0.3.4\", \"valueTowardsCompletion\": 0.0, \"failureMessage\": \"\", \"exceptionClass\": \"\", \"trace\": \"\", \"outcomeType\": 4}}, \"*\")"
      ],
      "text/plain": [
       "<IPython.core.display.Javascript object>"
      ]
     },
     "metadata": {},
     "output_type": "display_data"
    },
    {
     "data": {
      "text/markdown": [
       "<span style=\"color:#3366cc\">Hint:</span> Use `sns.scatterplot`, and set the variables for the x-axis and y-axis by using `x=` and `y=`, respectively."
      ],
      "text/plain": [
       "Hint: Use `sns.scatterplot`, and set the variables for the x-axis and y-axis by using `x=` and `y=`, respectively."
      ]
     },
     "metadata": {},
     "output_type": "display_data"
    }
   ],
   "source": [
    "# Lines below will give you a hint or solution code\n",
    "step_3.a.hint()\n",
    "#step_3.a.solution_plot()"
   ]
  },
  {
   "cell_type": "markdown",
   "id": "c7638796",
   "metadata": {
    "papermill": {
     "duration": 0.013638,
     "end_time": "2023-05-10T15:41:54.418641",
     "exception": false,
     "start_time": "2023-05-10T15:41:54.405003",
     "status": "completed"
    },
    "tags": []
   },
   "source": [
    "#### Part B\n",
    "\n",
    "Does the scatter plot show a **strong** correlation between the two variables?  If so, are candies with more sugar relatively more or less popular with the survey respondents?"
   ]
  },
  {
   "cell_type": "code",
   "execution_count": 10,
   "id": "2b054e56",
   "metadata": {
    "execution": {
     "iopub.execute_input": "2023-05-10T15:41:54.448971Z",
     "iopub.status.busy": "2023-05-10T15:41:54.447976Z",
     "iopub.status.idle": "2023-05-10T15:41:54.845572Z",
     "shell.execute_reply": "2023-05-10T15:41:54.844095Z"
    },
    "papermill": {
     "duration": 0.41555,
     "end_time": "2023-05-10T15:41:54.848230",
     "exception": false,
     "start_time": "2023-05-10T15:41:54.432680",
     "status": "completed"
    },
    "tags": []
   },
   "outputs": [
    {
     "data": {
      "application/javascript": [
       "parent.postMessage({\"jupyterEvent\": \"custom.exercise_interaction\", \"data\": {\"interactionType\": 2, \"questionType\": 4, \"questionId\": \"3.2_ThinkBlueScatter\", \"learnToolsVersion\": \"0.3.4\", \"valueTowardsCompletion\": 0.0, \"failureMessage\": \"\", \"exceptionClass\": \"\", \"trace\": \"\", \"outcomeType\": 4}}, \"*\")"
      ],
      "text/plain": [
       "<IPython.core.display.Javascript object>"
      ]
     },
     "metadata": {},
     "output_type": "display_data"
    },
    {
     "data": {
      "text/markdown": [
       "<span style=\"color:#3366cc\">Hint:</span> Compare candies with higher sugar content (on the right side of the chart) to candies with lower sugar content (on the left side of the chart). Is one group clearly more popular than the other?"
      ],
      "text/plain": [
       "Hint: Compare candies with higher sugar content (on the right side of the chart) to candies with lower sugar content (on the left side of the chart). Is one group clearly more popular than the other?"
      ]
     },
     "metadata": {},
     "output_type": "display_data"
    },
    {
     "data": {
      "image/png": "[encoded data removed]",
      "text/plain": [
       "<Figure size 640x480 with 1 Axes>"
      ]
     },
     "metadata": {},
     "output_type": "display_data"
    }
   ],
   "source": [
    "sns.regplot(x=candy_data[\"sugarpercent\"], y=candy_data[\"winpercent\"])\n",
    "\n",
    "step_3.b.hint()"
   ]
  },
  {
   "cell_type": "code",
   "execution_count": 11,
   "id": "7863ed1d",
   "metadata": {
    "execution": {
     "iopub.execute_input": "2023-05-10T15:41:54.880231Z",
     "iopub.status.busy": "2023-05-10T15:41:54.879818Z",
     "iopub.status.idle": "2023-05-10T15:41:54.889343Z",
     "shell.execute_reply": "2023-05-10T15:41:54.888256Z"
    },
    "papermill": {
     "duration": 0.02822,
     "end_time": "2023-05-10T15:41:54.891707",
     "exception": false,
     "start_time": "2023-05-10T15:41:54.863487",
     "status": "completed"
    },
    "tags": []
   },
   "outputs": [
    {
     "data": {
      "application/javascript": [
       "parent.postMessage({\"jupyterEvent\": \"custom.exercise_interaction\", \"data\": {\"interactionType\": 3, \"questionType\": 4, \"questionId\": \"3.2_ThinkBlueScatter\", \"learnToolsVersion\": \"0.3.4\", \"valueTowardsCompletion\": 0.0, \"failureMessage\": \"\", \"exceptionClass\": \"\", \"trace\": \"\", \"outcomeType\": 4}}, \"*\")"
      ],
      "text/plain": [
       "<IPython.core.display.Javascript object>"
      ]
     },
     "metadata": {},
     "output_type": "display_data"
    },
    {
     "data": {
      "text/markdown": [
       "<span style=\"color:#33cc99\">Solution:</span> The scatter plot does not show a strong correlation between the two variables. Since there is no clear relationship between the two variables, this tells us that sugar content does not play a strong role in candy popularity."
      ],
      "text/plain": [
       "Solution: The scatter plot does not show a strong correlation between the two variables. Since there is no clear relationship between the two variables, this tells us that sugar content does not play a strong role in candy popularity."
      ]
     },
     "metadata": {},
     "output_type": "display_data"
    }
   ],
   "source": [
    "# The scatter plot does not show a strong correlation between the two variable. \n",
    "# Since there is no clear relationship between the two variables, \n",
    "# this tells us that sugar content doest not play a strong role in canda popularity.\n",
    "\n",
    "# Check your answer (Run this code cell to receive credit!)\n",
    "step_3.b.solution()"
   ]
  },
  {
   "cell_type": "markdown",
   "id": "66df7cda",
   "metadata": {
    "papermill": {
     "duration": 0.014979,
     "end_time": "2023-05-10T15:41:54.921977",
     "exception": false,
     "start_time": "2023-05-10T15:41:54.906998",
     "status": "completed"
    },
    "tags": []
   },
   "source": [
    "## Step 4: Take a closer look\n",
    "\n",
    "#### Part A\n",
    "\n",
    "Create the same scatter plot you created in **Step 3**, but now with a regression line!"
   ]
  },
  {
   "cell_type": "code",
   "execution_count": 12,
   "id": "2de7424b",
   "metadata": {
    "execution": {
     "iopub.execute_input": "2023-05-10T15:41:54.955127Z",
     "iopub.status.busy": "2023-05-10T15:41:54.954695Z",
     "iopub.status.idle": "2023-05-10T15:41:55.343972Z",
     "shell.execute_reply": "2023-05-10T15:41:55.342326Z"
    },
    "papermill": {
     "duration": 0.409559,
     "end_time": "2023-05-10T15:41:55.346639",
     "exception": false,
     "start_time": "2023-05-10T15:41:54.937080",
     "status": "completed"
    },
    "tags": []
   },
   "outputs": [
    {
     "data": {
      "application/javascript": [
       "parent.postMessage({\"jupyterEvent\": \"custom.exercise_interaction\", \"data\": {\"outcomeType\": 1, \"valueTowardsCompletion\": 0.3333333333333333, \"interactionType\": 1, \"questionType\": 2, \"questionId\": \"4.1_PlotBlueReg\", \"learnToolsVersion\": \"0.3.4\", \"failureMessage\": \"\", \"exceptionClass\": \"\", \"trace\": \"\"}}, \"*\")"
      ],
      "text/plain": [
       "<IPython.core.display.Javascript object>"
      ]
     },
     "metadata": {},
     "output_type": "display_data"
    },
    {
     "data": {
      "text/markdown": [
       "<span style=\"color:#33cc33\">Correct</span>"
      ],
      "text/plain": [
       "Correct"
      ]
     },
     "metadata": {},
     "output_type": "display_data"
    },
    {
     "data": {
      "image/png": "[encoded data removed]",
      "text/plain": [
       "<Figure size 640x480 with 1 Axes>"
      ]
     },
     "metadata": {},
     "output_type": "display_data"
    }
   ],
   "source": [
    "# Scatter plot w/ regression line showing the relationship between 'sugarpercent' and 'winpercent'\n",
    "sns.regplot(x=candy_data[\"sugarpercent\"], y=candy_data[\"winpercent\"])\n",
    "\n",
    "# Check your answer\n",
    "step_4.a.check()"
   ]
  },
  {
   "cell_type": "code",
   "execution_count": 13,
   "id": "beab4d6a",
   "metadata": {
    "execution": {
     "iopub.execute_input": "2023-05-10T15:41:55.381614Z",
     "iopub.status.busy": "2023-05-10T15:41:55.380972Z",
     "iopub.status.idle": "2023-05-10T15:41:55.386054Z",
     "shell.execute_reply": "2023-05-10T15:41:55.384900Z"
    },
    "papermill": {
     "duration": 0.025173,
     "end_time": "2023-05-10T15:41:55.388388",
     "exception": false,
     "start_time": "2023-05-10T15:41:55.363215",
     "status": "completed"
    },
    "tags": []
   },
   "outputs": [],
   "source": [
    "# Lines below will give you a hint or solution code\n",
    "#step_4.a.hint()\n",
    "#step_4.a.solution_plot()"
   ]
  },
  {
   "cell_type": "markdown",
   "id": "874ab5c7",
   "metadata": {
    "papermill": {
     "duration": 0.016512,
     "end_time": "2023-05-10T15:41:55.421731",
     "exception": false,
     "start_time": "2023-05-10T15:41:55.405219",
     "status": "completed"
    },
    "tags": []
   },
   "source": [
    "#### Part B\n",
    "\n",
    "According to the plot above, is there a **slight** correlation between `'winpercent'` and `'sugarpercent'`?  What does this tell you about the candy that people tend to prefer?"
   ]
  },
  {
   "cell_type": "code",
   "execution_count": 14,
   "id": "f5df42b5",
   "metadata": {
    "execution": {
     "iopub.execute_input": "2023-05-10T15:41:55.456154Z",
     "iopub.status.busy": "2023-05-10T15:41:55.455733Z",
     "iopub.status.idle": "2023-05-10T15:41:55.460995Z",
     "shell.execute_reply": "2023-05-10T15:41:55.459915Z"
    },
    "papermill": {
     "duration": 0.025192,
     "end_time": "2023-05-10T15:41:55.463393",
     "exception": false,
     "start_time": "2023-05-10T15:41:55.438201",
     "status": "completed"
    },
    "tags": []
   },
   "outputs": [],
   "source": [
    "#step_4.b.hint()\n",
    "\n",
    "# Given by the regression line, the popularity for candies with higher sugar percent is slightly more popular.\n",
    "# This corresponds to a positive correlation between the two variables,\n",
    "# hinting that people tend to prefer candies that are more sweet.\n",
    "\n",
    "\n",
    "# Since the regression line has a slightly positive slope,\n",
    "# this tells us that there is a slightly positive correlation between 'winepercent' and 'susgarpercent'.\n",
    "# Thus, people have a slight preference for andies containing relatively more sugar."
   ]
  },
  {
   "cell_type": "code",
   "execution_count": 15,
   "id": "9bffd210",
   "metadata": {
    "execution": {
     "iopub.execute_input": "2023-05-10T15:41:55.498149Z",
     "iopub.status.busy": "2023-05-10T15:41:55.497524Z",
     "iopub.status.idle": "2023-05-10T15:41:55.504635Z",
     "shell.execute_reply": "2023-05-10T15:41:55.503703Z"
    },
    "papermill": {
     "duration": 0.026892,
     "end_time": "2023-05-10T15:41:55.506669",
     "exception": false,
     "start_time": "2023-05-10T15:41:55.479777",
     "status": "completed"
    },
    "tags": []
   },
   "outputs": [
    {
     "data": {
      "application/javascript": [
       "parent.postMessage({\"jupyterEvent\": \"custom.exercise_interaction\", \"data\": {\"interactionType\": 3, \"questionType\": 4, \"questionId\": \"4.2_ThinkBlueReg\", \"learnToolsVersion\": \"0.3.4\", \"valueTowardsCompletion\": 0.0, \"failureMessage\": \"\", \"exceptionClass\": \"\", \"trace\": \"\", \"outcomeType\": 4}}, \"*\")"
      ],
      "text/plain": [
       "<IPython.core.display.Javascript object>"
      ]
     },
     "metadata": {},
     "output_type": "display_data"
    },
    {
     "data": {
      "text/markdown": [
       "<span style=\"color:#33cc99\">Solution:</span> Since the regression line has a slightly positive slope, this tells us that there is a slightly positive correlation between `'winpercent'` and `'sugarpercent'`. Thus, people have a slight preference for candies containing relatively more sugar."
      ],
      "text/plain": [
       "Solution: Since the regression line has a slightly positive slope, this tells us that there is a slightly positive correlation between `'winpercent'` and `'sugarpercent'`. Thus, people have a slight preference for candies containing relatively more sugar."
      ]
     },
     "metadata": {},
     "output_type": "display_data"
    }
   ],
   "source": [
    "# Check your answer (Run this code cell to receive credit!)\n",
    "step_4.b.solution()"
   ]
  },
  {
   "cell_type": "markdown",
   "id": "079761f7",
   "metadata": {
    "papermill": {
     "duration": 0.016153,
     "end_time": "2023-05-10T15:41:55.539503",
     "exception": false,
     "start_time": "2023-05-10T15:41:55.523350",
     "status": "completed"
    },
    "tags": []
   },
   "source": [
    "## Step 5: Chocolate!\n",
    "\n",
    "In the code cell below, create a scatter plot to show the relationship between `'pricepercent'` (on the horizontal x-axis) and `'winpercent'` (on the vertical y-axis). Use the `'chocolate'` column to color-code the points.  _Don't add any regression lines just yet -- you'll do that in the next step!_"
   ]
  },
  {
   "cell_type": "code",
   "execution_count": 16,
   "id": "236248ab",
   "metadata": {
    "execution": {
     "iopub.execute_input": "2023-05-10T15:41:55.574950Z",
     "iopub.status.busy": "2023-05-10T15:41:55.574211Z",
     "iopub.status.idle": "2023-05-10T15:41:55.934239Z",
     "shell.execute_reply": "2023-05-10T15:41:55.932327Z"
    },
    "papermill": {
     "duration": 0.380939,
     "end_time": "2023-05-10T15:41:55.936937",
     "exception": false,
     "start_time": "2023-05-10T15:41:55.555998",
     "status": "completed"
    },
    "tags": []
   },
   "outputs": [
    {
     "data": {
      "application/javascript": [
       "parent.postMessage({\"jupyterEvent\": \"custom.exercise_interaction\", \"data\": {\"outcomeType\": 1, \"valueTowardsCompletion\": 0.3333333333333333, \"interactionType\": 1, \"questionType\": 2, \"questionId\": \"5_ColorScatter\", \"learnToolsVersion\": \"0.3.4\", \"failureMessage\": \"\", \"exceptionClass\": \"\", \"trace\": \"\"}}, \"*\")"
      ],
      "text/plain": [
       "<IPython.core.display.Javascript object>"
      ]
     },
     "metadata": {},
     "output_type": "display_data"
    },
    {
     "data": {
      "text/markdown": [
       "<span style=\"color:#33cc33\">Correct</span>"
      ],
      "text/plain": [
       "Correct"
      ]
     },
     "metadata": {},
     "output_type": "display_data"
    },
    {
     "data": {
      "image/png": "[encoded data removed]",
      "text/plain": [
       "<Figure size 640x480 with 1 Axes>"
      ]
     },
     "metadata": {},
     "output_type": "display_data"
    }
   ],
   "source": [
    "# Scatter plot showing the relationship between 'pricepercent', 'winpercent', and 'chocolate'\n",
    "sns.scatterplot(x=candy_data[\"pricepercent\"], y=candy_data[\"winpercent\"],\n",
    "                hue=candy_data[\"chocolate\"])\n",
    "\n",
    "# Check your answer\n",
    "step_5.check()"
   ]
  },
  {
   "cell_type": "code",
   "execution_count": 17,
   "id": "660acb37",
   "metadata": {
    "execution": {
     "iopub.execute_input": "2023-05-10T15:41:55.974779Z",
     "iopub.status.busy": "2023-05-10T15:41:55.974318Z",
     "iopub.status.idle": "2023-05-10T15:41:55.979014Z",
     "shell.execute_reply": "2023-05-10T15:41:55.977901Z"
    },
    "papermill": {
     "duration": 0.026309,
     "end_time": "2023-05-10T15:41:55.981257",
     "exception": false,
     "start_time": "2023-05-10T15:41:55.954948",
     "status": "completed"
    },
    "tags": []
   },
   "outputs": [],
   "source": [
    "# Lines below will give you a hint or solution code\n",
    "#step_5.hint()\n",
    "#step_5.solution_plot()"
   ]
  },
  {
   "cell_type": "markdown",
   "id": "779bec11",
   "metadata": {
    "papermill": {
     "duration": 0.01756,
     "end_time": "2023-05-10T15:41:56.016990",
     "exception": false,
     "start_time": "2023-05-10T15:41:55.999430",
     "status": "completed"
    },
    "tags": []
   },
   "source": [
    "Can you see any interesting patterns in the scatter plot?  We'll investigate this plot further  by adding regression lines in the next step!\n",
    "\n",
    "## Step 6: Investigate chocolate\n",
    "\n",
    "#### Part A\n",
    "\n",
    "Create the same scatter plot you created in **Step 5**, but now with two regression lines, corresponding to (1) chocolate candies and (2) candies without chocolate."
   ]
  },
  {
   "cell_type": "code",
   "execution_count": 18,
   "id": "a18a991b",
   "metadata": {
    "execution": {
     "iopub.execute_input": "2023-05-10T15:41:56.054818Z",
     "iopub.status.busy": "2023-05-10T15:41:56.054361Z",
     "iopub.status.idle": "2023-05-10T15:41:56.843200Z",
     "shell.execute_reply": "2023-05-10T15:41:56.842044Z"
    },
    "papermill": {
     "duration": 0.811093,
     "end_time": "2023-05-10T15:41:56.845839",
     "exception": false,
     "start_time": "2023-05-10T15:41:56.034746",
     "status": "completed"
    },
    "tags": []
   },
   "outputs": [
    {
     "data": {
      "application/javascript": [
       "parent.postMessage({\"jupyterEvent\": \"custom.exercise_interaction\", \"data\": {\"outcomeType\": 1, \"valueTowardsCompletion\": 0.3333333333333333, \"interactionType\": 1, \"questionType\": 2, \"questionId\": \"6.1_PlotColorReg\", \"learnToolsVersion\": \"0.3.4\", \"failureMessage\": \"\", \"exceptionClass\": \"\", \"trace\": \"\"}}, \"*\")"
      ],
      "text/plain": [
       "<IPython.core.display.Javascript object>"
      ]
     },
     "metadata": {},
     "output_type": "display_data"
    },
    {
     "data": {
      "text/markdown": [
       "<span style=\"color:#33cc33\">Correct</span>"
      ],
      "text/plain": [
       "Correct"
      ]
     },
     "metadata": {},
     "output_type": "display_data"
    },
    {
     "data": {
      "image/png": "[encoded data removed]",
      "text/plain": [
       "<Figure size 578.611x500 with 1 Axes>"
      ]
     },
     "metadata": {},
     "output_type": "display_data"
    }
   ],
   "source": [
    "# Color-coded scatter plot w/ regression lines\n",
    "sns.lmplot(x=\"pricepercent\", y=\"winpercent\",\n",
    "           hue=\"chocolate\",\n",
    "           data=candy_data)\n",
    "\n",
    "# Check your answer\n",
    "step_6.a.check()"
   ]
  },
  {
   "cell_type": "code",
   "execution_count": 19,
   "id": "0f8a8ca3",
   "metadata": {
    "execution": {
     "iopub.execute_input": "2023-05-10T15:41:56.885065Z",
     "iopub.status.busy": "2023-05-10T15:41:56.884194Z",
     "iopub.status.idle": "2023-05-10T15:41:56.889175Z",
     "shell.execute_reply": "2023-05-10T15:41:56.888167Z"
    },
    "papermill": {
     "duration": 0.027189,
     "end_time": "2023-05-10T15:41:56.891555",
     "exception": false,
     "start_time": "2023-05-10T15:41:56.864366",
     "status": "completed"
    },
    "tags": []
   },
   "outputs": [],
   "source": [
    "# Lines below will give you a hint or solution code\n",
    "#step_6.a.hint()\n",
    "#step_6.a.solution_plot()"
   ]
  },
  {
   "cell_type": "markdown",
   "id": "cd7061e0",
   "metadata": {
    "papermill": {
     "duration": 0.018285,
     "end_time": "2023-05-10T15:41:56.928415",
     "exception": false,
     "start_time": "2023-05-10T15:41:56.910130",
     "status": "completed"
    },
    "tags": []
   },
   "source": [
    "#### Part B\n",
    "\n",
    "Using the regression lines, what conclusions can you draw about the effects of chocolate and price on candy popularity?"
   ]
  },
  {
   "cell_type": "code",
   "execution_count": 20,
   "id": "a5ece97b",
   "metadata": {
    "execution": {
     "iopub.execute_input": "2023-05-10T15:41:56.967670Z",
     "iopub.status.busy": "2023-05-10T15:41:56.967185Z",
     "iopub.status.idle": "2023-05-10T15:41:56.976687Z",
     "shell.execute_reply": "2023-05-10T15:41:56.975545Z"
    },
    "papermill": {
     "duration": 0.032142,
     "end_time": "2023-05-10T15:41:56.979063",
     "exception": false,
     "start_time": "2023-05-10T15:41:56.946921",
     "status": "completed"
    },
    "tags": []
   },
   "outputs": [
    {
     "data": {
      "application/javascript": [
       "parent.postMessage({\"jupyterEvent\": \"custom.exercise_interaction\", \"data\": {\"interactionType\": 2, \"questionType\": 4, \"questionId\": \"6.2_ThinkColorReg\", \"learnToolsVersion\": \"0.3.4\", \"valueTowardsCompletion\": 0.0, \"failureMessage\": \"\", \"exceptionClass\": \"\", \"trace\": \"\", \"outcomeType\": 4}}, \"*\")"
      ],
      "text/plain": [
       "<IPython.core.display.Javascript object>"
      ]
     },
     "metadata": {},
     "output_type": "display_data"
    },
    {
     "data": {
      "text/markdown": [
       "<span style=\"color:#3366cc\">Hint:</span> Look at each regression line - do you notice a positive or negative slope?"
      ],
      "text/plain": [
       "Hint: Look at each regression line - do you notice a positive or negative slope?"
      ]
     },
     "metadata": {},
     "output_type": "display_data"
    }
   ],
   "source": [
    "step_6.b.hint()"
   ]
  },
  {
   "cell_type": "code",
   "execution_count": 21,
   "id": "def8000d",
   "metadata": {
    "execution": {
     "iopub.execute_input": "2023-05-10T15:41:57.020017Z",
     "iopub.status.busy": "2023-05-10T15:41:57.019550Z",
     "iopub.status.idle": "2023-05-10T15:41:57.030322Z",
     "shell.execute_reply": "2023-05-10T15:41:57.029485Z"
    },
    "papermill": {
     "duration": 0.034474,
     "end_time": "2023-05-10T15:41:57.033102",
     "exception": false,
     "start_time": "2023-05-10T15:41:56.998628",
     "status": "completed"
    },
    "tags": []
   },
   "outputs": [
    {
     "data": {
      "application/javascript": [
       "parent.postMessage({\"jupyterEvent\": \"custom.exercise_interaction\", \"data\": {\"interactionType\": 3, \"questionType\": 4, \"questionId\": \"6.2_ThinkColorReg\", \"learnToolsVersion\": \"0.3.4\", \"valueTowardsCompletion\": 0.0, \"failureMessage\": \"\", \"exceptionClass\": \"\", \"trace\": \"\", \"outcomeType\": 4}}, \"*\")"
      ],
      "text/plain": [
       "<IPython.core.display.Javascript object>"
      ]
     },
     "metadata": {},
     "output_type": "display_data"
    },
    {
     "data": {
      "text/markdown": [
       "<span style=\"color:#33cc99\">Solution:</span> We'll begin with the regression line for chocolate candies. Since this line has a slightly positive slope, we can say that more expensive chocolate candies tend to be more popular (than relatively cheaper chocolate candies).  Likewise, since the regression line for candies without chocolate has a negative slope, we can say that if candies don't contain chocolate, they tend to be more popular when they are cheaper.  One important note, however, is that the dataset is quite small -- so we shouldn't invest too much trust in these patterns!  To inspire more confidence in the results, we should add more candies to the dataset."
      ],
      "text/plain": [
       "Solution: We'll begin with the regression line for chocolate candies. Since this line has a slightly positive slope, we can say that more expensive chocolate candies tend to be more popular (than relatively cheaper chocolate candies).  Likewise, since the regression line for candies without chocolate has a negative slope, we can say that if candies don't contain chocolate, they tend to be more popular when they are cheaper.  One important note, however, is that the dataset is quite small -- so we shouldn't invest too much trust in these patterns!  To inspire more confidence in the results, we should add more candies to the dataset."
      ]
     },
     "metadata": {},
     "output_type": "display_data"
    }
   ],
   "source": [
    "# There is slightly positve slope for the candies with chocolate, while a slightly negative slopte fothe candies without chocolate.\n",
    "# This shows a positive correlation between 'chocolate' and the popularity of the candy.\n",
    "\n",
    "\n",
    "# We'll begin with the regression line for chocolate candies.\n",
    "# Since this line has a slightly positive slope, we can say that more expensive chocolate candies tend to be more popular (than relativelyl cheaper chocolate candies).\n",
    "\n",
    "# Likewise, since the regression line for andies without chocolate has a negative slope, we can say that if candies don't contain chocolate, \n",
    "# they tend to be more popular when they are cheapter.\n",
    "\n",
    "# One important note, however, is that the dataset is quite small -- so we shouldn't invest too much trust in these patterns!\n",
    "# Ton inspire more condidence in the results, we should add more candies to the dataset.\n",
    "\n",
    "\n",
    "# Check your answer (Run this code cell to receive credit!)\n",
    "step_6.b.solution()"
   ]
  },
  {
   "cell_type": "markdown",
   "id": "0b69ef23",
   "metadata": {
    "papermill": {
     "duration": 0.019216,
     "end_time": "2023-05-10T15:41:57.072018",
     "exception": false,
     "start_time": "2023-05-10T15:41:57.052802",
     "status": "completed"
    },
    "tags": []
   },
   "source": [
    "## Step 7: Everybody loves chocolate.\n",
    "\n",
    "#### Part A\n",
    "\n",
    "Create a categorical scatter plot to highlight the relationship between `'chocolate'` and `'winpercent'`.  Put `'chocolate'` on the (horizontal) x-axis, and `'winpercent'` on the (vertical) y-axis."
   ]
  },
  {
   "cell_type": "code",
   "execution_count": 22,
   "id": "acd2caa3",
   "metadata": {
    "execution": {
     "iopub.execute_input": "2023-05-10T15:41:57.113730Z",
     "iopub.status.busy": "2023-05-10T15:41:57.112694Z",
     "iopub.status.idle": "2023-05-10T15:41:57.599447Z",
     "shell.execute_reply": "2023-05-10T15:41:57.597659Z"
    },
    "papermill": {
     "duration": 0.513045,
     "end_time": "2023-05-10T15:41:57.604627",
     "exception": false,
     "start_time": "2023-05-10T15:41:57.091582",
     "status": "completed"
    },
    "tags": []
   },
   "outputs": [
    {
     "data": {
      "application/javascript": [
       "parent.postMessage({\"jupyterEvent\": \"custom.exercise_interaction\", \"data\": {\"outcomeType\": 1, \"valueTowardsCompletion\": 0.3333333333333333, \"interactionType\": 1, \"questionType\": 2, \"questionId\": \"7.1_PlotSwarm\", \"learnToolsVersion\": \"0.3.4\", \"failureMessage\": \"\", \"exceptionClass\": \"\", \"trace\": \"\"}}, \"*\")"
      ],
      "text/plain": [
       "<IPython.core.display.Javascript object>"
      ]
     },
     "metadata": {},
     "output_type": "display_data"
    },
    {
     "data": {
      "text/markdown": [
       "<span style=\"color:#33cc33\">Correct</span>"
      ],
      "text/plain": [
       "Correct"
      ]
     },
     "metadata": {},
     "output_type": "display_data"
    },
    {
     "data": {
      "image/png": "[encoded data removed]",
      "text/plain": [
       "<Figure size 640x480 with 1 Axes>"
      ]
     },
     "metadata": {},
     "output_type": "display_data"
    }
   ],
   "source": [
    "# Scatter plot showing the relationship between 'chocolate' and 'winpercent'\n",
    "sns.swarmplot(x=candy_data['chocolate'], y=candy_data['winpercent'])\n",
    "\n",
    "# Check your answer\n",
    "step_7.a.check()"
   ]
  },
  {
   "cell_type": "code",
   "execution_count": 23,
   "id": "98cdbb34",
   "metadata": {
    "execution": {
     "iopub.execute_input": "2023-05-10T15:41:57.660339Z",
     "iopub.status.busy": "2023-05-10T15:41:57.659569Z",
     "iopub.status.idle": "2023-05-10T15:41:57.664213Z",
     "shell.execute_reply": "2023-05-10T15:41:57.663352Z"
    },
    "papermill": {
     "duration": 0.028563,
     "end_time": "2023-05-10T15:41:57.666357",
     "exception": false,
     "start_time": "2023-05-10T15:41:57.637794",
     "status": "completed"
    },
    "tags": []
   },
   "outputs": [],
   "source": [
    "# Lines below will give you a hint or solution code\n",
    "#step_7.a.hint()\n",
    "#step_7.a.solution_plot()"
   ]
  },
  {
   "cell_type": "markdown",
   "id": "5aad42e3",
   "metadata": {
    "papermill": {
     "duration": 0.019706,
     "end_time": "2023-05-10T15:41:57.706115",
     "exception": false,
     "start_time": "2023-05-10T15:41:57.686409",
     "status": "completed"
    },
    "tags": []
   },
   "source": [
    "#### Part B\n",
    "\n",
    "You decide to dedicate a section of your report to the fact that chocolate candies tend to be more popular than candies without chocolate.  Which plot is more appropriate to tell this story: the plot from **Step 6**, or the plot from **Step 7**?"
   ]
  },
  {
   "cell_type": "code",
   "execution_count": 24,
   "id": "fc41b6f4",
   "metadata": {
    "execution": {
     "iopub.execute_input": "2023-05-10T15:41:57.749185Z",
     "iopub.status.busy": "2023-05-10T15:41:57.748389Z",
     "iopub.status.idle": "2023-05-10T15:41:57.752548Z",
     "shell.execute_reply": "2023-05-10T15:41:57.751815Z"
    },
    "papermill": {
     "duration": 0.028437,
     "end_time": "2023-05-10T15:41:57.754663",
     "exception": false,
     "start_time": "2023-05-10T15:41:57.726226",
     "status": "completed"
    },
    "tags": []
   },
   "outputs": [],
   "source": [
    "#step_7.b.hint()\n",
    "\n",
    "#结论：In this case, the categorical scatter plot from step 7 is more appropriate plot. \n",
    "\n",
    "#解释：While both plots tell the desired story,\n",
    "# the plot from step 6 conveys far more information that could distract from the main point."
   ]
  },
  {
   "cell_type": "code",
   "execution_count": 25,
   "id": "2637d8d2",
   "metadata": {
    "execution": {
     "iopub.execute_input": "2023-05-10T15:41:57.797267Z",
     "iopub.status.busy": "2023-05-10T15:41:57.796039Z",
     "iopub.status.idle": "2023-05-10T15:41:57.804340Z",
     "shell.execute_reply": "2023-05-10T15:41:57.803341Z"
    },
    "papermill": {
     "duration": 0.032058,
     "end_time": "2023-05-10T15:41:57.806725",
     "exception": false,
     "start_time": "2023-05-10T15:41:57.774667",
     "status": "completed"
    },
    "tags": []
   },
   "outputs": [
    {
     "data": {
      "application/javascript": [
       "parent.postMessage({\"jupyterEvent\": \"custom.exercise_interaction\", \"data\": {\"interactionType\": 3, \"questionType\": 4, \"questionId\": \"7.2_ThinkSwarm\", \"learnToolsVersion\": \"0.3.4\", \"valueTowardsCompletion\": 0.0, \"failureMessage\": \"\", \"exceptionClass\": \"\", \"trace\": \"\", \"outcomeType\": 4}}, \"*\")"
      ],
      "text/plain": [
       "<IPython.core.display.Javascript object>"
      ]
     },
     "metadata": {},
     "output_type": "display_data"
    },
    {
     "data": {
      "text/markdown": [
       "<span style=\"color:#33cc99\">Solution:</span> In this case, the categorical scatter plot from **Step 7** is the more appropriate plot. While both plots tell the desired story, the plot from **Step 6** conveys far more information that could distract from the main point."
      ],
      "text/plain": [
       "Solution: In this case, the categorical scatter plot from **Step 7** is the more appropriate plot. While both plots tell the desired story, the plot from **Step 6** conveys far more information that could distract from the main point."
      ]
     },
     "metadata": {},
     "output_type": "display_data"
    }
   ],
   "source": [
    "# Check your answer (Run this code cell to receive credit!)\n",
    "step_7.b.solution()"
   ]
  },
  {
   "cell_type": "markdown",
   "id": "2d4b21a3",
   "metadata": {
    "papermill": {
     "duration": 0.021275,
     "end_time": "2023-05-10T15:41:57.848068",
     "exception": false,
     "start_time": "2023-05-10T15:41:57.826793",
     "status": "completed"
    },
    "tags": []
   },
   "source": [
    "## Keep going\n",
    "\n",
    "Explore **[histograms and density plots](https://www.kaggle.com/alexisbcook/distributions)**."
   ]
  },
  {
   "cell_type": "markdown",
   "id": "643ba6f7",
   "metadata": {
    "papermill": {
     "duration": 0.020362,
     "end_time": "2023-05-10T15:41:57.888629",
     "exception": false,
     "start_time": "2023-05-10T15:41:57.868267",
     "status": "completed"
    },
    "tags": []
   },
   "source": [
    "---\n",
    "\n",
    "\n",
    "\n",
    "\n",
    "*Have questions or comments? Visit the [course discussion forum](https://www.kaggle.com/learn/data-visualization/discussion) to chat with other learners.*"
   ]
  }
 ],
 "metadata": {
  "kernelspec": {
   "display_name": "Python 3",
   "language": "python",
   "name": "python3"
  },
  "language_info": {
   "codemirror_mode": {
    "name": "ipython",
    "version": 3
   },
   "file_extension": ".py",
   "mimetype": "text/x-python",
   "name": "python",
   "nbconvert_exporter": "python",
   "pygments_lexer": "ipython3",
   "version": "3.10.10"
  },
  "papermill": {
   "default_parameters": {},
   "duration": 19.613709,
   "end_time": "2023-05-10T15:41:58.933027",
   "environment_variables": {},
   "exception": null,
   "input_path": "__notebook__.ipynb",
   "output_path": "__notebook__.ipynb",
   "parameters": {},
   "start_time": "2023-05-10T15:41:39.319318",
   "version": "2.4.0"
  }
 },
 "nbformat": 4,
 "nbformat_minor": 5
}
