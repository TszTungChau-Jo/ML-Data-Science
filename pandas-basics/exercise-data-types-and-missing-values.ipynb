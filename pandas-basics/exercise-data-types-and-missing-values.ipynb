{
 "cells": [
  {
   "cell_type": "markdown",
   "id": "18ee6921",
   "metadata": {
    "papermill": {
     "duration": 0.004463,
     "end_time": "2023-05-09T13:15:09.816061",
     "exception": false,
     "start_time": "2023-05-09T13:15:09.811598",
     "status": "completed"
    },
    "tags": []
   },
   "source": [
    "**This notebook is an exercise in the [Pandas](https://www.kaggle.com/learn/pandas) course.  You can reference the tutorial at [this link](https://www.kaggle.com/residentmario/data-types-and-missing-values).**\n",
    "\n",
    "---\n"
   ]
  },
  {
   "cell_type": "markdown",
   "id": "c1dbe9f9",
   "metadata": {
    "papermill": {
     "duration": 0.003793,
     "end_time": "2023-05-09T13:15:09.824218",
     "exception": false,
     "start_time": "2023-05-09T13:15:09.820425",
     "status": "completed"
    },
    "tags": []
   },
   "source": [
    "# Introduction\n",
    "\n",
    "Run the following cell to load your data and some utility functions."
   ]
  },
  {
   "cell_type": "code",
   "execution_count": 1,
   "id": "d8e04bc3",
   "metadata": {
    "execution": {
     "iopub.execute_input": "2023-05-09T13:15:09.834044Z",
     "iopub.status.busy": "2023-05-09T13:15:09.833683Z",
     "iopub.status.idle": "2023-05-09T13:15:13.263698Z",
     "shell.execute_reply": "2023-05-09T13:15:13.262608Z"
    },
    "papermill": {
     "duration": 3.43812,
     "end_time": "2023-05-09T13:15:13.266331",
     "exception": false,
     "start_time": "2023-05-09T13:15:09.828211",
     "status": "completed"
    },
    "tags": []
   },
   "outputs": [
    {
     "name": "stdout",
     "output_type": "stream",
     "text": [
      "Setup complete.\n"
     ]
    }
   ],
   "source": [
    "import pandas as pd\n",
    "\n",
    "reviews = pd.read_csv(\"../input/wine-reviews/winemag-data-130k-v2.csv\", index_col=0)\n",
    "\n",
    "from learntools.core import binder; binder.bind(globals())\n",
    "from learntools.pandas.data_types_and_missing_data import *\n",
    "print(\"Setup complete.\")"
   ]
  },
  {
   "cell_type": "markdown",
   "id": "4469243c",
   "metadata": {
    "papermill": {
     "duration": 0.003989,
     "end_time": "2023-05-09T13:15:13.274530",
     "exception": false,
     "start_time": "2023-05-09T13:15:13.270541",
     "status": "completed"
    },
    "tags": []
   },
   "source": [
    "# Exercises"
   ]
  },
  {
   "cell_type": "markdown",
   "id": "166e7733",
   "metadata": {
    "papermill": {
     "duration": 0.003716,
     "end_time": "2023-05-09T13:15:13.282132",
     "exception": false,
     "start_time": "2023-05-09T13:15:13.278416",
     "status": "completed"
    },
    "tags": []
   },
   "source": [
    "## 1. \n",
    "What is the data type of the `points` column in the dataset?"
   ]
  },
  {
   "cell_type": "code",
   "execution_count": 2,
   "id": "1e836b07",
   "metadata": {
    "execution": {
     "iopub.execute_input": "2023-05-09T13:15:13.291798Z",
     "iopub.status.busy": "2023-05-09T13:15:13.291377Z",
     "iopub.status.idle": "2023-05-09T13:15:13.301756Z",
     "shell.execute_reply": "2023-05-09T13:15:13.300669Z"
    },
    "papermill": {
     "duration": 0.019321,
     "end_time": "2023-05-09T13:15:13.305464",
     "exception": false,
     "start_time": "2023-05-09T13:15:13.286143",
     "status": "completed"
    },
    "tags": []
   },
   "outputs": [
    {
     "name": "stdout",
     "output_type": "stream",
     "text": [
      "int64\n"
     ]
    },
    {
     "data": {
      "application/javascript": [
       "parent.postMessage({\"jupyterEvent\": \"custom.exercise_interaction\", \"data\": {\"outcomeType\": 1, \"valueTowardsCompletion\": 0.25, \"interactionType\": 1, \"questionType\": 1, \"questionId\": \"1_PointsDtype\", \"learnToolsVersion\": \"0.3.4\", \"failureMessage\": \"\", \"exceptionClass\": \"\", \"trace\": \"\"}}, \"*\")"
      ],
      "text/plain": [
       "<IPython.core.display.Javascript object>"
      ]
     },
     "metadata": {},
     "output_type": "display_data"
    },
    {
     "data": {
      "text/markdown": [
       "<span style=\"color:#33cc33\">Correct</span>"
      ],
      "text/plain": [
       "Correct"
      ]
     },
     "metadata": {},
     "output_type": "display_data"
    }
   ],
   "source": [
    "# Your code here\n",
    "dtype = reviews.points.dtype\n",
    "\n",
    "print(dtype)\n",
    "\n",
    "# Check your answer\n",
    "q1.check()"
   ]
  },
  {
   "cell_type": "code",
   "execution_count": 3,
   "id": "e796460a",
   "metadata": {
    "execution": {
     "iopub.execute_input": "2023-05-09T13:15:13.316235Z",
     "iopub.status.busy": "2023-05-09T13:15:13.315876Z",
     "iopub.status.idle": "2023-05-09T13:15:13.320362Z",
     "shell.execute_reply": "2023-05-09T13:15:13.319210Z"
    },
    "papermill": {
     "duration": 0.012672,
     "end_time": "2023-05-09T13:15:13.322526",
     "exception": false,
     "start_time": "2023-05-09T13:15:13.309854",
     "status": "completed"
    },
    "tags": []
   },
   "outputs": [],
   "source": [
    "#q1.hint()\n",
    "#q1.solution()"
   ]
  },
  {
   "cell_type": "markdown",
   "id": "b1ad4e01",
   "metadata": {
    "papermill": {
     "duration": 0.004247,
     "end_time": "2023-05-09T13:15:13.331349",
     "exception": false,
     "start_time": "2023-05-09T13:15:13.327102",
     "status": "completed"
    },
    "tags": []
   },
   "source": [
    "## 2. \n",
    "Create a Series from entries in the `points` column, but convert the entries to strings. Hint: strings are `str` in native Python."
   ]
  },
  {
   "cell_type": "code",
   "execution_count": 4,
   "id": "2d99a421",
   "metadata": {
    "execution": {
     "iopub.execute_input": "2023-05-09T13:15:13.342168Z",
     "iopub.status.busy": "2023-05-09T13:15:13.341328Z",
     "iopub.status.idle": "2023-05-09T13:15:13.404498Z",
     "shell.execute_reply": "2023-05-09T13:15:13.403628Z"
    },
    "papermill": {
     "duration": 0.070467,
     "end_time": "2023-05-09T13:15:13.406250",
     "exception": false,
     "start_time": "2023-05-09T13:15:13.335783",
     "status": "completed"
    },
    "tags": []
   },
   "outputs": [
    {
     "name": "stdout",
     "output_type": "stream",
     "text": [
      "0         87\n",
      "1         87\n",
      "2         87\n",
      "3         87\n",
      "4         87\n",
      "          ..\n",
      "129966    90\n",
      "129967    90\n",
      "129968    90\n",
      "129969    90\n",
      "129970    90\n",
      "Name: points, Length: 129971, dtype: object\n"
     ]
    },
    {
     "data": {
      "application/javascript": [
       "parent.postMessage({\"jupyterEvent\": \"custom.exercise_interaction\", \"data\": {\"outcomeType\": 1, \"valueTowardsCompletion\": 0.25, \"interactionType\": 1, \"questionType\": 1, \"questionId\": \"2_StrPoints\", \"learnToolsVersion\": \"0.3.4\", \"failureMessage\": \"\", \"exceptionClass\": \"\", \"trace\": \"\"}}, \"*\")"
      ],
      "text/plain": [
       "<IPython.core.display.Javascript object>"
      ]
     },
     "metadata": {},
     "output_type": "display_data"
    },
    {
     "data": {
      "text/markdown": [
       "<span style=\"color:#33cc33\">Correct</span>"
      ],
      "text/plain": [
       "Correct"
      ]
     },
     "metadata": {},
     "output_type": "display_data"
    }
   ],
   "source": [
    "point_strings = reviews.points.astype('str')\n",
    "\n",
    "print(point_strings)\n",
    "\n",
    "# Check your answer\n",
    "q2.check()"
   ]
  },
  {
   "cell_type": "code",
   "execution_count": 5,
   "id": "4538bcd3",
   "metadata": {
    "execution": {
     "iopub.execute_input": "2023-05-09T13:15:13.418279Z",
     "iopub.status.busy": "2023-05-09T13:15:13.417915Z",
     "iopub.status.idle": "2023-05-09T13:15:13.421658Z",
     "shell.execute_reply": "2023-05-09T13:15:13.420691Z"
    },
    "papermill": {
     "duration": 0.012103,
     "end_time": "2023-05-09T13:15:13.423871",
     "exception": false,
     "start_time": "2023-05-09T13:15:13.411768",
     "status": "completed"
    },
    "tags": []
   },
   "outputs": [],
   "source": [
    "#q2.hint()\n",
    "#q2.solution()"
   ]
  },
  {
   "cell_type": "markdown",
   "id": "6b63fd59",
   "metadata": {
    "papermill": {
     "duration": 0.004457,
     "end_time": "2023-05-09T13:15:13.433114",
     "exception": false,
     "start_time": "2023-05-09T13:15:13.428657",
     "status": "completed"
    },
    "tags": []
   },
   "source": [
    "## 3.\n",
    "Sometimes the price column is null. How many reviews in the dataset are missing a price?"
   ]
  },
  {
   "cell_type": "code",
   "execution_count": 6,
   "id": "e561e31e",
   "metadata": {
    "execution": {
     "iopub.execute_input": "2023-05-09T13:15:13.444288Z",
     "iopub.status.busy": "2023-05-09T13:15:13.443889Z",
     "iopub.status.idle": "2023-05-09T13:15:13.461512Z",
     "shell.execute_reply": "2023-05-09T13:15:13.460362Z"
    },
    "papermill": {
     "duration": 0.026246,
     "end_time": "2023-05-09T13:15:13.464137",
     "exception": false,
     "start_time": "2023-05-09T13:15:13.437891",
     "status": "completed"
    },
    "tags": []
   },
   "outputs": [
    {
     "name": "stdout",
     "output_type": "stream",
     "text": [
      "8996\n"
     ]
    },
    {
     "data": {
      "application/javascript": [
       "parent.postMessage({\"jupyterEvent\": \"custom.exercise_interaction\", \"data\": {\"outcomeType\": 1, \"valueTowardsCompletion\": 0.25, \"interactionType\": 1, \"questionType\": 1, \"questionId\": \"3_CountMissingPrices\", \"learnToolsVersion\": \"0.3.4\", \"failureMessage\": \"\", \"exceptionClass\": \"\", \"trace\": \"\"}}, \"*\")"
      ],
      "text/plain": [
       "<IPython.core.display.Javascript object>"
      ]
     },
     "metadata": {},
     "output_type": "display_data"
    },
    {
     "data": {
      "text/markdown": [
       "<span style=\"color:#33cc33\">Correct</span>"
      ],
      "text/plain": [
       "Correct"
      ]
     },
     "metadata": {},
     "output_type": "display_data"
    }
   ],
   "source": [
    "#print(reviews.head())\n",
    "\n",
    "test = reviews[pd.isnull(reviews.price)]\n",
    "#print(test)\n",
    "\n",
    "n_missing_prices = test.shape[0]\n",
    "print(n_missing_prices)\n",
    "\n",
    "# Check your answer\n",
    "q3.check()"
   ]
  },
  {
   "cell_type": "code",
   "execution_count": 7,
   "id": "8d7cb52a",
   "metadata": {
    "execution": {
     "iopub.execute_input": "2023-05-09T13:15:13.476072Z",
     "iopub.status.busy": "2023-05-09T13:15:13.475690Z",
     "iopub.status.idle": "2023-05-09T13:15:13.483348Z",
     "shell.execute_reply": "2023-05-09T13:15:13.482633Z"
    },
    "papermill": {
     "duration": 0.016308,
     "end_time": "2023-05-09T13:15:13.485543",
     "exception": false,
     "start_time": "2023-05-09T13:15:13.469235",
     "status": "completed"
    },
    "tags": []
   },
   "outputs": [
    {
     "data": {
      "application/javascript": [
       "parent.postMessage({\"jupyterEvent\": \"custom.exercise_interaction\", \"data\": {\"interactionType\": 3, \"questionType\": 1, \"questionId\": \"3_CountMissingPrices\", \"learnToolsVersion\": \"0.3.4\", \"valueTowardsCompletion\": 0.0, \"failureMessage\": \"\", \"exceptionClass\": \"\", \"trace\": \"\", \"outcomeType\": 4}}, \"*\")"
      ],
      "text/plain": [
       "<IPython.core.display.Javascript object>"
      ]
     },
     "metadata": {},
     "output_type": "display_data"
    },
    {
     "data": {
      "text/markdown": [
       "<span style=\"color:#33cc99\">Solution:</span> \n",
       "```python\n",
       "missing_price_reviews = reviews[reviews.price.isnull()]\n",
       "n_missing_prices = len(missing_price_reviews)\n",
       "# Cute alternative solution: if we sum a boolean series, True is treated as 1 and False as 0\n",
       "n_missing_prices = reviews.price.isnull().sum()\n",
       "# or equivalently:\n",
       "n_missing_prices = pd.isnull(reviews.price).sum()\n",
       "\n",
       "```"
      ],
      "text/plain": [
       "Solution: \n",
       "```python\n",
       "missing_price_reviews = reviews[reviews.price.isnull()]\n",
       "n_missing_prices = len(missing_price_reviews)\n",
       "# Cute alternative solution: if we sum a boolean series, True is treated as 1 and False as 0\n",
       "n_missing_prices = reviews.price.isnull().sum()\n",
       "# or equivalently:\n",
       "n_missing_prices = pd.isnull(reviews.price).sum()\n",
       "\n",
       "```"
      ]
     },
     "metadata": {},
     "output_type": "display_data"
    }
   ],
   "source": [
    "#q3.hint()\n",
    "q3.solution()"
   ]
  },
  {
   "cell_type": "markdown",
   "id": "b6ad6c37",
   "metadata": {
    "papermill": {
     "duration": 0.005091,
     "end_time": "2023-05-09T13:15:13.496030",
     "exception": false,
     "start_time": "2023-05-09T13:15:13.490939",
     "status": "completed"
    },
    "tags": []
   },
   "source": [
    "## 4.\n",
    "What are the most common wine-producing regions? Create a Series counting the number of times each value occurs in the `region_1` field. This field is often missing data, so replace missing values with `Unknown`. Sort in descending order.  Your output should look something like this:\n",
    "\n",
    "```\n",
    "Unknown                    21247\n",
    "Napa Valley                 4480\n",
    "                           ...  \n",
    "Bardolino Superiore            1\n",
    "Primitivo del Tarantino        1\n",
    "Name: region_1, Length: 1230, dtype: int64\n",
    "```"
   ]
  },
  {
   "cell_type": "code",
   "execution_count": 8,
   "id": "2c6f96d0",
   "metadata": {
    "execution": {
     "iopub.execute_input": "2023-05-09T13:15:13.508342Z",
     "iopub.status.busy": "2023-05-09T13:15:13.507860Z",
     "iopub.status.idle": "2023-05-09T13:15:13.562801Z",
     "shell.execute_reply": "2023-05-09T13:15:13.561616Z"
    },
    "papermill": {
     "duration": 0.063814,
     "end_time": "2023-05-09T13:15:13.565132",
     "exception": false,
     "start_time": "2023-05-09T13:15:13.501318",
     "status": "completed"
    },
    "tags": []
   },
   "outputs": [
    {
     "name": "stdout",
     "output_type": "stream",
     "text": [
      "Unknown                    21247\n",
      "Napa Valley                 4480\n",
      "Columbia Valley (WA)        4124\n",
      "Russian River Valley        3091\n",
      "California                  2629\n",
      "                           ...  \n",
      "Lamezia                        1\n",
      "Trentino Superiore             1\n",
      "Grave del Friuli               1\n",
      "Vin Santo di Carmignano        1\n",
      "Paestum                        1\n",
      "Name: region_1, Length: 1230, dtype: int64\n",
      "Unknown                 21247\n",
      "Napa Valley              4480\n",
      "Columbia Valley (WA)     4124\n",
      "Russian River Valley     3091\n",
      "California               2629\n",
      "                        ...  \n",
      "Offida Rosso                1\n",
      "Corton Perrières            1\n",
      "Isle St. George             1\n",
      "Geelong                     1\n",
      "Paestum                     1\n",
      "Name: region_1, Length: 1230, dtype: int64\n"
     ]
    },
    {
     "data": {
      "application/javascript": [
       "parent.postMessage({\"jupyterEvent\": \"custom.exercise_interaction\", \"data\": {\"outcomeType\": 1, \"valueTowardsCompletion\": 0.25, \"interactionType\": 1, \"questionType\": 2, \"questionId\": \"4_ReviewsPerRegion\", \"learnToolsVersion\": \"0.3.4\", \"failureMessage\": \"\", \"exceptionClass\": \"\", \"trace\": \"\"}}, \"*\")"
      ],
      "text/plain": [
       "<IPython.core.display.Javascript object>"
      ]
     },
     "metadata": {},
     "output_type": "display_data"
    },
    {
     "data": {
      "text/markdown": [
       "<span style=\"color:#33cc33\">Correct</span>"
      ],
      "text/plain": [
       "Correct"
      ]
     },
     "metadata": {},
     "output_type": "display_data"
    }
   ],
   "source": [
    "#print(reviews.head())\n",
    "\n",
    "test = reviews.region_1.fillna(\"Unknown\").value_counts()\n",
    "\n",
    "print(test)\n",
    "\n",
    "reviews_per_region = test.sort_values(ascending=False)\n",
    "\n",
    "print(reviews_per_region)\n",
    "\n",
    "# Check your answer\n",
    "q4.check()"
   ]
  },
  {
   "cell_type": "code",
   "execution_count": 9,
   "id": "cd03baab",
   "metadata": {
    "execution": {
     "iopub.execute_input": "2023-05-09T13:15:13.578665Z",
     "iopub.status.busy": "2023-05-09T13:15:13.578260Z",
     "iopub.status.idle": "2023-05-09T13:15:13.586825Z",
     "shell.execute_reply": "2023-05-09T13:15:13.585846Z"
    },
    "papermill": {
     "duration": 0.018366,
     "end_time": "2023-05-09T13:15:13.589362",
     "exception": false,
     "start_time": "2023-05-09T13:15:13.570996",
     "status": "completed"
    },
    "tags": []
   },
   "outputs": [
    {
     "data": {
      "application/javascript": [
       "parent.postMessage({\"jupyterEvent\": \"custom.exercise_interaction\", \"data\": {\"interactionType\": 2, \"questionType\": 2, \"questionId\": \"4_ReviewsPerRegion\", \"learnToolsVersion\": \"0.3.4\", \"valueTowardsCompletion\": 0.0, \"failureMessage\": \"\", \"exceptionClass\": \"\", \"trace\": \"\", \"outcomeType\": 4}}, \"*\")"
      ],
      "text/plain": [
       "<IPython.core.display.Javascript object>"
      ]
     },
     "metadata": {},
     "output_type": "display_data"
    },
    {
     "data": {
      "text/markdown": [
       "<span style=\"color:#3366cc\">Hint:</span> Use `fillna()`, `value_counts()`, and `sort_values()`."
      ],
      "text/plain": [
       "Hint: Use `fillna()`, `value_counts()`, and `sort_values()`."
      ]
     },
     "metadata": {},
     "output_type": "display_data"
    }
   ],
   "source": [
    "q4.hint()\n",
    "#q4.solution()"
   ]
  },
  {
   "cell_type": "markdown",
   "id": "68ce6897",
   "metadata": {
    "papermill": {
     "duration": 0.005952,
     "end_time": "2023-05-09T13:15:13.601318",
     "exception": false,
     "start_time": "2023-05-09T13:15:13.595366",
     "status": "completed"
    },
    "tags": []
   },
   "source": [
    "# Keep going\n",
    "\n",
    "Move on to **[renaming and combining](https://www.kaggle.com/residentmario/renaming-and-combining)**."
   ]
  },
  {
   "cell_type": "markdown",
   "id": "b73b9e68",
   "metadata": {
    "papermill": {
     "duration": 0.005702,
     "end_time": "2023-05-09T13:15:13.613371",
     "exception": false,
     "start_time": "2023-05-09T13:15:13.607669",
     "status": "completed"
    },
    "tags": []
   },
   "source": [
    "---\n",
    "\n",
    "\n",
    "\n",
    "\n",
    "*Have questions or comments? Visit the [course discussion forum](https://www.kaggle.com/learn/pandas/discussion) to chat with other learners.*"
   ]
  }
 ],
 "metadata": {
  "kernelspec": {
   "display_name": "Python 3",
   "language": "python",
   "name": "python3"
  },
  "language_info": {
   "codemirror_mode": {
    "name": "ipython",
    "version": 3
   },
   "file_extension": ".py",
   "mimetype": "text/x-python",
   "name": "python",
   "nbconvert_exporter": "python",
   "pygments_lexer": "ipython3",
   "version": "3.10.10"
  },
  "papermill": {
   "default_parameters": {},
   "duration": 15.323075,
   "end_time": "2023-05-09T13:15:14.540653",
   "environment_variables": {},
   "exception": null,
   "input_path": "__notebook__.ipynb",
   "output_path": "__notebook__.ipynb",
   "parameters": {},
   "start_time": "2023-05-09T13:14:59.217578",
   "version": "2.4.0"
  }
 },
 "nbformat": 4,
 "nbformat_minor": 5
}
