{
 "cells": [
  {
   "cell_type": "markdown",
   "id": "8a4df55a",
   "metadata": {
    "papermill": {
     "duration": 0.006205,
     "end_time": "2023-05-08T00:46:15.477231",
     "exception": false,
     "start_time": "2023-05-08T00:46:15.471026",
     "status": "completed"
    },
    "tags": []
   },
   "source": [
    "**This notebook is an exercise in the [Pandas](https://www.kaggle.com/learn/pandas) course.  You can reference the tutorial at [this link](https://www.kaggle.com/residentmario/summary-functions-and-maps).**\n",
    "\n",
    "---\n"
   ]
  },
  {
   "cell_type": "markdown",
   "id": "88f7e4b5",
   "metadata": {
    "papermill": {
     "duration": 0.00544,
     "end_time": "2023-05-08T00:46:15.488726",
     "exception": false,
     "start_time": "2023-05-08T00:46:15.483286",
     "status": "completed"
    },
    "tags": []
   },
   "source": [
    "# Introduction\n",
    "\n",
    "Now you are ready to get a deeper understanding of your data.\n",
    "\n",
    "Run the following cell to load your data and some utility functions (including code to check your answers)."
   ]
  },
  {
   "cell_type": "code",
   "execution_count": 1,
   "id": "16051bb7",
   "metadata": {
    "execution": {
     "iopub.execute_input": "2023-05-08T00:46:15.502279Z",
     "iopub.status.busy": "2023-05-08T00:46:15.501781Z",
     "iopub.status.idle": "2023-05-08T00:46:22.224714Z",
     "shell.execute_reply": "2023-05-08T00:46:22.223444Z"
    },
    "papermill": {
     "duration": 6.733421,
     "end_time": "2023-05-08T00:46:22.227801",
     "exception": false,
     "start_time": "2023-05-08T00:46:15.494380",
     "status": "completed"
    },
    "tags": []
   },
   "outputs": [
    {
     "name": "stdout",
     "output_type": "stream",
     "text": [
      "Setup complete.\n"
     ]
    },
    {
     "data": {
      "text/html": [
       "<div>\n",
       "<style scoped>\n",
       "    .dataframe tbody tr th:only-of-type {\n",
       "        vertical-align: middle;\n",
       "    }\n",
       "\n",
       "    .dataframe tbody tr th {\n",
       "        vertical-align: top;\n",
       "    }\n",
       "\n",
       "    .dataframe thead th {\n",
       "        text-align: right;\n",
       "    }\n",
       "</style>\n",
       "<table border=\"1\" class=\"dataframe\">\n",
       "  <thead>\n",
       "    <tr style=\"text-align: right;\">\n",
       "      <th></th>\n",
       "      <th>country</th>\n",
       "      <th>description</th>\n",
       "      <th>designation</th>\n",
       "      <th>points</th>\n",
       "      <th>price</th>\n",
       "      <th>province</th>\n",
       "      <th>region_1</th>\n",
       "      <th>region_2</th>\n",
       "      <th>taster_name</th>\n",
       "      <th>taster_twitter_handle</th>\n",
       "      <th>title</th>\n",
       "      <th>variety</th>\n",
       "      <th>winery</th>\n",
       "    </tr>\n",
       "  </thead>\n",
       "  <tbody>\n",
       "    <tr>\n",
       "      <th>0</th>\n",
       "      <td>Italy</td>\n",
       "      <td>Aromas include tropical fruit, broom, brimston...</td>\n",
       "      <td>Vulkà Bianco</td>\n",
       "      <td>87</td>\n",
       "      <td>NaN</td>\n",
       "      <td>Sicily &amp; Sardinia</td>\n",
       "      <td>Etna</td>\n",
       "      <td>NaN</td>\n",
       "      <td>Kerin O’Keefe</td>\n",
       "      <td>@kerinokeefe</td>\n",
       "      <td>Nicosia 2013 Vulkà Bianco  (Etna)</td>\n",
       "      <td>White Blend</td>\n",
       "      <td>Nicosia</td>\n",
       "    </tr>\n",
       "    <tr>\n",
       "      <th>1</th>\n",
       "      <td>Portugal</td>\n",
       "      <td>This is ripe and fruity, a wine that is smooth...</td>\n",
       "      <td>Avidagos</td>\n",
       "      <td>87</td>\n",
       "      <td>15.0</td>\n",
       "      <td>Douro</td>\n",
       "      <td>NaN</td>\n",
       "      <td>NaN</td>\n",
       "      <td>Roger Voss</td>\n",
       "      <td>@vossroger</td>\n",
       "      <td>Quinta dos Avidagos 2011 Avidagos Red (Douro)</td>\n",
       "      <td>Portuguese Red</td>\n",
       "      <td>Quinta dos Avidagos</td>\n",
       "    </tr>\n",
       "    <tr>\n",
       "      <th>2</th>\n",
       "      <td>US</td>\n",
       "      <td>Tart and snappy, the flavors of lime flesh and...</td>\n",
       "      <td>NaN</td>\n",
       "      <td>87</td>\n",
       "      <td>14.0</td>\n",
       "      <td>Oregon</td>\n",
       "      <td>Willamette Valley</td>\n",
       "      <td>Willamette Valley</td>\n",
       "      <td>Paul Gregutt</td>\n",
       "      <td>@paulgwine</td>\n",
       "      <td>Rainstorm 2013 Pinot Gris (Willamette Valley)</td>\n",
       "      <td>Pinot Gris</td>\n",
       "      <td>Rainstorm</td>\n",
       "    </tr>\n",
       "    <tr>\n",
       "      <th>3</th>\n",
       "      <td>US</td>\n",
       "      <td>Pineapple rind, lemon pith and orange blossom ...</td>\n",
       "      <td>Reserve Late Harvest</td>\n",
       "      <td>87</td>\n",
       "      <td>13.0</td>\n",
       "      <td>Michigan</td>\n",
       "      <td>Lake Michigan Shore</td>\n",
       "      <td>NaN</td>\n",
       "      <td>Alexander Peartree</td>\n",
       "      <td>NaN</td>\n",
       "      <td>St. Julian 2013 Reserve Late Harvest Riesling ...</td>\n",
       "      <td>Riesling</td>\n",
       "      <td>St. Julian</td>\n",
       "    </tr>\n",
       "    <tr>\n",
       "      <th>4</th>\n",
       "      <td>US</td>\n",
       "      <td>Much like the regular bottling from 2012, this...</td>\n",
       "      <td>Vintner's Reserve Wild Child Block</td>\n",
       "      <td>87</td>\n",
       "      <td>65.0</td>\n",
       "      <td>Oregon</td>\n",
       "      <td>Willamette Valley</td>\n",
       "      <td>Willamette Valley</td>\n",
       "      <td>Paul Gregutt</td>\n",
       "      <td>@paulgwine</td>\n",
       "      <td>Sweet Cheeks 2012 Vintner's Reserve Wild Child...</td>\n",
       "      <td>Pinot Noir</td>\n",
       "      <td>Sweet Cheeks</td>\n",
       "    </tr>\n",
       "  </tbody>\n",
       "</table>\n",
       "</div>"
      ],
      "text/plain": [
       "    country                                        description  \\\n",
       "0     Italy  Aromas include tropical fruit, broom, brimston...   \n",
       "1  Portugal  This is ripe and fruity, a wine that is smooth...   \n",
       "2        US  Tart and snappy, the flavors of lime flesh and...   \n",
       "3        US  Pineapple rind, lemon pith and orange blossom ...   \n",
       "4        US  Much like the regular bottling from 2012, this...   \n",
       "\n",
       "                          designation  points  price           province  \\\n",
       "0                        Vulkà Bianco      87    NaN  Sicily & Sardinia   \n",
       "1                            Avidagos      87   15.0              Douro   \n",
       "2                                 NaN      87   14.0             Oregon   \n",
       "3                Reserve Late Harvest      87   13.0           Michigan   \n",
       "4  Vintner's Reserve Wild Child Block      87   65.0             Oregon   \n",
       "\n",
       "              region_1           region_2         taster_name  \\\n",
       "0                 Etna                NaN       Kerin O’Keefe   \n",
       "1                  NaN                NaN          Roger Voss   \n",
       "2    Willamette Valley  Willamette Valley        Paul Gregutt   \n",
       "3  Lake Michigan Shore                NaN  Alexander Peartree   \n",
       "4    Willamette Valley  Willamette Valley        Paul Gregutt   \n",
       "\n",
       "  taster_twitter_handle                                              title  \\\n",
       "0          @kerinokeefe                  Nicosia 2013 Vulkà Bianco  (Etna)   \n",
       "1            @vossroger      Quinta dos Avidagos 2011 Avidagos Red (Douro)   \n",
       "2           @paulgwine       Rainstorm 2013 Pinot Gris (Willamette Valley)   \n",
       "3                   NaN  St. Julian 2013 Reserve Late Harvest Riesling ...   \n",
       "4           @paulgwine   Sweet Cheeks 2012 Vintner's Reserve Wild Child...   \n",
       "\n",
       "          variety               winery  \n",
       "0     White Blend              Nicosia  \n",
       "1  Portuguese Red  Quinta dos Avidagos  \n",
       "2      Pinot Gris            Rainstorm  \n",
       "3        Riesling           St. Julian  \n",
       "4      Pinot Noir         Sweet Cheeks  "
      ]
     },
     "execution_count": 1,
     "metadata": {},
     "output_type": "execute_result"
    }
   ],
   "source": [
    "import pandas as pd\n",
    "pd.set_option(\"display.max_rows\", 5)\n",
    "reviews = pd.read_csv(\"../input/wine-reviews/winemag-data-130k-v2.csv\", index_col=0)\n",
    "\n",
    "from learntools.core import binder; binder.bind(globals())\n",
    "from learntools.pandas.summary_functions_and_maps import *\n",
    "print(\"Setup complete.\")\n",
    "\n",
    "reviews.head()"
   ]
  },
  {
   "cell_type": "markdown",
   "id": "280ac50b",
   "metadata": {
    "papermill": {
     "duration": 0.005981,
     "end_time": "2023-05-08T00:46:22.240244",
     "exception": false,
     "start_time": "2023-05-08T00:46:22.234263",
     "status": "completed"
    },
    "tags": []
   },
   "source": [
    "# Exercises"
   ]
  },
  {
   "cell_type": "markdown",
   "id": "4ccd4fa9",
   "metadata": {
    "papermill": {
     "duration": 0.006192,
     "end_time": "2023-05-08T00:46:22.252593",
     "exception": false,
     "start_time": "2023-05-08T00:46:22.246401",
     "status": "completed"
    },
    "tags": []
   },
   "source": [
    "## 1.\n",
    "\n",
    "What is the median of the `points` column in the `reviews` DataFrame?"
   ]
  },
  {
   "cell_type": "code",
   "execution_count": 2,
   "id": "5d81676e",
   "metadata": {
    "execution": {
     "iopub.execute_input": "2023-05-08T00:46:22.266809Z",
     "iopub.status.busy": "2023-05-08T00:46:22.266436Z",
     "iopub.status.idle": "2023-05-08T00:46:22.277770Z",
     "shell.execute_reply": "2023-05-08T00:46:22.276666Z"
    },
    "papermill": {
     "duration": 0.021333,
     "end_time": "2023-05-08T00:46:22.280108",
     "exception": false,
     "start_time": "2023-05-08T00:46:22.258775",
     "status": "completed"
    },
    "tags": []
   },
   "outputs": [
    {
     "data": {
      "application/javascript": [
       "parent.postMessage({\"jupyterEvent\": \"custom.exercise_interaction\", \"data\": {\"outcomeType\": 1, \"valueTowardsCompletion\": 0.14285714285714285, \"interactionType\": 1, \"questionType\": 1, \"questionId\": \"1_MedianPoints\", \"learnToolsVersion\": \"0.3.4\", \"failureMessage\": \"\", \"exceptionClass\": \"\", \"trace\": \"\"}}, \"*\")"
      ],
      "text/plain": [
       "<IPython.core.display.Javascript object>"
      ]
     },
     "metadata": {},
     "output_type": "display_data"
    },
    {
     "data": {
      "text/markdown": [
       "<span style=\"color:#33cc33\">Correct</span>"
      ],
      "text/plain": [
       "Correct"
      ]
     },
     "metadata": {},
     "output_type": "display_data"
    }
   ],
   "source": [
    "median_points = reviews.points.median()\n",
    "\n",
    "# Check your answer\n",
    "q1.check()"
   ]
  },
  {
   "cell_type": "code",
   "execution_count": 3,
   "id": "4fa970b9",
   "metadata": {
    "execution": {
     "iopub.execute_input": "2023-05-08T00:46:22.295511Z",
     "iopub.status.busy": "2023-05-08T00:46:22.294985Z",
     "iopub.status.idle": "2023-05-08T00:46:22.302355Z",
     "shell.execute_reply": "2023-05-08T00:46:22.300030Z"
    },
    "papermill": {
     "duration": 0.018438,
     "end_time": "2023-05-08T00:46:22.305457",
     "exception": false,
     "start_time": "2023-05-08T00:46:22.287019",
     "status": "completed"
    },
    "tags": []
   },
   "outputs": [],
   "source": [
    "#q1.hint()\n",
    "#q1.solution()"
   ]
  },
  {
   "cell_type": "markdown",
   "id": "29657200",
   "metadata": {
    "papermill": {
     "duration": 0.006614,
     "end_time": "2023-05-08T00:46:22.318847",
     "exception": false,
     "start_time": "2023-05-08T00:46:22.312233",
     "status": "completed"
    },
    "tags": []
   },
   "source": [
    "## 2. \n",
    "What countries are represented in the dataset? (Your answer should not include any duplicates.)"
   ]
  },
  {
   "cell_type": "code",
   "execution_count": 4,
   "id": "6863a882",
   "metadata": {
    "execution": {
     "iopub.execute_input": "2023-05-08T00:46:22.337215Z",
     "iopub.status.busy": "2023-05-08T00:46:22.336588Z",
     "iopub.status.idle": "2023-05-08T00:46:22.355907Z",
     "shell.execute_reply": "2023-05-08T00:46:22.354581Z"
    },
    "papermill": {
     "duration": 0.030932,
     "end_time": "2023-05-08T00:46:22.358613",
     "exception": false,
     "start_time": "2023-05-08T00:46:22.327681",
     "status": "completed"
    },
    "tags": []
   },
   "outputs": [
    {
     "data": {
      "application/javascript": [
       "parent.postMessage({\"jupyterEvent\": \"custom.exercise_interaction\", \"data\": {\"outcomeType\": 1, \"valueTowardsCompletion\": 0.14285714285714285, \"interactionType\": 1, \"questionType\": 2, \"questionId\": \"2_UniqueCountries\", \"learnToolsVersion\": \"0.3.4\", \"failureMessage\": \"\", \"exceptionClass\": \"\", \"trace\": \"\"}}, \"*\")"
      ],
      "text/plain": [
       "<IPython.core.display.Javascript object>"
      ]
     },
     "metadata": {},
     "output_type": "display_data"
    },
    {
     "data": {
      "text/markdown": [
       "<span style=\"color:#33cc33\">Correct</span>"
      ],
      "text/plain": [
       "Correct"
      ]
     },
     "metadata": {},
     "output_type": "display_data"
    }
   ],
   "source": [
    "countries = reviews.country.unique()\n",
    "\n",
    "# Check your answer\n",
    "q2.check()"
   ]
  },
  {
   "cell_type": "code",
   "execution_count": 5,
   "id": "9993c65b",
   "metadata": {
    "execution": {
     "iopub.execute_input": "2023-05-08T00:46:22.381602Z",
     "iopub.status.busy": "2023-05-08T00:46:22.381198Z",
     "iopub.status.idle": "2023-05-08T00:46:22.386033Z",
     "shell.execute_reply": "2023-05-08T00:46:22.384679Z"
    },
    "papermill": {
     "duration": 0.019593,
     "end_time": "2023-05-08T00:46:22.388771",
     "exception": false,
     "start_time": "2023-05-08T00:46:22.369178",
     "status": "completed"
    },
    "tags": []
   },
   "outputs": [],
   "source": [
    "#q2.hint()\n",
    "#q2.solution()"
   ]
  },
  {
   "cell_type": "markdown",
   "id": "43a01740",
   "metadata": {
    "papermill": {
     "duration": 0.00789,
     "end_time": "2023-05-08T00:46:22.406588",
     "exception": false,
     "start_time": "2023-05-08T00:46:22.398698",
     "status": "completed"
    },
    "tags": []
   },
   "source": [
    "## 3.\n",
    "How often does each country appear in the dataset? Create a Series `reviews_per_country` mapping countries to the count of reviews of wines from that country."
   ]
  },
  {
   "cell_type": "code",
   "execution_count": 6,
   "id": "dd862eca",
   "metadata": {
    "execution": {
     "iopub.execute_input": "2023-05-08T00:46:22.423207Z",
     "iopub.status.busy": "2023-05-08T00:46:22.422481Z",
     "iopub.status.idle": "2023-05-08T00:46:22.441820Z",
     "shell.execute_reply": "2023-05-08T00:46:22.440429Z"
    },
    "papermill": {
     "duration": 0.030688,
     "end_time": "2023-05-08T00:46:22.444252",
     "exception": false,
     "start_time": "2023-05-08T00:46:22.413564",
     "status": "completed"
    },
    "tags": []
   },
   "outputs": [
    {
     "data": {
      "application/javascript": [
       "parent.postMessage({\"jupyterEvent\": \"custom.exercise_interaction\", \"data\": {\"outcomeType\": 1, \"valueTowardsCompletion\": 0.14285714285714285, \"interactionType\": 1, \"questionType\": 1, \"questionId\": \"3_ReviewsPerCountry\", \"learnToolsVersion\": \"0.3.4\", \"failureMessage\": \"\", \"exceptionClass\": \"\", \"trace\": \"\"}}, \"*\")"
      ],
      "text/plain": [
       "<IPython.core.display.Javascript object>"
      ]
     },
     "metadata": {},
     "output_type": "display_data"
    },
    {
     "data": {
      "text/markdown": [
       "<span style=\"color:#33cc33\">Correct</span>"
      ],
      "text/plain": [
       "Correct"
      ]
     },
     "metadata": {},
     "output_type": "display_data"
    }
   ],
   "source": [
    "reviews_per_country = reviews.country.value_counts()\n",
    "\n",
    "# Check your answer\n",
    "q3.check()"
   ]
  },
  {
   "cell_type": "code",
   "execution_count": 7,
   "id": "5e047d6c",
   "metadata": {
    "execution": {
     "iopub.execute_input": "2023-05-08T00:46:22.460540Z",
     "iopub.status.busy": "2023-05-08T00:46:22.459752Z",
     "iopub.status.idle": "2023-05-08T00:46:22.464286Z",
     "shell.execute_reply": "2023-05-08T00:46:22.463407Z"
    },
    "papermill": {
     "duration": 0.01518,
     "end_time": "2023-05-08T00:46:22.466556",
     "exception": false,
     "start_time": "2023-05-08T00:46:22.451376",
     "status": "completed"
    },
    "tags": []
   },
   "outputs": [],
   "source": [
    "#q3.hint()\n",
    "#q3.solution()"
   ]
  },
  {
   "cell_type": "markdown",
   "id": "7a0b8b3b",
   "metadata": {
    "papermill": {
     "duration": 0.00719,
     "end_time": "2023-05-08T00:46:22.483313",
     "exception": false,
     "start_time": "2023-05-08T00:46:22.476123",
     "status": "completed"
    },
    "tags": []
   },
   "source": [
    "## 4.\n",
    "Create variable `centered_price` containing a version of the `price` column with the mean price subtracted.\n",
    "\n",
    "(Note: this 'centering' transformation is a common preprocessing step before applying various machine learning algorithms.) "
   ]
  },
  {
   "cell_type": "code",
   "execution_count": 8,
   "id": "747f0daf",
   "metadata": {
    "execution": {
     "iopub.execute_input": "2023-05-08T00:46:22.502799Z",
     "iopub.status.busy": "2023-05-08T00:46:22.502408Z",
     "iopub.status.idle": "2023-05-08T00:46:22.567178Z",
     "shell.execute_reply": "2023-05-08T00:46:22.565997Z"
    },
    "papermill": {
     "duration": 0.076729,
     "end_time": "2023-05-08T00:46:22.569981",
     "exception": false,
     "start_time": "2023-05-08T00:46:22.493252",
     "status": "completed"
    },
    "tags": []
   },
   "outputs": [
    {
     "data": {
      "application/javascript": [
       "parent.postMessage({\"jupyterEvent\": \"custom.exercise_interaction\", \"data\": {\"outcomeType\": 1, \"valueTowardsCompletion\": 0.14285714285714285, \"interactionType\": 1, \"questionType\": 1, \"questionId\": \"4_CenteredPrice\", \"learnToolsVersion\": \"0.3.4\", \"failureMessage\": \"\", \"exceptionClass\": \"\", \"trace\": \"\"}}, \"*\")"
      ],
      "text/plain": [
       "<IPython.core.display.Javascript object>"
      ]
     },
     "metadata": {},
     "output_type": "display_data"
    },
    {
     "data": {
      "text/markdown": [
       "<span style=\"color:#33cc33\">Correct</span>"
      ],
      "text/plain": [
       "Correct"
      ]
     },
     "metadata": {},
     "output_type": "display_data"
    }
   ],
   "source": [
    "review_price_mean = reviews.price.mean()\n",
    "# method 1\n",
    "centered_price = reviews.price.map(lambda PlaceHolder: PlaceHolder - review_price_mean)\n",
    "\n",
    "# method 2\n",
    "#centered_price = reviews.price - review_price_mean\n",
    "\n",
    "# Check your answer\n",
    "q4.check()"
   ]
  },
  {
   "cell_type": "code",
   "execution_count": 9,
   "id": "6627b93a",
   "metadata": {
    "execution": {
     "iopub.execute_input": "2023-05-08T00:46:22.586240Z",
     "iopub.status.busy": "2023-05-08T00:46:22.585823Z",
     "iopub.status.idle": "2023-05-08T00:46:22.589932Z",
     "shell.execute_reply": "2023-05-08T00:46:22.588847Z"
    },
    "papermill": {
     "duration": 0.014819,
     "end_time": "2023-05-08T00:46:22.592086",
     "exception": false,
     "start_time": "2023-05-08T00:46:22.577267",
     "status": "completed"
    },
    "tags": []
   },
   "outputs": [],
   "source": [
    "#q4.hint()\n",
    "#q4.solution()"
   ]
  },
  {
   "cell_type": "markdown",
   "id": "5292d64e",
   "metadata": {
    "papermill": {
     "duration": 0.007065,
     "end_time": "2023-05-08T00:46:22.606424",
     "exception": false,
     "start_time": "2023-05-08T00:46:22.599359",
     "status": "completed"
    },
    "tags": []
   },
   "source": [
    "## 5.\n",
    "I'm an economical wine buyer. Which wine is the \"best bargain\"? Create a variable `bargain_wine` with the title of the wine with the highest points-to-price ratio in the dataset."
   ]
  },
  {
   "cell_type": "code",
   "execution_count": 10,
   "id": "84c44233",
   "metadata": {
    "execution": {
     "iopub.execute_input": "2023-05-08T00:46:22.624199Z",
     "iopub.status.busy": "2023-05-08T00:46:22.623386Z",
     "iopub.status.idle": "2023-05-08T00:46:22.642513Z",
     "shell.execute_reply": "2023-05-08T00:46:22.638543Z"
    },
    "papermill": {
     "duration": 0.032419,
     "end_time": "2023-05-08T00:46:22.646100",
     "exception": false,
     "start_time": "2023-05-08T00:46:22.613681",
     "status": "completed"
    },
    "tags": []
   },
   "outputs": [
    {
     "data": {
      "application/javascript": [
       "parent.postMessage({\"jupyterEvent\": \"custom.exercise_interaction\", \"data\": {\"outcomeType\": 1, \"valueTowardsCompletion\": 0.14285714285714285, \"interactionType\": 1, \"questionType\": 2, \"questionId\": \"5_BargainWine\", \"learnToolsVersion\": \"0.3.4\", \"failureMessage\": \"\", \"exceptionClass\": \"\", \"trace\": \"\"}}, \"*\")"
      ],
      "text/plain": [
       "<IPython.core.display.Javascript object>"
      ]
     },
     "metadata": {},
     "output_type": "display_data"
    },
    {
     "data": {
      "text/markdown": [
       "<span style=\"color:#33cc33\">Correct</span>"
      ],
      "text/plain": [
       "Correct"
      ]
     },
     "metadata": {},
     "output_type": "display_data"
    }
   ],
   "source": [
    "highest_wine_idx = (reviews.points/reviews.price).idxmax()\n",
    "bargain_wine = reviews.loc[highest_wine_idx, 'title']\n",
    "\n",
    "# Check your answer\n",
    "q5.check()"
   ]
  },
  {
   "cell_type": "code",
   "execution_count": 11,
   "id": "5acb02ce",
   "metadata": {
    "execution": {
     "iopub.execute_input": "2023-05-08T00:46:22.664085Z",
     "iopub.status.busy": "2023-05-08T00:46:22.663705Z",
     "iopub.status.idle": "2023-05-08T00:46:22.672587Z",
     "shell.execute_reply": "2023-05-08T00:46:22.671441Z"
    },
    "papermill": {
     "duration": 0.020583,
     "end_time": "2023-05-08T00:46:22.675498",
     "exception": false,
     "start_time": "2023-05-08T00:46:22.654915",
     "status": "completed"
    },
    "tags": []
   },
   "outputs": [
    {
     "data": {
      "application/javascript": [
       "parent.postMessage({\"jupyterEvent\": \"custom.exercise_interaction\", \"data\": {\"interactionType\": 2, \"questionType\": 2, \"questionId\": \"5_BargainWine\", \"learnToolsVersion\": \"0.3.4\", \"valueTowardsCompletion\": 0.0, \"failureMessage\": \"\", \"exceptionClass\": \"\", \"trace\": \"\", \"outcomeType\": 4}}, \"*\")"
      ],
      "text/plain": [
       "<IPython.core.display.Javascript object>"
      ]
     },
     "metadata": {},
     "output_type": "display_data"
    },
    {
     "data": {
      "text/markdown": [
       "<span style=\"color:#3366cc\">Hint:</span> The `idxmax` method may be useful here."
      ],
      "text/plain": [
       "Hint: The `idxmax` method may be useful here."
      ]
     },
     "metadata": {},
     "output_type": "display_data"
    }
   ],
   "source": [
    "q5.hint()\n",
    "#q5.solution()"
   ]
  },
  {
   "cell_type": "markdown",
   "id": "5f305132",
   "metadata": {
    "papermill": {
     "duration": 0.008021,
     "end_time": "2023-05-08T00:46:22.691294",
     "exception": false,
     "start_time": "2023-05-08T00:46:22.683273",
     "status": "completed"
    },
    "tags": []
   },
   "source": [
    "## 6.\n",
    "There are only so many words you can use when describing a bottle of wine. Is a wine more likely to be \"tropical\" or \"fruity\"? Create a Series `descriptor_counts` counting how many times each of these two words appears in the `description` column in the dataset. (For simplicity, let's ignore the capitalized versions of these words.)"
   ]
  },
  {
   "cell_type": "code",
   "execution_count": 12,
   "id": "5c82bc1e",
   "metadata": {
    "execution": {
     "iopub.execute_input": "2023-05-08T00:46:22.713114Z",
     "iopub.status.busy": "2023-05-08T00:46:22.712525Z",
     "iopub.status.idle": "2023-05-08T00:46:22.863151Z",
     "shell.execute_reply": "2023-05-08T00:46:22.862124Z"
    },
    "papermill": {
     "duration": 0.165028,
     "end_time": "2023-05-08T00:46:22.865659",
     "exception": false,
     "start_time": "2023-05-08T00:46:22.700631",
     "status": "completed"
    },
    "tags": []
   },
   "outputs": [
    {
     "data": {
      "application/javascript": [
       "parent.postMessage({\"jupyterEvent\": \"custom.exercise_interaction\", \"data\": {\"outcomeType\": 1, \"valueTowardsCompletion\": 0.14285714285714285, \"interactionType\": 1, \"questionType\": 1, \"questionId\": \"6_DescriptorCounts\", \"learnToolsVersion\": \"0.3.4\", \"failureMessage\": \"\", \"exceptionClass\": \"\", \"trace\": \"\"}}, \"*\")"
      ],
      "text/plain": [
       "<IPython.core.display.Javascript object>"
      ]
     },
     "metadata": {},
     "output_type": "display_data"
    },
    {
     "data": {
      "text/markdown": [
       "<span style=\"color:#33cc33\">Correct</span>"
      ],
      "text/plain": [
       "Correct"
      ]
     },
     "metadata": {},
     "output_type": "display_data"
    }
   ],
   "source": [
    "numTrop = reviews.description.map(lambda desc: \"tropical\" in desc).sum()\n",
    "numFruity = reviews.description.map(lambda desc: \"fruity\" in desc).sum()\n",
    "\n",
    "descriptor_counts = pd.Series([numTrop, numFruity], index=['tropical', 'fruity'])\n",
    "\n",
    "# Check your answer\n",
    "q6.check()"
   ]
  },
  {
   "cell_type": "code",
   "execution_count": 13,
   "id": "46b7878b",
   "metadata": {
    "execution": {
     "iopub.execute_input": "2023-05-08T00:46:22.883581Z",
     "iopub.status.busy": "2023-05-08T00:46:22.882760Z",
     "iopub.status.idle": "2023-05-08T00:46:22.891795Z",
     "shell.execute_reply": "2023-05-08T00:46:22.890727Z"
    },
    "papermill": {
     "duration": 0.020821,
     "end_time": "2023-05-08T00:46:22.894294",
     "exception": false,
     "start_time": "2023-05-08T00:46:22.873473",
     "status": "completed"
    },
    "tags": []
   },
   "outputs": [
    {
     "data": {
      "application/javascript": [
       "parent.postMessage({\"jupyterEvent\": \"custom.exercise_interaction\", \"data\": {\"interactionType\": 2, \"questionType\": 1, \"questionId\": \"6_DescriptorCounts\", \"learnToolsVersion\": \"0.3.4\", \"valueTowardsCompletion\": 0.0, \"failureMessage\": \"\", \"exceptionClass\": \"\", \"trace\": \"\", \"outcomeType\": 4}}, \"*\")"
      ],
      "text/plain": [
       "<IPython.core.display.Javascript object>"
      ]
     },
     "metadata": {},
     "output_type": "display_data"
    },
    {
     "data": {
      "text/markdown": [
       "<span style=\"color:#3366cc\">Hint:</span> Use a map to check each description for the string `tropical`, then count up the number of times this is `True`. Repeat this for `fruity`. Finally, create a `Series` combining the two values."
      ],
      "text/plain": [
       "Hint: Use a map to check each description for the string `tropical`, then count up the number of times this is `True`. Repeat this for `fruity`. Finally, create a `Series` combining the two values."
      ]
     },
     "metadata": {},
     "output_type": "display_data"
    }
   ],
   "source": [
    "q6.hint()\n",
    "#q6.solution()"
   ]
  },
  {
   "cell_type": "markdown",
   "id": "178ba13a",
   "metadata": {
    "papermill": {
     "duration": 0.007746,
     "end_time": "2023-05-08T00:46:22.910478",
     "exception": false,
     "start_time": "2023-05-08T00:46:22.902732",
     "status": "completed"
    },
    "tags": []
   },
   "source": [
    "## 7.\n",
    "We'd like to host these wine reviews on our website, but a rating system ranging from 80 to 100 points is too hard to understand - we'd like to translate them into simple star ratings. A score of 95 or higher counts as 3 stars, a score of at least 85 but less than 95 is 2 stars. Any other score is 1 star.\n",
    "\n",
    "Also, the Canadian Vintners Association bought a lot of ads on the site, so any wines from Canada should automatically get 3 stars, regardless of points.\n",
    "\n",
    "Create a series `star_ratings` with the number of stars corresponding to each review in the dataset."
   ]
  },
  {
   "cell_type": "code",
   "execution_count": 14,
   "id": "e355aa25",
   "metadata": {
    "execution": {
     "iopub.execute_input": "2023-05-08T00:46:22.928960Z",
     "iopub.status.busy": "2023-05-08T00:46:22.928465Z",
     "iopub.status.idle": "2023-05-08T00:46:26.366648Z",
     "shell.execute_reply": "2023-05-08T00:46:26.365662Z"
    },
    "papermill": {
     "duration": 3.450257,
     "end_time": "2023-05-08T00:46:26.368818",
     "exception": false,
     "start_time": "2023-05-08T00:46:22.918561",
     "status": "completed"
    },
    "tags": []
   },
   "outputs": [
    {
     "data": {
      "application/javascript": [
       "parent.postMessage({\"jupyterEvent\": \"custom.exercise_interaction\", \"data\": {\"outcomeType\": 1, \"valueTowardsCompletion\": 0.14285714285714285, \"interactionType\": 1, \"questionType\": 1, \"questionId\": \"7_StarRatings\", \"learnToolsVersion\": \"0.3.4\", \"failureMessage\": \"\", \"exceptionClass\": \"\", \"trace\": \"\"}}, \"*\")"
      ],
      "text/plain": [
       "<IPython.core.display.Javascript object>"
      ]
     },
     "metadata": {},
     "output_type": "display_data"
    },
    {
     "data": {
      "text/markdown": [
       "<span style=\"color:#33cc33\">Correct</span>"
      ],
      "text/plain": [
       "Correct"
      ]
     },
     "metadata": {},
     "output_type": "display_data"
    }
   ],
   "source": [
    "def counting_star(row):\n",
    "    if row.country == 'Canada':\n",
    "        return 3\n",
    "    elif row.points >= 95:\n",
    "        return 3\n",
    "    elif row.points >= 85:\n",
    "        return 2\n",
    "    else:\n",
    "        return 1\n",
    "\n",
    "# the apply() method to a dataframe, is applied specifically to each element in the specified axis\n",
    "star_ratings = reviews.apply(counting_star, axis='columns')\n",
    "\n",
    "# Check your answer\n",
    "q7.check()"
   ]
  },
  {
   "cell_type": "code",
   "execution_count": 15,
   "id": "0f48a613",
   "metadata": {
    "execution": {
     "iopub.execute_input": "2023-05-08T00:46:26.389040Z",
     "iopub.status.busy": "2023-05-08T00:46:26.387938Z",
     "iopub.status.idle": "2023-05-08T00:46:26.396221Z",
     "shell.execute_reply": "2023-05-08T00:46:26.395105Z"
    },
    "papermill": {
     "duration": 0.021162,
     "end_time": "2023-05-08T00:46:26.398508",
     "exception": false,
     "start_time": "2023-05-08T00:46:26.377346",
     "status": "completed"
    },
    "tags": []
   },
   "outputs": [
    {
     "data": {
      "application/javascript": [
       "parent.postMessage({\"jupyterEvent\": \"custom.exercise_interaction\", \"data\": {\"interactionType\": 2, \"questionType\": 1, \"questionId\": \"7_StarRatings\", \"learnToolsVersion\": \"0.3.4\", \"valueTowardsCompletion\": 0.0, \"failureMessage\": \"\", \"exceptionClass\": \"\", \"trace\": \"\", \"outcomeType\": 4}}, \"*\")"
      ],
      "text/plain": [
       "<IPython.core.display.Javascript object>"
      ]
     },
     "metadata": {},
     "output_type": "display_data"
    },
    {
     "data": {
      "text/markdown": [
       "<span style=\"color:#3366cc\">Hint:</span> Begin by writing a custom function that accepts a row from the DataFrame as input and returns the star rating corresponding to the row.  Then, use `DataFrame.apply` to apply the custom function to every row in the dataset."
      ],
      "text/plain": [
       "Hint: Begin by writing a custom function that accepts a row from the DataFrame as input and returns the star rating corresponding to the row.  Then, use `DataFrame.apply` to apply the custom function to every row in the dataset."
      ]
     },
     "metadata": {},
     "output_type": "display_data"
    }
   ],
   "source": [
    "q7.hint()\n",
    "#q7.solution()"
   ]
  },
  {
   "cell_type": "markdown",
   "id": "75958abb",
   "metadata": {
    "papermill": {
     "duration": 0.008402,
     "end_time": "2023-05-08T00:46:26.416043",
     "exception": false,
     "start_time": "2023-05-08T00:46:26.407641",
     "status": "completed"
    },
    "tags": []
   },
   "source": [
    "# Keep going\n",
    "Continue to **[grouping and sorting](https://www.kaggle.com/residentmario/grouping-and-sorting)**."
   ]
  },
  {
   "cell_type": "markdown",
   "id": "501f0eed",
   "metadata": {
    "papermill": {
     "duration": 0.008423,
     "end_time": "2023-05-08T00:46:26.433446",
     "exception": false,
     "start_time": "2023-05-08T00:46:26.425023",
     "status": "completed"
    },
    "tags": []
   },
   "source": [
    "---\n",
    "\n",
    "\n",
    "\n",
    "\n",
    "*Have questions or comments? Visit the [course discussion forum](https://www.kaggle.com/learn/pandas/discussion) to chat with other learners.*"
   ]
  }
 ],
 "metadata": {
  "kernelspec": {
   "display_name": "Python 3",
   "language": "python",
   "name": "python3"
  },
  "language_info": {
   "codemirror_mode": {
    "name": "ipython",
    "version": 3
   },
   "file_extension": ".py",
   "mimetype": "text/x-python",
   "name": "python",
   "nbconvert_exporter": "python",
   "pygments_lexer": "ipython3",
   "version": "3.10.10"
  },
  "papermill": {
   "default_parameters": {},
   "duration": 22.792918,
   "end_time": "2023-05-08T00:46:27.363128",
   "environment_variables": {},
   "exception": null,
   "input_path": "__notebook__.ipynb",
   "output_path": "__notebook__.ipynb",
   "parameters": {},
   "start_time": "2023-05-08T00:46:04.570210",
   "version": "2.4.0"
  }
 },
 "nbformat": 4,
 "nbformat_minor": 5
}
