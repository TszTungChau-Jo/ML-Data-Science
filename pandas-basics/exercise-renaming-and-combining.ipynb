{
 "cells": [
  {
   "cell_type": "markdown",
   "id": "9ea2e114",
   "metadata": {
    "papermill": {
     "duration": 0.005403,
     "end_time": "2023-05-09T13:59:12.431447",
     "exception": false,
     "start_time": "2023-05-09T13:59:12.426044",
     "status": "completed"
    },
    "tags": []
   },
   "source": [
    "**This notebook is an exercise in the [Pandas](https://www.kaggle.com/learn/pandas) course.  You can reference the tutorial at [this link](https://www.kaggle.com/residentmario/renaming-and-combining).**\n",
    "\n",
    "---\n"
   ]
  },
  {
   "cell_type": "markdown",
   "id": "dd083813",
   "metadata": {
    "papermill": {
     "duration": 0.004534,
     "end_time": "2023-05-09T13:59:12.441070",
     "exception": false,
     "start_time": "2023-05-09T13:59:12.436536",
     "status": "completed"
    },
    "tags": []
   },
   "source": [
    "# Introduction\n",
    "\n",
    "Run the following cell to load your data and some utility functions."
   ]
  },
  {
   "cell_type": "code",
   "execution_count": 1,
   "id": "1b8f1655",
   "metadata": {
    "execution": {
     "iopub.execute_input": "2023-05-09T13:59:12.453214Z",
     "iopub.status.busy": "2023-05-09T13:59:12.452536Z",
     "iopub.status.idle": "2023-05-09T13:59:17.054754Z",
     "shell.execute_reply": "2023-05-09T13:59:17.052423Z"
    },
    "papermill": {
     "duration": 4.611532,
     "end_time": "2023-05-09T13:59:17.057465",
     "exception": false,
     "start_time": "2023-05-09T13:59:12.445933",
     "status": "completed"
    },
    "tags": []
   },
   "outputs": [
    {
     "name": "stdout",
     "output_type": "stream",
     "text": [
      "Setup complete.\n"
     ]
    }
   ],
   "source": [
    "import pandas as pd\n",
    "\n",
    "reviews = pd.read_csv(\"../input/wine-reviews/winemag-data-130k-v2.csv\", index_col=0)\n",
    "\n",
    "from learntools.core import binder; binder.bind(globals())\n",
    "from learntools.pandas.renaming_and_combining import *\n",
    "print(\"Setup complete.\")"
   ]
  },
  {
   "cell_type": "markdown",
   "id": "1ae04f8b",
   "metadata": {
    "papermill": {
     "duration": 0.004823,
     "end_time": "2023-05-09T13:59:17.067392",
     "exception": false,
     "start_time": "2023-05-09T13:59:17.062569",
     "status": "completed"
    },
    "tags": []
   },
   "source": [
    "# Exercises\n",
    "\n",
    "View the first several lines of your data by running the cell below:"
   ]
  },
  {
   "cell_type": "code",
   "execution_count": 2,
   "id": "3ea49963",
   "metadata": {
    "execution": {
     "iopub.execute_input": "2023-05-09T13:59:17.079089Z",
     "iopub.status.busy": "2023-05-09T13:59:17.078666Z",
     "iopub.status.idle": "2023-05-09T13:59:17.109472Z",
     "shell.execute_reply": "2023-05-09T13:59:17.108450Z"
    },
    "papermill": {
     "duration": 0.039414,
     "end_time": "2023-05-09T13:59:17.111791",
     "exception": false,
     "start_time": "2023-05-09T13:59:17.072377",
     "status": "completed"
    },
    "tags": []
   },
   "outputs": [
    {
     "data": {
      "text/html": [
       "<div>\n",
       "<style scoped>\n",
       "    .dataframe tbody tr th:only-of-type {\n",
       "        vertical-align: middle;\n",
       "    }\n",
       "\n",
       "    .dataframe tbody tr th {\n",
       "        vertical-align: top;\n",
       "    }\n",
       "\n",
       "    .dataframe thead th {\n",
       "        text-align: right;\n",
       "    }\n",
       "</style>\n",
       "<table border=\"1\" class=\"dataframe\">\n",
       "  <thead>\n",
       "    <tr style=\"text-align: right;\">\n",
       "      <th></th>\n",
       "      <th>country</th>\n",
       "      <th>description</th>\n",
       "      <th>designation</th>\n",
       "      <th>points</th>\n",
       "      <th>price</th>\n",
       "      <th>province</th>\n",
       "      <th>region_1</th>\n",
       "      <th>region_2</th>\n",
       "      <th>taster_name</th>\n",
       "      <th>taster_twitter_handle</th>\n",
       "      <th>title</th>\n",
       "      <th>variety</th>\n",
       "      <th>winery</th>\n",
       "    </tr>\n",
       "  </thead>\n",
       "  <tbody>\n",
       "    <tr>\n",
       "      <th>0</th>\n",
       "      <td>Italy</td>\n",
       "      <td>Aromas include tropical fruit, broom, brimston...</td>\n",
       "      <td>Vulkà Bianco</td>\n",
       "      <td>87</td>\n",
       "      <td>NaN</td>\n",
       "      <td>Sicily &amp; Sardinia</td>\n",
       "      <td>Etna</td>\n",
       "      <td>NaN</td>\n",
       "      <td>Kerin O’Keefe</td>\n",
       "      <td>@kerinokeefe</td>\n",
       "      <td>Nicosia 2013 Vulkà Bianco  (Etna)</td>\n",
       "      <td>White Blend</td>\n",
       "      <td>Nicosia</td>\n",
       "    </tr>\n",
       "    <tr>\n",
       "      <th>1</th>\n",
       "      <td>Portugal</td>\n",
       "      <td>This is ripe and fruity, a wine that is smooth...</td>\n",
       "      <td>Avidagos</td>\n",
       "      <td>87</td>\n",
       "      <td>15.0</td>\n",
       "      <td>Douro</td>\n",
       "      <td>NaN</td>\n",
       "      <td>NaN</td>\n",
       "      <td>Roger Voss</td>\n",
       "      <td>@vossroger</td>\n",
       "      <td>Quinta dos Avidagos 2011 Avidagos Red (Douro)</td>\n",
       "      <td>Portuguese Red</td>\n",
       "      <td>Quinta dos Avidagos</td>\n",
       "    </tr>\n",
       "    <tr>\n",
       "      <th>2</th>\n",
       "      <td>US</td>\n",
       "      <td>Tart and snappy, the flavors of lime flesh and...</td>\n",
       "      <td>NaN</td>\n",
       "      <td>87</td>\n",
       "      <td>14.0</td>\n",
       "      <td>Oregon</td>\n",
       "      <td>Willamette Valley</td>\n",
       "      <td>Willamette Valley</td>\n",
       "      <td>Paul Gregutt</td>\n",
       "      <td>@paulgwine</td>\n",
       "      <td>Rainstorm 2013 Pinot Gris (Willamette Valley)</td>\n",
       "      <td>Pinot Gris</td>\n",
       "      <td>Rainstorm</td>\n",
       "    </tr>\n",
       "    <tr>\n",
       "      <th>3</th>\n",
       "      <td>US</td>\n",
       "      <td>Pineapple rind, lemon pith and orange blossom ...</td>\n",
       "      <td>Reserve Late Harvest</td>\n",
       "      <td>87</td>\n",
       "      <td>13.0</td>\n",
       "      <td>Michigan</td>\n",
       "      <td>Lake Michigan Shore</td>\n",
       "      <td>NaN</td>\n",
       "      <td>Alexander Peartree</td>\n",
       "      <td>NaN</td>\n",
       "      <td>St. Julian 2013 Reserve Late Harvest Riesling ...</td>\n",
       "      <td>Riesling</td>\n",
       "      <td>St. Julian</td>\n",
       "    </tr>\n",
       "    <tr>\n",
       "      <th>4</th>\n",
       "      <td>US</td>\n",
       "      <td>Much like the regular bottling from 2012, this...</td>\n",
       "      <td>Vintner's Reserve Wild Child Block</td>\n",
       "      <td>87</td>\n",
       "      <td>65.0</td>\n",
       "      <td>Oregon</td>\n",
       "      <td>Willamette Valley</td>\n",
       "      <td>Willamette Valley</td>\n",
       "      <td>Paul Gregutt</td>\n",
       "      <td>@paulgwine</td>\n",
       "      <td>Sweet Cheeks 2012 Vintner's Reserve Wild Child...</td>\n",
       "      <td>Pinot Noir</td>\n",
       "      <td>Sweet Cheeks</td>\n",
       "    </tr>\n",
       "  </tbody>\n",
       "</table>\n",
       "</div>"
      ],
      "text/plain": [
       "    country                                        description  \\\n",
       "0     Italy  Aromas include tropical fruit, broom, brimston...   \n",
       "1  Portugal  This is ripe and fruity, a wine that is smooth...   \n",
       "2        US  Tart and snappy, the flavors of lime flesh and...   \n",
       "3        US  Pineapple rind, lemon pith and orange blossom ...   \n",
       "4        US  Much like the regular bottling from 2012, this...   \n",
       "\n",
       "                          designation  points  price           province  \\\n",
       "0                        Vulkà Bianco      87    NaN  Sicily & Sardinia   \n",
       "1                            Avidagos      87   15.0              Douro   \n",
       "2                                 NaN      87   14.0             Oregon   \n",
       "3                Reserve Late Harvest      87   13.0           Michigan   \n",
       "4  Vintner's Reserve Wild Child Block      87   65.0             Oregon   \n",
       "\n",
       "              region_1           region_2         taster_name  \\\n",
       "0                 Etna                NaN       Kerin O’Keefe   \n",
       "1                  NaN                NaN          Roger Voss   \n",
       "2    Willamette Valley  Willamette Valley        Paul Gregutt   \n",
       "3  Lake Michigan Shore                NaN  Alexander Peartree   \n",
       "4    Willamette Valley  Willamette Valley        Paul Gregutt   \n",
       "\n",
       "  taster_twitter_handle                                              title  \\\n",
       "0          @kerinokeefe                  Nicosia 2013 Vulkà Bianco  (Etna)   \n",
       "1            @vossroger      Quinta dos Avidagos 2011 Avidagos Red (Douro)   \n",
       "2           @paulgwine       Rainstorm 2013 Pinot Gris (Willamette Valley)   \n",
       "3                   NaN  St. Julian 2013 Reserve Late Harvest Riesling ...   \n",
       "4           @paulgwine   Sweet Cheeks 2012 Vintner's Reserve Wild Child...   \n",
       "\n",
       "          variety               winery  \n",
       "0     White Blend              Nicosia  \n",
       "1  Portuguese Red  Quinta dos Avidagos  \n",
       "2      Pinot Gris            Rainstorm  \n",
       "3        Riesling           St. Julian  \n",
       "4      Pinot Noir         Sweet Cheeks  "
      ]
     },
     "execution_count": 2,
     "metadata": {},
     "output_type": "execute_result"
    }
   ],
   "source": [
    "reviews.head()"
   ]
  },
  {
   "cell_type": "markdown",
   "id": "a725229d",
   "metadata": {
    "papermill": {
     "duration": 0.005459,
     "end_time": "2023-05-09T13:59:17.122836",
     "exception": false,
     "start_time": "2023-05-09T13:59:17.117377",
     "status": "completed"
    },
    "tags": []
   },
   "source": [
    "## 1.\n",
    "`region_1` and `region_2` are pretty uninformative names for locale columns in the dataset. Create a copy of `reviews` with these columns renamed to `region` and `locale`, respectively."
   ]
  },
  {
   "cell_type": "code",
   "execution_count": 3,
   "id": "a8efd636",
   "metadata": {
    "execution": {
     "iopub.execute_input": "2023-05-09T13:59:17.136031Z",
     "iopub.status.busy": "2023-05-09T13:59:17.135305Z",
     "iopub.status.idle": "2023-05-09T13:59:17.162873Z",
     "shell.execute_reply": "2023-05-09T13:59:17.161614Z"
    },
    "papermill": {
     "duration": 0.036539,
     "end_time": "2023-05-09T13:59:17.165130",
     "exception": false,
     "start_time": "2023-05-09T13:59:17.128591",
     "status": "completed"
    },
    "tags": []
   },
   "outputs": [
    {
     "name": "stdout",
     "output_type": "stream",
     "text": [
      "    country                                        description  \\\n",
      "0     Italy  Aromas include tropical fruit, broom, brimston...   \n",
      "1  Portugal  This is ripe and fruity, a wine that is smooth...   \n",
      "2        US  Tart and snappy, the flavors of lime flesh and...   \n",
      "3        US  Pineapple rind, lemon pith and orange blossom ...   \n",
      "4        US  Much like the regular bottling from 2012, this...   \n",
      "\n",
      "                          designation  points  price           province  \\\n",
      "0                        Vulkà Bianco      87    NaN  Sicily & Sardinia   \n",
      "1                            Avidagos      87   15.0              Douro   \n",
      "2                                 NaN      87   14.0             Oregon   \n",
      "3                Reserve Late Harvest      87   13.0           Michigan   \n",
      "4  Vintner's Reserve Wild Child Block      87   65.0             Oregon   \n",
      "\n",
      "                region             locale         taster_name  \\\n",
      "0                 Etna                NaN       Kerin O’Keefe   \n",
      "1                  NaN                NaN          Roger Voss   \n",
      "2    Willamette Valley  Willamette Valley        Paul Gregutt   \n",
      "3  Lake Michigan Shore                NaN  Alexander Peartree   \n",
      "4    Willamette Valley  Willamette Valley        Paul Gregutt   \n",
      "\n",
      "  taster_twitter_handle                                              title  \\\n",
      "0          @kerinokeefe                  Nicosia 2013 Vulkà Bianco  (Etna)   \n",
      "1            @vossroger      Quinta dos Avidagos 2011 Avidagos Red (Douro)   \n",
      "2           @paulgwine       Rainstorm 2013 Pinot Gris (Willamette Valley)   \n",
      "3                   NaN  St. Julian 2013 Reserve Late Harvest Riesling ...   \n",
      "4           @paulgwine   Sweet Cheeks 2012 Vintner's Reserve Wild Child...   \n",
      "\n",
      "          variety               winery  \n",
      "0     White Blend              Nicosia  \n",
      "1  Portuguese Red  Quinta dos Avidagos  \n",
      "2      Pinot Gris            Rainstorm  \n",
      "3        Riesling           St. Julian  \n",
      "4      Pinot Noir         Sweet Cheeks  \n"
     ]
    },
    {
     "data": {
      "application/javascript": [
       "parent.postMessage({\"jupyterEvent\": \"custom.exercise_interaction\", \"data\": {\"outcomeType\": 1, \"valueTowardsCompletion\": 0.25, \"interactionType\": 1, \"questionType\": 1, \"questionId\": \"1_RenameCols\", \"learnToolsVersion\": \"0.3.4\", \"failureMessage\": \"\", \"exceptionClass\": \"\", \"trace\": \"\"}}, \"*\")"
      ],
      "text/plain": [
       "<IPython.core.display.Javascript object>"
      ]
     },
     "metadata": {},
     "output_type": "display_data"
    },
    {
     "data": {
      "text/markdown": [
       "<span style=\"color:#33cc33\">Correct</span>"
      ],
      "text/plain": [
       "Correct"
      ]
     },
     "metadata": {},
     "output_type": "display_data"
    }
   ],
   "source": [
    "# Your code here\n",
    "renamed = reviews.rename(columns={'region_1':'region', 'region_2':'locale'})\n",
    "\n",
    "print(renamed.head())\n",
    "\n",
    "# Check your answer\n",
    "q1.check()"
   ]
  },
  {
   "cell_type": "code",
   "execution_count": 4,
   "id": "5fa2800f",
   "metadata": {
    "execution": {
     "iopub.execute_input": "2023-05-09T13:59:17.179216Z",
     "iopub.status.busy": "2023-05-09T13:59:17.178157Z",
     "iopub.status.idle": "2023-05-09T13:59:17.186675Z",
     "shell.execute_reply": "2023-05-09T13:59:17.185671Z"
    },
    "papermill": {
     "duration": 0.017923,
     "end_time": "2023-05-09T13:59:17.188878",
     "exception": false,
     "start_time": "2023-05-09T13:59:17.170955",
     "status": "completed"
    },
    "tags": []
   },
   "outputs": [
    {
     "data": {
      "application/javascript": [
       "parent.postMessage({\"jupyterEvent\": \"custom.exercise_interaction\", \"data\": {\"interactionType\": 2, \"questionType\": 1, \"questionId\": \"1_RenameCols\", \"learnToolsVersion\": \"0.3.4\", \"valueTowardsCompletion\": 0.0, \"failureMessage\": \"\", \"exceptionClass\": \"\", \"trace\": \"\", \"outcomeType\": 4}}, \"*\")"
      ],
      "text/plain": [
       "<IPython.core.display.Javascript object>"
      ]
     },
     "metadata": {},
     "output_type": "display_data"
    },
    {
     "data": {
      "text/markdown": [
       "<span style=\"color:#3366cc\">Hint:</span> Use `rename()`, and specify a `columns` parameter."
      ],
      "text/plain": [
       "Hint: Use `rename()`, and specify a `columns` parameter."
      ]
     },
     "metadata": {},
     "output_type": "display_data"
    }
   ],
   "source": [
    "q1.hint()\n",
    "#q1.solution()"
   ]
  },
  {
   "cell_type": "markdown",
   "id": "1f99492a",
   "metadata": {
    "papermill": {
     "duration": 0.005764,
     "end_time": "2023-05-09T13:59:17.200751",
     "exception": false,
     "start_time": "2023-05-09T13:59:17.194987",
     "status": "completed"
    },
    "tags": []
   },
   "source": [
    "## 2.\n",
    "Set the index name in the dataset to `wines`."
   ]
  },
  {
   "cell_type": "code",
   "execution_count": 5,
   "id": "1787fab5",
   "metadata": {
    "execution": {
     "iopub.execute_input": "2023-05-09T13:59:17.214303Z",
     "iopub.status.busy": "2023-05-09T13:59:17.213867Z",
     "iopub.status.idle": "2023-05-09T13:59:17.239801Z",
     "shell.execute_reply": "2023-05-09T13:59:17.238842Z"
    },
    "papermill": {
     "duration": 0.03541,
     "end_time": "2023-05-09T13:59:17.242006",
     "exception": false,
     "start_time": "2023-05-09T13:59:17.206596",
     "status": "completed"
    },
    "tags": []
   },
   "outputs": [
    {
     "name": "stdout",
     "output_type": "stream",
     "text": [
      "wines   country                                        description  \\\n",
      "0         Italy  Aromas include tropical fruit, broom, brimston...   \n",
      "1      Portugal  This is ripe and fruity, a wine that is smooth...   \n",
      "2            US  Tart and snappy, the flavors of lime flesh and...   \n",
      "3            US  Pineapple rind, lemon pith and orange blossom ...   \n",
      "4            US  Much like the regular bottling from 2012, this...   \n",
      "\n",
      "wines                         designation  points  price           province  \\\n",
      "0                            Vulkà Bianco      87    NaN  Sicily & Sardinia   \n",
      "1                                Avidagos      87   15.0              Douro   \n",
      "2                                     NaN      87   14.0             Oregon   \n",
      "3                    Reserve Late Harvest      87   13.0           Michigan   \n",
      "4      Vintner's Reserve Wild Child Block      87   65.0             Oregon   \n",
      "\n",
      "wines             region_1           region_2         taster_name  \\\n",
      "0                     Etna                NaN       Kerin O’Keefe   \n",
      "1                      NaN                NaN          Roger Voss   \n",
      "2        Willamette Valley  Willamette Valley        Paul Gregutt   \n",
      "3      Lake Michigan Shore                NaN  Alexander Peartree   \n",
      "4        Willamette Valley  Willamette Valley        Paul Gregutt   \n",
      "\n",
      "wines taster_twitter_handle  \\\n",
      "0              @kerinokeefe   \n",
      "1                @vossroger   \n",
      "2               @paulgwine    \n",
      "3                       NaN   \n",
      "4               @paulgwine    \n",
      "\n",
      "wines                                              title         variety  \\\n",
      "0                      Nicosia 2013 Vulkà Bianco  (Etna)     White Blend   \n",
      "1          Quinta dos Avidagos 2011 Avidagos Red (Douro)  Portuguese Red   \n",
      "2          Rainstorm 2013 Pinot Gris (Willamette Valley)      Pinot Gris   \n",
      "3      St. Julian 2013 Reserve Late Harvest Riesling ...        Riesling   \n",
      "4      Sweet Cheeks 2012 Vintner's Reserve Wild Child...      Pinot Noir   \n",
      "\n",
      "wines               winery  \n",
      "0                  Nicosia  \n",
      "1      Quinta dos Avidagos  \n",
      "2                Rainstorm  \n",
      "3               St. Julian  \n",
      "4             Sweet Cheeks  \n"
     ]
    },
    {
     "data": {
      "application/javascript": [
       "parent.postMessage({\"jupyterEvent\": \"custom.exercise_interaction\", \"data\": {\"outcomeType\": 1, \"valueTowardsCompletion\": 0.25, \"interactionType\": 1, \"questionType\": 1, \"questionId\": \"2_RenameIndex\", \"learnToolsVersion\": \"0.3.4\", \"failureMessage\": \"\", \"exceptionClass\": \"\", \"trace\": \"\"}}, \"*\")"
      ],
      "text/plain": [
       "<IPython.core.display.Javascript object>"
      ]
     },
     "metadata": {},
     "output_type": "display_data"
    },
    {
     "data": {
      "text/markdown": [
       "<span style=\"color:#33cc33\">Correct</span>"
      ],
      "text/plain": [
       "Correct"
      ]
     },
     "metadata": {},
     "output_type": "display_data"
    }
   ],
   "source": [
    "reindexed = reviews.rename_axis('wines',axis='columns')\n",
    "\n",
    "print(reindexed.head())\n",
    "\n",
    "# Check your answer\n",
    "q2.check()"
   ]
  },
  {
   "cell_type": "code",
   "execution_count": 6,
   "id": "e7fdc0c6",
   "metadata": {
    "execution": {
     "iopub.execute_input": "2023-05-09T13:59:17.256577Z",
     "iopub.status.busy": "2023-05-09T13:59:17.256230Z",
     "iopub.status.idle": "2023-05-09T13:59:17.264181Z",
     "shell.execute_reply": "2023-05-09T13:59:17.262999Z"
    },
    "papermill": {
     "duration": 0.017992,
     "end_time": "2023-05-09T13:59:17.266311",
     "exception": false,
     "start_time": "2023-05-09T13:59:17.248319",
     "status": "completed"
    },
    "tags": []
   },
   "outputs": [
    {
     "data": {
      "application/javascript": [
       "parent.postMessage({\"jupyterEvent\": \"custom.exercise_interaction\", \"data\": {\"interactionType\": 2, \"questionType\": 1, \"questionId\": \"2_RenameIndex\", \"learnToolsVersion\": \"0.3.4\", \"valueTowardsCompletion\": 0.0, \"failureMessage\": \"\", \"exceptionClass\": \"\", \"trace\": \"\", \"outcomeType\": 4}}, \"*\")"
      ],
      "text/plain": [
       "<IPython.core.display.Javascript object>"
      ]
     },
     "metadata": {},
     "output_type": "display_data"
    },
    {
     "data": {
      "text/markdown": [
       "<span style=\"color:#3366cc\">Hint:</span> Use the `rename_axis()` method."
      ],
      "text/plain": [
       "Hint: Use the `rename_axis()` method."
      ]
     },
     "metadata": {},
     "output_type": "display_data"
    }
   ],
   "source": [
    "q2.hint()\n",
    "#q2.solution()"
   ]
  },
  {
   "cell_type": "markdown",
   "id": "a72d678a",
   "metadata": {
    "papermill": {
     "duration": 0.006271,
     "end_time": "2023-05-09T13:59:17.279162",
     "exception": false,
     "start_time": "2023-05-09T13:59:17.272891",
     "status": "completed"
    },
    "tags": []
   },
   "source": [
    "## 3.\n",
    "The [Things on Reddit](https://www.kaggle.com/residentmario/things-on-reddit/data) dataset includes product links from a selection of top-ranked forums (\"subreddits\") on reddit.com. Run the cell below to load a dataframe of products mentioned on the */r/gaming* subreddit and another dataframe for products mentioned on the *r//movies* subreddit."
   ]
  },
  {
   "cell_type": "code",
   "execution_count": 7,
   "id": "4a7e41eb",
   "metadata": {
    "execution": {
     "iopub.execute_input": "2023-05-09T13:59:17.294270Z",
     "iopub.status.busy": "2023-05-09T13:59:17.293562Z",
     "iopub.status.idle": "2023-05-09T13:59:17.318607Z",
     "shell.execute_reply": "2023-05-09T13:59:17.317421Z"
    },
    "papermill": {
     "duration": 0.03553,
     "end_time": "2023-05-09T13:59:17.321102",
     "exception": false,
     "start_time": "2023-05-09T13:59:17.285572",
     "status": "completed"
    },
    "tags": []
   },
   "outputs": [
    {
     "name": "stdout",
     "output_type": "stream",
     "text": [
      "completed\n",
      "                                                name      category  \\\n",
      "0               BOOMco Halo Covenant Needler Blaster  Toys & Games   \n",
      "1  Raspberry PI 3 Model B 1.2GHz 64-bit quad-core...   Electronics   \n",
      "2  CanaKit 5V 2.5A Raspberry Pi 3 Power Supply / ...   Electronics   \n",
      "3  Panasonic K-KJ17MCA4BA Advanced Individual Cel...   Electronics   \n",
      "4  Mayflash GameCube Controller Adapter for Wii U...   Electronics   \n",
      "\n",
      "                                         amazon_link  total_mentions  \\\n",
      "0  https://www.amazon.com/BOOMco-Halo-Covenant-Ne...             4.0   \n",
      "1  https://www.amazon.com/Raspberry-Model-A1-2GHz...            19.0   \n",
      "2  https://www.amazon.com/CanaKit-Raspberry-Suppl...             7.0   \n",
      "3  https://www.amazon.com/Panasonic-Advanced-Indi...            29.0   \n",
      "4  https://www.amazon.com/GameCube-Controller-Ada...            24.0   \n",
      "\n",
      "   subreddit_mentions subreddit  \n",
      "0                   4  r/gaming  \n",
      "1                   3  r/gaming  \n",
      "2                   3  r/gaming  \n",
      "3                   2  r/gaming  \n",
      "4                   2  r/gaming  \n"
     ]
    }
   ],
   "source": [
    "gaming_products = pd.read_csv(\"../input/things-on-reddit/top-things/top-things/reddits/g/gaming.csv\")\n",
    "gaming_products['subreddit'] = \"r/gaming\"\n",
    "\n",
    "movie_products = pd.read_csv(\"../input/things-on-reddit/top-things/top-things/reddits/m/movies.csv\")\n",
    "movie_products['subreddit'] = \"r/movies\"\n",
    "print('completed')\n",
    "\n",
    "print(gaming_products.head())\n",
    "\n",
    "#print(movie_products.head())"
   ]
  },
  {
   "cell_type": "markdown",
   "id": "daa473b4",
   "metadata": {
    "papermill": {
     "duration": 0.006527,
     "end_time": "2023-05-09T13:59:17.334445",
     "exception": false,
     "start_time": "2023-05-09T13:59:17.327918",
     "status": "completed"
    },
    "tags": []
   },
   "source": [
    "Create a `DataFrame` of products mentioned on *either* subreddit."
   ]
  },
  {
   "cell_type": "code",
   "execution_count": 8,
   "id": "2cac1c81",
   "metadata": {
    "execution": {
     "iopub.execute_input": "2023-05-09T13:59:17.349403Z",
     "iopub.status.busy": "2023-05-09T13:59:17.348771Z",
     "iopub.status.idle": "2023-05-09T13:59:17.364780Z",
     "shell.execute_reply": "2023-05-09T13:59:17.364037Z"
    },
    "papermill": {
     "duration": 0.025787,
     "end_time": "2023-05-09T13:59:17.366716",
     "exception": false,
     "start_time": "2023-05-09T13:59:17.340929",
     "status": "completed"
    },
    "tags": []
   },
   "outputs": [
    {
     "name": "stdout",
     "output_type": "stream",
     "text": [
      "                                                  name      category  \\\n",
      "0                 BOOMco Halo Covenant Needler Blaster  Toys & Games   \n",
      "1    Raspberry PI 3 Model B 1.2GHz 64-bit quad-core...   Electronics   \n",
      "2    CanaKit 5V 2.5A Raspberry Pi 3 Power Supply / ...   Electronics   \n",
      "3    Panasonic K-KJ17MCA4BA Advanced Individual Cel...   Electronics   \n",
      "4    Mayflash GameCube Controller Adapter for Wii U...   Electronics   \n",
      "..                                                 ...           ...   \n",
      "298                  Welcome to Night Vale CD: A Novel         Books   \n",
      "299             Ran (StudioCanal Collection) [Blu-ray]   Movies & TV   \n",
      "300                              The Art of John Alvin         Books   \n",
      "301                               Apocalypto [Blu-ray]   Movies & TV   \n",
      "302  Cinelinx: A Card Game for People Who Love Movi...  Toys & Games   \n",
      "\n",
      "                                           amazon_link  total_mentions  \\\n",
      "0    https://www.amazon.com/BOOMco-Halo-Covenant-Ne...             4.0   \n",
      "1    https://www.amazon.com/Raspberry-Model-A1-2GHz...            19.0   \n",
      "2    https://www.amazon.com/CanaKit-Raspberry-Suppl...             7.0   \n",
      "3    https://www.amazon.com/Panasonic-Advanced-Indi...            29.0   \n",
      "4    https://www.amazon.com/GameCube-Controller-Ada...            24.0   \n",
      "..                                                 ...             ...   \n",
      "298  https://www.amazon.com/Welcome-Night-Vale-CD-N...             1.0   \n",
      "299  https://www.amazon.com/StudioCanal-Collection-...             1.0   \n",
      "300  https://www.amazon.com/Art-John-Alvin-Andrea/d...             1.0   \n",
      "301  https://www.amazon.com/Apocalypto-Blu-ray-Rudy...             1.0   \n",
      "302  https://www.amazon.com/Cinelinx-Card-Game-Peop...             1.0   \n",
      "\n",
      "     subreddit_mentions subreddit  \n",
      "0                     4  r/gaming  \n",
      "1                     3  r/gaming  \n",
      "2                     3  r/gaming  \n",
      "3                     2  r/gaming  \n",
      "4                     2  r/gaming  \n",
      "..                  ...       ...  \n",
      "298                   1  r/movies  \n",
      "299                   1  r/movies  \n",
      "300                   1  r/movies  \n",
      "301                   1  r/movies  \n",
      "302                   1  r/movies  \n",
      "\n",
      "[796 rows x 6 columns]\n"
     ]
    },
    {
     "data": {
      "application/javascript": [
       "parent.postMessage({\"jupyterEvent\": \"custom.exercise_interaction\", \"data\": {\"outcomeType\": 1, \"valueTowardsCompletion\": 0.25, \"interactionType\": 1, \"questionType\": 2, \"questionId\": \"3_ConcatReddit\", \"learnToolsVersion\": \"0.3.4\", \"failureMessage\": \"\", \"exceptionClass\": \"\", \"trace\": \"\"}}, \"*\")"
      ],
      "text/plain": [
       "<IPython.core.display.Javascript object>"
      ]
     },
     "metadata": {},
     "output_type": "display_data"
    },
    {
     "data": {
      "text/markdown": [
       "<span style=\"color:#33cc33\">Correct</span>"
      ],
      "text/plain": [
       "Correct"
      ]
     },
     "metadata": {},
     "output_type": "display_data"
    }
   ],
   "source": [
    "combined_products = pd.concat([gaming_products, movie_products])\n",
    "\n",
    "print(combined_products)\n",
    "\n",
    "# Check your answer\n",
    "q3.check()"
   ]
  },
  {
   "cell_type": "code",
   "execution_count": 9,
   "id": "c4f2a4e9",
   "metadata": {
    "execution": {
     "iopub.execute_input": "2023-05-09T13:59:17.382507Z",
     "iopub.status.busy": "2023-05-09T13:59:17.381917Z",
     "iopub.status.idle": "2023-05-09T13:59:17.385313Z",
     "shell.execute_reply": "2023-05-09T13:59:17.384626Z"
    },
    "papermill": {
     "duration": 0.013633,
     "end_time": "2023-05-09T13:59:17.387196",
     "exception": false,
     "start_time": "2023-05-09T13:59:17.373563",
     "status": "completed"
    },
    "tags": []
   },
   "outputs": [],
   "source": [
    "#q3.hint()\n",
    "#q3.solution()"
   ]
  },
  {
   "cell_type": "markdown",
   "id": "a59b0438",
   "metadata": {
    "papermill": {
     "duration": 0.006725,
     "end_time": "2023-05-09T13:59:17.400949",
     "exception": false,
     "start_time": "2023-05-09T13:59:17.394224",
     "status": "completed"
    },
    "tags": []
   },
   "source": [
    "## 4.\n",
    "The [Powerlifting Database](https://www.kaggle.com/open-powerlifting/powerlifting-database) dataset on Kaggle includes one CSV table for powerlifting meets and a separate one for powerlifting competitors. Run the cell below to load these datasets into dataframes:"
   ]
  },
  {
   "cell_type": "markdown",
   "id": "a81d2e71",
   "metadata": {
    "papermill": {
     "duration": 0.006811,
     "end_time": "2023-05-09T13:59:17.414654",
     "exception": false,
     "start_time": "2023-05-09T13:59:17.407843",
     "status": "completed"
    },
    "tags": []
   },
   "source": [
    "Both tables include references to a `MeetID`, a unique key for each meet (competition) included in the database. Using this, generate a dataset combining the two tables into one."
   ]
  },
  {
   "cell_type": "code",
   "execution_count": 10,
   "id": "cc19cca8",
   "metadata": {
    "execution": {
     "iopub.execute_input": "2023-05-09T13:59:17.430721Z",
     "iopub.status.busy": "2023-05-09T13:59:17.430294Z",
     "iopub.status.idle": "2023-05-09T13:59:18.232825Z",
     "shell.execute_reply": "2023-05-09T13:59:18.231746Z"
    },
    "papermill": {
     "duration": 0.813512,
     "end_time": "2023-05-09T13:59:18.235225",
     "exception": false,
     "start_time": "2023-05-09T13:59:17.421713",
     "status": "completed"
    },
    "tags": []
   },
   "outputs": [
    {
     "name": "stdout",
     "output_type": "stream",
     "text": [
      "   MeetID        MeetPath Federation        Date MeetCountry MeetState  \\\n",
      "0       0  365strong/1601  365Strong  2016-10-29         USA        NC   \n",
      "1       1  365strong/1602  365Strong  2016-11-19         USA        MO   \n",
      "2       2  365strong/1603  365Strong  2016-07-09         USA        NC   \n",
      "3       3  365strong/1604  365Strong  2016-06-11         USA        SC   \n",
      "4       4  365strong/1605  365Strong  2016-04-10         USA        SC   \n",
      "\n",
      "    MeetTown                                           MeetName  \n",
      "0  Charlotte  2016 Junior & Senior National Powerlifting Cha...  \n",
      "1      Ozark                  Thanksgiving Powerlifting Classic  \n",
      "2  Charlotte                             Charlotte Europa Games  \n",
      "3  Rock Hill                   Carolina Cup Push Pull Challenge  \n",
      "4  Rock Hill                              Eastern USA Challenge  \n",
      "\n",
      "\n",
      "\n",
      "   MeetID              Name Sex   Equipment   Age     Division  BodyweightKg  \\\n",
      "0       0  Angie Belk Terry   F       Wraps  47.0    Mst 45-49         59.60   \n",
      "1       0       Dawn Bogart   F  Single-ply  42.0    Mst 40-44         58.51   \n",
      "2       0       Dawn Bogart   F  Single-ply  42.0  Open Senior         58.51   \n",
      "3       0       Dawn Bogart   F         Raw  42.0  Open Senior         58.51   \n",
      "4       0      Destiny Dula   F         Raw  18.0   Teen 18-19         63.68   \n",
      "\n",
      "  WeightClassKg  Squat4Kg  BestSquatKg  Bench4Kg  BestBenchKg  Deadlift4Kg  \\\n",
      "0            60       NaN        47.63       NaN        20.41          NaN   \n",
      "1            60       NaN       142.88       NaN        95.25          NaN   \n",
      "2            60       NaN       142.88       NaN        95.25          NaN   \n",
      "3            60       NaN          NaN       NaN        95.25          NaN   \n",
      "4          67.5       NaN          NaN       NaN        31.75          NaN   \n",
      "\n",
      "   BestDeadliftKg  TotalKg Place   Wilks  \n",
      "0           70.31   138.35     1  155.05  \n",
      "1          163.29   401.42     1  456.38  \n",
      "2          163.29   401.42     1  456.38  \n",
      "3             NaN    95.25     1  108.29  \n",
      "4           90.72   122.47     1  130.47  \n"
     ]
    }
   ],
   "source": [
    "powerlifting_meets = pd.read_csv(\"../input/powerlifting-database/meets.csv\")\n",
    "powerlifting_competitors = pd.read_csv(\"../input/powerlifting-database/openpowerlifting.csv\")\n",
    "\n",
    "print(powerlifting_meets.head())\n",
    "print('\\n\\n')\n",
    "print(powerlifting_competitors.head())"
   ]
  },
  {
   "cell_type": "code",
   "execution_count": 11,
   "id": "d2f227a3",
   "metadata": {
    "execution": {
     "iopub.execute_input": "2023-05-09T13:59:18.252088Z",
     "iopub.status.busy": "2023-05-09T13:59:18.251423Z",
     "iopub.status.idle": "2023-05-09T13:59:19.404103Z",
     "shell.execute_reply": "2023-05-09T13:59:19.402917Z"
    },
    "papermill": {
     "duration": 1.163649,
     "end_time": "2023-05-09T13:59:19.406299",
     "exception": false,
     "start_time": "2023-05-09T13:59:18.242650",
     "status": "completed"
    },
    "tags": []
   },
   "outputs": [
    {
     "name": "stdout",
     "output_type": "stream",
     "text": [
      "                         MeetPath Federation        Date MeetCountry  \\\n",
      "MeetID                                                                 \n",
      "0                  365strong/1601  365Strong  2016-10-29         USA   \n",
      "1                  365strong/1602  365Strong  2016-11-19         USA   \n",
      "2                  365strong/1603  365Strong  2016-07-09         USA   \n",
      "3                  365strong/1604  365Strong  2016-06-11         USA   \n",
      "4                  365strong/1605  365Strong  2016-04-10         USA   \n",
      "...                           ...        ...         ...         ...   \n",
      "8477              xpc/2015-finals        XPC  2015-03-06         USA   \n",
      "8478    xpc/2016-bench-freak-show        XPC  2016-03-04         USA   \n",
      "8479        xpc/2016-elite-finals        XPC  2016-03-04         USA   \n",
      "8480          xpc/2016-pro-finals        XPC  2016-03-05         USA   \n",
      "8481              xpc/2017-finals        XPC  2017-03-03         USA   \n",
      "\n",
      "       MeetState   MeetTown                                           MeetName  \n",
      "MeetID                                                                          \n",
      "0             NC  Charlotte  2016 Junior & Senior National Powerlifting Cha...  \n",
      "1             MO      Ozark                  Thanksgiving Powerlifting Classic  \n",
      "2             NC  Charlotte                             Charlotte Europa Games  \n",
      "3             SC  Rock Hill                   Carolina Cup Push Pull Challenge  \n",
      "4             SC  Rock Hill                              Eastern USA Challenge  \n",
      "...          ...        ...                                                ...  \n",
      "8477          OH   Columbus                                           2015 XPC  \n",
      "8478          OH   Columbus                          2016 XPC Bench Freak Show  \n",
      "8479          OH   Columbus                              2016 XPC Elite Finals  \n",
      "8480          OH   Columbus                                2016 XPC PRO Finals  \n",
      "8481          OH   Columbus                                    2017 XPC Finals  \n",
      "\n",
      "[8482 rows x 7 columns] \n",
      "\n",
      "\n",
      "\n",
      "                    Name Sex   Equipment   Age     Division  BodyweightKg  \\\n",
      "MeetID                                                                      \n",
      "0       Angie Belk Terry   F       Wraps  47.0    Mst 45-49         59.60   \n",
      "0            Dawn Bogart   F  Single-ply  42.0    Mst 40-44         58.51   \n",
      "0            Dawn Bogart   F  Single-ply  42.0  Open Senior         58.51   \n",
      "0            Dawn Bogart   F         Raw  42.0  Open Senior         58.51   \n",
      "0           Destiny Dula   F         Raw  18.0   Teen 18-19         63.68   \n",
      "...                  ...  ..         ...   ...          ...           ...   \n",
      "8481     William Barabas   M   Multi-ply   NaN        Elite        113.58   \n",
      "8481        Justin Zottl   M   Multi-ply   NaN        Elite        119.02   \n",
      "8481       Jake Anderson   M   Multi-ply   NaN        Elite        120.29   \n",
      "8481      Jeff Bumanglag   M   Multi-ply   NaN        Elite        126.73   \n",
      "8481       Shane Hammock   M   Multi-ply   NaN        Elite        129.46   \n",
      "\n",
      "       WeightClassKg  Squat4Kg  BestSquatKg  Bench4Kg  BestBenchKg  \\\n",
      "MeetID                                                               \n",
      "0                 60       NaN        47.63       NaN        20.41   \n",
      "0                 60       NaN       142.88       NaN        95.25   \n",
      "0                 60       NaN       142.88       NaN        95.25   \n",
      "0                 60       NaN          NaN       NaN        95.25   \n",
      "0               67.5       NaN          NaN       NaN        31.75   \n",
      "...              ...       ...          ...       ...          ...   \n",
      "8481             125       NaN          NaN       NaN          NaN   \n",
      "8481             125       NaN          NaN       NaN          NaN   \n",
      "8481             125       NaN          NaN       NaN          NaN   \n",
      "8481             140       NaN          NaN       NaN          NaN   \n",
      "8481             140       NaN          NaN       NaN          NaN   \n",
      "\n",
      "        Deadlift4Kg  BestDeadliftKg  TotalKg Place   Wilks  \n",
      "MeetID                                                      \n",
      "0               NaN           70.31   138.35     1  155.05  \n",
      "0               NaN          163.29   401.42     1  456.38  \n",
      "0               NaN          163.29   401.42     1  456.38  \n",
      "0               NaN             NaN    95.25     1  108.29  \n",
      "0               NaN           90.72   122.47     1  130.47  \n",
      "...             ...             ...      ...   ...     ...  \n",
      "8481            NaN          347.50   347.50     2  202.60  \n",
      "8481            NaN          322.50   322.50     3  185.77  \n",
      "8481            NaN          367.50   367.50     1  211.17  \n",
      "8481            NaN          320.00   320.00     3  181.85  \n",
      "8481            NaN          362.50   362.50     2  205.18  \n",
      "\n",
      "[386414 rows x 16 columns] \n",
      "\n",
      "\n",
      "\n",
      "              MeetPath Federation        Date MeetCountry MeetState  \\\n",
      "MeetID                                                                \n",
      "0       365strong/1601  365Strong  2016-10-29         USA        NC   \n",
      "0       365strong/1601  365Strong  2016-10-29         USA        NC   \n",
      "0       365strong/1601  365Strong  2016-10-29         USA        NC   \n",
      "0       365strong/1601  365Strong  2016-10-29         USA        NC   \n",
      "0       365strong/1601  365Strong  2016-10-29         USA        NC   \n",
      "\n",
      "         MeetTown                                           MeetName  \\\n",
      "MeetID                                                                 \n",
      "0       Charlotte  2016 Junior & Senior National Powerlifting Cha...   \n",
      "0       Charlotte  2016 Junior & Senior National Powerlifting Cha...   \n",
      "0       Charlotte  2016 Junior & Senior National Powerlifting Cha...   \n",
      "0       Charlotte  2016 Junior & Senior National Powerlifting Cha...   \n",
      "0       Charlotte  2016 Junior & Senior National Powerlifting Cha...   \n",
      "\n",
      "                    Name Sex   Equipment  ...  WeightClassKg Squat4Kg  \\\n",
      "MeetID                                    ...                           \n",
      "0       Angie Belk Terry   F       Wraps  ...             60      NaN   \n",
      "0            Dawn Bogart   F  Single-ply  ...             60      NaN   \n",
      "0            Dawn Bogart   F  Single-ply  ...             60      NaN   \n",
      "0            Dawn Bogart   F         Raw  ...             60      NaN   \n",
      "0           Destiny Dula   F         Raw  ...           67.5      NaN   \n",
      "\n",
      "        BestSquatKg Bench4Kg  BestBenchKg  Deadlift4Kg  BestDeadliftKg  \\\n",
      "MeetID                                                                   \n",
      "0             47.63      NaN        20.41          NaN           70.31   \n",
      "0            142.88      NaN        95.25          NaN          163.29   \n",
      "0            142.88      NaN        95.25          NaN          163.29   \n",
      "0               NaN      NaN        95.25          NaN             NaN   \n",
      "0               NaN      NaN        31.75          NaN           90.72   \n",
      "\n",
      "        TotalKg  Place   Wilks  \n",
      "MeetID                          \n",
      "0        138.35      1  155.05  \n",
      "0        401.42      1  456.38  \n",
      "0        401.42      1  456.38  \n",
      "0         95.25      1  108.29  \n",
      "0        122.47      1  130.47  \n",
      "\n",
      "[5 rows x 23 columns]\n"
     ]
    },
    {
     "data": {
      "application/javascript": [
       "parent.postMessage({\"jupyterEvent\": \"custom.exercise_interaction\", \"data\": {\"outcomeType\": 1, \"valueTowardsCompletion\": 0.25, \"interactionType\": 1, \"questionType\": 2, \"questionId\": \"4_JoinLifting\", \"learnToolsVersion\": \"0.3.4\", \"failureMessage\": \"\", \"exceptionClass\": \"\", \"trace\": \"\"}}, \"*\")"
      ],
      "text/plain": [
       "<IPython.core.display.Javascript object>"
      ]
     },
     "metadata": {},
     "output_type": "display_data"
    },
    {
     "data": {
      "text/markdown": [
       "<span style=\"color:#33cc33\">Correct</span>"
      ],
      "text/plain": [
       "Correct"
      ]
     },
     "metadata": {},
     "output_type": "display_data"
    }
   ],
   "source": [
    "left = powerlifting_meets.set_index('MeetID')\n",
    "print(left, '\\n\\n\\n')\n",
    "\n",
    "right = powerlifting_competitors.set_index('MeetID')\n",
    "print(right, '\\n\\n\\n')\n",
    "\n",
    "powerlifting_combined = left.join(right)\n",
    "\n",
    "print(powerlifting_combined.head())\n",
    "\n",
    "# Check your answer\n",
    "q4.check()"
   ]
  },
  {
   "cell_type": "code",
   "execution_count": 12,
   "id": "cdb0354d",
   "metadata": {
    "execution": {
     "iopub.execute_input": "2023-05-09T13:59:19.423484Z",
     "iopub.status.busy": "2023-05-09T13:59:19.422815Z",
     "iopub.status.idle": "2023-05-09T13:59:19.429762Z",
     "shell.execute_reply": "2023-05-09T13:59:19.428894Z"
    },
    "papermill": {
     "duration": 0.017632,
     "end_time": "2023-05-09T13:59:19.431591",
     "exception": false,
     "start_time": "2023-05-09T13:59:19.413959",
     "status": "completed"
    },
    "tags": []
   },
   "outputs": [
    {
     "data": {
      "application/javascript": [
       "parent.postMessage({\"jupyterEvent\": \"custom.exercise_interaction\", \"data\": {\"interactionType\": 2, \"questionType\": 2, \"questionId\": \"4_JoinLifting\", \"learnToolsVersion\": \"0.3.4\", \"valueTowardsCompletion\": 0.0, \"failureMessage\": \"\", \"exceptionClass\": \"\", \"trace\": \"\", \"outcomeType\": 4}}, \"*\")"
      ],
      "text/plain": [
       "<IPython.core.display.Javascript object>"
      ]
     },
     "metadata": {},
     "output_type": "display_data"
    },
    {
     "data": {
      "text/markdown": [
       "<span style=\"color:#3366cc\">Hint:</span> Use `pd.Dataframe.join()`."
      ],
      "text/plain": [
       "Hint: Use `pd.Dataframe.join()`."
      ]
     },
     "metadata": {},
     "output_type": "display_data"
    }
   ],
   "source": [
    "q4.hint()\n",
    "#q4.solution()"
   ]
  },
  {
   "cell_type": "markdown",
   "id": "7a584611",
   "metadata": {
    "papermill": {
     "duration": 0.007607,
     "end_time": "2023-05-09T13:59:19.447246",
     "exception": false,
     "start_time": "2023-05-09T13:59:19.439639",
     "status": "completed"
    },
    "tags": []
   },
   "source": [
    "# Congratulations!\n",
    "\n",
    "You've finished the Pandas micro-course.  Many data scientists feel efficiency with Pandas is the most useful and practical skill they have, because it allows you to progress quickly in any project you have.\n",
    "\n",
    "If you'd like to apply your new skills to examining geospatial data, you're encouraged to check out our **[Geospatial Analysis](https://www.kaggle.com/learn/geospatial-analysis)** micro-course.\n",
    "\n",
    "You can also take advantage of your Pandas skills by entering a **[Kaggle Competition](https://www.kaggle.com/competitions)** or by answering a question you find interesting using **[Kaggle Datasets](https://www.kaggle.com/datasets)**."
   ]
  },
  {
   "cell_type": "markdown",
   "id": "008c713b",
   "metadata": {
    "papermill": {
     "duration": 0.007663,
     "end_time": "2023-05-09T13:59:19.462830",
     "exception": false,
     "start_time": "2023-05-09T13:59:19.455167",
     "status": "completed"
    },
    "tags": []
   },
   "source": [
    "---\n",
    "\n",
    "\n",
    "\n",
    "\n",
    "*Have questions or comments? Visit the [course discussion forum](https://www.kaggle.com/learn/pandas/discussion) to chat with other learners.*"
   ]
  }
 ],
 "metadata": {
  "kernelspec": {
   "display_name": "Python 3",
   "language": "python",
   "name": "python3"
  },
  "language_info": {
   "codemirror_mode": {
    "name": "ipython",
    "version": 3
   },
   "file_extension": ".py",
   "mimetype": "text/x-python",
   "name": "python",
   "nbconvert_exporter": "python",
   "pygments_lexer": "ipython3",
   "version": "3.10.10"
  },
  "papermill": {
   "default_parameters": {},
   "duration": 17.875986,
   "end_time": "2023-05-09T13:59:20.493417",
   "environment_variables": {},
   "exception": null,
   "input_path": "__notebook__.ipynb",
   "output_path": "__notebook__.ipynb",
   "parameters": {},
   "start_time": "2023-05-09T13:59:02.617431",
   "version": "2.4.0"
  }
 },
 "nbformat": 4,
 "nbformat_minor": 5
}
